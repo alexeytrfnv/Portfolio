{
 "cells": [
  {
   "attachments": {},
   "cell_type": "markdown",
   "metadata": {},
   "source": [
    "# Выручка+\n",
    "\n",
    "**Описание проекта:**\n",
    "\n",
    "Вы — аналитик крупного интернет-магазина. Вместе с отделом маркетинга вы подготовили список гипотез для увеличения выручки.\n",
    "Приоритизируйте гипотезы, запустите A/B-тест и проанализируйте результаты.\n",
    "\n",
    "**Цель исследования:**\n",
    "\n",
    "1. Приоритизировать гипотезы, подготовленные вместе с отделом маркетинга.\n",
    "2. Проанализировать A/B-тест и получить результаты, на основе которых будут приниматься решения для увеличения выручки.\n",
    "\n",
    "**Ход исследования:**\n",
    "\n",
    "Данные о гипотезах я получу из файла ```/datasets/hypothesis.csv```, данные о заказах пользователей - ```/datasets/orders.csv```, данные о пользователях - ```/datasets/visitors.csv```. О качестве данных ничего не известно, поэтому понадобится обзор данных перед тем, как приступить к анализу.\n",
    "\n",
    "На этапе ознакомления с данными мне необходимо убедиться в качестве полученных данных. При наличие пропусков в данных я их обработаю. Затем, мне нужно проверить данные на аномалии, чтобы результаты анализа A/B-теста были корректными для принятия дальнейших решений об увеличении выручки интернет-магазина.\n",
    "\n",
    "После обработки данных мне необходимо выполнить приоритизацию всех гипотез из подготовленного списка. Я применю разные методы приоритизации, чтобы сравнить полученные результаты.\n",
    "\n",
    "Также необходимо проанализировать результаты A/B-теста. Я сформирую датафреймы с кумулятивными данными и построю для них графики. Затем, мне нужно определить, какое решение следует принять на основе результатов анализа проведенного теста.\n",
    "\n",
    "В конце проекта необходимо сформулировать общий вывод по всей проделанной работе.\n",
    "\n",
    "Таким образом, моё исследование пройдет в 5 этапов:\n",
    "\n",
    "- Изучение исходных данных + предобработка данных\n",
    "- Приоритизация гипотез с помощью ICE SCORE\n",
    "- Приоритизация гипотез с помощью RICE SCORE\n",
    "- Проведение анализа A/B-теста\n",
    "- Написание общего вывода"
   ]
  },
  {
   "cell_type": "markdown",
   "metadata": {},
   "source": [
    "### Изучение общей информации"
   ]
  },
  {
   "cell_type": "markdown",
   "metadata": {},
   "source": [
    "#### Импорт библиотек и создание датафреймов с данными из файлов"
   ]
  },
  {
   "cell_type": "code",
   "execution_count": 1,
   "metadata": {},
   "outputs": [],
   "source": [
    "import pandas as pd\n",
    "import matplotlib.pyplot as plt\n",
    "import warnings\n",
    "import numpy as np\n",
    "from scipy import stats as st\n",
    "import datetime as dt\n",
    "\n",
    "warnings.filterwarnings('ignore')"
   ]
  },
  {
   "cell_type": "code",
   "execution_count": 2,
   "metadata": {},
   "outputs": [],
   "source": [
    "try:\n",
    "    hypothesis = pd.read_csv('/datasets/hypothesis.csv')\n",
    "except:\n",
    "    hypothesis = pd.read_csv('hypothesis.csv')\n",
    "\n",
    "try:\n",
    "    orders = pd.read_csv('/datasets/orders.csv')\n",
    "except:\n",
    "    orders = pd.read_csv('orders.csv')\n",
    "\n",
    "try:\n",
    "    visitors = pd.read_csv('/datasets/visitors.csv')\n",
    "except:\n",
    "    visitors = pd.read_csv('visitors.csv')\n"
   ]
  },
  {
   "cell_type": "markdown",
   "metadata": {},
   "source": [
    "#### Изучение полученных данных + Предобработка данных"
   ]
  },
  {
   "cell_type": "markdown",
   "metadata": {},
   "source": [
    "***Изучение данных о списке гипотез для увеличения выручки интернет-магазина:***"
   ]
  },
  {
   "cell_type": "code",
   "execution_count": 3,
   "metadata": {},
   "outputs": [
    {
     "data": {
      "text/html": [
       "<div>\n",
       "<style scoped>\n",
       "    .dataframe tbody tr th:only-of-type {\n",
       "        vertical-align: middle;\n",
       "    }\n",
       "\n",
       "    .dataframe tbody tr th {\n",
       "        vertical-align: top;\n",
       "    }\n",
       "\n",
       "    .dataframe thead th {\n",
       "        text-align: right;\n",
       "    }\n",
       "</style>\n",
       "<table border=\"1\" class=\"dataframe\">\n",
       "  <thead>\n",
       "    <tr style=\"text-align: right;\">\n",
       "      <th></th>\n",
       "      <th>Hypothesis</th>\n",
       "      <th>Reach</th>\n",
       "      <th>Impact</th>\n",
       "      <th>Confidence</th>\n",
       "      <th>Efforts</th>\n",
       "    </tr>\n",
       "  </thead>\n",
       "  <tbody>\n",
       "    <tr>\n",
       "      <th>0</th>\n",
       "      <td>Добавить два новых канала привлечения трафика,...</td>\n",
       "      <td>3</td>\n",
       "      <td>10</td>\n",
       "      <td>8</td>\n",
       "      <td>6</td>\n",
       "    </tr>\n",
       "    <tr>\n",
       "      <th>1</th>\n",
       "      <td>Запустить собственную службу доставки, что сок...</td>\n",
       "      <td>2</td>\n",
       "      <td>5</td>\n",
       "      <td>4</td>\n",
       "      <td>10</td>\n",
       "    </tr>\n",
       "    <tr>\n",
       "      <th>2</th>\n",
       "      <td>Добавить блоки рекомендаций товаров на сайт ин...</td>\n",
       "      <td>8</td>\n",
       "      <td>3</td>\n",
       "      <td>7</td>\n",
       "      <td>3</td>\n",
       "    </tr>\n",
       "    <tr>\n",
       "      <th>3</th>\n",
       "      <td>Изменить структура категорий, что увеличит кон...</td>\n",
       "      <td>8</td>\n",
       "      <td>3</td>\n",
       "      <td>3</td>\n",
       "      <td>8</td>\n",
       "    </tr>\n",
       "    <tr>\n",
       "      <th>4</th>\n",
       "      <td>Изменить цвет фона главной страницы, чтобы уве...</td>\n",
       "      <td>3</td>\n",
       "      <td>1</td>\n",
       "      <td>1</td>\n",
       "      <td>1</td>\n",
       "    </tr>\n",
       "  </tbody>\n",
       "</table>\n",
       "</div>"
      ],
      "text/plain": [
       "                                          Hypothesis  Reach  Impact  \\\n",
       "0  Добавить два новых канала привлечения трафика,...      3      10   \n",
       "1  Запустить собственную службу доставки, что сок...      2       5   \n",
       "2  Добавить блоки рекомендаций товаров на сайт ин...      8       3   \n",
       "3  Изменить структура категорий, что увеличит кон...      8       3   \n",
       "4  Изменить цвет фона главной страницы, чтобы уве...      3       1   \n",
       "\n",
       "   Confidence  Efforts  \n",
       "0           8        6  \n",
       "1           4       10  \n",
       "2           7        3  \n",
       "3           3        8  \n",
       "4           1        1  "
      ]
     },
     "metadata": {},
     "output_type": "display_data"
    },
    {
     "name": "stdout",
     "output_type": "stream",
     "text": [
      "None\n",
      "<class 'pandas.core.frame.DataFrame'>\n",
      "RangeIndex: 9 entries, 0 to 8\n",
      "Data columns (total 5 columns):\n",
      " #   Column      Non-Null Count  Dtype \n",
      "---  ------      --------------  ----- \n",
      " 0   Hypothesis  9 non-null      object\n",
      " 1   Reach       9 non-null      int64 \n",
      " 2   Impact      9 non-null      int64 \n",
      " 3   Confidence  9 non-null      int64 \n",
      " 4   Efforts     9 non-null      int64 \n",
      "dtypes: int64(4), object(1)\n",
      "memory usage: 488.0+ bytes\n",
      "None\n"
     ]
    }
   ],
   "source": [
    "print(display(hypothesis.head())) # предварительный просмотр\n",
    "\n",
    "print(hypothesis.info()) # вывод информации о датафрейме\n",
    "\n",
    "hypothesis.columns = hypothesis.columns.str.lower() # приведение названий столбцов к змеиному регистру"
   ]
  },
  {
   "cell_type": "markdown",
   "metadata": {},
   "source": [
    "***Изучение данных о заказах пользователей:***"
   ]
  },
  {
   "cell_type": "code",
   "execution_count": 4,
   "metadata": {},
   "outputs": [
    {
     "data": {
      "text/html": [
       "<div>\n",
       "<style scoped>\n",
       "    .dataframe tbody tr th:only-of-type {\n",
       "        vertical-align: middle;\n",
       "    }\n",
       "\n",
       "    .dataframe tbody tr th {\n",
       "        vertical-align: top;\n",
       "    }\n",
       "\n",
       "    .dataframe thead th {\n",
       "        text-align: right;\n",
       "    }\n",
       "</style>\n",
       "<table border=\"1\" class=\"dataframe\">\n",
       "  <thead>\n",
       "    <tr style=\"text-align: right;\">\n",
       "      <th></th>\n",
       "      <th>transactionId</th>\n",
       "      <th>visitorId</th>\n",
       "      <th>date</th>\n",
       "      <th>revenue</th>\n",
       "      <th>group</th>\n",
       "    </tr>\n",
       "  </thead>\n",
       "  <tbody>\n",
       "    <tr>\n",
       "      <th>0</th>\n",
       "      <td>3667963787</td>\n",
       "      <td>3312258926</td>\n",
       "      <td>2019-08-15</td>\n",
       "      <td>1650</td>\n",
       "      <td>B</td>\n",
       "    </tr>\n",
       "    <tr>\n",
       "      <th>1</th>\n",
       "      <td>2804400009</td>\n",
       "      <td>3642806036</td>\n",
       "      <td>2019-08-15</td>\n",
       "      <td>730</td>\n",
       "      <td>B</td>\n",
       "    </tr>\n",
       "    <tr>\n",
       "      <th>2</th>\n",
       "      <td>2961555356</td>\n",
       "      <td>4069496402</td>\n",
       "      <td>2019-08-15</td>\n",
       "      <td>400</td>\n",
       "      <td>A</td>\n",
       "    </tr>\n",
       "    <tr>\n",
       "      <th>3</th>\n",
       "      <td>3797467345</td>\n",
       "      <td>1196621759</td>\n",
       "      <td>2019-08-15</td>\n",
       "      <td>9759</td>\n",
       "      <td>B</td>\n",
       "    </tr>\n",
       "    <tr>\n",
       "      <th>4</th>\n",
       "      <td>2282983706</td>\n",
       "      <td>2322279887</td>\n",
       "      <td>2019-08-15</td>\n",
       "      <td>2308</td>\n",
       "      <td>B</td>\n",
       "    </tr>\n",
       "  </tbody>\n",
       "</table>\n",
       "</div>"
      ],
      "text/plain": [
       "   transactionId   visitorId        date  revenue group\n",
       "0     3667963787  3312258926  2019-08-15     1650     B\n",
       "1     2804400009  3642806036  2019-08-15      730     B\n",
       "2     2961555356  4069496402  2019-08-15      400     A\n",
       "3     3797467345  1196621759  2019-08-15     9759     B\n",
       "4     2282983706  2322279887  2019-08-15     2308     B"
      ]
     },
     "metadata": {},
     "output_type": "display_data"
    },
    {
     "name": "stdout",
     "output_type": "stream",
     "text": [
      "None\n",
      "<class 'pandas.core.frame.DataFrame'>\n",
      "RangeIndex: 1197 entries, 0 to 1196\n",
      "Data columns (total 5 columns):\n",
      " #   Column         Non-Null Count  Dtype \n",
      "---  ------         --------------  ----- \n",
      " 0   transactionId  1197 non-null   int64 \n",
      " 1   visitorId      1197 non-null   int64 \n",
      " 2   date           1197 non-null   object\n",
      " 3   revenue        1197 non-null   int64 \n",
      " 4   group          1197 non-null   object\n",
      "dtypes: int64(3), object(2)\n",
      "memory usage: 46.9+ KB\n",
      "None\n"
     ]
    }
   ],
   "source": [
    "print(display(orders.head())) # предварительный просмотр\n",
    "\n",
    "print(orders.info()) # вывод информации о датафрейме\n",
    "\n",
    "orders['date'] = pd.to_datetime(orders['date'], format='%Y-%m-%d') # перевод типа столбца в тип даты (datetime)"
   ]
  },
  {
   "cell_type": "markdown",
   "metadata": {},
   "source": [
    "***Изучение данных о количестве пользователей в указанную дату в указанной группе A/B-теста:***"
   ]
  },
  {
   "cell_type": "code",
   "execution_count": 5,
   "metadata": {},
   "outputs": [
    {
     "data": {
      "text/html": [
       "<div>\n",
       "<style scoped>\n",
       "    .dataframe tbody tr th:only-of-type {\n",
       "        vertical-align: middle;\n",
       "    }\n",
       "\n",
       "    .dataframe tbody tr th {\n",
       "        vertical-align: top;\n",
       "    }\n",
       "\n",
       "    .dataframe thead th {\n",
       "        text-align: right;\n",
       "    }\n",
       "</style>\n",
       "<table border=\"1\" class=\"dataframe\">\n",
       "  <thead>\n",
       "    <tr style=\"text-align: right;\">\n",
       "      <th></th>\n",
       "      <th>date</th>\n",
       "      <th>group</th>\n",
       "      <th>visitors</th>\n",
       "    </tr>\n",
       "  </thead>\n",
       "  <tbody>\n",
       "    <tr>\n",
       "      <th>0</th>\n",
       "      <td>2019-08-01</td>\n",
       "      <td>A</td>\n",
       "      <td>719</td>\n",
       "    </tr>\n",
       "    <tr>\n",
       "      <th>1</th>\n",
       "      <td>2019-08-02</td>\n",
       "      <td>A</td>\n",
       "      <td>619</td>\n",
       "    </tr>\n",
       "    <tr>\n",
       "      <th>2</th>\n",
       "      <td>2019-08-03</td>\n",
       "      <td>A</td>\n",
       "      <td>507</td>\n",
       "    </tr>\n",
       "    <tr>\n",
       "      <th>3</th>\n",
       "      <td>2019-08-04</td>\n",
       "      <td>A</td>\n",
       "      <td>717</td>\n",
       "    </tr>\n",
       "    <tr>\n",
       "      <th>4</th>\n",
       "      <td>2019-08-05</td>\n",
       "      <td>A</td>\n",
       "      <td>756</td>\n",
       "    </tr>\n",
       "  </tbody>\n",
       "</table>\n",
       "</div>"
      ],
      "text/plain": [
       "         date group  visitors\n",
       "0  2019-08-01     A       719\n",
       "1  2019-08-02     A       619\n",
       "2  2019-08-03     A       507\n",
       "3  2019-08-04     A       717\n",
       "4  2019-08-05     A       756"
      ]
     },
     "metadata": {},
     "output_type": "display_data"
    },
    {
     "name": "stdout",
     "output_type": "stream",
     "text": [
      "None\n",
      "<class 'pandas.core.frame.DataFrame'>\n",
      "RangeIndex: 62 entries, 0 to 61\n",
      "Data columns (total 3 columns):\n",
      " #   Column    Non-Null Count  Dtype \n",
      "---  ------    --------------  ----- \n",
      " 0   date      62 non-null     object\n",
      " 1   group     62 non-null     object\n",
      " 2   visitors  62 non-null     int64 \n",
      "dtypes: int64(1), object(2)\n",
      "memory usage: 1.6+ KB\n",
      "None\n",
      "         visitors\n",
      "count   62.000000\n",
      "mean   607.290323\n",
      "std    114.400560\n",
      "min    361.000000\n",
      "25%    534.000000\n",
      "50%    624.500000\n",
      "75%    710.500000\n",
      "max    770.000000\n"
     ]
    }
   ],
   "source": [
    "print(display(visitors.head())) # предварительный просмотр\n",
    "\n",
    "print(visitors.info()) # вывод информации о датафрейме\n",
    "\n",
    "print(visitors.describe()) # проверка данных на большие числа\n",
    "\n",
    "visitors['date'] = pd.to_datetime(visitors['date'], format='%Y-%m-%d') # перевод типа столбца в тип даты (datetime)"
   ]
  },
  {
   "cell_type": "markdown",
   "metadata": {},
   "source": [
    "***Проверка данных на дубликаты:***"
   ]
  },
  {
   "cell_type": "code",
   "execution_count": 6,
   "metadata": {},
   "outputs": [
    {
     "name": "stdout",
     "output_type": "stream",
     "text": [
      "0\n",
      "0\n",
      "0\n"
     ]
    }
   ],
   "source": [
    "print(hypothesis.duplicated().sum())\n",
    "print(orders.duplicated().sum())\n",
    "print(visitors.duplicated().sum())"
   ]
  },
  {
   "cell_type": "markdown",
   "metadata": {},
   "source": [
    "#### Вывод:\n",
    "\n",
    "На этом этапе были изучены исходные данные. Были импортированы все библиотеки, необходимые для проведения анализа гипотез. В датафреймах ```hypothesis``` и ```orders``` названия столбцов были приведены к змеиному регистру. Столбцы ```date``` в датафреймах ```visitors``` и ```orders``` приведены к типу даты (datetime). Аномалии и дубликаты не обнаружены, числовые столбцы содержат реалистичные данные, можно приступать к следующему этапу анализа."
   ]
  },
  {
   "cell_type": "markdown",
   "metadata": {},
   "source": [
    "### Приоритизация данных"
   ]
  },
  {
   "cell_type": "markdown",
   "metadata": {},
   "source": [
    "#### Приоритизация с помощью фреймворка ```ICE```"
   ]
  },
  {
   "cell_type": "code",
   "execution_count": 7,
   "metadata": {},
   "outputs": [
    {
     "data": {
      "text/html": [
       "<div>\n",
       "<style scoped>\n",
       "    .dataframe tbody tr th:only-of-type {\n",
       "        vertical-align: middle;\n",
       "    }\n",
       "\n",
       "    .dataframe tbody tr th {\n",
       "        vertical-align: top;\n",
       "    }\n",
       "\n",
       "    .dataframe thead th {\n",
       "        text-align: right;\n",
       "    }\n",
       "</style>\n",
       "<table border=\"1\" class=\"dataframe\">\n",
       "  <thead>\n",
       "    <tr style=\"text-align: right;\">\n",
       "      <th></th>\n",
       "      <th>hypothesis</th>\n",
       "      <th>ICE</th>\n",
       "    </tr>\n",
       "  </thead>\n",
       "  <tbody>\n",
       "    <tr>\n",
       "      <th>8</th>\n",
       "      <td>Запустить акцию, дающую скидку на товар в день рождения</td>\n",
       "      <td>16.20</td>\n",
       "    </tr>\n",
       "    <tr>\n",
       "      <th>0</th>\n",
       "      <td>Добавить два новых канала привлечения трафика, что позволит привлекать на 30% больше пользователей</td>\n",
       "      <td>13.33</td>\n",
       "    </tr>\n",
       "    <tr>\n",
       "      <th>7</th>\n",
       "      <td>Добавить форму подписки на все основные страницы, чтобы собрать базу клиентов для email-рассылок</td>\n",
       "      <td>11.20</td>\n",
       "    </tr>\n",
       "    <tr>\n",
       "      <th>6</th>\n",
       "      <td>Показать на главной странице баннеры с актуальными акциями и распродажами, чтобы увеличить конверсию</td>\n",
       "      <td>8.00</td>\n",
       "    </tr>\n",
       "    <tr>\n",
       "      <th>2</th>\n",
       "      <td>Добавить блоки рекомендаций товаров на сайт интернет магазина, чтобы повысить конверсию и средний чек заказа</td>\n",
       "      <td>7.00</td>\n",
       "    </tr>\n",
       "    <tr>\n",
       "      <th>1</th>\n",
       "      <td>Запустить собственную службу доставки, что сократит срок доставки заказов</td>\n",
       "      <td>2.00</td>\n",
       "    </tr>\n",
       "    <tr>\n",
       "      <th>5</th>\n",
       "      <td>Добавить страницу отзывов клиентов о магазине, что позволит увеличить количество заказов</td>\n",
       "      <td>1.33</td>\n",
       "    </tr>\n",
       "    <tr>\n",
       "      <th>3</th>\n",
       "      <td>Изменить структура категорий, что увеличит конверсию, т.к. пользователи быстрее найдут нужный товар</td>\n",
       "      <td>1.12</td>\n",
       "    </tr>\n",
       "    <tr>\n",
       "      <th>4</th>\n",
       "      <td>Изменить цвет фона главной страницы, чтобы увеличить вовлеченность пользователей</td>\n",
       "      <td>1.00</td>\n",
       "    </tr>\n",
       "  </tbody>\n",
       "</table>\n",
       "</div>"
      ],
      "text/plain": [
       "                                                                                                     hypothesis  \\\n",
       "8                                                       Запустить акцию, дающую скидку на товар в день рождения   \n",
       "0            Добавить два новых канала привлечения трафика, что позволит привлекать на 30% больше пользователей   \n",
       "7              Добавить форму подписки на все основные страницы, чтобы собрать базу клиентов для email-рассылок   \n",
       "6          Показать на главной странице баннеры с актуальными акциями и распродажами, чтобы увеличить конверсию   \n",
       "2  Добавить блоки рекомендаций товаров на сайт интернет магазина, чтобы повысить конверсию и средний чек заказа   \n",
       "1                                     Запустить собственную службу доставки, что сократит срок доставки заказов   \n",
       "5                      Добавить страницу отзывов клиентов о магазине, что позволит увеличить количество заказов   \n",
       "3           Изменить структура категорий, что увеличит конверсию, т.к. пользователи быстрее найдут нужный товар   \n",
       "4                              Изменить цвет фона главной страницы, чтобы увеличить вовлеченность пользователей   \n",
       "\n",
       "     ICE  \n",
       "8  16.20  \n",
       "0  13.33  \n",
       "7  11.20  \n",
       "6   8.00  \n",
       "2   7.00  \n",
       "1   2.00  \n",
       "5   1.33  \n",
       "3   1.12  \n",
       "4   1.00  "
      ]
     },
     "metadata": {},
     "output_type": "display_data"
    }
   ],
   "source": [
    "pd.options.display.max_colwidth = 300 # вводим параметр для отображения всех символов гипотез\n",
    "\n",
    "hypo = hypothesis[['hypothesis']] # создаем датафрейм для вывода приоритетных гипотез \n",
    "\n",
    "# Формула для приоритизации гипотез с помощью ICE SCORE: ICE SCORE = (IMPACT * CONFIDENCE) / EFFORTS\n",
    "hypo['ICE'] = round(hypothesis['impact'] * hypothesis['confidence'] / hypothesis['efforts'], 2)\n",
    "display(hypo.sort_values(by='ICE', ascending=False))"
   ]
  },
  {
   "cell_type": "markdown",
   "metadata": {},
   "source": [
    "**Вывод:**\n",
    "\n",
    "- С помощью фреймворка ```ICE``` было найдено, что самой приоритетной для бизнеса гипотеза является гипотеза с номером 8.\n",
    "- Топ 3 приоритетных гипотез - гипотеза с номером 8, гипотеза с номером 0 и гипотеза с номером 7. На них стоит обратить больше внимания при приоритизация с помощью фреймворка ```RICE```.\n",
    "- Гипотезы с номерами 6 и 2 имеют приближенные показатели к топ 3 приоритетным гипотезам. Стоит обратить внимание на топ 5 гипотез при расчете *RICE SCORE*."
   ]
  },
  {
   "cell_type": "markdown",
   "metadata": {},
   "source": [
    "#### Приоритизация с помощью фреймворка ```RICE```"
   ]
  },
  {
   "cell_type": "code",
   "execution_count": 8,
   "metadata": {},
   "outputs": [
    {
     "data": {
      "text/html": [
       "<div>\n",
       "<style scoped>\n",
       "    .dataframe tbody tr th:only-of-type {\n",
       "        vertical-align: middle;\n",
       "    }\n",
       "\n",
       "    .dataframe tbody tr th {\n",
       "        vertical-align: top;\n",
       "    }\n",
       "\n",
       "    .dataframe thead th {\n",
       "        text-align: right;\n",
       "    }\n",
       "</style>\n",
       "<table border=\"1\" class=\"dataframe\">\n",
       "  <thead>\n",
       "    <tr style=\"text-align: right;\">\n",
       "      <th></th>\n",
       "      <th>hypothesis</th>\n",
       "      <th>RICE</th>\n",
       "    </tr>\n",
       "  </thead>\n",
       "  <tbody>\n",
       "    <tr>\n",
       "      <th>7</th>\n",
       "      <td>Добавить форму подписки на все основные страницы, чтобы собрать базу клиентов для email-рассылок</td>\n",
       "      <td>112.0</td>\n",
       "    </tr>\n",
       "    <tr>\n",
       "      <th>2</th>\n",
       "      <td>Добавить блоки рекомендаций товаров на сайт интернет магазина, чтобы повысить конверсию и средний чек заказа</td>\n",
       "      <td>56.0</td>\n",
       "    </tr>\n",
       "    <tr>\n",
       "      <th>0</th>\n",
       "      <td>Добавить два новых канала привлечения трафика, что позволит привлекать на 30% больше пользователей</td>\n",
       "      <td>40.0</td>\n",
       "    </tr>\n",
       "    <tr>\n",
       "      <th>6</th>\n",
       "      <td>Показать на главной странице баннеры с актуальными акциями и распродажами, чтобы увеличить конверсию</td>\n",
       "      <td>40.0</td>\n",
       "    </tr>\n",
       "    <tr>\n",
       "      <th>8</th>\n",
       "      <td>Запустить акцию, дающую скидку на товар в день рождения</td>\n",
       "      <td>16.2</td>\n",
       "    </tr>\n",
       "    <tr>\n",
       "      <th>3</th>\n",
       "      <td>Изменить структура категорий, что увеличит конверсию, т.к. пользователи быстрее найдут нужный товар</td>\n",
       "      <td>9.0</td>\n",
       "    </tr>\n",
       "    <tr>\n",
       "      <th>1</th>\n",
       "      <td>Запустить собственную службу доставки, что сократит срок доставки заказов</td>\n",
       "      <td>4.0</td>\n",
       "    </tr>\n",
       "    <tr>\n",
       "      <th>5</th>\n",
       "      <td>Добавить страницу отзывов клиентов о магазине, что позволит увеличить количество заказов</td>\n",
       "      <td>4.0</td>\n",
       "    </tr>\n",
       "    <tr>\n",
       "      <th>4</th>\n",
       "      <td>Изменить цвет фона главной страницы, чтобы увеличить вовлеченность пользователей</td>\n",
       "      <td>3.0</td>\n",
       "    </tr>\n",
       "  </tbody>\n",
       "</table>\n",
       "</div>"
      ],
      "text/plain": [
       "                                                                                                     hypothesis  \\\n",
       "7              Добавить форму подписки на все основные страницы, чтобы собрать базу клиентов для email-рассылок   \n",
       "2  Добавить блоки рекомендаций товаров на сайт интернет магазина, чтобы повысить конверсию и средний чек заказа   \n",
       "0            Добавить два новых канала привлечения трафика, что позволит привлекать на 30% больше пользователей   \n",
       "6          Показать на главной странице баннеры с актуальными акциями и распродажами, чтобы увеличить конверсию   \n",
       "8                                                       Запустить акцию, дающую скидку на товар в день рождения   \n",
       "3           Изменить структура категорий, что увеличит конверсию, т.к. пользователи быстрее найдут нужный товар   \n",
       "1                                     Запустить собственную службу доставки, что сократит срок доставки заказов   \n",
       "5                      Добавить страницу отзывов клиентов о магазине, что позволит увеличить количество заказов   \n",
       "4                              Изменить цвет фона главной страницы, чтобы увеличить вовлеченность пользователей   \n",
       "\n",
       "    RICE  \n",
       "7  112.0  \n",
       "2   56.0  \n",
       "0   40.0  \n",
       "6   40.0  \n",
       "8   16.2  \n",
       "3    9.0  \n",
       "1    4.0  \n",
       "5    4.0  \n",
       "4    3.0  "
      ]
     },
     "metadata": {},
     "output_type": "display_data"
    }
   ],
   "source": [
    "hypo_r = hypothesis[['hypothesis']]\n",
    "\n",
    "# Формула для приоритизации гипотез с помощью RICE SCORE: RICE SCORE = (REACH * IMPACT * CONFIDENCE) / EFFORTS\n",
    "hypo_r['RICE'] = hypothesis['reach'] * hypothesis['impact'] * hypothesis['confidence'] / hypothesis['efforts']\n",
    "display(hypo_r.sort_values(by='RICE', ascending=False))"
   ]
  },
  {
   "cell_type": "markdown",
   "metadata": {},
   "source": [
    "**Вывод:**\n",
    "\n",
    "- С помощью фреймворка ```RICE``` гипотеза \"*Добавить форму подписки на все основные страницы, чтобы собрать базу клиентов для email-рассылок*\" стала самой приоритетной для бизнеса. \n",
    "- Гипотеза \"*Запустить акцию, дающую скидку на товар в день рождения*\" с первого места спустилась на пятое место, так как ее охват гораздо меньше, ведь не у многих может быть день рождения в период проведения акции.\n",
    "- Гипотеза \"*Добавить блоки рекомендаций товаров на сайт интернет магазина, чтобы повысить конверсию и средний чек заказа*\" поднялась с пятого места на второе\n",
    "- Гипотеза \"*Добавить два новых канала привлечения трафика, что позволит привлекать на 30% больше пользователей*\" спустилась на одну позицию, но в целом показывает хорошие результаты для рассмотрения ее в дальнейшем.\n",
    "- Следующие гипотезы не являются для нас приоритетными гипотезами, так как при расчете *ICE SCORE* и *RICE SCORE* было обнаружено, что у них самые низкие показатели:\n",
    "    - \"*Изменить структура категорий, что увеличит конверсию, т.к. пользователи быстрее найдут нужный товар*\"\n",
    "    - \"*Запустить собственную службу доставки, что сократит срок доставки заказов*\"\n",
    "    - \"*Добавить страницу отзывов клиентов о магазине, что позволит увеличить количество заказов*\"\n",
    "    - \"*Изменить цвет фона главной страницы, чтобы увеличить вовлеченность пользователей*\""
   ]
  },
  {
   "cell_type": "markdown",
   "metadata": {},
   "source": [
    "#### Вывод:\n",
    "\n",
    "На этом этапе была выполнена приоритизация гипотез из заранее подготовленного списка. Было обнаружено, что приоритетными для нас гипотезами могут являться следующие гипотезы:\n",
    "\n",
    "- *Добавить форму подписки на все основные страницы, чтобы собрать базу клиентов для email-рассылок*\n",
    "- *Добавить блоки рекомендаций товаров на сайт интернет магазина, чтобы повысить конверсию и средний чек заказа*\n",
    "- *Добавить два новых канала привлечения трафика, что позволит привлекать на 30% больше пользователей*\n",
    "- *Показать на главной странице баннеры с актуальными акциями и распродажами, чтобы увеличить конверсию*\n",
    "\n",
    "При применении фреймворка ```RICE``` приоритизация гипотез изменилась. Это связано с тем, что при расчете *RICE SCORE* мы добавляем еще один показатель - Reach (показатель того, скольких пользователей затронет изменение, которое вы хотите внести). \n",
    "\n",
    "Самой приоритетной гипотезой при расчете *ICE SCORE* является гипотеза \"*Запустить акцию, дающую скидку на товар в день рождения*\". Самой приоритетной гипотезой при расчете *RICE SCORE* является гипотеза \"*Добавить форму подписки на все основные страницы, чтобы собрать базу клиентов для email-рассылок*\".\n",
    "\n",
    "После того, как мы обнаружили приоритетные для нас гипотезы, можно приступать к анализу проведенного A/B-теста."
   ]
  },
  {
   "cell_type": "markdown",
   "metadata": {},
   "source": [
    "### Анализ A/B-теста"
   ]
  },
  {
   "cell_type": "markdown",
   "metadata": {},
   "source": [
    "Для проведения дальнейшего анализа необходимо получить кумулятивные данные о заказах и пользователях. Создадим датафрейм ```cumulative_data``` со всеми нужными для анализа данными:"
   ]
  },
  {
   "cell_type": "code",
   "execution_count": 9,
   "metadata": {},
   "outputs": [
    {
     "data": {
      "text/html": [
       "<div>\n",
       "<style scoped>\n",
       "    .dataframe tbody tr th:only-of-type {\n",
       "        vertical-align: middle;\n",
       "    }\n",
       "\n",
       "    .dataframe tbody tr th {\n",
       "        vertical-align: top;\n",
       "    }\n",
       "\n",
       "    .dataframe thead th {\n",
       "        text-align: right;\n",
       "    }\n",
       "</style>\n",
       "<table border=\"1\" class=\"dataframe\">\n",
       "  <thead>\n",
       "    <tr style=\"text-align: right;\">\n",
       "      <th></th>\n",
       "      <th>date</th>\n",
       "      <th>group</th>\n",
       "      <th>orders</th>\n",
       "      <th>buyers</th>\n",
       "      <th>revenue</th>\n",
       "      <th>visitors</th>\n",
       "    </tr>\n",
       "  </thead>\n",
       "  <tbody>\n",
       "    <tr>\n",
       "      <th>0</th>\n",
       "      <td>2019-08-01</td>\n",
       "      <td>A</td>\n",
       "      <td>24</td>\n",
       "      <td>20</td>\n",
       "      <td>148579</td>\n",
       "      <td>719</td>\n",
       "    </tr>\n",
       "    <tr>\n",
       "      <th>1</th>\n",
       "      <td>2019-08-01</td>\n",
       "      <td>B</td>\n",
       "      <td>21</td>\n",
       "      <td>20</td>\n",
       "      <td>101217</td>\n",
       "      <td>713</td>\n",
       "    </tr>\n",
       "    <tr>\n",
       "      <th>2</th>\n",
       "      <td>2019-08-02</td>\n",
       "      <td>A</td>\n",
       "      <td>44</td>\n",
       "      <td>38</td>\n",
       "      <td>242401</td>\n",
       "      <td>1338</td>\n",
       "    </tr>\n",
       "    <tr>\n",
       "      <th>3</th>\n",
       "      <td>2019-08-02</td>\n",
       "      <td>B</td>\n",
       "      <td>45</td>\n",
       "      <td>43</td>\n",
       "      <td>266748</td>\n",
       "      <td>1294</td>\n",
       "    </tr>\n",
       "    <tr>\n",
       "      <th>4</th>\n",
       "      <td>2019-08-03</td>\n",
       "      <td>A</td>\n",
       "      <td>68</td>\n",
       "      <td>62</td>\n",
       "      <td>354874</td>\n",
       "      <td>1845</td>\n",
       "    </tr>\n",
       "    <tr>\n",
       "      <th>...</th>\n",
       "      <td>...</td>\n",
       "      <td>...</td>\n",
       "      <td>...</td>\n",
       "      <td>...</td>\n",
       "      <td>...</td>\n",
       "      <td>...</td>\n",
       "    </tr>\n",
       "    <tr>\n",
       "      <th>57</th>\n",
       "      <td>2019-08-29</td>\n",
       "      <td>B</td>\n",
       "      <td>596</td>\n",
       "      <td>544</td>\n",
       "      <td>5559398</td>\n",
       "      <td>17708</td>\n",
       "    </tr>\n",
       "    <tr>\n",
       "      <th>58</th>\n",
       "      <td>2019-08-30</td>\n",
       "      <td>A</td>\n",
       "      <td>545</td>\n",
       "      <td>493</td>\n",
       "      <td>4022970</td>\n",
       "      <td>18037</td>\n",
       "    </tr>\n",
       "    <tr>\n",
       "      <th>59</th>\n",
       "      <td>2019-08-30</td>\n",
       "      <td>B</td>\n",
       "      <td>620</td>\n",
       "      <td>567</td>\n",
       "      <td>5774631</td>\n",
       "      <td>18198</td>\n",
       "    </tr>\n",
       "    <tr>\n",
       "      <th>60</th>\n",
       "      <td>2019-08-31</td>\n",
       "      <td>A</td>\n",
       "      <td>557</td>\n",
       "      <td>503</td>\n",
       "      <td>4084803</td>\n",
       "      <td>18736</td>\n",
       "    </tr>\n",
       "    <tr>\n",
       "      <th>61</th>\n",
       "      <td>2019-08-31</td>\n",
       "      <td>B</td>\n",
       "      <td>640</td>\n",
       "      <td>586</td>\n",
       "      <td>5907760</td>\n",
       "      <td>18916</td>\n",
       "    </tr>\n",
       "  </tbody>\n",
       "</table>\n",
       "<p>62 rows × 6 columns</p>\n",
       "</div>"
      ],
      "text/plain": [
       "         date group  orders  buyers  revenue  visitors\n",
       "0  2019-08-01     A      24      20   148579       719\n",
       "1  2019-08-01     B      21      20   101217       713\n",
       "2  2019-08-02     A      44      38   242401      1338\n",
       "3  2019-08-02     B      45      43   266748      1294\n",
       "4  2019-08-03     A      68      62   354874      1845\n",
       "..        ...   ...     ...     ...      ...       ...\n",
       "57 2019-08-29     B     596     544  5559398     17708\n",
       "58 2019-08-30     A     545     493  4022970     18037\n",
       "59 2019-08-30     B     620     567  5774631     18198\n",
       "60 2019-08-31     A     557     503  4084803     18736\n",
       "61 2019-08-31     B     640     586  5907760     18916\n",
       "\n",
       "[62 rows x 6 columns]"
      ]
     },
     "execution_count": 9,
     "metadata": {},
     "output_type": "execute_result"
    }
   ],
   "source": [
    "# Создание массива уникальных пар значений дат и групп теста\n",
    "dates_group = orders[['date', 'group']].drop_duplicates()\n",
    "\n",
    "# Получение агрегированных кумулятивных по дням данные о заказах\n",
    "ok_orders = dates_group.apply(\n",
    "    lambda x: orders[np.logical_and(orders['date'] <= x['date'], orders['group'] == x['group'])]\n",
    "    .agg({'date': 'max', 'group': 'max', 'transactionId': 'nunique', 'visitorId': 'nunique', 'revenue': 'sum'}), axis=1).sort_values(by=['date', 'group'])\n",
    "ok_visitors = dates_group.apply(\n",
    "    lambda x: visitors[np.logical_and(visitors['date'] <= x['date'], visitors['group'] == x['group'])]\n",
    "    .agg({'date' : 'max', 'group' : 'max', 'visitors' : 'sum'}), axis=1).sort_values(by=['date','group'])\n",
    "\n",
    "# Объединение кумулятивных данных\n",
    "cumulative_data = ok_orders.merge(ok_visitors, left_on=['date', 'group'], right_on=['date', 'group'])\n",
    "cumulative_data.columns = ['date', 'group', 'orders', 'buyers', 'revenue', 'visitors']\n",
    "\n",
    "# Вывод датафрейма с кумулятивными данными\n",
    "cumulative_data"
   ]
  },
  {
   "cell_type": "markdown",
   "metadata": {},
   "source": [
    "Проверим на соответствие параметры датафрейма ```cumulative_data``` и одного из датафремов с исходными данными:"
   ]
  },
  {
   "cell_type": "code",
   "execution_count": 10,
   "metadata": {},
   "outputs": [
    {
     "name": "stdout",
     "output_type": "stream",
     "text": [
      "<class 'pandas.core.frame.DataFrame'>\n",
      "RangeIndex: 1197 entries, 0 to 1196\n",
      "Data columns (total 5 columns):\n",
      " #   Column         Non-Null Count  Dtype         \n",
      "---  ------         --------------  -----         \n",
      " 0   transactionId  1197 non-null   int64         \n",
      " 1   visitorId      1197 non-null   int64         \n",
      " 2   date           1197 non-null   datetime64[ns]\n",
      " 3   revenue        1197 non-null   int64         \n",
      " 4   group          1197 non-null   object        \n",
      "dtypes: datetime64[ns](1), int64(3), object(1)\n",
      "memory usage: 46.9+ KB\n",
      "None 2019-08-01 00:00:00 2019-08-31 00:00:00\n",
      "\n",
      "<class 'pandas.core.frame.DataFrame'>\n",
      "Int64Index: 62 entries, 0 to 61\n",
      "Data columns (total 6 columns):\n",
      " #   Column    Non-Null Count  Dtype         \n",
      "---  ------    --------------  -----         \n",
      " 0   date      62 non-null     datetime64[ns]\n",
      " 1   group     62 non-null     object        \n",
      " 2   orders    62 non-null     int64         \n",
      " 3   buyers    62 non-null     int64         \n",
      " 4   revenue   62 non-null     int64         \n",
      " 5   visitors  62 non-null     int64         \n",
      "dtypes: datetime64[ns](1), int64(4), object(1)\n",
      "memory usage: 3.4+ KB\n",
      "None 2019-08-01 00:00:00 2019-08-31 00:00:00\n"
     ]
    }
   ],
   "source": [
    "print(orders.info(), orders['date'].min(), orders['date'].max())\n",
    "print()\n",
    "print(cumulative_data.info(), cumulative_data['date'].min(), cumulative_data['date'].max())"
   ]
  },
  {
   "cell_type": "markdown",
   "metadata": {},
   "source": [
    "Данные записались успешно, даты совпадают, типы столбцов не изменились. Можно приступать к дальнейшему анализу."
   ]
  },
  {
   "cell_type": "markdown",
   "metadata": {},
   "source": [
    "#### Построение графика кумулятивной выручки по группам"
   ]
  },
  {
   "cell_type": "code",
   "execution_count": 11,
   "metadata": {},
   "outputs": [
    {
     "data": {
      "image/png": "[encoded data removed]",
      "text/plain": [
       "<Figure size 432x288 with 1 Axes>"
      ]
     },
     "metadata": {
      "needs_background": "light"
     },
     "output_type": "display_data"
    }
   ],
   "source": [
    "# Создание датафрейма с кумулятивным количество заказов и кумулятивной выручкой по дням в группе А\n",
    "cumulative_revenue_A = cumulative_data[cumulative_data['group'] == 'A'][['date', 'revenue', 'orders']]\n",
    "\n",
    "# Создание датафрейма с кумулятивным количество заказов и кумулятивной выручкой по дням в группе B\n",
    "cumulative_revenue_B = cumulative_data[cumulative_data['group'] == 'B'][['date', 'revenue', 'orders']]\n",
    "\n",
    "# Построение графиков выручки для двух групп\n",
    "plt.plot(cumulative_revenue_A['date'], cumulative_revenue_A['revenue'], label = 'A')\n",
    "plt.plot(cumulative_revenue_B['date'], cumulative_revenue_B['revenue'], label = 'B')\n",
    "\n",
    "plt.ylabel('Выручка')\n",
    "plt.xlabel('День тестирования')\n",
    "plt.title('График кумулятивной выручки по группам')\n",
    "plt.legend()\n",
    "plt.xticks(rotation=45)\n",
    "plt.show()"
   ]
  },
  {
   "cell_type": "markdown",
   "metadata": {},
   "source": [
    "**Вывод:**\n",
    "\n",
    "Выручка увеличивается в течение всего теста. Можно заметить, что выручка для группы B в самом начале теста начинает превышать выручку для группы А и на протяжении всего A/B-теста лидерство сохраняется. На графике наблюдается резкий рост графика выручки для группы B. Можно предположить, что произошел всплеск числа заказов, либо появились слишком дорогие заказы в выборке."
   ]
  },
  {
   "cell_type": "markdown",
   "metadata": {},
   "source": [
    "#### Построение графика кумулятивного среднего чека по группам"
   ]
  },
  {
   "cell_type": "code",
   "execution_count": 12,
   "metadata": {},
   "outputs": [
    {
     "data": {
      "image/png": "[encoded data removed]",
      "text/plain": [
       "<Figure size 432x288 with 1 Axes>"
      ]
     },
     "metadata": {
      "needs_background": "light"
     },
     "output_type": "display_data"
    }
   ],
   "source": [
    "# Построение графика для группы A\n",
    "plt.plot(cumulative_revenue_A['date'], cumulative_revenue_A['revenue'] / cumulative_revenue_A['orders'], label = 'A')\n",
    "\n",
    "# Построение графика для группы B\n",
    "plt.plot(cumulative_revenue_B['date'], cumulative_revenue_B['revenue'] / cumulative_revenue_B['orders'], label = 'B')\n",
    "plt.xlabel('День тестирования')\n",
    "plt.ylabel('Значение среднего чека')\n",
    "plt.title('График кумулятивного среднего чека по группам')\n",
    "plt.legend()\n",
    "plt.xticks(rotation=45)\n",
    "plt.show()"
   ]
  },
  {
   "cell_type": "markdown",
   "metadata": {},
   "source": [
    "**Вывод:**\n",
    "\n",
    "На графике наблюдается резкое падение для графика A в начале теста, однако потом он устанавливается на уровне 7000-8000. Можно предположить, что в группу A в первой половине теста попали маленькие заказы.\n",
    "\n",
    "Для графика B ситуация иная: в первой половине теста наблюдаются резкие изменения графика, во второй половине теста график демонстрирует \"взлет\". Это можно означать, что туда попали огромные заказы, которые в несколько раз превышают нормальные показатели среднего чека."
   ]
  },
  {
   "cell_type": "markdown",
   "metadata": {},
   "source": [
    "#### Построение графика относительного изменения кумулятивного среднего чека группы B к группе A"
   ]
  },
  {
   "cell_type": "code",
   "execution_count": 13,
   "metadata": {},
   "outputs": [
    {
     "data": {
      "image/png": "[encoded data removed]",
      "text/plain": [
       "<Figure size 432x288 with 1 Axes>"
      ]
     },
     "metadata": {
      "needs_background": "light"
     },
     "output_type": "display_data"
    }
   ],
   "source": [
    "# Объединение данных в единый датафрейм\n",
    "total_cumulative_data = cumulative_revenue_A.merge(cumulative_revenue_B, left_on='date', right_on='date', how='left', suffixes=['A', 'B'])\n",
    "\n",
    "# Построение отношения средних чеков\n",
    "plt.plot(total_cumulative_data['date'], \n",
    "        (total_cumulative_data['revenueB']/total_cumulative_data['ordersB']) / (total_cumulative_data['revenueA']/total_cumulative_data['ordersA']) - 1)\n",
    "\n",
    "# Добавление оси Х\n",
    "plt.axhline(y=0, color='black', linestyle='--')\n",
    "plt.xlabel('День тестирования')\n",
    "plt.xticks(rotation=45)\n",
    "plt.title('График относительного изменения кумулятивного среднего чека группы B к группе A')\n",
    "plt.show()"
   ]
  },
  {
   "cell_type": "markdown",
   "metadata": {},
   "source": [
    "**Вывод:**\n",
    "\n",
    "На графике наблюдается существенные различия между группами. График относительного изменения в первой половине теста резко растет, ближе к середине теста падает, а потом снова взлетает. Можно предположить, что на график повлияли заказы с очень крупным чеком."
   ]
  },
  {
   "cell_type": "markdown",
   "metadata": {},
   "source": [
    "#### Построение графика кумулятивного среднего количества заказов на посетителя по группам"
   ]
  },
  {
   "cell_type": "code",
   "execution_count": 14,
   "metadata": {},
   "outputs": [
    {
     "data": {
      "image/png": "[encoded data removed]",
      "text/plain": [
       "<Figure size 432x288 with 1 Axes>"
      ]
     },
     "metadata": {
      "needs_background": "light"
     },
     "output_type": "display_data"
    }
   ],
   "source": [
    "# Создание датафреймов с данными о заказах и пользователях, кто совершил хотя бы один заказ\n",
    "cumulative_orders_A = cumulative_data[cumulative_data['group'] == 'A'][['date', 'orders', 'visitors']]\n",
    "cumulative_orders_B = cumulative_data[cumulative_data['group'] == 'B'][['date', 'orders', 'visitors']]\n",
    "\n",
    "# Построение графика для группы A\n",
    "plt.plot(cumulative_orders_A['date'], cumulative_orders_A['orders'] / cumulative_orders_A['visitors'], label = 'A')\n",
    "\n",
    "# Построение графика для группы B\n",
    "plt.plot(cumulative_orders_B['date'], cumulative_orders_B['orders'] / cumulative_orders_B['visitors'], label = 'B')\n",
    "\n",
    "plt.title('График кумулятивного среднего количества заказов на пользователя по группам')\n",
    "plt.legend()\n",
    "plt.axis([dt.datetime.strptime(\"2019-08-01\", '%Y-%m-%d'), dt.datetime.strptime(\"2019-08-31\", '%Y-%m-%d'), 0.02, 0.05])\n",
    "plt.xticks(rotation=45)\n",
    "plt.xlabel('День тестирования')\n",
    "plt.show()"
   ]
  },
  {
   "cell_type": "markdown",
   "metadata": {},
   "source": [
    "**Вывод:**\n",
    "\n",
    "В начале теста показатели двух групп показывали резкое изменение. С помощью графика можно определить, что кумулятивное среднее количество заказов на пользователя в группе B больше, чем в группе А. Ближе к концу теста обе группы зафиксировались. В середине теста заметен небольшой рост значения для группы B. Можно предположить, что это связано с клиентами, которые совершили значительное количество заказов."
   ]
  },
  {
   "cell_type": "markdown",
   "metadata": {},
   "source": [
    "#### Построение графика относительного изменения кумулятивного среднего количества заказов на посетителя группы B к группе A"
   ]
  },
  {
   "cell_type": "code",
   "execution_count": 15,
   "metadata": {},
   "outputs": [
    {
     "data": {
      "image/png": "[encoded data removed]",
      "text/plain": [
       "<Figure size 432x288 with 1 Axes>"
      ]
     },
     "metadata": {
      "needs_background": "light"
     },
     "output_type": "display_data"
    }
   ],
   "source": [
    "# Cоздание столбца с показателями среднего количества заказов на посетителя групп А и В\n",
    "cumulative_orders_A['conversion'] = cumulative_orders_A['orders'] / cumulative_orders_A['visitors']\n",
    "cumulative_orders_B['conversion'] = cumulative_orders_B['orders'] / cumulative_orders_B['visitors']\n",
    "\n",
    "# Cклеиваем данные в один датафрейм, по которому будет строится график относительного изменения\n",
    "total_cumulative_orders = (\n",
    "    cumulative_orders_A[['date', 'conversion']]\n",
    "    .merge(cumulative_orders_B[['date', 'conversion']], left_on='date', right_on = 'date', how='left', suffixes=['A', 'B']))\n",
    "\n",
    "plt.plot(total_cumulative_orders['date'], total_cumulative_orders['conversionB'] / total_cumulative_orders['conversionA'] - 1)\n",
    "\n",
    "plt.title('График относительного изменения кумулятивного ср-го знач-ния кол-ва заказов на посетителя группы В к группе А')\n",
    "plt.axhline(y=0, color='black', linestyle='--')\n",
    "plt.axhline(y=0.14, color='grey', linestyle='--')\n",
    "plt.axis([dt.datetime.strptime(\"2019-08-01\", '%Y-%m-%d'), dt.datetime.strptime(\"2019-08-31\", '%Y-%m-%d'), -0.15, 0.25])\n",
    "plt.xticks(rotation=45)\n",
    "plt.xlabel('День тестирования')\n",
    "plt.show()"
   ]
  },
  {
   "cell_type": "markdown",
   "metadata": {},
   "source": [
    "**Вывод:**\n",
    "\n",
    "В начале теста лидер среди групп А и В сменялся, затем группа В вырвалась вперед. Во второй половине теста произошел рост графика. Можно предположить, что на это повлияли посетители с большим количество заказов. На графике видно, что группа B стабильно лидирует по показателям, и в конце теста показатель укрепляется. Для того, чтобы убедиться в результатах, необходимо проверить данные на выбросы и всплески в данных."
   ]
  },
  {
   "cell_type": "markdown",
   "metadata": {},
   "source": [
    "#### Построение точечного графика количества заказов по пользователям"
   ]
  },
  {
   "cell_type": "code",
   "execution_count": 16,
   "metadata": {},
   "outputs": [
    {
     "data": {
      "image/png": "[encoded data removed]",
      "text/plain": [
       "<Figure size 432x288 with 1 Axes>"
      ]
     },
     "metadata": {
      "needs_background": "light"
     },
     "output_type": "display_data"
    }
   ],
   "source": [
    "# Создание датафрейма с данными о количестве заказов для каждого пользователя\n",
    "order_per_user = orders.groupby('visitorId', as_index=False).agg({'transactionId': 'nunique'})\n",
    "order_per_user.columns=['user_id', 'orders']\n",
    "\n",
    "x_values = pd.Series(range(0,len(order_per_user['orders'])))\n",
    "plt.scatter(x_values, order_per_user['orders'])\n",
    "plt.title('Точечный график количества заказов по пользователям')\n",
    "plt.ylabel('Количество заказов')\n",
    "plt.show()"
   ]
  },
  {
   "cell_type": "markdown",
   "metadata": {},
   "source": [
    "**Вывод:**\n",
    "\n",
    "С помощью графика можно выяснить, что много пользователей оформили от одного до трех заказов. Посетителей с четырьмя и более заказами считать аномальными нельзя, так как их точная доля от общей выборки неизвестна. Для того, чтобы определить аномалии, можно найти перцентили количества заказов на одного пользователя."
   ]
  },
  {
   "cell_type": "markdown",
   "metadata": {},
   "source": [
    "#### Подсчет 95-го и 99-го перцентилей количества заказов на пользователя"
   ]
  },
  {
   "cell_type": "code",
   "execution_count": 17,
   "metadata": {},
   "outputs": [
    {
     "data": {
      "text/plain": [
       "array([2., 4.])"
      ]
     },
     "execution_count": 17,
     "metadata": {},
     "output_type": "execute_result"
    }
   ],
   "source": [
    "np.percentile(order_per_user['orders'], [95, 99])"
   ]
  },
  {
   "cell_type": "markdown",
   "metadata": {},
   "source": [
    "**Вывод:**\n",
    "\n",
    "- Пользователи, которые оформляли больше двух заказов, составляют не более 5% от общей группы теста.\n",
    "- Пользователи, которые оформили более четырех заказов, составляют не более 1% от общей группы теста.\n",
    "\n",
    "Следует выбрать 4 заказа на одного пользователя за верхнюю границу, чтобы убрать аномальные значения, которые могут повлиять на анализ A/B-теста."
   ]
  },
  {
   "cell_type": "markdown",
   "metadata": {},
   "source": [
    "#### Построение точечного графика стоимостей заказов"
   ]
  },
  {
   "cell_type": "code",
   "execution_count": 18,
   "metadata": {},
   "outputs": [
    {
     "data": {
      "image/png": "[encoded data removed]",
      "text/plain": [
       "<Figure size 432x288 with 1 Axes>"
      ]
     },
     "metadata": {
      "needs_background": "light"
     },
     "output_type": "display_data"
    },
    {
     "data": {
      "image/png": "[encoded data removed]",
      "text/plain": [
       "<Figure size 432x288 with 1 Axes>"
      ]
     },
     "metadata": {
      "needs_background": "light"
     },
     "output_type": "display_data"
    }
   ],
   "source": [
    "x_values = pd.Series(range(0,len(orders['revenue'])))\n",
    "plt.scatter(x_values, orders['revenue'])\n",
    "plt.title('Точечный график стоимостей заказов')\n",
    "plt.ylabel('Стоимость заказа')\n",
    "plt.show()\n",
    "\n",
    "x_values = pd.Series(range(0,len(orders['revenue'])))\n",
    "plt.scatter(x_values, orders['revenue'])\n",
    "plt.title('Точечный график стоимостей заказов')\n",
    "plt.ylabel('Стоимость заказа')\n",
    "plt.ylim(0, 200000)\n",
    "plt.show()"
   ]
  },
  {
   "cell_type": "markdown",
   "metadata": {},
   "source": [
    "**Вывод:**\n",
    "\n",
    "На графике наблюдаются аномальные значения, где стоимость заказа составляет 1.2 млн. и 200 тыс. Для того, чтобы выявить аномалии в диапазоне ниже 200 тысяч, необходимо найти перцентили стоимости заказов. Можно предположить, что в этом диапазоне находятся аномальные значения, так как на графике расположены одиночные точки. "
   ]
  },
  {
   "cell_type": "markdown",
   "metadata": {},
   "source": [
    "#### Подсчет 95-го и 99-го перцентилей стоимости заказов"
   ]
  },
  {
   "cell_type": "code",
   "execution_count": 19,
   "metadata": {},
   "outputs": [
    {
     "data": {
      "text/plain": [
       "array([28000. , 58233.2])"
      ]
     },
     "execution_count": 19,
     "metadata": {},
     "output_type": "execute_result"
    }
   ],
   "source": [
    "np.percentile(orders['revenue'], [95, 99])"
   ]
  },
  {
   "cell_type": "markdown",
   "metadata": {},
   "source": [
    "**Вывод:**\n",
    "\n",
    "- Заказы стоимостью более 28 тысяч составляют не более 5% от общего количества выборки.\n",
    "- Заказы стоимость более 58 тысяч составляют не более 1% от общего количества выборки.\n",
    "\n",
    "Следует выбрать стоимость заказа в размере 58 тысяч за верхнюю границу. В таком случае будут убраны аномальные значения, которые могут повлиять на результаты анализа."
   ]
  },
  {
   "cell_type": "markdown",
   "metadata": {},
   "source": [
    "#### Подсчет статистической значимости различий в среднем количестве заказов на посетителя между группами по «сырым» данным"
   ]
  },
  {
   "cell_type": "markdown",
   "metadata": {},
   "source": [
    "Чтобы провести дальнейший анализ, необходимо создать датафрейм со всеми данными о заказах пользователей, их визитах и выручке."
   ]
  },
  {
   "cell_type": "code",
   "execution_count": 20,
   "metadata": {},
   "outputs": [
    {
     "data": {
      "text/html": [
       "<div>\n",
       "<style scoped>\n",
       "    .dataframe tbody tr th:only-of-type {\n",
       "        vertical-align: middle;\n",
       "    }\n",
       "\n",
       "    .dataframe tbody tr th {\n",
       "        vertical-align: top;\n",
       "    }\n",
       "\n",
       "    .dataframe thead th {\n",
       "        text-align: right;\n",
       "    }\n",
       "</style>\n",
       "<table border=\"1\" class=\"dataframe\">\n",
       "  <thead>\n",
       "    <tr style=\"text-align: right;\">\n",
       "      <th></th>\n",
       "      <th>date</th>\n",
       "      <th>ordersPerDateA</th>\n",
       "      <th>revenuePerDateA</th>\n",
       "      <th>ordersPerDateB</th>\n",
       "      <th>revenuePerDateB</th>\n",
       "      <th>ordersCummulativeA</th>\n",
       "      <th>revenueCummulativeA</th>\n",
       "      <th>ordersCummulativeB</th>\n",
       "      <th>revenueCummulativeB</th>\n",
       "      <th>visitorsPerDateA</th>\n",
       "      <th>visitorsPerDateB</th>\n",
       "      <th>visitorsCummulativeA</th>\n",
       "      <th>visitorsCummulativeB</th>\n",
       "    </tr>\n",
       "  </thead>\n",
       "  <tbody>\n",
       "    <tr>\n",
       "      <th>0</th>\n",
       "      <td>2019-08-01</td>\n",
       "      <td>24</td>\n",
       "      <td>148579</td>\n",
       "      <td>21</td>\n",
       "      <td>101217</td>\n",
       "      <td>24</td>\n",
       "      <td>148579</td>\n",
       "      <td>21</td>\n",
       "      <td>101217</td>\n",
       "      <td>719</td>\n",
       "      <td>713</td>\n",
       "      <td>719</td>\n",
       "      <td>713</td>\n",
       "    </tr>\n",
       "    <tr>\n",
       "      <th>1</th>\n",
       "      <td>2019-08-02</td>\n",
       "      <td>20</td>\n",
       "      <td>93822</td>\n",
       "      <td>24</td>\n",
       "      <td>165531</td>\n",
       "      <td>44</td>\n",
       "      <td>242401</td>\n",
       "      <td>45</td>\n",
       "      <td>266748</td>\n",
       "      <td>619</td>\n",
       "      <td>581</td>\n",
       "      <td>1338</td>\n",
       "      <td>1294</td>\n",
       "    </tr>\n",
       "    <tr>\n",
       "      <th>2</th>\n",
       "      <td>2019-08-03</td>\n",
       "      <td>24</td>\n",
       "      <td>112473</td>\n",
       "      <td>16</td>\n",
       "      <td>114248</td>\n",
       "      <td>68</td>\n",
       "      <td>354874</td>\n",
       "      <td>61</td>\n",
       "      <td>380996</td>\n",
       "      <td>507</td>\n",
       "      <td>509</td>\n",
       "      <td>1845</td>\n",
       "      <td>1803</td>\n",
       "    </tr>\n",
       "    <tr>\n",
       "      <th>3</th>\n",
       "      <td>2019-08-04</td>\n",
       "      <td>16</td>\n",
       "      <td>70825</td>\n",
       "      <td>17</td>\n",
       "      <td>108571</td>\n",
       "      <td>84</td>\n",
       "      <td>425699</td>\n",
       "      <td>78</td>\n",
       "      <td>489567</td>\n",
       "      <td>717</td>\n",
       "      <td>770</td>\n",
       "      <td>2562</td>\n",
       "      <td>2573</td>\n",
       "    </tr>\n",
       "    <tr>\n",
       "      <th>4</th>\n",
       "      <td>2019-08-05</td>\n",
       "      <td>25</td>\n",
       "      <td>124218</td>\n",
       "      <td>23</td>\n",
       "      <td>92428</td>\n",
       "      <td>109</td>\n",
       "      <td>549917</td>\n",
       "      <td>101</td>\n",
       "      <td>581995</td>\n",
       "      <td>756</td>\n",
       "      <td>707</td>\n",
       "      <td>3318</td>\n",
       "      <td>3280</td>\n",
       "    </tr>\n",
       "    <tr>\n",
       "      <th>5</th>\n",
       "      <td>2019-08-06</td>\n",
       "      <td>18</td>\n",
       "      <td>48484</td>\n",
       "      <td>28</td>\n",
       "      <td>242342</td>\n",
       "      <td>127</td>\n",
       "      <td>598401</td>\n",
       "      <td>129</td>\n",
       "      <td>824337</td>\n",
       "      <td>667</td>\n",
       "      <td>655</td>\n",
       "      <td>3985</td>\n",
       "      <td>3935</td>\n",
       "    </tr>\n",
       "    <tr>\n",
       "      <th>6</th>\n",
       "      <td>2019-08-07</td>\n",
       "      <td>18</td>\n",
       "      <td>142417</td>\n",
       "      <td>24</td>\n",
       "      <td>225334</td>\n",
       "      <td>145</td>\n",
       "      <td>740818</td>\n",
       "      <td>153</td>\n",
       "      <td>1049671</td>\n",
       "      <td>644</td>\n",
       "      <td>709</td>\n",
       "      <td>4629</td>\n",
       "      <td>4644</td>\n",
       "    </tr>\n",
       "    <tr>\n",
       "      <th>7</th>\n",
       "      <td>2019-08-08</td>\n",
       "      <td>16</td>\n",
       "      <td>96279</td>\n",
       "      <td>27</td>\n",
       "      <td>220918</td>\n",
       "      <td>161</td>\n",
       "      <td>837097</td>\n",
       "      <td>180</td>\n",
       "      <td>1270589</td>\n",
       "      <td>610</td>\n",
       "      <td>654</td>\n",
       "      <td>5239</td>\n",
       "      <td>5298</td>\n",
       "    </tr>\n",
       "    <tr>\n",
       "      <th>8</th>\n",
       "      <td>2019-08-09</td>\n",
       "      <td>16</td>\n",
       "      <td>188506</td>\n",
       "      <td>25</td>\n",
       "      <td>160812</td>\n",
       "      <td>177</td>\n",
       "      <td>1025603</td>\n",
       "      <td>205</td>\n",
       "      <td>1431401</td>\n",
       "      <td>617</td>\n",
       "      <td>610</td>\n",
       "      <td>5856</td>\n",
       "      <td>5908</td>\n",
       "    </tr>\n",
       "    <tr>\n",
       "      <th>9</th>\n",
       "      <td>2019-08-10</td>\n",
       "      <td>16</td>\n",
       "      <td>210495</td>\n",
       "      <td>23</td>\n",
       "      <td>107802</td>\n",
       "      <td>193</td>\n",
       "      <td>1236098</td>\n",
       "      <td>228</td>\n",
       "      <td>1539203</td>\n",
       "      <td>406</td>\n",
       "      <td>369</td>\n",
       "      <td>6262</td>\n",
       "      <td>6277</td>\n",
       "    </tr>\n",
       "  </tbody>\n",
       "</table>\n",
       "</div>"
      ],
      "text/plain": [
       "        date  ordersPerDateA  revenuePerDateA  ordersPerDateB  \\\n",
       "0 2019-08-01              24           148579              21   \n",
       "1 2019-08-02              20            93822              24   \n",
       "2 2019-08-03              24           112473              16   \n",
       "3 2019-08-04              16            70825              17   \n",
       "4 2019-08-05              25           124218              23   \n",
       "5 2019-08-06              18            48484              28   \n",
       "6 2019-08-07              18           142417              24   \n",
       "7 2019-08-08              16            96279              27   \n",
       "8 2019-08-09              16           188506              25   \n",
       "9 2019-08-10              16           210495              23   \n",
       "\n",
       "   revenuePerDateB  ordersCummulativeA  revenueCummulativeA  \\\n",
       "0           101217                  24               148579   \n",
       "1           165531                  44               242401   \n",
       "2           114248                  68               354874   \n",
       "3           108571                  84               425699   \n",
       "4            92428                 109               549917   \n",
       "5           242342                 127               598401   \n",
       "6           225334                 145               740818   \n",
       "7           220918                 161               837097   \n",
       "8           160812                 177              1025603   \n",
       "9           107802                 193              1236098   \n",
       "\n",
       "   ordersCummulativeB  revenueCummulativeB  visitorsPerDateA  \\\n",
       "0                  21               101217               719   \n",
       "1                  45               266748               619   \n",
       "2                  61               380996               507   \n",
       "3                  78               489567               717   \n",
       "4                 101               581995               756   \n",
       "5                 129               824337               667   \n",
       "6                 153              1049671               644   \n",
       "7                 180              1270589               610   \n",
       "8                 205              1431401               617   \n",
       "9                 228              1539203               406   \n",
       "\n",
       "   visitorsPerDateB  visitorsCummulativeA  visitorsCummulativeB  \n",
       "0               713                   719                   713  \n",
       "1               581                  1338                  1294  \n",
       "2               509                  1845                  1803  \n",
       "3               770                  2562                  2573  \n",
       "4               707                  3318                  3280  \n",
       "5               655                  3985                  3935  \n",
       "6               709                  4629                  4644  \n",
       "7               654                  5239                  5298  \n",
       "8               610                  5856                  5908  \n",
       "9               369                  6262                  6277  "
      ]
     },
     "execution_count": 20,
     "metadata": {},
     "output_type": "execute_result"
    }
   ],
   "source": [
    "# Создание датафейма с количество посетителей за каждый день для группы А\n",
    "visitorsADaily = visitors[visitors['group'] == 'A'][['date', 'visitors']]\n",
    "visitorsADaily.columns = ['date', 'visitorsPerDateA']\n",
    "\n",
    "# Создание датафейма с кумулятивными данными о пользователях из группы А\n",
    "visitorsACummulative = visitorsADaily.apply(\n",
    "    lambda x: visitorsADaily[visitorsADaily['date'] <= x['date']].agg(\n",
    "        {'date': 'max', 'visitorsPerDateA': 'sum'}\n",
    "    ),\n",
    "    axis=1,\n",
    ")\n",
    "visitorsACummulative.columns = ['date', 'visitorsCummulativeA']\n",
    "\n",
    "# Создание датафейма с количество посетителей за каждый день для группы B\n",
    "visitorsBDaily = visitors[visitors['group'] == 'B'][['date', 'visitors']]\n",
    "visitorsBDaily.columns = ['date', 'visitorsPerDateB']\n",
    "\n",
    "# Создание датафейма с кумулятивными данными о пользователях из группы В\n",
    "visitorsBCummulative = visitorsBDaily.apply(\n",
    "    lambda x: visitorsBDaily[visitorsBDaily['date'] <= x['date']].agg(\n",
    "        {'date': 'max', 'visitorsPerDateB': 'sum'}\n",
    "    ),\n",
    "    axis=1,\n",
    ")\n",
    "visitorsBCummulative.columns = ['date', 'visitorsCummulativeB']\n",
    "\n",
    "# Создание датафейма с заказами посетителей и их выручкой за каждый день для группы А\n",
    "ordersADaily = (\n",
    "    orders[orders['group'] == 'A'][['date', 'transactionId', 'visitorId', 'revenue']]\n",
    "    .groupby('date', as_index=False)\n",
    "    .agg({'transactionId': pd.Series.nunique, 'revenue': 'sum'})\n",
    ")\n",
    "ordersADaily.columns = ['date', 'ordersPerDateA', 'revenuePerDateA']\n",
    "\n",
    "# Создание датафейма с кумулятивными данными о заказах посетителей и их кумулятивной выручкой за каждый день для группы А\n",
    "ordersACummulative = ordersADaily.apply(\n",
    "    lambda x: ordersADaily[ordersADaily['date'] <= x['date']].agg(\n",
    "        {'date': 'max', 'ordersPerDateA': 'sum', 'revenuePerDateA': 'sum'}\n",
    "    ),\n",
    "    axis=1,\n",
    ").sort_values(by=['date'])\n",
    "\n",
    "ordersACummulative.columns = ['date', 'ordersCummulativeA', 'revenueCummulativeA']\n",
    "\n",
    "# Создание датафейма с заказами посетителей и их выручкой за каждый день для группы В\n",
    "ordersBDaily = (\n",
    "    orders[orders['group'] == 'B'][['date', 'transactionId', 'visitorId', 'revenue']]\n",
    "    .groupby('date', as_index=False)\n",
    "    .agg({'transactionId': pd.Series.nunique, 'revenue': 'sum'})\n",
    ")\n",
    "ordersBDaily.columns = ['date', 'ordersPerDateB', 'revenuePerDateB']\n",
    "\n",
    "# Создание датафейма с кумулятивными данными о заказах посетителей и их кумулятивной выручкой за каждый день для группы В\n",
    "ordersBCummulative = ordersBDaily.apply(\n",
    "    lambda x: ordersBDaily[ordersBDaily['date'] <= x['date']].agg(\n",
    "        {'date': 'max', 'ordersPerDateB': 'sum', 'revenuePerDateB': 'sum'}\n",
    "    ),\n",
    "    axis=1,\n",
    ").sort_values(by=['date'])\n",
    "\n",
    "ordersBCummulative.columns = ['date', 'ordersCummulativeB', 'revenueCummulativeB']\n",
    "\n",
    "# Cоздание датафрейма со всеми необходимыми для анализа данными\n",
    "main_data = (\n",
    "    ordersADaily.merge(\n",
    "        ordersBDaily, left_on='date', right_on='date', how='left'\n",
    "    )\n",
    "    .merge(ordersACummulative, left_on='date', right_on='date', how='left')\n",
    "    .merge(ordersBCummulative, left_on='date', right_on='date', how='left')\n",
    "    .merge(visitorsADaily, left_on='date', right_on='date', how='left')\n",
    "    .merge(visitorsBDaily, left_on='date', right_on='date', how='left')\n",
    "    .merge(visitorsACummulative, left_on='date', right_on='date', how='left')\n",
    "    .merge(visitorsBCummulative, left_on='date', right_on='date', how='left')\n",
    ")\n",
    "\n",
    "main_data.head(10) # проверка создания датафрейма"
   ]
  },
  {
   "cell_type": "markdown",
   "metadata": {},
   "source": [
    "Сформулируем гипотезы:\n",
    "\n",
    "- Нулевая гипотеза: различий в среднем количестве заказов между группами нет.\n",
    "- Альтернативная гипотеза: различия в среднем количестве заказов между группами есть.\n",
    "\n",
    "Посчитаем статическую значимость различий в среднем количестве заказов:"
   ]
  },
  {
   "cell_type": "code",
   "execution_count": 21,
   "metadata": {},
   "outputs": [
    {
     "name": "stdout",
     "output_type": "stream",
     "text": [
      "P-value: 0.017\n",
      "Разница средних показателей между группами: 0.138\n"
     ]
    }
   ],
   "source": [
    "# Создание таблицы заказов для группы А\n",
    "orders_users_A = (\n",
    "    orders[orders['group'] == 'A']\n",
    "    .groupby('visitorId', as_index=False)\n",
    "    .agg({'transactionId': pd.Series.nunique})\n",
    ")\n",
    "\n",
    "orders_users_A.columns=['user_id', 'orders']\n",
    "\n",
    "# Создание таблицы заказов для группы B\n",
    "orders_users_B = (\n",
    "    orders[orders['group'] == 'B']\n",
    "    .groupby('visitorId', as_index=False)\n",
    "    .agg({'transactionId': pd.Series.nunique})\n",
    ")\n",
    "\n",
    "orders_users_B.columns=['user_id', 'orders']\n",
    "\n",
    "# Создание таблиц, в которых пользователям из двух групп будут соответствовать количество заказов\n",
    "dataA = pd.concat(\n",
    "    [\n",
    "        orders_users_A['orders'],\n",
    "        pd.Series(\n",
    "            0,\n",
    "            index=np.arange(\n",
    "                main_data['visitorsPerDateA'].sum() - len(orders_users_A['orders'])\n",
    "            ),\n",
    "            name='orders'\n",
    "        ),\n",
    "    ],\n",
    "    axis=0,\n",
    ")\n",
    "\n",
    "dataB = pd.concat(\n",
    "    [\n",
    "        orders_users_B['orders'],\n",
    "        pd.Series(\n",
    "            0,\n",
    "            index=np.arange(\n",
    "                main_data['visitorsPerDateB'].sum() - len(orders_users_B['orders'])\n",
    "            ),\n",
    "            name='orders'\n",
    "        ),\n",
    "    ],\n",
    "    axis=0,\n",
    ")\n",
    "\n",
    "# Применим критерий Манна-Уитни для проверки различия\n",
    "print('P-value:', \"{0:.3f}\".format(st.mannwhitneyu(dataA, dataB)[1]))\n",
    "\n",
    "# Найдем относительный прирост среднего количество заказов группы В\n",
    "print('Разница средних показателей между группами:', \"{0:.3f}\".format(dataB.mean() / dataA.mean() - 1))"
   ]
  },
  {
   "cell_type": "markdown",
   "metadata": {},
   "source": [
    "**Вывод:**\n",
    "\n",
    "По \"сырым\" данным различия в среднем количестве заказов групп А и В есть:\n",
    "\n",
    "- p-value меньше 0.05, значит, что следует отвергнуть нулевую гипотезу.\n",
    "- Разница между группами составляет 13,8%"
   ]
  },
  {
   "cell_type": "markdown",
   "metadata": {},
   "source": [
    "#### Подсчет статистической значимости различий в среднем чеке заказа между группами по «сырым» данным"
   ]
  },
  {
   "cell_type": "markdown",
   "metadata": {},
   "source": [
    "Сформулируем гипотезы:\n",
    "\n",
    "- Нулевая гипотеза: различий в среднем чеке между группами нет.\n",
    "- Альтернативная гипотеза: различия в среднем чеке между группами есть.\n",
    "\n",
    "Посчитаем статическую значимость различий в среднем чеке заказа между группами:"
   ]
  },
  {
   "cell_type": "code",
   "execution_count": 22,
   "metadata": {},
   "outputs": [
    {
     "name": "stdout",
     "output_type": "stream",
     "text": [
      "P-value: 0.729\n",
      "Разница средних показателей между группами: 0.259\n"
     ]
    }
   ],
   "source": [
    "print('P-value:', '{0:.3f}'.format(st.mannwhitneyu(orders[orders['group']=='A']['revenue'], orders[orders['group']=='B']['revenue'])[1]))\n",
    "print('Разница средних показателей между группами:', '{0:.3f}'.format(orders[orders['group']=='B']['revenue'].mean()/orders[orders['group']=='A']['revenue'].mean()-1))"
   ]
  },
  {
   "cell_type": "markdown",
   "metadata": {},
   "source": [
    "**Вывод:**\n",
    "\n",
    "По \"сырым\" данным различий в среднем чеке заказа групп А и В нет:\n",
    "\n",
    "- p-value сильно превышает 0.05, следует сделать вывод, что причин отвергать нулевую гипотезу нет.\n",
    "- Средний чек группы В значительно выше среднего чека группы А."
   ]
  },
  {
   "cell_type": "markdown",
   "metadata": {},
   "source": [
    "#### Подсчет статистической значимости различий в среднем количестве заказов на посетителя между группами по «очищенным» данным"
   ]
  },
  {
   "cell_type": "markdown",
   "metadata": {},
   "source": [
    "Для того, чтобы очистить данные от аномалий, необходимо их найти, а затем создать датафрейм и исключить аномалии из данных. Ориентируемся на полученные данные из предыдущих пунктов (по перцентилям)."
   ]
  },
  {
   "cell_type": "code",
   "execution_count": 23,
   "metadata": {},
   "outputs": [],
   "source": [
    "# Создание таблицы посетителей, которые совершили более двух заказов\n",
    "usersWithManyOrders = pd.concat(\n",
    "    [\n",
    "        orders_users_A[orders_users_A['orders'] > np.percentile(order_per_user['orders'], 95)]['user_id'],\n",
    "        orders_users_B[orders_users_B['orders'] > np.percentile(order_per_user['orders'], 95)]['user_id'],\n",
    "    ],\n",
    "    axis=0,\n",
    ")\n",
    "\n",
    "# Создание таблицы посетителей, которые совершили заказы со стоимостью более 28 тысяч\n",
    "usersWithExpensiveOrders = orders[orders['revenue'] > np.percentile(orders['revenue'], 95)]['visitorId']\n",
    "\n",
    "clear_data = (\n",
    "    pd.concat([usersWithManyOrders, usersWithExpensiveOrders], axis=0)\n",
    "    .drop_duplicates()\n",
    "    .sort_values()\n",
    ")"
   ]
  },
  {
   "cell_type": "markdown",
   "metadata": {},
   "source": [
    "Посчитаем статическую значимость среднего количества заказов на посетителя по очищенным данным из датафрейма ```clear_data```:"
   ]
  },
  {
   "cell_type": "code",
   "execution_count": 24,
   "metadata": {},
   "outputs": [
    {
     "name": "stdout",
     "output_type": "stream",
     "text": [
      "P-value: 0.013\n",
      "Разница средних показателей между группами: 0.173\n"
     ]
    }
   ],
   "source": [
    "# Создание очищенных от аномалий таблиц, в которых посетителям из двух групп будут соответствовать количество заказов \n",
    "dataAFiltered = pd.concat(\n",
    "    [\n",
    "        orders_users_A[\n",
    "            np.logical_not(orders_users_A['user_id'].isin(clear_data))\n",
    "        ]['orders'],\n",
    "        pd.Series(\n",
    "            0,\n",
    "            index=np.arange(\n",
    "                main_data['visitorsPerDateA'].sum() - len(orders_users_A['orders'])\n",
    "            ),\n",
    "            name='orders',\n",
    "        ),\n",
    "    ],\n",
    "    axis=0,\n",
    ")\n",
    "\n",
    "dataBFiltered = pd.concat(\n",
    "    [\n",
    "        orders_users_B[\n",
    "            np.logical_not(orders_users_B['user_id'].isin(clear_data))\n",
    "        ]['orders'],\n",
    "        pd.Series(\n",
    "            0,\n",
    "            index=np.arange(\n",
    "                main_data['visitorsPerDateB'].sum() - len(orders_users_B['orders'])\n",
    "            ),\n",
    "            name='orders',\n",
    "        ),\n",
    "    ],\n",
    "    axis=0,\n",
    ")\n",
    "\n",
    "# Применим критерий Манна-Уитни для проверки различия\n",
    "print('P-value:', \"{0:.3f}\".format(st.mannwhitneyu(dataAFiltered, dataBFiltered)[1]))\n",
    "\n",
    "# Найдем относительный прирост среднего количество заказов группы В\n",
    "print('Разница средних показателей между группами:', \"{0:.3f}\".format(dataBFiltered.mean() / dataAFiltered.mean() - 1))"
   ]
  },
  {
   "cell_type": "markdown",
   "metadata": {},
   "source": [
    "**Вывод:**\n",
    "\n",
    "Результаты по среднем количеству заказов на посетителя практически не изменились. P-value изменился на 0.004, а разница между группами А и В выросла с 13.8% до 17.3%"
   ]
  },
  {
   "cell_type": "markdown",
   "metadata": {},
   "source": [
    "#### Подсчет статистической значимости различий в среднем чеке заказа между группами по «очищенным» данным"
   ]
  },
  {
   "cell_type": "code",
   "execution_count": 26,
   "metadata": {},
   "outputs": [
    {
     "name": "stdout",
     "output_type": "stream",
     "text": [
      "P-value: 0.738\n",
      "Разница средних показателей между группами: -0.020\n"
     ]
    }
   ],
   "source": [
    "print(\n",
    "    'P-value:', '{0:.3f}'.format(\n",
    "        st.mannwhitneyu(\n",
    "            orders[np.logical_and(orders['group'] == 'A', np.logical_not(orders['visitorId'].isin(clear_data)))]['revenue'],\n",
    "            orders[np.logical_and(orders['group'] == 'B', np.logical_not(orders['visitorId'].isin(clear_data)))]['revenue'],\n",
    "        )[1]\n",
    "    )\n",
    ")\n",
    "\n",
    "print('Разница средних показателей между группами:', \n",
    "    \"{0:.3f}\".format(\n",
    "        orders[np.logical_and(orders['group'] == 'B', np.logical_not(orders['visitorId'].isin(clear_data)))]['revenue'].mean()\n",
    "        / orders[np.logical_and(orders['group'] == 'A', np.logical_not(orders['visitorId'].isin(clear_data)))]['revenue'].mean() - 1\n",
    "    )\n",
    ")"
   ]
  },
  {
   "cell_type": "markdown",
   "metadata": {},
   "source": [
    "**Вывод:**\n",
    "\n",
    "Результаты для среднего чека заказа изменились:\n",
    "- P-value увеличился незначительно (на 0.009)\n",
    "- Разница средних показателей между группами изменилась с 0.259 на -0.02"
   ]
  },
  {
   "cell_type": "markdown",
   "metadata": {},
   "source": [
    "#### Вывод:\n",
    "\n",
    "На этапе анализа A/B-теста был проведен анализ кумулятивных данных о заказах посетителей интернет-магазина. С помощью графиков были обнаружены аномальные значения. Была найдена статическая значимость различий в среднем количестве заказов на посетителя и в среднем чеке заказов на основе \"сырых\" и \"очищенных\" данных.\n",
    "\n",
    "Нахождение статической значимости различий по \"сырым\" данным:\n",
    "\n",
    "- В среднем количестве заказов на посетителя: \n",
    "        \n",
    "        p-value: 0.017\n",
    "        разница между группами: 0.138\n",
    "        \n",
    "- В среднем чеке заказа:\n",
    "\n",
    "        p-value: 0.729\n",
    "        разница между группами: 0.259\n",
    "\n",
    "Нахождение статической значимости различий по \"очищенным\" данным:\n",
    "\n",
    "- В среднем количестве заказов на посетителя: \n",
    "        \n",
    "        p-value: 0.013\n",
    "        разница между группами: 0.173\n",
    "        \n",
    "- В среднем чеке заказа:\n",
    "\n",
    "        p-value: 0.738\n",
    "        разница между группами: -0.02\n",
    "\n",
    "Полученные результаты:\n",
    "\n",
    "- Есть статистически значимое различие по среднему количеству заказов на посетителя между группами по \"сырым\" и \"очищенным\" данным.\n",
    "- Нет статистически значимого различия по среднему чеку заказа между группами ни по \"сырым\", ни по \"очищенным\" данным.\n",
    "- График различия среднего количества заказов на посетителя между группами сообщает, что результаты группы А хуже группы В.\n",
    "- График различия среднего чека говорит о том, что результаты группы В ухудшаются, но остаются лучшими среди групп А и В.\n",
    "\n",
    "По результатам теста можно принять решение об остановке теста и признать его успешным, потому что вероятность того, что группа А на самом деле лучше группы В, является практически нулевой."
   ]
  },
  {
   "cell_type": "markdown",
   "metadata": {},
   "source": [
    "### Общий вывод"
   ]
  },
  {
   "cell_type": "markdown",
   "metadata": {},
   "source": [
    "В работе были изучены исходные данные о заказах и визитах посетителей интернет-магазина. Столбцы были приведены к нужным типам, названия столбцов приведены в комфортный для анализа формат. Данные были проверены на пропуски и дубликаты. Были выявлены самые приоритетные гипотезы для увеличения выручки бизнеса. Был проведен анализ A/B-теста, на основе которого было принято решение об окончании теста, зафиксировав лидерство одной из групп.\n",
    "\n",
    "На этапе приоритизации гипотез было выяснено:\n",
    "\n",
    "- Приоритетными для нас гипотезами могут являться гипотезы с номерами 0, 2, 6, 7 и 8. \n",
    "- Самой приоритетной гипотезой при расчете *ICE SCORE* является гипотеза с номером 8.\n",
    "- Самой приоритетной гипотезой при расчете *RICE SCORE* является гипотеза с номером 7.\n",
    "\n",
    "Результаты A/B теста:\n",
    "\n",
    "- Есть статистически значимое различие по среднему количеству заказов на посетителя между группами по \"сырым\" и \"очищенным\" данным.\n",
    "- Нет статистически значимого различия по среднему чеку заказа между группами ни по \"сырым\", ни по \"очищенным\" данным.\n",
    "- График различия среднего количества заказов на посетителя между группами сообщает, что результаты группы А хуже группы В.\n",
    "- График различия среднего чека говорит о том, что результаты группы В ухудшаются, но остаются лучшими среди групп А и В.\n",
    "\n",
    "По результатам было принято решение об остановке теста в пользу группы В.\n",
    "\n",
    "В конце каждого этапа написаны выводы, с которыми можно ознакомиться."
   ]
  }
 ],
 "metadata": {
  "ExecuteTimeLog": [
   {
    "duration": 1084,
    "start_time": "2023-04-13T21:15:26.900Z"
   },
   {
    "duration": 231,
    "start_time": "2023-04-13T21:15:27.987Z"
   },
   {
    "duration": 19,
    "start_time": "2023-04-13T21:15:28.220Z"
   },
   {
    "duration": 16,
    "start_time": "2023-04-13T21:15:28.241Z"
   },
   {
    "duration": 23,
    "start_time": "2023-04-13T21:15:28.259Z"
   },
   {
    "duration": 10,
    "start_time": "2023-04-13T21:15:28.284Z"
   },
   {
    "duration": 11,
    "start_time": "2023-04-13T21:15:28.295Z"
   },
   {
    "duration": 296,
    "start_time": "2023-04-13T21:15:28.335Z"
   },
   {
    "duration": 269,
    "start_time": "2023-04-13T21:15:28.635Z"
   },
   {
    "duration": 190,
    "start_time": "2023-04-13T21:15:28.907Z"
   },
   {
    "duration": 289,
    "start_time": "2023-04-13T21:15:29.098Z"
   },
   {
    "duration": 195,
    "start_time": "2023-04-13T21:15:29.389Z"
   },
   {
    "duration": 287,
    "start_time": "2023-04-13T21:15:29.585Z"
   },
   {
    "duration": 146,
    "start_time": "2023-04-13T21:15:29.874Z"
   },
   {
    "duration": 5,
    "start_time": "2023-04-13T21:15:30.022Z"
   },
   {
    "duration": 171,
    "start_time": "2023-04-13T21:15:30.029Z"
   },
   {
    "duration": 6,
    "start_time": "2023-04-13T21:15:30.201Z"
   },
   {
    "duration": 234,
    "start_time": "2023-04-13T21:15:30.208Z"
   },
   {
    "duration": 165,
    "start_time": "2023-04-13T21:15:30.444Z"
   },
   {
    "duration": 10,
    "start_time": "2023-04-13T21:15:30.611Z"
   },
   {
    "duration": 14,
    "start_time": "2023-04-13T21:15:30.635Z"
   },
   {
    "duration": 69,
    "start_time": "2023-04-13T21:15:30.651Z"
   },
   {
    "duration": 27,
    "start_time": "2023-04-13T21:15:30.722Z"
   },
   {
    "duration": 50,
    "start_time": "2023-04-14T15:35:10.373Z"
   },
   {
    "duration": 1348,
    "start_time": "2023-04-14T15:35:16.420Z"
   },
   {
    "duration": 193,
    "start_time": "2023-04-14T15:35:17.770Z"
   },
   {
    "duration": 21,
    "start_time": "2023-04-14T15:35:17.965Z"
   },
   {
    "duration": 19,
    "start_time": "2023-04-14T15:35:17.988Z"
   },
   {
    "duration": 22,
    "start_time": "2023-04-14T15:35:18.009Z"
   },
   {
    "duration": 4,
    "start_time": "2023-04-14T15:35:18.032Z"
   },
   {
    "duration": 14,
    "start_time": "2023-04-14T15:35:18.038Z"
   },
   {
    "duration": 10,
    "start_time": "2023-04-14T15:35:18.086Z"
   },
   {
    "duration": 311,
    "start_time": "2023-04-14T15:35:18.098Z"
   },
   {
    "duration": 291,
    "start_time": "2023-04-14T15:35:18.412Z"
   },
   {
    "duration": 209,
    "start_time": "2023-04-14T15:35:18.705Z"
   },
   {
    "duration": 331,
    "start_time": "2023-04-14T15:35:18.916Z"
   },
   {
    "duration": 201,
    "start_time": "2023-04-14T15:35:19.249Z"
   },
   {
    "duration": 359,
    "start_time": "2023-04-14T15:35:19.452Z"
   },
   {
    "duration": 141,
    "start_time": "2023-04-14T15:35:19.812Z"
   },
   {
    "duration": 4,
    "start_time": "2023-04-14T15:35:19.955Z"
   },
   {
    "duration": 152,
    "start_time": "2023-04-14T15:35:19.961Z"
   },
   {
    "duration": 5,
    "start_time": "2023-04-14T15:35:20.114Z"
   },
   {
    "duration": 236,
    "start_time": "2023-04-14T15:35:20.121Z"
   },
   {
    "duration": 169,
    "start_time": "2023-04-14T15:35:20.358Z"
   },
   {
    "duration": 10,
    "start_time": "2023-04-14T15:35:20.529Z"
   },
   {
    "duration": 12,
    "start_time": "2023-04-14T15:35:20.541Z"
   },
   {
    "duration": 47,
    "start_time": "2023-04-14T15:35:20.554Z"
   },
   {
    "duration": 15,
    "start_time": "2023-04-14T15:35:20.602Z"
   },
   {
    "duration": 8,
    "start_time": "2023-04-14T15:35:35.657Z"
   },
   {
    "duration": 111,
    "start_time": "2023-04-14T15:36:24.869Z"
   },
   {
    "duration": 12,
    "start_time": "2023-04-14T15:36:32.833Z"
   },
   {
    "duration": 12,
    "start_time": "2023-04-14T15:36:56.900Z"
   },
   {
    "duration": 12,
    "start_time": "2023-04-14T15:37:00.351Z"
   },
   {
    "duration": 12,
    "start_time": "2023-04-14T15:37:02.648Z"
   },
   {
    "duration": 11,
    "start_time": "2023-04-14T15:37:59.699Z"
   },
   {
    "duration": 11,
    "start_time": "2023-04-14T15:38:04.666Z"
   },
   {
    "duration": 11,
    "start_time": "2023-04-14T15:38:06.976Z"
   },
   {
    "duration": 11,
    "start_time": "2023-04-14T15:38:54.642Z"
   },
   {
    "duration": 13,
    "start_time": "2023-04-14T15:39:09.516Z"
   },
   {
    "duration": 13,
    "start_time": "2023-04-14T15:39:13.049Z"
   },
   {
    "duration": 13,
    "start_time": "2023-04-14T15:39:16.701Z"
   },
   {
    "duration": 12,
    "start_time": "2023-04-14T15:39:47.533Z"
   },
   {
    "duration": 12,
    "start_time": "2023-04-14T15:41:05.638Z"
   },
   {
    "duration": 23,
    "start_time": "2023-04-14T15:51:33.466Z"
   },
   {
    "duration": 16,
    "start_time": "2023-04-14T15:51:41.255Z"
   },
   {
    "duration": 12,
    "start_time": "2023-04-14T15:52:04.198Z"
   },
   {
    "duration": 20,
    "start_time": "2023-04-14T15:52:30.336Z"
   },
   {
    "duration": 26,
    "start_time": "2023-04-14T15:52:34.488Z"
   },
   {
    "duration": 504,
    "start_time": "2023-04-14T15:56:27.369Z"
   },
   {
    "duration": 272,
    "start_time": "2023-04-14T15:57:08.819Z"
   },
   {
    "duration": 333,
    "start_time": "2023-04-14T15:57:13.726Z"
   },
   {
    "duration": 321,
    "start_time": "2023-04-14T15:57:18.296Z"
   },
   {
    "duration": 463,
    "start_time": "2023-04-14T15:58:19.342Z"
   },
   {
    "duration": 543,
    "start_time": "2023-04-14T15:58:24.126Z"
   },
   {
    "duration": 292,
    "start_time": "2023-04-14T15:58:34.611Z"
   },
   {
    "duration": 357,
    "start_time": "2023-04-14T15:58:43.835Z"
   },
   {
    "duration": 289,
    "start_time": "2023-04-14T15:58:53.048Z"
   },
   {
    "duration": 168,
    "start_time": "2023-04-14T16:01:46.041Z"
   },
   {
    "duration": 170,
    "start_time": "2023-04-14T16:02:02.152Z"
   },
   {
    "duration": 252,
    "start_time": "2023-04-14T16:02:13.944Z"
   },
   {
    "duration": 12,
    "start_time": "2023-04-14T16:02:33.366Z"
   },
   {
    "duration": 45,
    "start_time": "2023-04-14T16:03:07.461Z"
   },
   {
    "duration": 19,
    "start_time": "2023-04-14T16:03:09.798Z"
   },
   {
    "duration": 13,
    "start_time": "2023-04-14T16:03:49.100Z"
   },
   {
    "duration": 23,
    "start_time": "2023-04-14T16:03:55.002Z"
   },
   {
    "duration": 1143,
    "start_time": "2023-04-14T16:04:00.831Z"
   },
   {
    "duration": 78,
    "start_time": "2023-04-14T16:04:01.977Z"
   },
   {
    "duration": 23,
    "start_time": "2023-04-14T16:04:02.058Z"
   },
   {
    "duration": 34,
    "start_time": "2023-04-14T16:04:02.085Z"
   },
   {
    "duration": 38,
    "start_time": "2023-04-14T16:04:02.121Z"
   },
   {
    "duration": 26,
    "start_time": "2023-04-14T16:04:02.161Z"
   },
   {
    "duration": 23,
    "start_time": "2023-04-14T16:04:02.193Z"
   },
   {
    "duration": 16,
    "start_time": "2023-04-14T16:04:02.219Z"
   },
   {
    "duration": 388,
    "start_time": "2023-04-14T16:04:02.237Z"
   },
   {
    "duration": 26,
    "start_time": "2023-04-14T16:04:02.628Z"
   },
   {
    "duration": 364,
    "start_time": "2023-04-14T16:04:02.657Z"
   },
   {
    "duration": 220,
    "start_time": "2023-04-14T16:04:03.023Z"
   },
   {
    "duration": 357,
    "start_time": "2023-04-14T16:04:03.246Z"
   },
   {
    "duration": 244,
    "start_time": "2023-04-14T16:04:03.605Z"
   },
   {
    "duration": 382,
    "start_time": "2023-04-14T16:04:03.851Z"
   },
   {
    "duration": 158,
    "start_time": "2023-04-14T16:04:04.241Z"
   },
   {
    "duration": 7,
    "start_time": "2023-04-14T16:04:04.401Z"
   },
   {
    "duration": 346,
    "start_time": "2023-04-14T16:04:04.410Z"
   },
   {
    "duration": 6,
    "start_time": "2023-04-14T16:04:04.758Z"
   },
   {
    "duration": 346,
    "start_time": "2023-04-14T16:04:04.765Z"
   },
   {
    "duration": 195,
    "start_time": "2023-04-14T16:04:05.112Z"
   },
   {
    "duration": 13,
    "start_time": "2023-04-14T16:04:05.309Z"
   },
   {
    "duration": 38,
    "start_time": "2023-04-14T16:04:05.324Z"
   },
   {
    "duration": 40,
    "start_time": "2023-04-14T16:04:05.364Z"
   },
   {
    "duration": 114,
    "start_time": "2023-04-14T16:04:05.406Z"
   },
   {
    "duration": 14,
    "start_time": "2023-04-14T16:04:18.534Z"
   }
  ],
  "kernelspec": {
   "display_name": "Python 3 (ipykernel)",
   "language": "python",
   "name": "python3"
  },
  "language_info": {
   "codemirror_mode": {
    "name": "ipython",
    "version": 3
   },
   "file_extension": ".py",
   "mimetype": "text/x-python",
   "name": "python",
   "nbconvert_exporter": "python",
   "pygments_lexer": "ipython3",
   "version": "3.9.13"
  },
  "toc": {
   "base_numbering": 1,
   "nav_menu": {},
   "number_sections": true,
   "sideBar": true,
   "skip_h1_title": true,
   "title_cell": "Table of Contents",
   "title_sidebar": "Contents",
   "toc_cell": false,
   "toc_position": {},
   "toc_section_display": true,
   "toc_window_display": false
  },
  "vscode": {
   "interpreter": {
    "hash": "abe6e74ac036534443e39d56336447c8749d759729ebe44fdc71c77b10e010f8"
   }
  }
 },
 "nbformat": 4,
 "nbformat_minor": 2
}
