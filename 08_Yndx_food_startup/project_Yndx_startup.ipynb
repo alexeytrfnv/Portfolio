{
 "cells": [
  {
   "cell_type": "markdown",
   "metadata": {},
   "source": [
    "# Поведение пользователей приложения\n",
    "\n",
    "**Описание проекта:**\n",
    "\n",
    "Вы работаете в стартапе, который продаёт продукты питания. Нужно разобраться, как ведут себя пользователи вашего мобильного приложения. \n",
    "\n",
    "Изучите воронку продаж. Узнайте, как пользователи доходят до покупки. Сколько пользователей доходит до покупки, а сколько — «застревает» на предыдущих шагах? На каких именно?\n",
    "\n",
    "После этого исследуйте результаты A/A/B-эксперимента. Дизайнеры захотели поменять шрифты во всём приложении, а менеджеры испугались, что пользователям будет непривычно. Договорились принять решение по результатам A/A/B-теста. Пользователей разбили на 3 группы: 2 контрольные со старыми шрифтами и одну экспериментальную — с новыми. Выясните, какой шрифт лучше.\n",
    "\n",
    "Создание двух групп A вместо одной имеет определённые преимущества. Если две контрольные группы окажутся равны, вы можете быть уверены в точности проведенного тестирования. Если же между значениями A и A будут существенные различия, это поможет обнаружить факторы, которые привели к искажению результатов. Сравнение контрольных групп также помогает понять, сколько времени и данных потребуется для дальнейших тестов.\n",
    "\n",
    "В случае общей аналитики и A/A/B-эксперимента работайте с одними и теми же данными. В реальных проектах всегда идут эксперименты. Аналитики исследуют качество работы приложения по общим данным, не учитывая принадлежность пользователей к экспериментам.\n",
    "\n",
    "**Цель исследования:**\n",
    "\n",
    "Нужно разобраться, как ведут себя пользователи мобильного приложения. Для этого необходимо выполнить следующие действия:\n",
    "\n",
    "1. Изучить воронку продаж, чтобы узнать путь пользователей до покупки товара в приложении. \n",
    "2. Выяснить долю тех, кто совершает покупку, и тех, кто \"застревает\" на предыдущих шагах. Выяснить причину, по которой пользователям не удается дойти до покупки товара.\n",
    "3. Исследовать результаты A/A/B-эксперимента, чтобы выяснить, какой шрифт лучше подходит для приложения.\n",
    "\n",
    "**Ход исследования:**\n",
    "\n",
    "Данные о действиях пользователей я получу из файла ```/datasets/logs_exp.csv```. О качестве исходных данных ничего не известно, поэтому понадобится обзор данных перед тем, как приступить к анализу.\n",
    "\n",
    "На этапе ознакомления с данными мне необходимо убедиться в качестве полученных данных. На этапе предобработки необходимо подготовить данные к дальнейшему анализу. При наличие пропусков в данных я их обработаю. Затем, я проверю данные на аномалии и дубликаты, чтобы результаты анализа A/A/B-эксперимента были корректными для принятия дальнейших решений об изменении шрифта в мобильном приложении.\n",
    "\n",
    "На этапе анализа событий в логе я найду общее количество событий, количество уникальных пользователей и среднее количество событий на одного пользователя. Также необходимо обработать данные. Если устаревшие данные будут составлять меньше 5% от общей выборки, я их удалю. Во время изучения воронки событий необходимо найти, на каком шаге теряется больше всего пользователей. Помимо этого, я вычислю долю пользователей, которых доходят от первого события до оплаты.\n",
    "\n",
    "По результатам анализа эксперимента необходимо сделать выводы об остановке теста или о его продолжении. Также я проверю наличие статистически значимых различий между А-группами и В-группой. \n",
    "\n",
    "В конце проекта необходимо сформулировать общий вывод по всей проделанной работе.\n",
    "\n",
    "Таким образом, моё исследование пройдет в 6 этапов:\n",
    "- Ознакомление с исходными данными\n",
    "- Предобработка данных\n",
    "- Анализ событий в логе\n",
    "- Изучение воронки событий\n",
    "- Анализ результатов эксперимента\n",
    "- Написание общего вывода"
   ]
  },
  {
   "cell_type": "markdown",
   "metadata": {},
   "source": [
    "### Ознакомление с исходными данными"
   ]
  },
  {
   "cell_type": "markdown",
   "metadata": {},
   "source": [
    "#### Импорт библиотек и создание датафрейма с данными из файла"
   ]
  },
  {
   "cell_type": "code",
   "execution_count": 1,
   "metadata": {},
   "outputs": [],
   "source": [
    "import pandas as pd\n",
    "import matplotlib.pyplot as plt\n",
    "import warnings\n",
    "import numpy as np\n",
    "import datetime as dt\n",
    "from scipy import stats as st\n",
    "import math as mth\n",
    "\n",
    "warnings.filterwarnings('ignore')"
   ]
  },
  {
   "cell_type": "code",
   "execution_count": 2,
   "metadata": {},
   "outputs": [],
   "source": [
    "try:\n",
    "    logs_data = pd.read_csv('/datasets/logs_exp.csv', sep='\\t')\n",
    "except:\n",
    "    logs_data = pd.read_csv('logs_exp.csv', sep='\\t')"
   ]
  },
  {
   "cell_type": "markdown",
   "metadata": {},
   "source": [
    "#### Изучение полученных данных"
   ]
  },
  {
   "cell_type": "code",
   "execution_count": 3,
   "metadata": {},
   "outputs": [
    {
     "data": {
      "text/html": [
       "<div>\n",
       "<style scoped>\n",
       "    .dataframe tbody tr th:only-of-type {\n",
       "        vertical-align: middle;\n",
       "    }\n",
       "\n",
       "    .dataframe tbody tr th {\n",
       "        vertical-align: top;\n",
       "    }\n",
       "\n",
       "    .dataframe thead th {\n",
       "        text-align: right;\n",
       "    }\n",
       "</style>\n",
       "<table border=\"1\" class=\"dataframe\">\n",
       "  <thead>\n",
       "    <tr style=\"text-align: right;\">\n",
       "      <th></th>\n",
       "      <th>EventName</th>\n",
       "      <th>DeviceIDHash</th>\n",
       "      <th>EventTimestamp</th>\n",
       "      <th>ExpId</th>\n",
       "    </tr>\n",
       "  </thead>\n",
       "  <tbody>\n",
       "    <tr>\n",
       "      <th>0</th>\n",
       "      <td>MainScreenAppear</td>\n",
       "      <td>4575588528974610257</td>\n",
       "      <td>1564029816</td>\n",
       "      <td>246</td>\n",
       "    </tr>\n",
       "    <tr>\n",
       "      <th>1</th>\n",
       "      <td>MainScreenAppear</td>\n",
       "      <td>7416695313311560658</td>\n",
       "      <td>1564053102</td>\n",
       "      <td>246</td>\n",
       "    </tr>\n",
       "    <tr>\n",
       "      <th>2</th>\n",
       "      <td>PaymentScreenSuccessful</td>\n",
       "      <td>3518123091307005509</td>\n",
       "      <td>1564054127</td>\n",
       "      <td>248</td>\n",
       "    </tr>\n",
       "    <tr>\n",
       "      <th>3</th>\n",
       "      <td>CartScreenAppear</td>\n",
       "      <td>3518123091307005509</td>\n",
       "      <td>1564054127</td>\n",
       "      <td>248</td>\n",
       "    </tr>\n",
       "    <tr>\n",
       "      <th>4</th>\n",
       "      <td>PaymentScreenSuccessful</td>\n",
       "      <td>6217807653094995999</td>\n",
       "      <td>1564055322</td>\n",
       "      <td>248</td>\n",
       "    </tr>\n",
       "  </tbody>\n",
       "</table>\n",
       "</div>"
      ],
      "text/plain": [
       "                 EventName         DeviceIDHash  EventTimestamp  ExpId\n",
       "0         MainScreenAppear  4575588528974610257      1564029816    246\n",
       "1         MainScreenAppear  7416695313311560658      1564053102    246\n",
       "2  PaymentScreenSuccessful  3518123091307005509      1564054127    248\n",
       "3         CartScreenAppear  3518123091307005509      1564054127    248\n",
       "4  PaymentScreenSuccessful  6217807653094995999      1564055322    248"
      ]
     },
     "metadata": {},
     "output_type": "display_data"
    },
    {
     "name": "stdout",
     "output_type": "stream",
     "text": [
      "None\n"
     ]
    }
   ],
   "source": [
    "print(display(logs_data.head())) # предварительный просмотр"
   ]
  },
  {
   "cell_type": "code",
   "execution_count": 4,
   "metadata": {},
   "outputs": [
    {
     "name": "stdout",
     "output_type": "stream",
     "text": [
      "<class 'pandas.core.frame.DataFrame'>\n",
      "RangeIndex: 244126 entries, 0 to 244125\n",
      "Data columns (total 4 columns):\n",
      " #   Column          Non-Null Count   Dtype \n",
      "---  ------          --------------   ----- \n",
      " 0   EventName       244126 non-null  object\n",
      " 1   DeviceIDHash    244126 non-null  int64 \n",
      " 2   EventTimestamp  244126 non-null  int64 \n",
      " 3   ExpId           244126 non-null  int64 \n",
      "dtypes: int64(3), object(1)\n",
      "memory usage: 7.5+ MB\n",
      "None\n"
     ]
    }
   ],
   "source": [
    "print(logs_data.info()) # вывод информации о датафрейме"
   ]
  },
  {
   "cell_type": "code",
   "execution_count": 5,
   "metadata": {},
   "outputs": [
    {
     "name": "stdout",
     "output_type": "stream",
     "text": [
      "Количество дубликатов: 413\n"
     ]
    }
   ],
   "source": [
    "print('Количество дубликатов:', logs_data.duplicated().sum())"
   ]
  },
  {
   "cell_type": "code",
   "execution_count": 6,
   "metadata": {},
   "outputs": [
    {
     "name": "stdout",
     "output_type": "stream",
     "text": [
      "EventName         0\n",
      "DeviceIDHash      0\n",
      "EventTimestamp    0\n",
      "ExpId             0\n",
      "dtype: int64\n"
     ]
    }
   ],
   "source": [
    "print(logs_data.isna().sum())"
   ]
  },
  {
   "cell_type": "markdown",
   "metadata": {},
   "source": [
    "#### Вывод:\n",
    "\n",
    "На этом этапе были обнаружены дубликаты в данных. Названия столбцов не соответствуют змеиному регистру, тип данных столбца с датой не является типом datetime. Необходимо провести предобработку данных для получения корректных результатов исследования. Пропусков в данных не обнаружено."
   ]
  },
  {
   "cell_type": "markdown",
   "metadata": {},
   "source": [
    "### Предобработка данных"
   ]
  },
  {
   "cell_type": "markdown",
   "metadata": {},
   "source": [
    "***Обработка дубликатов в данных:***"
   ]
  },
  {
   "cell_type": "code",
   "execution_count": 7,
   "metadata": {},
   "outputs": [
    {
     "name": "stdout",
     "output_type": "stream",
     "text": [
      "Процент дубликатов: 0.16917493425526162\n",
      "Количество дубликатов: 0\n"
     ]
    }
   ],
   "source": [
    "# Вычислим процент дубликатов относительно выборки\n",
    "print('Процент дубликатов:', logs_data.duplicated().sum() / logs_data['EventName'].count() * 100)\n",
    "\n",
    "# Удалим дубликаты в данных с помощью drop_duplicates()\n",
    "logs_data = logs_data.drop_duplicates().reset_index(drop=True)\n",
    "\n",
    "# Проверка удаления\n",
    "print('Количество дубликатов:', logs_data.duplicated().sum())"
   ]
  },
  {
   "cell_type": "markdown",
   "metadata": {},
   "source": [
    "***Приведение названий столбцов к змеиному регистру:***"
   ]
  },
  {
   "cell_type": "code",
   "execution_count": 8,
   "metadata": {},
   "outputs": [
    {
     "name": "stdout",
     "output_type": "stream",
     "text": [
      "Index(['EventName', 'DeviceIDHash', 'EventTimestamp', 'ExpId'], dtype='object')\n"
     ]
    }
   ],
   "source": [
    "# Вывод названий столбцов\n",
    "print(logs_data.columns)\n",
    "\n",
    "# Преобразование названий столбцов\n",
    "logs_data = logs_data.rename(columns={\n",
    "    'EventName': 'event_name',\n",
    "    'DeviceIDHash': 'device_id_hash',\n",
    "    'EventTimestamp': 'event_timestamp', 'ExpId': 'exp_id'})"
   ]
  },
  {
   "cell_type": "markdown",
   "metadata": {},
   "source": [
    "***Изменение типа данных для столбца с датой:***"
   ]
  },
  {
   "cell_type": "code",
   "execution_count": 9,
   "metadata": {
    "scrolled": false
   },
   "outputs": [
    {
     "name": "stdout",
     "output_type": "stream",
     "text": [
      "<class 'pandas.core.frame.DataFrame'>\n",
      "RangeIndex: 243713 entries, 0 to 243712\n",
      "Data columns (total 4 columns):\n",
      " #   Column           Non-Null Count   Dtype \n",
      "---  ------           --------------   ----- \n",
      " 0   event_name       243713 non-null  object\n",
      " 1   device_id_hash   243713 non-null  int64 \n",
      " 2   event_timestamp  243713 non-null  int64 \n",
      " 3   exp_id           243713 non-null  int64 \n",
      "dtypes: int64(3), object(1)\n",
      "memory usage: 7.4+ MB\n",
      "None\n"
     ]
    },
    {
     "data": {
      "text/html": [
       "<div>\n",
       "<style scoped>\n",
       "    .dataframe tbody tr th:only-of-type {\n",
       "        vertical-align: middle;\n",
       "    }\n",
       "\n",
       "    .dataframe tbody tr th {\n",
       "        vertical-align: top;\n",
       "    }\n",
       "\n",
       "    .dataframe thead th {\n",
       "        text-align: right;\n",
       "    }\n",
       "</style>\n",
       "<table border=\"1\" class=\"dataframe\">\n",
       "  <thead>\n",
       "    <tr style=\"text-align: right;\">\n",
       "      <th></th>\n",
       "      <th>event_name</th>\n",
       "      <th>device_id_hash</th>\n",
       "      <th>event_timestamp</th>\n",
       "      <th>exp_id</th>\n",
       "      <th>date_time</th>\n",
       "      <th>date</th>\n",
       "    </tr>\n",
       "  </thead>\n",
       "  <tbody>\n",
       "    <tr>\n",
       "      <th>0</th>\n",
       "      <td>MainScreenAppear</td>\n",
       "      <td>4575588528974610257</td>\n",
       "      <td>1564029816</td>\n",
       "      <td>246</td>\n",
       "      <td>2019-07-25 04:43:36</td>\n",
       "      <td>2019-07-25</td>\n",
       "    </tr>\n",
       "    <tr>\n",
       "      <th>1</th>\n",
       "      <td>MainScreenAppear</td>\n",
       "      <td>7416695313311560658</td>\n",
       "      <td>1564053102</td>\n",
       "      <td>246</td>\n",
       "      <td>2019-07-25 11:11:42</td>\n",
       "      <td>2019-07-25</td>\n",
       "    </tr>\n",
       "    <tr>\n",
       "      <th>2</th>\n",
       "      <td>PaymentScreenSuccessful</td>\n",
       "      <td>3518123091307005509</td>\n",
       "      <td>1564054127</td>\n",
       "      <td>248</td>\n",
       "      <td>2019-07-25 11:28:47</td>\n",
       "      <td>2019-07-25</td>\n",
       "    </tr>\n",
       "    <tr>\n",
       "      <th>3</th>\n",
       "      <td>CartScreenAppear</td>\n",
       "      <td>3518123091307005509</td>\n",
       "      <td>1564054127</td>\n",
       "      <td>248</td>\n",
       "      <td>2019-07-25 11:28:47</td>\n",
       "      <td>2019-07-25</td>\n",
       "    </tr>\n",
       "    <tr>\n",
       "      <th>4</th>\n",
       "      <td>PaymentScreenSuccessful</td>\n",
       "      <td>6217807653094995999</td>\n",
       "      <td>1564055322</td>\n",
       "      <td>248</td>\n",
       "      <td>2019-07-25 11:48:42</td>\n",
       "      <td>2019-07-25</td>\n",
       "    </tr>\n",
       "  </tbody>\n",
       "</table>\n",
       "</div>"
      ],
      "text/plain": [
       "                event_name       device_id_hash  event_timestamp  exp_id  \\\n",
       "0         MainScreenAppear  4575588528974610257       1564029816     246   \n",
       "1         MainScreenAppear  7416695313311560658       1564053102     246   \n",
       "2  PaymentScreenSuccessful  3518123091307005509       1564054127     248   \n",
       "3         CartScreenAppear  3518123091307005509       1564054127     248   \n",
       "4  PaymentScreenSuccessful  6217807653094995999       1564055322     248   \n",
       "\n",
       "            date_time       date  \n",
       "0 2019-07-25 04:43:36 2019-07-25  \n",
       "1 2019-07-25 11:11:42 2019-07-25  \n",
       "2 2019-07-25 11:28:47 2019-07-25  \n",
       "3 2019-07-25 11:28:47 2019-07-25  \n",
       "4 2019-07-25 11:48:42 2019-07-25  "
      ]
     },
     "execution_count": 9,
     "metadata": {},
     "output_type": "execute_result"
    }
   ],
   "source": [
    "# Вывод предварительной информации\n",
    "print(logs_data.info())\n",
    "\n",
    "# Добавление столбца с датой и временем\n",
    "logs_data['date_time'] = pd.to_datetime(logs_data['event_timestamp'], unit='s')\n",
    "\n",
    "# Создание столбца с датой\n",
    "logs_data['date'] = pd.to_datetime(logs_data['date_time']).dt.floor('1D')\n",
    "\n",
    "# Вывод 5 строк для проверки\n",
    "logs_data.head()"
   ]
  },
  {
   "cell_type": "markdown",
   "metadata": {},
   "source": [
    "***Проверим попадание пользователей сразу в несколько групп:***"
   ]
  },
  {
   "cell_type": "code",
   "execution_count": 10,
   "metadata": {},
   "outputs": [
    {
     "data": {
      "text/plain": [
       "array([], dtype=int64)"
      ]
     },
     "metadata": {},
     "output_type": "display_data"
    },
    {
     "data": {
      "text/plain": [
       "array([], dtype=int64)"
      ]
     },
     "metadata": {},
     "output_type": "display_data"
    },
    {
     "data": {
      "text/plain": [
       "array([], dtype=int64)"
      ]
     },
     "metadata": {},
     "output_type": "display_data"
    }
   ],
   "source": [
    "# Используем метод np.intersect1d, который вернет уникальных пользователей, попавших в оба массива\n",
    "display(np.intersect1d(\n",
    "    logs_data.query('exp_id == \"246\"')['device_id_hash'].unique(), \n",
    "    logs_data.query('exp_id == \"247\"')['device_id_hash'].unique()))\n",
    "\n",
    "display(np.intersect1d(\n",
    "    logs_data.query('exp_id == \"246\"')['device_id_hash'].unique(), \n",
    "    logs_data.query('exp_id == \"248\"')['device_id_hash'].unique()))\n",
    "\n",
    "display(np.intersect1d(\n",
    "    logs_data.query('exp_id == \"247\"')['device_id_hash'].unique(), \n",
    "    logs_data.query('exp_id == \"248\"')['device_id_hash'].unique()))"
   ]
  },
  {
   "cell_type": "markdown",
   "metadata": {},
   "source": [
    "#### Вывод:\n",
    "\n",
    "- Были удалены дубликаты, так как они составляли меньше 1% от общего объема данных. \n",
    "- Названий столбцов были приведены к змеиному регистру. \n",
    "- Добавлены 2 столбца:\n",
    "    - Столбец с датой и временем\n",
    "    - Столбец с датой (без времени)\n",
    "- Пользователей, попавших сразу в несколько групп, не обнаружено."
   ]
  },
  {
   "cell_type": "markdown",
   "metadata": {},
   "source": [
    "### Анализ событий в логе"
   ]
  },
  {
   "cell_type": "markdown",
   "metadata": {},
   "source": [
    "#### Посчитаем общее количество событий в логе:"
   ]
  },
  {
   "cell_type": "code",
   "execution_count": 11,
   "metadata": {},
   "outputs": [
    {
     "name": "stdout",
     "output_type": "stream",
     "text": [
      "Всего событий в логе: 243713\n"
     ]
    }
   ],
   "source": [
    "# Применим метод shape. Он выводит так: (кол-во строк, кол-во столбцов)\n",
    "total_events = logs_data['event_name'].shape[0]\n",
    "print('Всего событий в логе:', total_events)"
   ]
  },
  {
   "cell_type": "markdown",
   "metadata": {},
   "source": [
    "#### Посчитаем общее количество пользователей в логе:"
   ]
  },
  {
   "cell_type": "code",
   "execution_count": 12,
   "metadata": {},
   "outputs": [
    {
     "name": "stdout",
     "output_type": "stream",
     "text": [
      "Всего пользователей в логе: 7551\n"
     ]
    }
   ],
   "source": [
    "# Применим метод nunique, чтобы найти количество уникальных пользователей\n",
    "total_users = logs_data['device_id_hash'].nunique()\n",
    "\n",
    "print('Всего пользователей в логе:', total_users)"
   ]
  },
  {
   "cell_type": "markdown",
   "metadata": {},
   "source": [
    "#### Посчитаем, сколько в среднем событий приходится на пользователя:"
   ]
  },
  {
   "cell_type": "code",
   "execution_count": 13,
   "metadata": {},
   "outputs": [
    {
     "name": "stdout",
     "output_type": "stream",
     "text": [
      "Среднее количество событий на пользователя: 32.28\n"
     ]
    }
   ],
   "source": [
    "events_per_user = logs_data.groupby('device_id_hash')['event_name'].count()\n",
    "\n",
    "print('Среднее количество событий на пользователя:', '{:.2f}'.format(events_per_user.mean()))"
   ]
  },
  {
   "cell_type": "markdown",
   "metadata": {},
   "source": [
    "#### Найдем период, в течение которого были собраны данные:"
   ]
  },
  {
   "cell_type": "code",
   "execution_count": 14,
   "metadata": {},
   "outputs": [
    {
     "name": "stdout",
     "output_type": "stream",
     "text": [
      "count                  243713\n",
      "unique                 176654\n",
      "top       2019-08-01 14:40:35\n",
      "freq                        9\n",
      "first     2019-07-25 04:43:36\n",
      "last      2019-08-07 21:15:17\n",
      "Name: date_time, dtype: object\n"
     ]
    },
    {
     "data": {
      "image/png": "[encoded data removed]",
      "text/plain": [
       "<Figure size 1080x288 with 1 Axes>"
      ]
     },
     "metadata": {
      "needs_background": "light"
     },
     "output_type": "display_data"
    }
   ],
   "source": [
    "# Получим информацию о столбце с датой и временем событий\n",
    "print(logs_data['date_time'].describe())\n",
    "\n",
    "# Зададим параметры графика\n",
    "plt.figure(figsize=(15,4))\n",
    "logs_data['date_time'].hist(bins=200)\n",
    "plt.title('Гистограмма распределения времени события')\n",
    "plt.xticks(rotation=13)\n",
    "plt.ylabel('Число событий')\n",
    "plt.xlabel('Дата и время события')\n",
    "plt.show()"
   ]
  },
  {
   "cell_type": "markdown",
   "metadata": {},
   "source": [
    "Первые события появились 2019-07-25, но по гистограмме видно, что до 2019-08-01 сохранено очень мало информации о событиях. В последующие же даты дневные распределения значительно больше.\n",
    "\n",
    "Нельзя быть уверенным, что у нас одинаково полные данные за весь период. Мы располагаем полными данными с 1 по 7 августа 2019 включительно.\n",
    "\n",
    "Необходимо выбрать точное время, чтобы отбросить старые данные. Возьмем за границу 31 июля для того, чтобы изучить период первой недели августа более детально."
   ]
  },
  {
   "cell_type": "markdown",
   "metadata": {},
   "source": [
    "#### Очистим данные от дней, для которых не имеется полной информации:"
   ]
  },
  {
   "cell_type": "code",
   "execution_count": 15,
   "metadata": {},
   "outputs": [
    {
     "name": "stdout",
     "output_type": "stream",
     "text": [
      "count                  243713\n",
      "unique                 176654\n",
      "top       2019-08-01 14:40:35\n",
      "freq                        9\n",
      "first     2019-07-25 04:43:36\n",
      "last      2019-08-07 21:15:17\n",
      "Name: date_time, dtype: object\n"
     ]
    },
    {
     "data": {
      "image/png": "[encoded data removed]",
      "text/plain": [
       "<Figure size 936x504 with 1 Axes>"
      ]
     },
     "metadata": {
      "needs_background": "light"
     },
     "output_type": "display_data"
    }
   ],
   "source": [
    "print(logs_data['date_time'].describe())\n",
    "\n",
    "plt.figure(figsize=(13,7))\n",
    "logs_data['date_time'].hist(bins=400)\n",
    "\n",
    "plt.title('Гистограмма распределения времени события')\n",
    "plt.ylabel('Количество событий')\n",
    "plt.xlabel('Дата и время события')\n",
    "plt.xlim(dt.datetime(2019, 7, 31, 10, 0), dt.datetime(2019, 8, 1, 6, 0))\n",
    "plt.ylim(0, 800)\n",
    "\n",
    "plt.show()"
   ]
  },
  {
   "cell_type": "markdown",
   "metadata": {},
   "source": [
    "С помощью гистограммы мы можем выяснить, что резкий всплеск количества событий произошел 31 июля в 21:00. Скорее всего, это связано со временем запуска теста. Данные до этого времени необходимо очистить, чтобы их не анализировать."
   ]
  },
  {
   "cell_type": "code",
   "execution_count": 16,
   "metadata": {},
   "outputs": [],
   "source": [
    "# Удаление из датафрейма старых данных\n",
    "logs_data = logs_data[logs_data['date_time'] >= dt.datetime(2019, 7, 31, 21, 0)]"
   ]
  },
  {
   "cell_type": "markdown",
   "metadata": {},
   "source": [
    "#### Посчитаем количество событий и пользователей, которые были удалены после обработки старых данных:"
   ]
  },
  {
   "cell_type": "code",
   "execution_count": 17,
   "metadata": {},
   "outputs": [
    {
     "name": "stdout",
     "output_type": "stream",
     "text": [
      "Всего событий в логе:  241724\n",
      "Всего уникальных пользователей в логе:  7538\n",
      "Процент событий, которые были удалены после обработки старых данных: 0.82%\n",
      "Процент пользователей, которые были удалены после обработки старых данных: 0.17%\n"
     ]
    }
   ],
   "source": [
    "# Подсчет количества событий после удаления старых данных\n",
    "total_events_new = len(logs_data)\n",
    "print('Всего событий в логе: ', total_events_new)\n",
    "\n",
    "# Подсчет количества уникальных пользователей после удаления старых данных\n",
    "total_users_new = logs_data['device_id_hash'].nunique()\n",
    "print('Всего уникальных пользователей в логе: ', total_users_new)\n",
    "\n",
    "print('Процент событий, которые были удалены после обработки старых данных: {:.2%}'.format(total_events/total_events_new-1))\n",
    "print('Процент пользователей, которые были удалены после обработки старых данных: {:.2%}'.format(total_users/total_users_new-1))"
   ]
  },
  {
   "cell_type": "markdown",
   "metadata": {},
   "source": [
    "Доля удаленных данных не превышает 1%, можно продолжать исследование."
   ]
  },
  {
   "cell_type": "markdown",
   "metadata": {},
   "source": [
    "#### Проверим, что есть пользователи из всех трёх экспериментальных групп:"
   ]
  },
  {
   "cell_type": "code",
   "execution_count": 18,
   "metadata": {},
   "outputs": [
    {
     "data": {
      "text/plain": [
       "248    84875\n",
       "246    79556\n",
       "247    77293\n",
       "Name: exp_id, dtype: int64"
      ]
     },
     "execution_count": 18,
     "metadata": {},
     "output_type": "execute_result"
    }
   ],
   "source": [
    "logs_data['exp_id'].value_counts()"
   ]
  },
  {
   "cell_type": "markdown",
   "metadata": {},
   "source": [
    "Пользователи из всех трех экспериментальных групп у нас есть."
   ]
  },
  {
   "cell_type": "markdown",
   "metadata": {},
   "source": [
    "По данным из таблицы можно сделать вывод, что пользователи распределены равномерно по трем экспериментальным группам."
   ]
  },
  {
   "cell_type": "markdown",
   "metadata": {},
   "source": [
    "#### Вывод:\n",
    "\n",
    "После проведенного анализа событий в логе было выяснено:\n",
    "\n",
    "- Общее количество событий в логе - 243713\n",
    "- Всего пользователей в логе - 7551\n",
    "- Среднее количество событий на пользователя - 32\n",
    "\n",
    "В процессе анализа было обнаружено, что 31 июля 2019 года в 21:00 произошел всплеск количества событий. Это может быть связано с запуском теста. Данные, которые были до этого времени, удалены. В итоге получились следующие результаты показателей:\n",
    "\n",
    "- Общее количество событий в логе после удаления старых данных - 241724\n",
    "- Всего пользователей в логе после удаления старых данных - 7538\n",
    "- Доля удаленных данных о событиях от общего количества событий - 0.82%\n",
    "- Доля удаленных пользователей от общего числа пользователей - 0.17%\n",
    "\n",
    "Данные были очищены с потерей менее 1% объема. Пользователи распределены равномерно по трем экспериментальным группам. Можно приступать к изучению воронки событий."
   ]
  },
  {
   "cell_type": "markdown",
   "metadata": {},
   "source": [
    "### Изучение воронки событий"
   ]
  },
  {
   "cell_type": "markdown",
   "metadata": {},
   "source": [
    "#### Посмотрим, какие события есть в логах и как часто они встречаются:"
   ]
  },
  {
   "cell_type": "code",
   "execution_count": 19,
   "metadata": {},
   "outputs": [
    {
     "data": {
      "text/plain": [
       "MainScreenAppear           117889\n",
       "OffersScreenAppear          46531\n",
       "CartScreenAppear            42343\n",
       "PaymentScreenSuccessful     33951\n",
       "Tutorial                     1010\n",
       "Name: event_name, dtype: int64"
      ]
     },
     "execution_count": 19,
     "metadata": {},
     "output_type": "execute_result"
    }
   ],
   "source": [
    "logs_data['event_name'].value_counts()"
   ]
  },
  {
   "cell_type": "markdown",
   "metadata": {},
   "source": [
    "По выведенной таблице можно определить, какие действия совершает пользователей:\n",
    "\n",
    "1. MainScreenAppear - пользователь зашел на главную страницу\n",
    "2. OffersScreenAppear - пользователь зашел на страницу предложений\n",
    "3. CartScreenAppear - пользователь зашел на страницу с корзиной\n",
    "4. PaymentScreenSuccessful - пользователю показана страница об успешной оплате\n",
    "5. Tutorial - пользователь зашел на страницу с инструкцией"
   ]
  },
  {
   "cell_type": "markdown",
   "metadata": {},
   "source": [
    "#### Посчитаем, сколько пользователей совершали каждое из этих событий, а также долю пользователей, которые хоть раз совершали событие:"
   ]
  },
  {
   "cell_type": "markdown",
   "metadata": {},
   "source": [
    "***Посчитаем, сколько пользователей совершали каждое из событий:***"
   ]
  },
  {
   "cell_type": "code",
   "execution_count": 20,
   "metadata": {},
   "outputs": [
    {
     "data": {
      "text/plain": [
       "event_name\n",
       "MainScreenAppear           117889\n",
       "OffersScreenAppear          46531\n",
       "CartScreenAppear            42343\n",
       "PaymentScreenSuccessful     33951\n",
       "Tutorial                     1010\n",
       "Name: device_id_hash, dtype: int64"
      ]
     },
     "execution_count": 20,
     "metadata": {},
     "output_type": "execute_result"
    }
   ],
   "source": [
    "logs_data.groupby('event_name').count().sort_values(by='device_id_hash', ascending=False)['device_id_hash']"
   ]
  },
  {
   "cell_type": "markdown",
   "metadata": {},
   "source": [
    "***Посчитаем долю пользователей, которые хоть раз совершали событие:***"
   ]
  },
  {
   "cell_type": "code",
   "execution_count": 21,
   "metadata": {},
   "outputs": [
    {
     "data": {
      "text/html": [
       "<style  type=\"text/css\" >\n",
       "</style><table id=\"T_28bc9_\" ><thead>    <tr>        <th class=\"blank level0\" ></th>        <th class=\"col_heading level0 col0\" >users_cnt</th>    </tr>    <tr>        <th class=\"index_name level0\" >event_name</th>        <th class=\"blank\" ></th>    </tr></thead><tbody>\n",
       "                <tr>\n",
       "                        <th id=\"T_28bc9_level0_row0\" class=\"row_heading level0 row0\" >MainScreenAppear</th>\n",
       "                        <td id=\"T_28bc9_row0_col0\" class=\"data row0 col0\" >0.98</td>\n",
       "            </tr>\n",
       "            <tr>\n",
       "                        <th id=\"T_28bc9_level0_row1\" class=\"row_heading level0 row1\" >OffersScreenAppear</th>\n",
       "                        <td id=\"T_28bc9_row1_col0\" class=\"data row1 col0\" >0.61</td>\n",
       "            </tr>\n",
       "            <tr>\n",
       "                        <th id=\"T_28bc9_level0_row2\" class=\"row_heading level0 row2\" >CartScreenAppear</th>\n",
       "                        <td id=\"T_28bc9_row2_col0\" class=\"data row2 col0\" >0.50</td>\n",
       "            </tr>\n",
       "            <tr>\n",
       "                        <th id=\"T_28bc9_level0_row3\" class=\"row_heading level0 row3\" >PaymentScreenSuccessful</th>\n",
       "                        <td id=\"T_28bc9_row3_col0\" class=\"data row3 col0\" >0.47</td>\n",
       "            </tr>\n",
       "            <tr>\n",
       "                        <th id=\"T_28bc9_level0_row4\" class=\"row_heading level0 row4\" >Tutorial</th>\n",
       "                        <td id=\"T_28bc9_row4_col0\" class=\"data row4 col0\" >0.11</td>\n",
       "            </tr>\n",
       "    </tbody></table>"
      ],
      "text/plain": [
       "<pandas.io.formats.style.Styler at 0x7fa2073514f0>"
      ]
     },
     "execution_count": 21,
     "metadata": {},
     "output_type": "execute_result"
    }
   ],
   "source": [
    "users_per_event = (\n",
    "    logs_data\n",
    "    .pivot_table(index='event_name', values='device_id_hash', aggfunc=lambda x: x.nunique())\n",
    "    .sort_values('device_id_hash', ascending=False)\n",
    ")\n",
    "users_per_event.columns = ['users_cnt']\n",
    "(users_per_event / len(logs_data['device_id_hash'].unique())).style.format('{:.2f}')"
   ]
  },
  {
   "cell_type": "markdown",
   "metadata": {},
   "source": [
    "#### Построим воронку событий:"
   ]
  },
  {
   "cell_type": "code",
   "execution_count": 22,
   "metadata": {},
   "outputs": [],
   "source": [
    "data = users_per_event.pivot_table(index='event_name', values='users_cnt')\n",
    "data = data.sort_values(by='users_cnt', ascending=False)\n",
    "data['step'] = data / data.shift(1, fill_value=1) \n",
    "data = data.fillna(100)\n",
    "\n",
    "first_step = data['users_cnt'].max()\n",
    "last_step = data['users_cnt'][3]"
   ]
  },
  {
   "cell_type": "code",
   "execution_count": 23,
   "metadata": {},
   "outputs": [
    {
     "name": "stdout",
     "output_type": "stream",
     "text": [
      "event_name\n",
      "MainScreenAppear           7423.000000\n",
      "OffersScreenAppear            0.619291\n",
      "CartScreenAppear              0.812704\n",
      "PaymentScreenSuccessful       0.947537\n",
      "Tutorial                      0.238136\n",
      "Name: step, dtype: float64\n",
      "Доля пользователей, которые не попали на главный экран приложения: 1.53%\n",
      "\n",
      "Доля пользователей, которая доходит от первого события до оплаты: 47.69%\n"
     ]
    }
   ],
   "source": [
    "print(data['step'])\n",
    "print('Доля пользователей, которые не попали на главный экран приложения:', '{:.2%}'.format(1 - (data['step'][0] / logs_data['device_id_hash'].nunique())))\n",
    "print()\n",
    "print('Доля пользователей, которая доходит от первого события до оплаты:', '{:.2%}'.format(last_step / first_step))"
   ]
  },
  {
   "cell_type": "markdown",
   "metadata": {},
   "source": [
    "Примерно 1.5% пользователей не попадает на главный экран приложения. Необходимо сообщить об этом техническому отделу.\n",
    "\n",
    "При переходе с главной страницы приложения теряются 38% пользователей, до оплаты доходят 48% от изначального количества пользователей."
   ]
  },
  {
   "cell_type": "markdown",
   "metadata": {},
   "source": [
    "#### Вывод:\n",
    "\n",
    "- Изучены типы событий и их количество.\n",
    "- По воронке событий было сделаны следующие выводы:\n",
    "    - Примерно 1.53% пользователей не попадает на главный экран. Вероятно, что у них возникают технические неполадки.\n",
    "    - На первом шаге теряется больше всего пользователей: 38% от изначальных пользователей.\n",
    "    - От первого события до оплаты доходит 48% от изначального количества пользователей."
   ]
  },
  {
   "cell_type": "markdown",
   "metadata": {},
   "source": [
    "### Анализ результатов эксперимента"
   ]
  },
  {
   "cell_type": "markdown",
   "metadata": {},
   "source": [
    "#### Выведем данные о количестве пользователей в каждой экспериментальной группе:"
   ]
  },
  {
   "cell_type": "code",
   "execution_count": 24,
   "metadata": {},
   "outputs": [
    {
     "data": {
      "text/plain": [
       "exp_id\n",
       "246    2484\n",
       "247    2517\n",
       "248    2537\n",
       "Name: device_id_hash, dtype: int64"
      ]
     },
     "execution_count": 24,
     "metadata": {},
     "output_type": "execute_result"
    }
   ],
   "source": [
    "logs_data.groupby('exp_id')['device_id_hash'].nunique()"
   ]
  },
  {
   "cell_type": "markdown",
   "metadata": {},
   "source": [
    "В группе 246 находится 2483 пользователя, в группе 247 - 2516 пользователей, в группе 248 - 2535 пользователей. В каждой экспериментальной группе примерно одинаковое число пользователей."
   ]
  },
  {
   "cell_type": "markdown",
   "metadata": {},
   "source": [
    "Проверим для каждого событий, будет ли отличие между экспериментальными группами статистически достоверным.\n",
    "\n",
    "Сформулируем нулевую и альтернативную гипотезы:\n",
    "\n",
    "- Нулевая гипотеза: Доли уникальных пользователей по событию для сравниваемых групп равны.\n",
    "\n",
    "- Альтернативная гипотеза: Доли уникальных пользователей по событию для сравниваемых групп отличаются."
   ]
  },
  {
   "cell_type": "markdown",
   "metadata": {},
   "source": [
    "#### Проверим, находят ли статистические критерии разницу между выборками 246 и 247:"
   ]
  },
  {
   "cell_type": "code",
   "execution_count": 25,
   "metadata": {},
   "outputs": [],
   "source": [
    "data_246 = logs_data.query('exp_id == 246').groupby('exp_id')['device_id_hash'].nunique().reset_index()\n",
    "data_247 = logs_data.query('exp_id == 247').groupby('exp_id')['device_id_hash'].nunique().reset_index()"
   ]
  },
  {
   "cell_type": "code",
   "execution_count": 26,
   "metadata": {},
   "outputs": [
    {
     "name": "stdout",
     "output_type": "stream",
     "text": [
      "Разница между выборками 246 и 247 - 1.31%\n"
     ]
    }
   ],
   "source": [
    "diff = 1 - data_246.iloc[0]['device_id_hash'] / data_247.iloc[0]['device_id_hash']\n",
    "print('Разница между выборками 246 и 247 - {:.2%}'.format(diff))"
   ]
  },
  {
   "cell_type": "markdown",
   "metadata": {},
   "source": [
    "Между выборками 246 и 247 разница небольшая (примерно 1%), это приемлемо для контрольных групп."
   ]
  },
  {
   "cell_type": "markdown",
   "metadata": {},
   "source": [
    "#### Посмотрим, сколько пользователей совершали каждое событие в каждой экспериментальной группе:"
   ]
  },
  {
   "cell_type": "code",
   "execution_count": 27,
   "metadata": {},
   "outputs": [
    {
     "data": {
      "text/html": [
       "<div>\n",
       "<style scoped>\n",
       "    .dataframe tbody tr th:only-of-type {\n",
       "        vertical-align: middle;\n",
       "    }\n",
       "\n",
       "    .dataframe tbody tr th {\n",
       "        vertical-align: top;\n",
       "    }\n",
       "\n",
       "    .dataframe thead th {\n",
       "        text-align: right;\n",
       "    }\n",
       "</style>\n",
       "<table border=\"1\" class=\"dataframe\">\n",
       "  <thead>\n",
       "    <tr style=\"text-align: right;\">\n",
       "      <th>exp_id</th>\n",
       "      <th>246</th>\n",
       "      <th>247</th>\n",
       "      <th>248</th>\n",
       "    </tr>\n",
       "    <tr>\n",
       "      <th>event_name</th>\n",
       "      <th></th>\n",
       "      <th></th>\n",
       "      <th></th>\n",
       "    </tr>\n",
       "  </thead>\n",
       "  <tbody>\n",
       "    <tr>\n",
       "      <th>CartScreenAppear</th>\n",
       "      <td>1266</td>\n",
       "      <td>1239</td>\n",
       "      <td>1231</td>\n",
       "    </tr>\n",
       "    <tr>\n",
       "      <th>MainScreenAppear</th>\n",
       "      <td>2450</td>\n",
       "      <td>2479</td>\n",
       "      <td>2494</td>\n",
       "    </tr>\n",
       "    <tr>\n",
       "      <th>OffersScreenAppear</th>\n",
       "      <td>1542</td>\n",
       "      <td>1524</td>\n",
       "      <td>1531</td>\n",
       "    </tr>\n",
       "    <tr>\n",
       "      <th>PaymentScreenSuccessful</th>\n",
       "      <td>1200</td>\n",
       "      <td>1158</td>\n",
       "      <td>1182</td>\n",
       "    </tr>\n",
       "    <tr>\n",
       "      <th>Tutorial</th>\n",
       "      <td>278</td>\n",
       "      <td>284</td>\n",
       "      <td>281</td>\n",
       "    </tr>\n",
       "  </tbody>\n",
       "</table>\n",
       "</div>"
      ],
      "text/plain": [
       "exp_id                    246   247   248\n",
       "event_name                               \n",
       "CartScreenAppear         1266  1239  1231\n",
       "MainScreenAppear         2450  2479  2494\n",
       "OffersScreenAppear       1542  1524  1531\n",
       "PaymentScreenSuccessful  1200  1158  1182\n",
       "Tutorial                  278   284   281"
      ]
     },
     "execution_count": 27,
     "metadata": {},
     "output_type": "execute_result"
    }
   ],
   "source": [
    "logs_data.pivot_table(index='event_name', columns='exp_id', values='device_id_hash', aggfunc='nunique')"
   ]
  },
  {
   "cell_type": "markdown",
   "metadata": {},
   "source": [
    "Самое популярное событие - MainScreenAppear. Тут большой разницы между количеством пользователей нет. В 246 группе больше всего событий оплаты (PaymentScreenSuccessful).\n"
   ]
  },
  {
   "cell_type": "markdown",
   "metadata": {},
   "source": [
    "Сформулируем гипотезы:\n",
    "\n",
    "- Нулевая гипотеза: Доли уникальных пользователей по событию для сравниваемых групп равны.\n",
    "\n",
    "- Альтернативная гипотеза: Доли уникальных пользователей по событию для сравниваемых групп отличаются.\n",
    "\n",
    "Для проверки гипотез применим z-тест (z-критерий Фишера). Он применяется для проверки равенства средних значений при известной дисперсии генеральной совокупности или при оценке выборочного среднего стандартизованных значений.\n",
    "\n",
    "Создадим функцию, считающую статистическую значимость между группами. Датафрейм будем обрабатывать внутри функции, группы будем передавать в виде списка.\n",
    "\n",
    "Пороговое значение alpha примем за 5%."
   ]
  },
  {
   "cell_type": "code",
   "execution_count": 28,
   "metadata": {},
   "outputs": [],
   "source": [
    "def stat_testing(df, group_ids, alpha):\n",
    "    # Поиск уникальных пользователей в каждой группе\n",
    "    users = [df.query('exp_id == @id')['device_id_hash'].nunique() for id in group_ids]\n",
    "    \n",
    "    for event in df.event_name.unique():\n",
    "        # Сравнение кол-ва уникальных пользователей на каждом шаге группы к общему количеству уникальных пользователей в этой группе\n",
    "        events = [df.query('exp_id == %d and event_name == \"%s\"' % (group_id, event))['device_id_hash'].nunique() for group_id in group_ids]\n",
    "\n",
    "        # Доля для первой группы\n",
    "        p1 = events[0] / users[0]\n",
    "\n",
    "        # Доля для второй группы\n",
    "        p2 = events[1] / users[1]\n",
    "        \n",
    "        p_combined = sum(events) / sum(users) \n",
    "        \n",
    "        difference = p1 - p2\n",
    "        \n",
    "        z_value = difference / mth.sqrt(\n",
    "            p_combined * (1 - p_combined) * (1 / users[0] + 1 / users[1]) # Подсчет z-value, которая покажет, насколько она далека от среднего значения точки данных\n",
    "        )\n",
    "        \n",
    "        distr = st.norm(0, 1) # Нормальное распределение\n",
    "        p_value = (1 - distr.cdf(abs(z_value))) * 2 # Вычисление p-value\n",
    "        \n",
    "        print(event) # Вывод события\n",
    "        print(p1, p2)\n",
    "        print('p-значение: ', p_value)\n",
    "   \n",
    "        if p_value < alpha:\n",
    "            print('Отвергаем нулевую гипотезу по событию %s: между долями есть значимая разница' % (event))\n",
    "        else:\n",
    "            print('Не получилось отвергнуть нулевую гипотезу по событию %s: нет оснований считать доли разными' % (event))\n",
    "            \n",
    "        print(' ') # Добавим строку с пропуском, чтобы отделить события друг от друга"
   ]
  },
  {
   "cell_type": "markdown",
   "metadata": {},
   "source": [
    "Сначала проводим A/A тестирование - это проверка всего эксперимента на валидность:"
   ]
  },
  {
   "cell_type": "code",
   "execution_count": 29,
   "metadata": {},
   "outputs": [
    {
     "name": "stdout",
     "output_type": "stream",
     "text": [
      "MainScreenAppear\n",
      "0.9863123993558777 0.9849026618990863\n",
      "p-значение:  0.6756217702005545\n",
      "Не получилось отвергнуть нулевую гипотезу по событию MainScreenAppear: нет оснований считать доли разными\n",
      " \n",
      "OffersScreenAppear\n",
      "0.6207729468599034 0.6054827175208581\n",
      "p-значение:  0.26698769175859516\n",
      "Не получилось отвергнуть нулевую гипотезу по событию OffersScreenAppear: нет оснований считать доли разными\n",
      " \n",
      "PaymentScreenSuccessful\n",
      "0.4830917874396135 0.4600715137067938\n",
      "p-значение:  0.10298394982948822\n",
      "Не получилось отвергнуть нулевую гипотезу по событию PaymentScreenSuccessful: нет оснований считать доли разными\n",
      " \n",
      "CartScreenAppear\n",
      "0.5096618357487923 0.4922526817640048\n",
      "p-значение:  0.2182812140633792\n",
      "Не получилось отвергнуть нулевую гипотезу по событию CartScreenAppear: нет оснований считать доли разными\n",
      " \n",
      "Tutorial\n",
      "0.11191626409017713 0.11283273738577672\n",
      "p-значение:  0.9182790262812368\n",
      "Не получилось отвергнуть нулевую гипотезу по событию Tutorial: нет оснований считать доли разными\n",
      " \n"
     ]
    }
   ],
   "source": [
    "stat_testing(logs_data, [246, 247], 0.05)"
   ]
  },
  {
   "cell_type": "markdown",
   "metadata": {},
   "source": [
    "По результатам тестирования можно сделать вывод, что различия между экспериментальными контрольными группами 246 и 247 статистически не значимы. Можно сказать, что пользователи, пришедшие в A/B-тест, равномерно распределились, и мы можем делать сравнение любой из этих групп с группой с измененным шрифтом приложения."
   ]
  },
  {
   "cell_type": "markdown",
   "metadata": {},
   "source": [
    "***Проверим все три возможных комбинации А-групп и единственной B-группы:***"
   ]
  },
  {
   "cell_type": "code",
   "execution_count": 30,
   "metadata": {},
   "outputs": [
    {
     "name": "stdout",
     "output_type": "stream",
     "text": [
      "MainScreenAppear\n",
      "0.9863123993558777 0.9830508474576272\n",
      "p-значение:  0.34705881021236484\n",
      "Не получилось отвергнуть нулевую гипотезу по событию MainScreenAppear: нет оснований считать доли разными\n",
      " \n",
      "OffersScreenAppear\n",
      "0.6207729468599034 0.6034686637761135\n",
      "p-значение:  0.20836205402738917\n",
      "Не получилось отвергнуть нулевую гипотезу по событию OffersScreenAppear: нет оснований считать доли разными\n",
      " \n",
      "PaymentScreenSuccessful\n",
      "0.4830917874396135 0.4659046117461569\n",
      "p-значение:  0.22269358994682742\n",
      "Не получилось отвергнуть нулевую гипотезу по событию PaymentScreenSuccessful: нет оснований считать доли разными\n",
      " \n",
      "CartScreenAppear\n",
      "0.5096618357487923 0.48521876231769806\n",
      "p-значение:  0.08328412977507749\n",
      "Не получилось отвергнуть нулевую гипотезу по событию CartScreenAppear: нет оснований считать доли разными\n",
      " \n",
      "Tutorial\n",
      "0.11191626409017713 0.11076074103271581\n",
      "p-значение:  0.8964489622133207\n",
      "Не получилось отвергнуть нулевую гипотезу по событию Tutorial: нет оснований считать доли разными\n",
      " \n"
     ]
    }
   ],
   "source": [
    "stat_testing(logs_data, [246, 248], 0.05)"
   ]
  },
  {
   "cell_type": "markdown",
   "metadata": {},
   "source": [
    "Различия между экспериментальными группами 246 и 248 статистически не значимы."
   ]
  },
  {
   "cell_type": "code",
   "execution_count": 31,
   "metadata": {},
   "outputs": [
    {
     "name": "stdout",
     "output_type": "stream",
     "text": [
      "MainScreenAppear\n",
      "0.9849026618990863 0.9830508474576272\n",
      "p-значение:  0.6001661582453706\n",
      "Не получилось отвергнуть нулевую гипотезу по событию MainScreenAppear: нет оснований считать доли разными\n",
      " \n",
      "OffersScreenAppear\n",
      "0.6054827175208581 0.6034686637761135\n",
      "p-значение:  0.8835956656016957\n",
      "Не получилось отвергнуть нулевую гипотезу по событию OffersScreenAppear: нет оснований считать доли разными\n",
      " \n",
      "PaymentScreenSuccessful\n",
      "0.4600715137067938 0.4659046117461569\n",
      "p-значение:  0.6775413642906454\n",
      "Не получилось отвергнуть нулевую гипотезу по событию PaymentScreenSuccessful: нет оснований считать доли разными\n",
      " \n",
      "CartScreenAppear\n",
      "0.4922526817640048 0.48521876231769806\n",
      "p-значение:  0.6169517476996997\n",
      "Не получилось отвергнуть нулевую гипотезу по событию CartScreenAppear: нет оснований считать доли разными\n",
      " \n",
      "Tutorial\n",
      "0.11283273738577672 0.11076074103271581\n",
      "p-значение:  0.8151967015119994\n",
      "Не получилось отвергнуть нулевую гипотезу по событию Tutorial: нет оснований считать доли разными\n",
      " \n"
     ]
    }
   ],
   "source": [
    "stat_testing(logs_data, [247, 248], 0.05)"
   ]
  },
  {
   "cell_type": "markdown",
   "metadata": {},
   "source": [
    "Различия между экспериментальными группами 247 и 248 статистически не значимы."
   ]
  },
  {
   "cell_type": "code",
   "execution_count": 32,
   "metadata": {},
   "outputs": [
    {
     "data": {
      "text/plain": [
       "246    156849\n",
       "248     84875\n",
       "Name: exp_id, dtype: int64"
      ]
     },
     "execution_count": 32,
     "metadata": {},
     "output_type": "execute_result"
    }
   ],
   "source": [
    "# Объединим две контрольные А-группы\n",
    "logs_data_total = logs_data.copy()\n",
    "logs_data_total['exp_id'].replace({247: 246}, inplace=True)\n",
    "logs_data_total['exp_id'].value_counts()"
   ]
  },
  {
   "cell_type": "code",
   "execution_count": 33,
   "metadata": {},
   "outputs": [
    {
     "name": "stdout",
     "output_type": "stream",
     "text": [
      "MainScreenAppear\n",
      "0.9856028794241152 0.9830508474576272\n",
      "p-значение:  0.39298914928006035\n",
      "Не получилось отвергнуть нулевую гипотезу по событию MainScreenAppear: нет оснований считать доли разными\n",
      " \n",
      "OffersScreenAppear\n",
      "0.6130773845230953 0.6034686637761135\n",
      "p-значение:  0.418998284007599\n",
      "Не получилось отвергнуть нулевую гипотезу по событию OffersScreenAppear: нет оснований считать доли разными\n",
      " \n",
      "PaymentScreenSuccessful\n",
      "0.471505698860228 0.4659046117461569\n",
      "p-значение:  0.6452057673098244\n",
      "Не получилось отвергнуть нулевую гипотезу по событию PaymentScreenSuccessful: нет оснований считать доли разными\n",
      " \n",
      "CartScreenAppear\n",
      "0.5008998200359928 0.48521876231769806\n",
      "p-значение:  0.19819340844527744\n",
      "Не получилось отвергнуть нулевую гипотезу по событию CartScreenAppear: нет оснований считать доли разными\n",
      " \n",
      "Tutorial\n",
      "0.11237752449510098 0.11076074103271581\n",
      "p-значение:  0.8333049080125807\n",
      "Не получилось отвергнуть нулевую гипотезу по событию Tutorial: нет оснований считать доли разными\n",
      " \n"
     ]
    }
   ],
   "source": [
    "# Проверим статистически значимое различие в объединенной контрольной группе 246 и 248 группе\n",
    "stat_testing(logs_data_total, [246, 248], 0.05)"
   ]
  },
  {
   "cell_type": "markdown",
   "metadata": {},
   "source": [
    "Различия между объединенными контрольной группами 246-247 и группой 248 статистически не значимы."
   ]
  },
  {
   "cell_type": "markdown",
   "metadata": {},
   "source": [
    "#### Вывод:\n",
    "\n",
    "По результатам статистических тестов были сделаны следующие выводы:\n",
    "\n",
    "- Статистически значимого различия долей между контрольными группами А нет. Распределение на две группы А выполнено корректно.\n",
    "- Статистически значимого различия долей между первой контрольной группой А и группой B нет.\n",
    "- Статистически значимого различия долей между второй контрольной группой А и группой B нет.\n",
    "- Статистически значимого различия долей между объединенной контрольной группой А и группой B нет.\n",
    "\n",
    "Таким образом, различия между контрольными группами и группой с измененным шрифтом приложения отсутствуют."
   ]
  },
  {
   "cell_type": "markdown",
   "metadata": {},
   "source": [
    "### Общий вывод"
   ]
  },
  {
   "cell_type": "markdown",
   "metadata": {},
   "source": [
    "В работе были изучены исходные данные о событиях пользователей в мобильном приложении стартапа, который продает продукты питания. Во время предобработки данных были удалены дубликаты, названия столбцов были приведены к змеиному регистру, добавлены столбцы с датой и временем. \n",
    "\n",
    "Во время анализа событий в логе было обнаружено:\n",
    "\n",
    "- Общее количество событий в логе - 243713\n",
    "- Всего пользователей в логе - 7551\n",
    "- Среднее количество событий на пользователя - 32\n",
    "\n",
    "В процессе анализа было обнаружено, что 31 июля 2019 года в 21:00 произошел всплеск количества событий. Это может быть связано с запуском теста. Данные, которые были до этого времени, удалены. В итоге получились следующие результаты показателей:\n",
    "\n",
    "- Общее количество событий в логе после удаления старых данных - 241724\n",
    "- Всего пользователей в логе после удаления старых данных - 7538\n",
    "- Доля удаленных данных о событиях от общего количества событий - 0.82%\n",
    "- Доля удаленных пользователей от общего числа пользователей - 0.17%\n",
    "\n",
    "На этапе изучения воронки событий были сделаны следующие выводы:\n",
    "\n",
    "- 1% пользователей даже не дошли до главной страницы. Возможно у них возникли какие-то технические проблемы.\n",
    "- На первом шаге теряется больше всего пользователей: 37% от изначальных пользователей.\n",
    "- От первого события до оплаты доходит 47% от изначального количества пользователей.\n",
    "\n",
    "В результате проведения анализа результатов эксперимента можно сделать следующие выводы:\n",
    "\n",
    "- На первом шаге теряется больше всего пользователей: до второго шага (OffersScreenAppear - показ страницы с предложениями) доходят только 61% от изначальных пользователей, 38% пользователей теряется. От первого события до оплаты доходит примерно 47% пользователей. Таким образом, очень важно работать над тем, чтобы пользователь дошел до второго шага.\n",
    "\n",
    "- В результате статистического сравнения выяснилось, что нет различий между контрольными группами и группой с измененным шрифтом. Таким образом, можно остановить тест и признать его успешным.\n",
    "\n",
    "В конце каждого этапа написаны выводы, с которыми можно ознакомиться."
   ]
  }
 ],
 "metadata": {
  "ExecuteTimeLog": [
   {
    "duration": 1218,
    "start_time": "2023-04-18T00:24:47.954Z"
   },
   {
    "duration": 234,
    "start_time": "2023-04-18T00:24:49.174Z"
   },
   {
    "duration": 13,
    "start_time": "2023-04-18T00:24:49.410Z"
   },
   {
    "duration": 38,
    "start_time": "2023-04-18T00:24:49.424Z"
   },
   {
    "duration": 91,
    "start_time": "2023-04-18T00:24:49.464Z"
   },
   {
    "duration": 35,
    "start_time": "2023-04-18T00:24:49.560Z"
   },
   {
    "duration": 245,
    "start_time": "2023-04-18T00:24:49.600Z"
   },
   {
    "duration": 20,
    "start_time": "2023-04-18T00:24:49.846Z"
   },
   {
    "duration": 73,
    "start_time": "2023-04-18T00:24:49.876Z"
   },
   {
    "duration": 11,
    "start_time": "2023-04-18T00:24:49.951Z"
   },
   {
    "duration": 37,
    "start_time": "2023-04-18T00:24:49.972Z"
   },
   {
    "duration": 46,
    "start_time": "2023-04-18T00:24:50.010Z"
   },
   {
    "duration": 670,
    "start_time": "2023-04-18T00:24:50.060Z"
   },
   {
    "duration": 885,
    "start_time": "2023-04-18T00:24:50.736Z"
   },
   {
    "duration": 31,
    "start_time": "2023-04-18T00:24:51.623Z"
   },
   {
    "duration": 42,
    "start_time": "2023-04-18T00:24:51.667Z"
   },
   {
    "duration": 18,
    "start_time": "2023-04-18T00:24:51.711Z"
   },
   {
    "duration": 66,
    "start_time": "2023-04-18T00:24:51.730Z"
   },
   {
    "duration": 73,
    "start_time": "2023-04-18T00:24:51.804Z"
   },
   {
    "duration": 21,
    "start_time": "2023-04-18T00:24:51.882Z"
   },
   {
    "duration": 22,
    "start_time": "2023-04-18T00:24:51.905Z"
   },
   {
    "duration": 73,
    "start_time": "2023-04-18T00:24:51.928Z"
   },
   {
    "duration": 29,
    "start_time": "2023-04-18T00:24:52.003Z"
   },
   {
    "duration": 8,
    "start_time": "2023-04-18T00:24:52.034Z"
   },
   {
    "duration": 166,
    "start_time": "2023-04-18T00:24:52.043Z"
   },
   {
    "duration": 5,
    "start_time": "2023-04-18T00:24:52.210Z"
   },
   {
    "duration": 199,
    "start_time": "2023-04-18T00:24:52.217Z"
   },
   {
    "duration": 164,
    "start_time": "2023-04-18T00:24:52.417Z"
   },
   {
    "duration": 180,
    "start_time": "2023-04-18T00:24:52.582Z"
   },
   {
    "duration": 21,
    "start_time": "2023-04-18T00:24:52.765Z"
   },
   {
    "duration": 216,
    "start_time": "2023-04-18T00:24:52.787Z"
   },
   {
    "duration": 29,
    "start_time": "2023-04-18T00:28:19.381Z"
   },
   {
    "duration": 10,
    "start_time": "2023-04-18T00:35:19.518Z"
   },
   {
    "duration": 10,
    "start_time": "2023-04-18T00:35:28.562Z"
   },
   {
    "duration": 12,
    "start_time": "2023-04-18T00:35:33.458Z"
   },
   {
    "duration": 1215,
    "start_time": "2023-04-18T00:58:19.380Z"
   },
   {
    "duration": 204,
    "start_time": "2023-04-18T00:58:20.597Z"
   },
   {
    "duration": 12,
    "start_time": "2023-04-18T00:58:20.802Z"
   },
   {
    "duration": 36,
    "start_time": "2023-04-18T00:58:20.815Z"
   },
   {
    "duration": 104,
    "start_time": "2023-04-18T00:58:20.854Z"
   },
   {
    "duration": 31,
    "start_time": "2023-04-18T00:58:20.960Z"
   },
   {
    "duration": 375,
    "start_time": "2023-04-18T00:58:20.993Z"
   },
   {
    "duration": 10,
    "start_time": "2023-04-18T00:58:21.375Z"
   },
   {
    "duration": 96,
    "start_time": "2023-04-18T00:58:21.390Z"
   },
   {
    "duration": 14,
    "start_time": "2023-04-18T00:58:21.488Z"
   },
   {
    "duration": 13,
    "start_time": "2023-04-18T00:58:21.504Z"
   },
   {
    "duration": 29,
    "start_time": "2023-04-18T00:58:21.519Z"
   },
   {
    "duration": 646,
    "start_time": "2023-04-18T00:58:21.549Z"
   },
   {
    "duration": 857,
    "start_time": "2023-04-18T00:58:22.198Z"
   },
   {
    "duration": 21,
    "start_time": "2023-04-18T00:58:23.057Z"
   },
   {
    "duration": 24,
    "start_time": "2023-04-18T00:58:23.080Z"
   },
   {
    "duration": 8,
    "start_time": "2023-04-18T00:58:23.106Z"
   },
   {
    "duration": 75,
    "start_time": "2023-04-18T00:58:23.116Z"
   },
   {
    "duration": 78,
    "start_time": "2023-04-18T00:58:23.192Z"
   },
   {
    "duration": 16,
    "start_time": "2023-04-18T00:58:23.275Z"
   },
   {
    "duration": 20,
    "start_time": "2023-04-18T00:58:23.294Z"
   },
   {
    "duration": 52,
    "start_time": "2023-04-18T00:58:23.316Z"
   },
   {
    "duration": 35,
    "start_time": "2023-04-18T00:58:23.370Z"
   },
   {
    "duration": 4,
    "start_time": "2023-04-18T00:58:23.407Z"
   },
   {
    "duration": 102,
    "start_time": "2023-04-18T00:58:23.412Z"
   },
   {
    "duration": 6,
    "start_time": "2023-04-18T00:58:23.516Z"
   },
   {
    "duration": 182,
    "start_time": "2023-04-18T00:58:23.524Z"
   },
   {
    "duration": 184,
    "start_time": "2023-04-18T00:58:23.708Z"
   },
   {
    "duration": 166,
    "start_time": "2023-04-18T00:58:23.895Z"
   },
   {
    "duration": 15,
    "start_time": "2023-04-18T00:58:24.065Z"
   },
   {
    "duration": 194,
    "start_time": "2023-04-18T00:58:24.082Z"
   },
   {
    "duration": 53,
    "start_time": "2023-04-18T07:46:08.276Z"
   },
   {
    "duration": 1432,
    "start_time": "2023-04-18T07:46:14.836Z"
   },
   {
    "duration": 548,
    "start_time": "2023-04-18T07:46:16.271Z"
   },
   {
    "duration": 16,
    "start_time": "2023-04-18T07:46:16.821Z"
   },
   {
    "duration": 28,
    "start_time": "2023-04-18T07:46:16.839Z"
   },
   {
    "duration": 71,
    "start_time": "2023-04-18T07:46:16.869Z"
   },
   {
    "duration": 24,
    "start_time": "2023-04-18T07:46:16.942Z"
   },
   {
    "duration": 241,
    "start_time": "2023-04-18T07:46:16.968Z"
   },
   {
    "duration": 18,
    "start_time": "2023-04-18T07:46:17.211Z"
   },
   {
    "duration": 1702,
    "start_time": "2023-04-18T07:46:17.231Z"
   },
   {
    "duration": 0,
    "start_time": "2023-04-18T07:46:18.937Z"
   },
   {
    "duration": 0,
    "start_time": "2023-04-18T07:46:18.939Z"
   },
   {
    "duration": 0,
    "start_time": "2023-04-18T07:46:18.941Z"
   },
   {
    "duration": 0,
    "start_time": "2023-04-18T07:46:18.943Z"
   },
   {
    "duration": 0,
    "start_time": "2023-04-18T07:46:18.944Z"
   },
   {
    "duration": 0,
    "start_time": "2023-04-18T07:46:18.946Z"
   },
   {
    "duration": 0,
    "start_time": "2023-04-18T07:46:18.947Z"
   },
   {
    "duration": 0,
    "start_time": "2023-04-18T07:46:18.949Z"
   },
   {
    "duration": 0,
    "start_time": "2023-04-18T07:46:18.950Z"
   },
   {
    "duration": 0,
    "start_time": "2023-04-18T07:46:18.953Z"
   },
   {
    "duration": 0,
    "start_time": "2023-04-18T07:46:18.954Z"
   },
   {
    "duration": 0,
    "start_time": "2023-04-18T07:46:18.955Z"
   },
   {
    "duration": 0,
    "start_time": "2023-04-18T07:46:18.956Z"
   },
   {
    "duration": 0,
    "start_time": "2023-04-18T07:46:18.958Z"
   },
   {
    "duration": 0,
    "start_time": "2023-04-18T07:46:18.959Z"
   },
   {
    "duration": 0,
    "start_time": "2023-04-18T07:46:18.960Z"
   },
   {
    "duration": 1,
    "start_time": "2023-04-18T07:46:18.962Z"
   },
   {
    "duration": 0,
    "start_time": "2023-04-18T07:46:18.964Z"
   },
   {
    "duration": 0,
    "start_time": "2023-04-18T07:46:18.966Z"
   },
   {
    "duration": 0,
    "start_time": "2023-04-18T07:46:18.967Z"
   },
   {
    "duration": 0,
    "start_time": "2023-04-18T07:46:18.968Z"
   },
   {
    "duration": 0,
    "start_time": "2023-04-18T07:46:18.970Z"
   },
   {
    "duration": 13,
    "start_time": "2023-04-18T07:46:45.555Z"
   },
   {
    "duration": 10,
    "start_time": "2023-04-18T07:46:53.304Z"
   },
   {
    "duration": 12,
    "start_time": "2023-04-18T07:46:58.205Z"
   },
   {
    "duration": 1199,
    "start_time": "2023-04-18T07:47:05.122Z"
   },
   {
    "duration": 179,
    "start_time": "2023-04-18T07:47:06.324Z"
   },
   {
    "duration": 17,
    "start_time": "2023-04-18T07:47:06.506Z"
   },
   {
    "duration": 25,
    "start_time": "2023-04-18T07:47:06.526Z"
   },
   {
    "duration": 85,
    "start_time": "2023-04-18T07:47:06.553Z"
   },
   {
    "duration": 16,
    "start_time": "2023-04-18T07:47:06.640Z"
   },
   {
    "duration": 268,
    "start_time": "2023-04-18T07:47:06.658Z"
   },
   {
    "duration": 8,
    "start_time": "2023-04-18T07:47:06.928Z"
   },
   {
    "duration": 85,
    "start_time": "2023-04-18T07:47:06.939Z"
   },
   {
    "duration": 4,
    "start_time": "2023-04-18T07:47:07.026Z"
   },
   {
    "duration": 21,
    "start_time": "2023-04-18T07:47:07.032Z"
   },
   {
    "duration": 48,
    "start_time": "2023-04-18T07:47:07.055Z"
   },
   {
    "duration": 605,
    "start_time": "2023-04-18T07:47:07.105Z"
   },
   {
    "duration": 910,
    "start_time": "2023-04-18T07:47:07.714Z"
   },
   {
    "duration": 19,
    "start_time": "2023-04-18T07:47:08.626Z"
   },
   {
    "duration": 11,
    "start_time": "2023-04-18T07:47:08.647Z"
   },
   {
    "duration": 36,
    "start_time": "2023-04-18T07:47:08.660Z"
   },
   {
    "duration": 32,
    "start_time": "2023-04-18T07:47:08.698Z"
   },
   {
    "duration": 76,
    "start_time": "2023-04-18T07:47:08.731Z"
   },
   {
    "duration": 16,
    "start_time": "2023-04-18T07:47:08.809Z"
   },
   {
    "duration": 24,
    "start_time": "2023-04-18T07:47:08.827Z"
   },
   {
    "duration": 56,
    "start_time": "2023-04-18T07:47:08.853Z"
   },
   {
    "duration": 35,
    "start_time": "2023-04-18T07:47:08.911Z"
   },
   {
    "duration": 5,
    "start_time": "2023-04-18T07:47:08.947Z"
   },
   {
    "duration": 99,
    "start_time": "2023-04-18T07:47:08.954Z"
   },
   {
    "duration": 7,
    "start_time": "2023-04-18T07:47:09.055Z"
   },
   {
    "duration": 171,
    "start_time": "2023-04-18T07:47:09.064Z"
   },
   {
    "duration": 171,
    "start_time": "2023-04-18T07:47:09.237Z"
   },
   {
    "duration": 166,
    "start_time": "2023-04-18T07:47:09.409Z"
   },
   {
    "duration": 15,
    "start_time": "2023-04-18T07:47:09.588Z"
   },
   {
    "duration": 193,
    "start_time": "2023-04-18T07:47:09.605Z"
   },
   {
    "duration": 106,
    "start_time": "2023-04-18T07:49:41.506Z"
   },
   {
    "duration": 65,
    "start_time": "2023-04-18T07:50:49.307Z"
   },
   {
    "duration": 1220,
    "start_time": "2023-04-18T08:01:19.602Z"
   },
   {
    "duration": 207,
    "start_time": "2023-04-18T08:01:20.825Z"
   },
   {
    "duration": 15,
    "start_time": "2023-04-18T08:01:21.034Z"
   },
   {
    "duration": 30,
    "start_time": "2023-04-18T08:01:21.051Z"
   },
   {
    "duration": 80,
    "start_time": "2023-04-18T08:01:21.089Z"
   },
   {
    "duration": 43,
    "start_time": "2023-04-18T08:01:21.172Z"
   },
   {
    "duration": 244,
    "start_time": "2023-04-18T08:01:21.218Z"
   },
   {
    "duration": 8,
    "start_time": "2023-04-18T08:01:21.464Z"
   },
   {
    "duration": 74,
    "start_time": "2023-04-18T08:01:21.473Z"
   },
   {
    "duration": 91,
    "start_time": "2023-04-18T08:01:21.548Z"
   },
   {
    "duration": 4,
    "start_time": "2023-04-18T08:01:21.640Z"
   },
   {
    "duration": 13,
    "start_time": "2023-04-18T08:01:21.645Z"
   },
   {
    "duration": 54,
    "start_time": "2023-04-18T08:01:21.660Z"
   },
   {
    "duration": 575,
    "start_time": "2023-04-18T08:01:21.718Z"
   },
   {
    "duration": 883,
    "start_time": "2023-04-18T08:01:22.295Z"
   },
   {
    "duration": 21,
    "start_time": "2023-04-18T08:01:23.180Z"
   },
   {
    "duration": 18,
    "start_time": "2023-04-18T08:01:23.204Z"
   },
   {
    "duration": 19,
    "start_time": "2023-04-18T08:01:23.224Z"
   },
   {
    "duration": 32,
    "start_time": "2023-04-18T08:01:23.245Z"
   },
   {
    "duration": 84,
    "start_time": "2023-04-18T08:01:23.279Z"
   },
   {
    "duration": 12,
    "start_time": "2023-04-18T08:01:23.364Z"
   },
   {
    "duration": 11,
    "start_time": "2023-04-18T08:01:23.387Z"
   },
   {
    "duration": 54,
    "start_time": "2023-04-18T08:01:23.399Z"
   },
   {
    "duration": 32,
    "start_time": "2023-04-18T08:01:23.455Z"
   },
   {
    "duration": 8,
    "start_time": "2023-04-18T08:01:23.489Z"
   },
   {
    "duration": 93,
    "start_time": "2023-04-18T08:01:23.500Z"
   },
   {
    "duration": 12,
    "start_time": "2023-04-18T08:01:23.595Z"
   },
   {
    "duration": 184,
    "start_time": "2023-04-18T08:01:23.609Z"
   },
   {
    "duration": 170,
    "start_time": "2023-04-18T08:01:23.795Z"
   },
   {
    "duration": 172,
    "start_time": "2023-04-18T08:01:23.967Z"
   },
   {
    "duration": 14,
    "start_time": "2023-04-18T08:01:24.141Z"
   },
   {
    "duration": 199,
    "start_time": "2023-04-18T08:01:24.156Z"
   },
   {
    "duration": 167,
    "start_time": "2023-04-18T08:06:31.214Z"
   },
   {
    "duration": 70,
    "start_time": "2023-04-18T08:06:42.020Z"
   },
   {
    "duration": 63,
    "start_time": "2023-04-18T08:06:45.547Z"
   },
   {
    "duration": 5,
    "start_time": "2023-04-18T08:07:59.068Z"
   },
   {
    "duration": 10,
    "start_time": "2023-04-18T08:09:09.085Z"
   },
   {
    "duration": 12,
    "start_time": "2023-04-18T08:09:21.814Z"
   },
   {
    "duration": 1221,
    "start_time": "2023-04-18T08:10:37.164Z"
   },
   {
    "duration": 177,
    "start_time": "2023-04-18T08:10:38.387Z"
   },
   {
    "duration": 15,
    "start_time": "2023-04-18T08:10:38.566Z"
   },
   {
    "duration": 30,
    "start_time": "2023-04-18T08:10:38.588Z"
   },
   {
    "duration": 106,
    "start_time": "2023-04-18T08:10:38.620Z"
   },
   {
    "duration": 154,
    "start_time": "2023-04-18T08:10:38.728Z"
   },
   {
    "duration": 221,
    "start_time": "2023-04-18T08:10:38.884Z"
   },
   {
    "duration": 8,
    "start_time": "2023-04-18T08:10:39.107Z"
   },
   {
    "duration": 71,
    "start_time": "2023-04-18T08:10:39.117Z"
   },
   {
    "duration": 97,
    "start_time": "2023-04-18T08:10:39.192Z"
   },
   {
    "duration": 5,
    "start_time": "2023-04-18T08:10:39.291Z"
   },
   {
    "duration": 41,
    "start_time": "2023-04-18T08:10:39.298Z"
   },
   {
    "duration": 48,
    "start_time": "2023-04-18T08:10:39.342Z"
   },
   {
    "duration": 628,
    "start_time": "2023-04-18T08:10:39.392Z"
   },
   {
    "duration": 939,
    "start_time": "2023-04-18T08:10:40.022Z"
   },
   {
    "duration": 14,
    "start_time": "2023-04-18T08:10:40.962Z"
   },
   {
    "duration": 11,
    "start_time": "2023-04-18T08:10:40.987Z"
   },
   {
    "duration": 10,
    "start_time": "2023-04-18T08:10:41.000Z"
   },
   {
    "duration": 25,
    "start_time": "2023-04-18T08:10:41.011Z"
   },
   {
    "duration": 84,
    "start_time": "2023-04-18T08:10:41.037Z"
   },
   {
    "duration": 73,
    "start_time": "2023-04-18T08:10:41.123Z"
   },
   {
    "duration": 12,
    "start_time": "2023-04-18T08:10:41.198Z"
   },
   {
    "duration": 23,
    "start_time": "2023-04-18T08:10:41.212Z"
   },
   {
    "duration": 44,
    "start_time": "2023-04-18T08:10:41.237Z"
   },
   {
    "duration": 61,
    "start_time": "2023-04-18T08:10:41.283Z"
   },
   {
    "duration": 33,
    "start_time": "2023-04-18T08:10:41.345Z"
   },
   {
    "duration": 4,
    "start_time": "2023-04-18T08:10:41.380Z"
   },
   {
    "duration": 84,
    "start_time": "2023-04-18T08:10:41.388Z"
   },
   {
    "duration": 17,
    "start_time": "2023-04-18T08:10:41.474Z"
   },
   {
    "duration": 169,
    "start_time": "2023-04-18T08:10:41.493Z"
   },
   {
    "duration": 174,
    "start_time": "2023-04-18T08:10:41.664Z"
   },
   {
    "duration": 174,
    "start_time": "2023-04-18T08:10:41.840Z"
   },
   {
    "duration": 15,
    "start_time": "2023-04-18T08:10:42.015Z"
   },
   {
    "duration": 195,
    "start_time": "2023-04-18T08:10:42.032Z"
   },
   {
    "duration": 14,
    "start_time": "2023-04-18T08:10:51.021Z"
   },
   {
    "duration": 5,
    "start_time": "2023-04-18T08:11:59.310Z"
   },
   {
    "duration": 6,
    "start_time": "2023-04-18T08:12:05.981Z"
   },
   {
    "duration": 52,
    "start_time": "2023-04-18T22:43:14.684Z"
   },
   {
    "duration": 1246,
    "start_time": "2023-04-18T22:43:20.365Z"
   },
   {
    "duration": 702,
    "start_time": "2023-04-18T22:43:21.613Z"
   },
   {
    "duration": 13,
    "start_time": "2023-04-18T22:43:22.316Z"
   },
   {
    "duration": 65,
    "start_time": "2023-04-18T22:43:22.331Z"
   },
   {
    "duration": 105,
    "start_time": "2023-04-18T22:43:22.398Z"
   },
   {
    "duration": 23,
    "start_time": "2023-04-18T22:43:22.505Z"
   },
   {
    "duration": 279,
    "start_time": "2023-04-18T22:43:22.530Z"
   },
   {
    "duration": 5,
    "start_time": "2023-04-18T22:43:22.811Z"
   },
   {
    "duration": 73,
    "start_time": "2023-04-18T22:43:22.818Z"
   },
   {
    "duration": 80,
    "start_time": "2023-04-18T22:43:22.894Z"
   },
   {
    "duration": 3,
    "start_time": "2023-04-18T22:43:22.976Z"
   },
   {
    "duration": 26,
    "start_time": "2023-04-18T22:43:22.980Z"
   },
   {
    "duration": 41,
    "start_time": "2023-04-18T22:43:23.007Z"
   },
   {
    "duration": 568,
    "start_time": "2023-04-18T22:43:23.049Z"
   },
   {
    "duration": 813,
    "start_time": "2023-04-18T22:43:23.619Z"
   },
   {
    "duration": 27,
    "start_time": "2023-04-18T22:43:24.433Z"
   },
   {
    "duration": 28,
    "start_time": "2023-04-18T22:43:24.467Z"
   },
   {
    "duration": 7,
    "start_time": "2023-04-18T22:43:24.497Z"
   },
   {
    "duration": 20,
    "start_time": "2023-04-18T22:43:24.505Z"
   },
   {
    "duration": 78,
    "start_time": "2023-04-18T22:43:24.527Z"
   },
   {
    "duration": 72,
    "start_time": "2023-04-18T22:43:24.606Z"
   },
   {
    "duration": 13,
    "start_time": "2023-04-18T22:43:24.687Z"
   },
   {
    "duration": 162,
    "start_time": "2023-04-18T22:43:24.702Z"
   },
   {
    "duration": 0,
    "start_time": "2023-04-18T22:43:24.874Z"
   },
   {
    "duration": 0,
    "start_time": "2023-04-18T22:43:24.875Z"
   },
   {
    "duration": 0,
    "start_time": "2023-04-18T22:43:24.877Z"
   },
   {
    "duration": 0,
    "start_time": "2023-04-18T22:43:24.879Z"
   },
   {
    "duration": 0,
    "start_time": "2023-04-18T22:43:24.880Z"
   },
   {
    "duration": 0,
    "start_time": "2023-04-18T22:43:24.881Z"
   },
   {
    "duration": 0,
    "start_time": "2023-04-18T22:43:24.883Z"
   },
   {
    "duration": 0,
    "start_time": "2023-04-18T22:43:24.893Z"
   },
   {
    "duration": 0,
    "start_time": "2023-04-18T22:43:24.894Z"
   },
   {
    "duration": 0,
    "start_time": "2023-04-18T22:43:24.895Z"
   },
   {
    "duration": 0,
    "start_time": "2023-04-18T22:43:24.896Z"
   },
   {
    "duration": 46,
    "start_time": "2023-04-18T22:45:13.736Z"
   },
   {
    "duration": 46,
    "start_time": "2023-04-18T22:45:20.518Z"
   },
   {
    "duration": 37,
    "start_time": "2023-04-18T22:45:28.956Z"
   },
   {
    "duration": 74,
    "start_time": "2023-04-18T22:46:24.927Z"
   },
   {
    "duration": 64,
    "start_time": "2023-04-18T22:46:30.128Z"
   },
   {
    "duration": 45,
    "start_time": "2023-04-18T22:47:09.105Z"
   },
   {
    "duration": 7,
    "start_time": "2023-04-18T22:47:33.559Z"
   },
   {
    "duration": 65,
    "start_time": "2023-04-18T22:47:39.899Z"
   },
   {
    "duration": 91,
    "start_time": "2023-04-18T22:48:38.235Z"
   },
   {
    "duration": 58,
    "start_time": "2023-04-18T22:49:17.622Z"
   },
   {
    "duration": 41,
    "start_time": "2023-04-18T22:49:24.273Z"
   },
   {
    "duration": 66,
    "start_time": "2023-04-18T22:49:42.935Z"
   },
   {
    "duration": 46,
    "start_time": "2023-04-18T22:49:46.776Z"
   },
   {
    "duration": 59,
    "start_time": "2023-04-18T22:49:51.258Z"
   },
   {
    "duration": 44,
    "start_time": "2023-04-18T22:50:00.398Z"
   },
   {
    "duration": 44,
    "start_time": "2023-04-18T22:50:05.078Z"
   },
   {
    "duration": 54,
    "start_time": "2023-04-18T22:50:26.615Z"
   },
   {
    "duration": 53,
    "start_time": "2023-04-18T22:50:39.096Z"
   },
   {
    "duration": 128,
    "start_time": "2023-04-18T22:50:47.662Z"
   },
   {
    "duration": 54,
    "start_time": "2023-04-18T22:50:50.455Z"
   },
   {
    "duration": 115,
    "start_time": "2023-04-18T22:50:56.813Z"
   },
   {
    "duration": 104,
    "start_time": "2023-04-18T22:51:04.064Z"
   },
   {
    "duration": 58,
    "start_time": "2023-04-18T22:51:07.016Z"
   },
   {
    "duration": 12,
    "start_time": "2023-04-18T22:52:31.385Z"
   },
   {
    "duration": 456,
    "start_time": "2023-04-18T22:53:19.064Z"
   },
   {
    "duration": 41,
    "start_time": "2023-04-18T22:53:25.382Z"
   },
   {
    "duration": 22,
    "start_time": "2023-04-18T22:53:29.134Z"
   },
   {
    "duration": 11,
    "start_time": "2023-04-18T22:53:31.832Z"
   },
   {
    "duration": 5,
    "start_time": "2023-04-18T22:57:19.978Z"
   },
   {
    "duration": 8,
    "start_time": "2023-04-18T22:57:53.417Z"
   },
   {
    "duration": 22,
    "start_time": "2023-04-18T22:58:25.233Z"
   },
   {
    "duration": 109,
    "start_time": "2023-04-18T22:59:14.179Z"
   },
   {
    "duration": 101,
    "start_time": "2023-04-18T22:59:18.280Z"
   },
   {
    "duration": 8,
    "start_time": "2023-04-18T22:59:28.723Z"
   },
   {
    "duration": 9,
    "start_time": "2023-04-18T22:59:35.715Z"
   },
   {
    "duration": 25,
    "start_time": "2023-04-18T22:59:40.131Z"
   },
   {
    "duration": 9,
    "start_time": "2023-04-18T22:59:47.202Z"
   },
   {
    "duration": 1872,
    "start_time": "2023-04-18T23:02:55.553Z"
   },
   {
    "duration": 1800,
    "start_time": "2023-04-18T23:03:07.064Z"
   },
   {
    "duration": 14,
    "start_time": "2023-04-18T23:03:17.687Z"
   },
   {
    "duration": 18,
    "start_time": "2023-04-18T23:03:46.265Z"
   },
   {
    "duration": 1741,
    "start_time": "2023-04-18T23:04:18.754Z"
   },
   {
    "duration": 1583,
    "start_time": "2023-04-18T23:04:22.354Z"
   },
   {
    "duration": 1748,
    "start_time": "2023-04-18T23:04:33.209Z"
   },
   {
    "duration": 1692,
    "start_time": "2023-04-18T23:04:43.263Z"
   },
   {
    "duration": 10,
    "start_time": "2023-04-18T23:05:12.672Z"
   },
   {
    "duration": 8,
    "start_time": "2023-04-18T23:05:16.020Z"
   },
   {
    "duration": 9,
    "start_time": "2023-04-18T23:05:26.622Z"
   },
   {
    "duration": 21,
    "start_time": "2023-04-18T23:05:29.155Z"
   },
   {
    "duration": 23,
    "start_time": "2023-04-18T23:05:33.174Z"
   },
   {
    "duration": 17,
    "start_time": "2023-04-18T23:05:48.889Z"
   },
   {
    "duration": 15,
    "start_time": "2023-04-18T23:05:53.220Z"
   },
   {
    "duration": 9,
    "start_time": "2023-04-18T23:06:00.706Z"
   },
   {
    "duration": 1503,
    "start_time": "2023-04-19T06:24:14.762Z"
   },
   {
    "duration": 265,
    "start_time": "2023-04-19T06:24:16.267Z"
   },
   {
    "duration": 28,
    "start_time": "2023-04-19T06:24:16.541Z"
   },
   {
    "duration": 114,
    "start_time": "2023-04-19T06:24:16.586Z"
   },
   {
    "duration": 115,
    "start_time": "2023-04-19T06:24:16.711Z"
   },
   {
    "duration": 32,
    "start_time": "2023-04-19T06:24:16.842Z"
   },
   {
    "duration": 358,
    "start_time": "2023-04-19T06:24:16.876Z"
   },
   {
    "duration": 9,
    "start_time": "2023-04-19T06:24:17.236Z"
   },
   {
    "duration": 114,
    "start_time": "2023-04-19T06:24:17.247Z"
   },
   {
    "duration": 113,
    "start_time": "2023-04-19T06:24:17.370Z"
   },
   {
    "duration": 28,
    "start_time": "2023-04-19T06:24:17.485Z"
   },
   {
    "duration": 42,
    "start_time": "2023-04-19T06:24:17.526Z"
   },
   {
    "duration": 37,
    "start_time": "2023-04-19T06:24:17.570Z"
   },
   {
    "duration": 1004,
    "start_time": "2023-04-19T06:24:17.616Z"
   },
   {
    "duration": 1072,
    "start_time": "2023-04-19T06:24:18.626Z"
   },
   {
    "duration": 19,
    "start_time": "2023-04-19T06:24:19.700Z"
   },
   {
    "duration": 56,
    "start_time": "2023-04-19T06:24:19.721Z"
   },
   {
    "duration": 80,
    "start_time": "2023-04-19T06:24:19.779Z"
   },
   {
    "duration": 29,
    "start_time": "2023-04-19T06:24:19.862Z"
   },
   {
    "duration": 114,
    "start_time": "2023-04-19T06:24:19.893Z"
   },
   {
    "duration": 187,
    "start_time": "2023-04-19T06:24:20.009Z"
   },
   {
    "duration": 15,
    "start_time": "2023-04-19T06:24:20.198Z"
   },
   {
    "duration": 65,
    "start_time": "2023-04-19T06:24:20.215Z"
   },
   {
    "duration": 50,
    "start_time": "2023-04-19T06:24:20.281Z"
   },
   {
    "duration": 120,
    "start_time": "2023-04-19T06:24:20.333Z"
   },
   {
    "duration": 31,
    "start_time": "2023-04-19T06:24:20.455Z"
   },
   {
    "duration": 192,
    "start_time": "2023-04-19T06:24:20.491Z"
   },
   {
    "duration": 31,
    "start_time": "2023-04-19T06:24:20.688Z"
   },
   {
    "duration": 381,
    "start_time": "2023-04-19T06:24:20.726Z"
   },
   {
    "duration": 215,
    "start_time": "2023-04-19T06:24:21.108Z"
   },
   {
    "duration": 250,
    "start_time": "2023-04-19T06:24:21.325Z"
   },
   {
    "duration": 48,
    "start_time": "2023-04-19T06:24:21.581Z"
   },
   {
    "duration": 293,
    "start_time": "2023-04-19T06:24:21.631Z"
   },
   {
    "duration": 1501,
    "start_time": "2023-04-19T06:32:25.452Z"
   },
   {
    "duration": 288,
    "start_time": "2023-04-19T06:32:26.974Z"
   },
   {
    "duration": 18,
    "start_time": "2023-04-19T06:32:27.264Z"
   },
   {
    "duration": 90,
    "start_time": "2023-04-19T06:32:27.284Z"
   },
   {
    "duration": 104,
    "start_time": "2023-04-19T06:32:27.378Z"
   },
   {
    "duration": 29,
    "start_time": "2023-04-19T06:32:27.484Z"
   },
   {
    "duration": 338,
    "start_time": "2023-04-19T06:32:27.515Z"
   },
   {
    "duration": 12,
    "start_time": "2023-04-19T06:32:27.855Z"
   },
   {
    "duration": 96,
    "start_time": "2023-04-19T06:32:27.869Z"
   },
   {
    "duration": 115,
    "start_time": "2023-04-19T06:32:27.970Z"
   },
   {
    "duration": 7,
    "start_time": "2023-04-19T06:32:28.087Z"
   },
   {
    "duration": 145,
    "start_time": "2023-04-19T06:32:28.096Z"
   },
   {
    "duration": 56,
    "start_time": "2023-04-19T06:32:28.247Z"
   },
   {
    "duration": 808,
    "start_time": "2023-04-19T06:32:28.320Z"
   },
   {
    "duration": 1329,
    "start_time": "2023-04-19T06:32:29.130Z"
   },
   {
    "duration": 26,
    "start_time": "2023-04-19T06:32:30.465Z"
   },
   {
    "duration": 157,
    "start_time": "2023-04-19T06:32:30.503Z"
   },
   {
    "duration": 114,
    "start_time": "2023-04-19T06:32:30.672Z"
   },
   {
    "duration": 274,
    "start_time": "2023-04-19T06:32:30.789Z"
   },
   {
    "duration": 65,
    "start_time": "2023-04-19T06:32:31.073Z"
   },
   {
    "duration": 327,
    "start_time": "2023-04-19T06:32:31.141Z"
   },
   {
    "duration": 24,
    "start_time": "2023-04-19T06:32:31.478Z"
   },
   {
    "duration": 102,
    "start_time": "2023-04-19T06:32:31.504Z"
   },
   {
    "duration": 212,
    "start_time": "2023-04-19T06:32:31.617Z"
   },
   {
    "duration": 74,
    "start_time": "2023-04-19T06:32:31.832Z"
   },
   {
    "duration": 74,
    "start_time": "2023-04-19T06:32:31.910Z"
   },
   {
    "duration": 270,
    "start_time": "2023-04-19T06:32:31.987Z"
   },
   {
    "duration": 15,
    "start_time": "2023-04-19T06:32:32.269Z"
   },
   {
    "duration": 366,
    "start_time": "2023-04-19T06:32:32.286Z"
   },
   {
    "duration": 245,
    "start_time": "2023-04-19T06:32:32.654Z"
   },
   {
    "duration": 312,
    "start_time": "2023-04-19T06:32:32.906Z"
   },
   {
    "duration": 33,
    "start_time": "2023-04-19T06:32:33.224Z"
   },
   {
    "duration": 328,
    "start_time": "2023-04-19T06:32:33.263Z"
   }
  ],
  "kernelspec": {
   "display_name": "Python 3 (ipykernel)",
   "language": "python",
   "name": "python3"
  },
  "language_info": {
   "codemirror_mode": {
    "name": "ipython",
    "version": 3
   },
   "file_extension": ".py",
   "mimetype": "text/x-python",
   "name": "python",
   "nbconvert_exporter": "python",
   "pygments_lexer": "ipython3",
   "version": "3.9.5"
  },
  "toc": {
   "base_numbering": 1,
   "nav_menu": {},
   "number_sections": true,
   "sideBar": true,
   "skip_h1_title": true,
   "title_cell": "Table of Contents",
   "title_sidebar": "Contents",
   "toc_cell": false,
   "toc_position": {},
   "toc_section_display": true,
   "toc_window_display": false
  }
 },
 "nbformat": 4,
 "nbformat_minor": 2
}
