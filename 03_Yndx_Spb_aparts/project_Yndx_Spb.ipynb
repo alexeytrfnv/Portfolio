{
 "cells": [
  {
   "attachments": {},
   "cell_type": "markdown",
   "metadata": {},
   "source": [
    "# Исследование объявлений о продаже квартир\n",
    "\n",
    "**Описание проекта:**\n",
    "\n",
    "В вашем распоряжении данные сервиса Яндекс.Недвижимость — архив объявлений о продаже квартир в Санкт-Петербурге и соседних населённых пунктов за несколько лет. Нужно научиться определять рыночную стоимость объектов недвижимости. Задача — установить параметры. Это позволит построить автоматизированную систему: она отследит аномалии и мошенническую деятельность. \n",
    "\n",
    "По каждой квартире на продажу доступны два вида данных. Первые вписаны пользователем, вторые — получены автоматически на основе картографических данных. Например, расстояние до центра, аэропорта, ближайшего парка и водоёма. \n",
    "\n",
    "**Цель исследования:**\n",
    "\n",
    "   1. Определить рыночную стоимость объектов недвижимости.\n",
    "   2. Построить автоматизированную систему, которая отследит аномалии и мошенническую деятельность.\n",
    "   3. Установить, какие факторы влияют на ценообразование стоимости квартир.\n",
    "   \n",
    "**Ход исследования:**\n",
    "     \n",
    "Данные о недвижимости я получу из файла ```'/datasets/real_estate_data.csv'```. О качестве данных ничего не известно. Поэтому перед тем, как приступать к целям исследования, понадобится обзор данных.\n",
    "\n",
    "На этапе ознакомления с данными мне необходимо убедиться в качестве полученных данных. На этапе предобработки я очищу данные от дубликатов, аномалий и пропусков. Затем, я изменю типы столбцов, чтобы они соответствовали значениям внутри столбцов.\n",
    "\n",
    "После обработки данных я посчитаю показатели, необходимые для исследовательского анализа данных. Добавлю их в новые столбцы датафрейма.\n",
    "\n",
    "На этапе проведения исследовательского анализа данных мне необходимо:\n",
    "\n",
    "1. Изучить параметры объектов недвижимости\n",
    "2. Изучить, как быстро продавались квартиры\n",
    "3. Выяснить, какие факторы влияют на общую стоимость объекта\n",
    "4. Определить среднюю цену квадратного метра в десяти населенных пунктах\n",
    "5. Выявить зависимость стоимости квартиры от расстояния до центра города\n",
    "\n",
    "В конце проекта мне необходимо сформулировать общий вывод по всей проделанной работе и дать рекомендации бизнесу.\n",
    "\n",
    "Таким образом, моё исследование пройдет в 5 этапов:\n",
    "\n",
    "- Изучение исходных данных\n",
    "- Предобработка данных\n",
    "- Подсчет необходимых показателей с занесением их в датафрейм\n",
    "- Проведение исследовательского анализа данных\n",
    "- Написание общего вывода"
   ]
  },
  {
   "cell_type": "markdown",
   "metadata": {},
   "source": [
    "### Откройте файл с данными и изучите общую информацию. "
   ]
  },
  {
   "cell_type": "markdown",
   "metadata": {},
   "source": [
    "***1.1 Импорт библиотеки pandas + создание датафрейма с данными из файла:***"
   ]
  },
  {
   "cell_type": "code",
   "execution_count": null,
   "metadata": {},
   "outputs": [],
   "source": [
    "import pandas as pd\n",
    "import matplotlib.pyplot as plt\n",
    "import warnings\n",
    "\n",
    "warnings.filterwarnings('ignore')\n",
    "\n",
    "try:\n",
    "    data = pd.read_csv('/datasets/real_estate_data.csv', sep='\\t')\n",
    "except:\n",
    "    data = pd.read_csv('real_estate_data.csv', sep='\\t')\n",
    "pd.set_option('display.max_columns', None)"
   ]
  },
  {
   "cell_type": "markdown",
   "metadata": {},
   "source": [
    "***1.2 Изучение полученной из датасета информации:***"
   ]
  },
  {
   "cell_type": "code",
   "execution_count": null,
   "metadata": {},
   "outputs": [],
   "source": [
    "data.head(10) # Вывод первых десяти строк датафрейма"
   ]
  },
  {
   "cell_type": "code",
   "execution_count": null,
   "metadata": {},
   "outputs": [],
   "source": [
    "data.info() # Получение общей информации о датафрейме"
   ]
  },
  {
   "cell_type": "code",
   "execution_count": null,
   "metadata": {},
   "outputs": [],
   "source": [
    "data.describe() # Получение дополнительных данных"
   ]
  },
  {
   "cell_type": "markdown",
   "metadata": {},
   "source": [
    "***1.3 Построение гистограмм для всех числовых столбцов датафрейма:***"
   ]
  },
  {
   "cell_type": "code",
   "execution_count": null,
   "metadata": {},
   "outputs": [],
   "source": [
    "data.hist(figsize=(15, 20)) \n",
    "plt.show()"
   ]
  },
  {
   "cell_type": "markdown",
   "metadata": {},
   "source": [
    "**Вывод:** В данных есть много пропусков и аномалий, которые необходимо обработать перед проведением исследования рынка недвижимости."
   ]
  },
  {
   "cell_type": "markdown",
   "metadata": {},
   "source": [
    "### Предобработка данных"
   ]
  },
  {
   "cell_type": "markdown",
   "metadata": {},
   "source": [
    "***2.1 Изучение и обработка пропущенных значений:***"
   ]
  },
  {
   "cell_type": "code",
   "execution_count": null,
   "metadata": {},
   "outputs": [],
   "source": [
    "data.isna().sum() # Поиск пропущенных значений в столбцах"
   ]
  },
  {
   "cell_type": "code",
   "execution_count": null,
   "metadata": {},
   "outputs": [],
   "source": [
    "data['balcony'] = data['balcony'].fillna(0) # Пропуск может означать, что балкона нет\n",
    "\n",
    "data['parks_around3000'] = data['parks_around3000'].fillna(0) # Пропуск может означать, что рядом парков нет\n",
    "\n",
    "data['ponds_around3000'] = data['ponds_around3000'].fillna(0) # Пропуск может означать, что рядом водоёмов нет\n",
    "\n",
    "data['locality_name'] = data['locality_name'].fillna('Без названия') # Можем заменить, так как таких пропусков всего 0,002% от общего количества\n",
    "\n",
    "data['is_apartment'] = data['is_apartment'].fillna(False) # Пропуск может значить, что продавец не указал информацию, чтобы не потерять интерес со стороны покупателей\n",
    "\n",
    "data['days_exposition'] = data['days_exposition'].fillna(0) # Пропуск может означать, что объявление до сих пор еще не сняли"
   ]
  },
  {
   "cell_type": "code",
   "execution_count": null,
   "metadata": {},
   "outputs": [],
   "source": [
    "# Заполним пропуски средним значением, так как у одного населенного пункта расстояние до ближайшего аэропорта будет близким к среднему значению\n",
    "for i in data['locality_name'].unique():\n",
    "    data.loc[(data['locality_name'] == i) & (data['airports_nearest'].isna()), 'airports_nearest'] = \\\n",
    "        data.loc[(data['locality_name'] == i), 'airports_nearest'].median() \n",
    "\n",
    "# Заполним пропуски средним значением, сгрупировав по населенному пункту\n",
    "for i in data['locality_name'].unique():\n",
    "    data.loc[(data['locality_name'] == i) & (data['ceiling_height'].isna()), 'ceiling_height'] = \\\n",
    "        data.loc[(data['locality_name'] == i), 'ceiling_height'].median() \n",
    "\n",
    "# Заполним попуски средним значением в столбце 'cityCenters_nearest', сгруппировав по населенному пункту\n",
    "for i in data['locality_name'].unique():\n",
    "    data.loc[(data['locality_name'] == i) & (data['cityCenters_nearest'].isna()), 'cityCenters_nearest'] = \\\n",
    "        data.loc[(data['locality_name'] == i), 'cityCenters_nearest'].median() \n",
    "\n",
    "# Проверим, заменились ли пропуски\n",
    "data.isna().sum()"
   ]
  },
  {
   "cell_type": "markdown",
   "metadata": {},
   "source": [
    "Чтобы заполнить столбец ```kitchen_area``` значениями, нужно определить, есть ли зависимость между кухней и общей площадью квартиры. Для этого вычислим коэффициент корреляции Пирсона:"
   ]
  },
  {
   "cell_type": "code",
   "execution_count": null,
   "metadata": {},
   "outputs": [],
   "source": [
    "data['kitchen_area'].corr(data['total_area'])"
   ]
  },
  {
   "cell_type": "markdown",
   "metadata": {},
   "source": [
    "Зависимость между ```kitchen_area``` и ```total_area``` есть, но она не прямая. Заполним пропуски пропорционально общей площади квартиры:"
   ]
  },
  {
   "cell_type": "code",
   "execution_count": null,
   "metadata": {},
   "outputs": [],
   "source": [
    "for j in data['total_area'].unique():\n",
    "    data.loc[(data['total_area'] == i) & (data['kitchen_area'].isna()), 'kitchen_area'] = \\\n",
    "        data.loc[(data['total_area'] == i), 'kitchen_area'].median() \n",
    "\n",
    "# Оставшиеся пропуски можем заменить медианой\n",
    "data['kitchen_area'] = data['kitchen_area'].fillna(data['kitchen_area'].median())\n",
    "\n",
    "data.isna().sum() # Проверяем замену"
   ]
  },
  {
   "cell_type": "markdown",
   "metadata": {},
   "source": [
    "Заполним пропуски в столбце ```living_area```. Для этого посчитаем коэффициент корреляции Пирсона для данных о количестве комнат и общей площади квартиры."
   ]
  },
  {
   "cell_type": "code",
   "execution_count": null,
   "metadata": {},
   "outputs": [],
   "source": [
    "data['living_area'].corr(data['rooms'])"
   ]
  },
  {
   "cell_type": "markdown",
   "metadata": {},
   "source": [
    "Мы выяснили, что чем больше комнат, тем больше площадь квартиры (коэффициент близок к единице). Заполним медианой пропуски в столбце ```living_area```, сгруппировав по количеству комнат."
   ]
  },
  {
   "cell_type": "code",
   "execution_count": null,
   "metadata": {},
   "outputs": [],
   "source": [
    "for i in data['rooms'].unique():\n",
    "    data.loc[(data['rooms'] == i) & (data['living_area'].isna()), 'living_area'] = \\\n",
    "        data.loc[(data['rooms'] == i), 'living_area'].median()\n",
    "\n",
    "data.isna().sum() # Проверим пропуски"
   ]
  },
  {
   "cell_type": "markdown",
   "metadata": {},
   "source": [
    "Причины появления пропусков в данных:\n",
    "\n",
    "    1. Пользователь не указал данные (для пользовательских)\n",
    "    2. Технический сбой (для картографических)"
   ]
  },
  {
   "cell_type": "markdown",
   "metadata": {},
   "source": [
    "***2.2 Поиск столбцов, в которых необходимо изменить тип данных:***"
   ]
  },
  {
   "cell_type": "code",
   "execution_count": null,
   "metadata": {},
   "outputs": [],
   "source": [
    "data.dtypes # Получаем информацию о всех типах столбцов датафрейма"
   ]
  },
  {
   "cell_type": "markdown",
   "metadata": {},
   "source": [
    "В столбце ```'first_day_exposition'``` необходимо изменить тип данных, который используется для даты и времени (datetime64[ns]).\n",
    "\n",
    "В столбцах ```'balcony', 'parks_around3000', 'ponds_around3000', 'days_exposition'``` необходимо заменить тип данных на int, так как значения могут быть только целочисленными."
   ]
  },
  {
   "cell_type": "code",
   "execution_count": null,
   "metadata": {},
   "outputs": [],
   "source": [
    "data['first_day_exposition'] = pd.to_datetime(data['first_day_exposition'], format='%Y-%m-%dT%H:%M:%S')\n",
    "\n",
    "categories = ['balcony', 'parks_around3000', 'ponds_around3000', 'days_exposition', 'last_price']\n",
    "for i in categories:\n",
    "    data[i] = data[i].astype('int')\n",
    "\n",
    "data.info() # Проверяем результат замены"
   ]
  },
  {
   "cell_type": "markdown",
   "metadata": {},
   "source": [
    "**2.3 Поиск явных дубликатов в датафрейме:**"
   ]
  },
  {
   "cell_type": "code",
   "execution_count": null,
   "metadata": {},
   "outputs": [],
   "source": [
    "data.duplicated().sum()"
   ]
  },
  {
   "cell_type": "markdown",
   "metadata": {},
   "source": [
    "Явных дубликатов в датафрейме не обнаружено."
   ]
  },
  {
   "cell_type": "markdown",
   "metadata": {},
   "source": [
    "***2.4 Поиск неявных дубликатов и аномалий в датафрейме:***"
   ]
  },
  {
   "cell_type": "code",
   "execution_count": null,
   "metadata": {},
   "outputs": [],
   "source": [
    "data['locality_name'].unique() # Находим все уникальные значения в столбце 'locality_name'"
   ]
  },
  {
   "cell_type": "markdown",
   "metadata": {},
   "source": [
    "Замена неявных дубликатов в столбце ```'locality_name'```:"
   ]
  },
  {
   "cell_type": "code",
   "execution_count": null,
   "metadata": {},
   "outputs": [],
   "source": [
    "duplicated_name = ['поселок городского типа', 'поселок', 'городской поселок', 'коттеджный поселок', 'коттеджный посёлок', 'городской посёлок', 'посёлок городского типа'] # неявные дубликаты\n",
    "correct_name = 'посёлок' # Универсальное обозначение\n",
    "for duplicate in duplicated_name:\n",
    "    data['locality_name'] = data['locality_name'].str.replace(duplicate, correct_name)"
   ]
  },
  {
   "cell_type": "code",
   "execution_count": null,
   "metadata": {},
   "outputs": [],
   "source": [
    "# обработать неявные дубликаты (пример: посёлок Мурино и Мурино, деревня Кудрово и Кудрово)\n",
    "for i in data['locality_name'].unique():\n",
    "    if 'посёлок ' in i:\n",
    "        data['locality_name'] = data['locality_name'].str.replace('посёлок ', '')\n",
    "\n",
    "for i in data['locality_name'].unique():\n",
    "    if 'деревня ' in i:\n",
    "        data['locality_name'] = data['locality_name'].str.replace('деревня ', '')"
   ]
  },
  {
   "cell_type": "markdown",
   "metadata": {},
   "source": [
    "***2.5 Устранение аномалий в данных:***"
   ]
  },
  {
   "cell_type": "code",
   "execution_count": null,
   "metadata": {},
   "outputs": [],
   "source": [
    "data.describe() # Вывод общей информации по всем столбцам датафрейма"
   ]
  },
  {
   "cell_type": "markdown",
   "metadata": {},
   "source": [
    "**Обработка редких значений в столбце ```ceiling_height```**:"
   ]
  },
  {
   "cell_type": "code",
   "execution_count": null,
   "metadata": {},
   "outputs": [],
   "source": [
    "data['ceiling_height'].describe()"
   ]
  },
  {
   "cell_type": "markdown",
   "metadata": {},
   "source": [
    "Все значения, большие 20, необходимо поделить на 10, чтобы они были более реалистичны. Построим диаграмму размаха, чтобы оценить реалистичность значений."
   ]
  },
  {
   "cell_type": "code",
   "execution_count": null,
   "metadata": {},
   "outputs": [],
   "source": [
    "data['ceiling_height'] = data['ceiling_height'].where(data['ceiling_height'] < 20, data['ceiling_height']/10)\n",
    "data.boxplot(column='ceiling_height') # Проверяем значения с помощью диаграммы размаха\n",
    "plt.show()"
   ]
  },
  {
   "cell_type": "markdown",
   "metadata": {},
   "source": [
    "Высота потолков более 4 метров выглядит нереалистичной, поэтому избавимся от всех аномальных значений. Установим нижнюю планку для высоты потолков, возьмем значение 2.4 метра (нижний \"ус\"), чтобы избавиться от выбросов."
   ]
  },
  {
   "cell_type": "code",
   "execution_count": null,
   "metadata": {},
   "outputs": [],
   "source": [
    "print(len(data['ceiling_height'])) # Количество значений до фильтрации\n",
    "data = data[(data['ceiling_height'] <= 4) & (data['ceiling_height'] >= 2.4)]\n",
    "print(len(data['ceiling_height'])) # Количество значений после фильтрации\n",
    "data.boxplot(column='ceiling_height')\n",
    "plt.show()"
   ]
  },
  {
   "cell_type": "markdown",
   "metadata": {},
   "source": [
    "**Обработка редких значений в столбце ```last_price```**:"
   ]
  },
  {
   "cell_type": "code",
   "execution_count": null,
   "metadata": {},
   "outputs": [],
   "source": [
    "data.boxplot(column='last_price')\n",
    "print(data['last_price'].describe())\n",
    "plt.show()\n",
    "print(len(data['last_price'])) # Количество значений до фильтрации\n",
    "data = data[(data['last_price'] <= 10**8) & (data['last_price'] >= 20000)]\n",
    "print(len(data['last_price'])) # Количество значений после фильтрации\n",
    "data.boxplot(column='last_price')\n",
    "plt.show()"
   ]
  },
  {
   "cell_type": "markdown",
   "metadata": {},
   "source": [
    "**Обработка редких значений в столбце ```total_area```**:"
   ]
  },
  {
   "cell_type": "code",
   "execution_count": null,
   "metadata": {},
   "outputs": [],
   "source": [
    "data.boxplot(column='total_area')\n",
    "plt.show()\n",
    "print(len(data['total_area'])) # Количество значений до фильтрации\n",
    "data = data[(data['total_area'] <= 200)]\n",
    "print(len(data['total_area'])) # Количество значений после фильтрации\n",
    "data.boxplot(column='total_area')\n",
    "plt.show()"
   ]
  },
  {
   "cell_type": "markdown",
   "metadata": {},
   "source": [
    "**Обработка редких значений в столбце ```rooms```**:"
   ]
  },
  {
   "cell_type": "code",
   "execution_count": null,
   "metadata": {},
   "outputs": [],
   "source": [
    "data.boxplot(column='rooms')\n",
    "plt.show()\n",
    "print(len(data['rooms'])) # Количество значений до фильтрации\n",
    "data = data[(data['rooms'] >= 1)] # 0 комнат не подходит для анализа. Ставим нижнюю границу\n",
    "print(len(data['rooms'])) # Количество значений после фильтрации\n",
    "data.boxplot(column='rooms')\n",
    "plt.show()"
   ]
  },
  {
   "cell_type": "markdown",
   "metadata": {},
   "source": [
    "**Обработка редких значений в столбце ```floors_total```**:"
   ]
  },
  {
   "cell_type": "code",
   "execution_count": null,
   "metadata": {},
   "outputs": [],
   "source": [
    "data.boxplot(column='floors_total')\n",
    "plt.show()\n",
    "print(len(data['floors_total'])) # Количество значений до фильтрации\n",
    "data = data[(data['floors_total'] <= 27) & (data['floors_total'] >= 1)]\n",
    "print(len(data['floors_total'])) # Количество значений после фильтрации\n",
    "data.boxplot(column='floors_total')\n",
    "plt.show()\n",
    "data['floors_total'] = data['floors_total'].astype('int')"
   ]
  },
  {
   "cell_type": "markdown",
   "metadata": {},
   "source": [
    "**Обработка редких значений в столбце ```living_area```**:"
   ]
  },
  {
   "cell_type": "code",
   "execution_count": null,
   "metadata": {},
   "outputs": [],
   "source": [
    "data.boxplot(column='living_area')\n",
    "plt.show()\n",
    "print(len(data['living_area'])) # Количество значений до фильтрации\n",
    "data = data[(data['living_area'] <= 100) & (data['living_area'] > 8)]\n",
    "print(len(data['living_area'])) # Количество значений после фильтрации\n",
    "data.boxplot(column='living_area')\n",
    "plt.show()"
   ]
  },
  {
   "cell_type": "markdown",
   "metadata": {},
   "source": [
    "**Обработка редких значений в столбце ```kitchen_area```**:"
   ]
  },
  {
   "cell_type": "code",
   "execution_count": null,
   "metadata": {},
   "outputs": [],
   "source": [
    "data.boxplot(column='kitchen_area')\n",
    "plt.show()\n",
    "print(len(data['kitchen_area'])) # Количество значений до фильтрации\n",
    "data = data[(data['kitchen_area'] <= 40) & (data['kitchen_area'] > 3)]\n",
    "print(len(data['kitchen_area'])) # Количество значений после фильтрации\n",
    "data.boxplot(column='kitchen_area')\n",
    "plt.show()"
   ]
  },
  {
   "cell_type": "markdown",
   "metadata": {},
   "source": [
    "**Обработка редких значений в столбце ```days_exposition```**:"
   ]
  },
  {
   "cell_type": "code",
   "execution_count": null,
   "metadata": {},
   "outputs": [],
   "source": [
    "data.boxplot(column='days_exposition')\n",
    "plt.show()\n",
    "print(len(data['days_exposition'])) # Количество значений до фильтрации\n",
    "data = data[(data['days_exposition'] <= 1200)] # Выбираем для анализа ликвидные квартиры\n",
    "print(len(data['days_exposition'])) # Количество значений после фильтрации\n",
    "data.boxplot(column='days_exposition')\n",
    "plt.show()"
   ]
  },
  {
   "cell_type": "markdown",
   "metadata": {},
   "source": [
    "Финальная проверка данных:"
   ]
  },
  {
   "cell_type": "code",
   "execution_count": null,
   "metadata": {},
   "outputs": [],
   "source": [
    "data.describe()"
   ]
  },
  {
   "cell_type": "markdown",
   "metadata": {},
   "source": [
    "Особенности:\n",
    "\n",
    "1. В столбце ```ceiling_height``` встречались данные, несоответствующие единицы измерения всего столбца. Данные были приведены в надлежащее состояние.\n",
    "2. В столбце ```last_price``` встречались огромные числа, однако они исчислялись десятками. Встречались аномально низкие цены, была установлена нижняя граница в 20 тыс.рублей. Данные были очищены от таких выбросов.\n",
    "3. В столбцах ```rooms, living_area, kitchen_area, floors_total``` были обнаружены выбросы, не похожие на реалистичные данные. "
   ]
  },
  {
   "cell_type": "markdown",
   "metadata": {},
   "source": [
    "**Вывод:** В данных были найдены пропуски, неявные дубликаты, аномалии и редкие значения. Также несколько столбцов имели тип данных, который не соответствовал значениям."
   ]
  },
  {
   "cell_type": "markdown",
   "metadata": {},
   "source": [
    "### Посчитайте и добавьте в таблицу новые столбцы"
   ]
  },
  {
   "cell_type": "markdown",
   "metadata": {},
   "source": [
    "***Добавление столбца с ценой квадратного метра:***"
   ]
  },
  {
   "cell_type": "markdown",
   "metadata": {},
   "source": [
    "Для подсчета цены квадратного метра потребуются данные из столбцов ```total_area``` и ```last_price```."
   ]
  },
  {
   "cell_type": "code",
   "execution_count": null,
   "metadata": {},
   "outputs": [],
   "source": [
    "data['price_per_square_metre'] = data['last_price'] / data['total_area']\n",
    "data.head() # Выводим первые 5 строк датафрейма, чтобы проверить значения в новом столбце"
   ]
  },
  {
   "cell_type": "markdown",
   "metadata": {},
   "source": [
    "***Добавление столбца с днем публикации объявления:***"
   ]
  },
  {
   "cell_type": "markdown",
   "metadata": {},
   "source": [
    "Для добавления нужного столбца необходимо взять данные о дне публикации из столбца ```first_day_exposition```."
   ]
  },
  {
   "cell_type": "code",
   "execution_count": null,
   "metadata": {},
   "outputs": [],
   "source": [
    "def day(x): # Функция перевода дня из числа в текст\n",
    "    if x == 0:\n",
    "        return 'понедельник'\n",
    "    elif x == 1:\n",
    "        return 'вторник'\n",
    "    elif x == 2:\n",
    "        return 'среда'\n",
    "    elif x == 3:\n",
    "        return 'четверг'\n",
    "    elif x == 4:\n",
    "        return 'пятница'\n",
    "    elif x == 5:\n",
    "        return 'суббота'\n",
    "    elif x == 6:\n",
    "        return 'воскресенье'\n",
    "\n",
    "data['day_of_exposition'] = pd.DatetimeIndex(data['first_day_exposition']).weekday\n",
    "data['day_of_exposition'] = data['day_of_exposition'].apply(day)\n",
    "data.head() # Проверяем наличие нового столбца с днем публикации"
   ]
  },
  {
   "cell_type": "markdown",
   "metadata": {},
   "source": [
    "***Добавление столбца с месяцем публикации объявления:***"
   ]
  },
  {
   "cell_type": "markdown",
   "metadata": {},
   "source": [
    "Для добавления столбца с месяцем публикации необходимо обратиться к столбцу ```first_day_exposition```."
   ]
  },
  {
   "cell_type": "code",
   "execution_count": null,
   "metadata": {},
   "outputs": [],
   "source": [
    "data['month_of_exposition'] = pd.DatetimeIndex(data['first_day_exposition']).month\n",
    "data.head() # Проверка нового столбца"
   ]
  },
  {
   "cell_type": "markdown",
   "metadata": {},
   "source": [
    "***Добавление столбца с годом публикации объявления:***"
   ]
  },
  {
   "cell_type": "markdown",
   "metadata": {},
   "source": [
    "Для добавления столбца с годом публикации необходимо обратиться к столбцу ```first_day_exposition```."
   ]
  },
  {
   "cell_type": "code",
   "execution_count": null,
   "metadata": {},
   "outputs": [],
   "source": [
    "data['year_of_exposition'] = pd.DatetimeIndex(data['first_day_exposition']).year\n",
    "data.head() # Проверка нового столбца"
   ]
  },
  {
   "cell_type": "markdown",
   "metadata": {},
   "source": [
    "***Добавление столбца с типом этажа квартиры:***"
   ]
  },
  {
   "cell_type": "code",
   "execution_count": null,
   "metadata": {},
   "outputs": [],
   "source": [
    "def transform(stage): # Напишем функцию перевода этажа в его тип\n",
    "    total_count = stage['floors_total']\n",
    "    counter = stage['floor']\n",
    "    if counter == 1:\n",
    "        return 'первый'\n",
    "    elif counter == total_count:\n",
    "        return 'последний'\n",
    "    else:\n",
    "        return 'другой'\n",
    "\n",
    "data['type_of_floor'] = data.apply(transform, axis=1)\n",
    "data.head(15) # Проверка данных в новом столбце"
   ]
  },
  {
   "cell_type": "markdown",
   "metadata": {},
   "source": [
    "***Добавление столбца с расстоянием до центра города (в километрах):***"
   ]
  },
  {
   "cell_type": "markdown",
   "metadata": {},
   "source": [
    "Для добавления столбца с расстоянием до центра города необходимо обратиться к столбцу ```cityCenters_nearest```."
   ]
  },
  {
   "cell_type": "code",
   "execution_count": null,
   "metadata": {},
   "outputs": [],
   "source": [
    "data['city_center_in_km'] = (data['cityCenters_nearest'] / 1000).round()\n",
    "data.head(10) # Проверка данных в новом столбце"
   ]
  },
  {
   "cell_type": "markdown",
   "metadata": {},
   "source": [
    "**Вывод:** Были добавлены новые столбцы. Можно приступать к исследовательскому анализу данных в датафрейме."
   ]
  },
  {
   "cell_type": "markdown",
   "metadata": {},
   "source": [
    "### Проведите исследовательский анализ данных"
   ]
  },
  {
   "cell_type": "markdown",
   "metadata": {},
   "source": [
    "##### Изучение параметров объектов:"
   ]
  },
  {
   "cell_type": "markdown",
   "metadata": {},
   "source": [
    "***Исследование общей площади квартиры:***"
   ]
  },
  {
   "cell_type": "code",
   "execution_count": null,
   "metadata": {},
   "outputs": [],
   "source": [
    "data['total_area'].describe() # Получение общей информации о данных в столбце 'total_area'"
   ]
  },
  {
   "cell_type": "code",
   "execution_count": null,
   "metadata": {},
   "outputs": [],
   "source": [
    "data['total_area'].hist(bins=30) # Построение гистограммы"
   ]
  },
  {
   "cell_type": "markdown",
   "metadata": {},
   "source": [
    "**Наблюдения:** \n",
    "1. Больше всего квартир на продаже с общей площадью от 30 до 50 квадратных метров.\n",
    "2. Гистограмма соответствует распределению Пуассона.\n",
    "3. По имеющимся данным, максимальная общая площадь составляет 200 квадратных метров. Минимальная - всего 12 квадратных метров.\n",
    "4. Средняя общая площадь квартиры составляет 57 квадратных метров."
   ]
  },
  {
   "cell_type": "markdown",
   "metadata": {},
   "source": [
    "***Исследование жилой площади квартиры:***"
   ]
  },
  {
   "cell_type": "code",
   "execution_count": null,
   "metadata": {},
   "outputs": [],
   "source": [
    "data['living_area'].describe()"
   ]
  },
  {
   "cell_type": "code",
   "execution_count": null,
   "metadata": {},
   "outputs": [],
   "source": [
    "data['living_area'].hist(bins=[0, 5, 10, 15, 20, 25, 30, 35, 40, 45, 50, 55, 60, 65, 70, 75, 80, 85, 90, 95, 100])"
   ]
  },
  {
   "cell_type": "markdown",
   "metadata": {},
   "source": [
    "**Наблюдения:** \n",
    "1. По имеющимся данным, максимальная жилая площадь квартиры составляет 100 квадратных метров, минимальная - 8.3 квадратных метра.\n",
    "2. В среднем жилая площадь составляет 32 квадратных метра.\n",
    "3. Больше всего на рынке квартир с жилой площадью от 15 до 20 квадратных метров.\n",
    "4. Квартиры с жилплощадью от 20 до 25 квадратных метров составляют меньшую часть от рынка недвижимости, чем квартиры из диапазонов 15-20 кв. метров и 25-50 кв. метров."
   ]
  },
  {
   "cell_type": "markdown",
   "metadata": {},
   "source": [
    "***Исследование площади кухни в квартире:***"
   ]
  },
  {
   "cell_type": "code",
   "execution_count": null,
   "metadata": {},
   "outputs": [],
   "source": [
    "data['kitchen_area'].describe()"
   ]
  },
  {
   "cell_type": "code",
   "execution_count": null,
   "metadata": {},
   "outputs": [],
   "source": [
    "data['kitchen_area'].hist(bins=30)"
   ]
  },
  {
   "cell_type": "markdown",
   "metadata": {},
   "source": [
    "**Наблюдения:** \n",
    "1. Минимальная площадь кухни составляет 3.2 квадратных метра, максимальная - 40 квадратных метров.\n",
    "2. Средняя площадь кухни в квартире составляет 10 квадратных метров.\n",
    "3. Гистограмма соответствует распределению Пуассона.\n",
    "4. Больше всего на рынке квартир с площадью кухни от 5 до 10 квадратных метров."
   ]
  },
  {
   "cell_type": "markdown",
   "metadata": {},
   "source": [
    "***Исследование цены квартиры:***"
   ]
  },
  {
   "cell_type": "code",
   "execution_count": null,
   "metadata": {},
   "outputs": [],
   "source": [
    "print(data['last_price'].mean()) # Среднее значение цены\n",
    "print(data['last_price'].min()) # Минимальное значение цены\n",
    "print(data['last_price'].max()) # Максимальное значение цены"
   ]
  },
  {
   "cell_type": "code",
   "execution_count": null,
   "metadata": {},
   "outputs": [],
   "source": [
    "data['last_price'].hist(bins=[430000, 500000, 10**6, 1500000, 2*10**6, 2500000, 3*10**6, 3500000, 4*10**6, 4500000, 5*10**6, 5500000, 6*10**6, 6500000, 7*10**6, 8*10**6, 9*10**6, 10**7])"
   ]
  },
  {
   "cell_type": "markdown",
   "metadata": {},
   "source": [
    "**Наблюдения:** \n",
    "1. Максимальная цена квартиры составляет 98 млн. рублей, минимальная - 430 тыс. рублей.\n",
    "2. Средняя цена квартиры - 5.8 млн. рублей.\n",
    "3. Больше всего квартир на рынке по цене в диапазоне от 2.5 млн. рублей до 6 млн. рублей.\n",
    "4. Наиболее частая цена квартиры на рынке составляет от 3.5 млн. рублей до 4 млн. рублей."
   ]
  },
  {
   "cell_type": "markdown",
   "metadata": {},
   "source": [
    "***Исследование количества комнат в квартире:***"
   ]
  },
  {
   "cell_type": "code",
   "execution_count": null,
   "metadata": {},
   "outputs": [],
   "source": [
    "data['rooms'].describe()"
   ]
  },
  {
   "cell_type": "code",
   "execution_count": 48,
   "metadata": {},
   "outputs": [
    {
     "data": {
      "text/plain": [
       "<AxesSubplot:>"
      ]
     },
     "execution_count": 48,
     "metadata": {},
     "output_type": "execute_result"
    },
    {
     "data": {
      "image/png": "[encoded data removed]",
      "text/plain": [
       "<Figure size 640x480 with 1 Axes>"
      ]
     },
     "metadata": {},
     "output_type": "display_data"
    }
   ],
   "source": [
    "data['rooms'].hist(bins=20)"
   ]
  },
  {
   "cell_type": "markdown",
   "metadata": {},
   "source": [
    "**Наблюдения:** \n",
    "1. В среднем в квартире имеется 2 комнаты.\n",
    "2. Максимальное количество комнат в квартире - 7, минимальное количество комнат - 1.\n",
    "3. Больше всего квартир на продаже - однокомнатных.\n",
    "4. Однокомнатных и двухкомнатных квартир почти одинаковое количество (7904 и 7747 соответственно)."
   ]
  },
  {
   "cell_type": "markdown",
   "metadata": {},
   "source": [
    "***Исследование высоты потолков в квартире:***"
   ]
  },
  {
   "cell_type": "code",
   "execution_count": 49,
   "metadata": {},
   "outputs": [
    {
     "data": {
      "text/plain": [
       "count    22580.000000\n",
       "mean         2.692913\n",
       "std          0.198686\n",
       "min          2.400000\n",
       "25%          2.550000\n",
       "50%          2.700000\n",
       "75%          2.700000\n",
       "max          4.000000\n",
       "Name: ceiling_height, dtype: float64"
      ]
     },
     "execution_count": 49,
     "metadata": {},
     "output_type": "execute_result"
    }
   ],
   "source": [
    "data['ceiling_height'].describe()"
   ]
  },
  {
   "cell_type": "code",
   "execution_count": 50,
   "metadata": {},
   "outputs": [
    {
     "data": {
      "text/plain": [
       "<AxesSubplot:>"
      ]
     },
     "execution_count": 50,
     "metadata": {},
     "output_type": "execute_result"
    },
    {
     "data": {
      "image/png": "[encoded data removed]",
      "text/plain": [
       "<Figure size 640x480 with 1 Axes>"
      ]
     },
     "metadata": {},
     "output_type": "display_data"
    }
   ],
   "source": [
    "data['ceiling_height'].hist(bins=20)"
   ]
  },
  {
   "cell_type": "markdown",
   "metadata": {},
   "source": [
    "**Наблюдения:** \n",
    "1. В среднем высота потолков составляет 2.7 метра.\n",
    "2. Максимальная высота потолков - 4 метра, минимальная - 2.4 метра.\n",
    "3. Больше всего квартир на продаже, у которых высота потолков составляет 2.7 метра.\n",
    "4. Большая часть квартир на рынке недвижимости имеет высоту потолков от 2.5 метра до 2.7 метра."
   ]
  },
  {
   "cell_type": "markdown",
   "metadata": {},
   "source": [
    "***Исследование этажа квартиры:***"
   ]
  },
  {
   "cell_type": "code",
   "execution_count": 51,
   "metadata": {},
   "outputs": [
    {
     "data": {
      "text/plain": [
       "count    22580.000000\n",
       "mean         5.871125\n",
       "std          4.836331\n",
       "min          1.000000\n",
       "25%          2.000000\n",
       "50%          4.000000\n",
       "75%          8.000000\n",
       "max         27.000000\n",
       "Name: floor, dtype: float64"
      ]
     },
     "execution_count": 51,
     "metadata": {},
     "output_type": "execute_result"
    }
   ],
   "source": [
    "data['floor'].describe()"
   ]
  },
  {
   "cell_type": "code",
   "execution_count": 52,
   "metadata": {},
   "outputs": [
    {
     "data": {
      "text/plain": [
       "<AxesSubplot:>"
      ]
     },
     "execution_count": 52,
     "metadata": {},
     "output_type": "execute_result"
    },
    {
     "data": {
      "image/png": "[encoded data removed]",
      "text/plain": [
       "<Figure size 640x480 with 1 Axes>"
      ]
     },
     "metadata": {},
     "output_type": "display_data"
    }
   ],
   "source": [
    "data['floor'].hist(bins=[1, 2, 3, 4, 5, 6, 7, 8, 9, 11, 13, 15, 17, 20, 23, 25, 27])"
   ]
  },
  {
   "cell_type": "markdown",
   "metadata": {},
   "source": [
    "**Наблюдения:** \n",
    "1. Максимальный этаж квартиры - 27, минимальный этаж - первый.\n",
    "2. В среднем квартира находится на пятом или шестом этаже.\n",
    "3. Больше всего квартир на рынке, которые находятся на втором этаже.\n",
    "4. Большая часть квартир на рынке находится между первым и шестом этажом.\n",
    "5. Квартир, которые находятся на 9 и 10 этаже, составляют большую часть рынка, чем квартиры на 6, 7 и 8 этаже (по отдельности)."
   ]
  },
  {
   "cell_type": "markdown",
   "metadata": {},
   "source": [
    "***Исследование типа этажа квартиры:***"
   ]
  },
  {
   "cell_type": "code",
   "execution_count": 53,
   "metadata": {},
   "outputs": [
    {
     "data": {
      "text/plain": [
       "count      22580\n",
       "unique         3\n",
       "top       другой\n",
       "freq       16649\n",
       "Name: type_of_floor, dtype: object"
      ]
     },
     "execution_count": 53,
     "metadata": {},
     "output_type": "execute_result"
    }
   ],
   "source": [
    "data['type_of_floor'].describe()"
   ]
  },
  {
   "cell_type": "code",
   "execution_count": 54,
   "metadata": {},
   "outputs": [
    {
     "data": {
      "text/plain": [
       "<AxesSubplot:>"
      ]
     },
     "execution_count": 54,
     "metadata": {},
     "output_type": "execute_result"
    },
    {
     "data": {
      "image/png": "[encoded data removed]",
      "text/plain": [
       "<Figure size 640x480 with 1 Axes>"
      ]
     },
     "metadata": {},
     "output_type": "display_data"
    }
   ],
   "source": [
    "data['type_of_floor'].hist()"
   ]
  },
  {
   "cell_type": "markdown",
   "metadata": {},
   "source": [
    "**Наблюдения:** \n",
    "1. Больше всего квартир с типом этажа \"другой\".\n",
    "2. Квартир, которые находятся на последнем этаже, на рынке больше, чем квартир на первом этаже."
   ]
  },
  {
   "cell_type": "markdown",
   "metadata": {},
   "source": [
    "***Исследование общего количества этажей в доме:***"
   ]
  },
  {
   "cell_type": "code",
   "execution_count": 55,
   "metadata": {},
   "outputs": [
    {
     "data": {
      "text/plain": [
       "count    22580.000000\n",
       "mean        10.691364\n",
       "std          6.503125\n",
       "min          1.000000\n",
       "25%          5.000000\n",
       "50%          9.000000\n",
       "75%         16.000000\n",
       "max         27.000000\n",
       "Name: floors_total, dtype: float64"
      ]
     },
     "execution_count": 55,
     "metadata": {},
     "output_type": "execute_result"
    }
   ],
   "source": [
    "data['floors_total'].describe()"
   ]
  },
  {
   "cell_type": "code",
   "execution_count": 56,
   "metadata": {},
   "outputs": [
    {
     "data": {
      "text/plain": [
       "<AxesSubplot:>"
      ]
     },
     "execution_count": 56,
     "metadata": {},
     "output_type": "execute_result"
    },
    {
     "data": {
      "image/png": "[encoded data removed]",
      "text/plain": [
       "<Figure size 640x480 with 1 Axes>"
      ]
     },
     "metadata": {},
     "output_type": "display_data"
    }
   ],
   "source": [
    "data['floors_total'].hist(bins=[1, 2, 3, 4, 5, 6, 7, 8, 9, 11, 13, 15, 17, 20, 23, 25, 27])"
   ]
  },
  {
   "cell_type": "markdown",
   "metadata": {},
   "source": [
    "**Наблюдения:** \n",
    "1. В среднем на рынке недвижимости размещены объявления о квартирах в домах с десятью этажами.\n",
    "2. В самом высоком доме расположено 27 этажей, в самом низком - один. Можно предположить, что на рынке есть объявления о продаже квартиры в частном доме.\n",
    "3. На рынке недвижимости чаще всего встречаются дома с пятью этажами. Дома с девятью и десятью этажами так же составляют значительную часть рынка, как и пятиэтажные."
   ]
  },
  {
   "cell_type": "markdown",
   "metadata": {},
   "source": [
    "***Исследование расстояния до центра города (в метрах):***"
   ]
  },
  {
   "cell_type": "code",
   "execution_count": 57,
   "metadata": {},
   "outputs": [
    {
     "data": {
      "text/plain": [
       "count    17441.00000\n",
       "mean     14440.86850\n",
       "std       8612.68044\n",
       "min        208.00000\n",
       "25%       9661.00000\n",
       "50%      13220.00000\n",
       "75%      16408.00000\n",
       "max      65968.00000\n",
       "Name: cityCenters_nearest, dtype: float64"
      ]
     },
     "execution_count": 57,
     "metadata": {},
     "output_type": "execute_result"
    }
   ],
   "source": [
    "data['cityCenters_nearest'].describe()"
   ]
  },
  {
   "cell_type": "markdown",
   "metadata": {},
   "source": [
    "Проверим максимальную отдаленность квартиры от центра города:"
   ]
  },
  {
   "cell_type": "code",
   "execution_count": 58,
   "metadata": {},
   "outputs": [
    {
     "data": {
      "text/html": [
       "<div>\n",
       "<style scoped>\n",
       "    .dataframe tbody tr th:only-of-type {\n",
       "        vertical-align: middle;\n",
       "    }\n",
       "\n",
       "    .dataframe tbody tr th {\n",
       "        vertical-align: top;\n",
       "    }\n",
       "\n",
       "    .dataframe thead th {\n",
       "        text-align: right;\n",
       "    }\n",
       "</style>\n",
       "<table border=\"1\" class=\"dataframe\">\n",
       "  <thead>\n",
       "    <tr style=\"text-align: right;\">\n",
       "      <th></th>\n",
       "      <th>total_images</th>\n",
       "      <th>last_price</th>\n",
       "      <th>total_area</th>\n",
       "      <th>first_day_exposition</th>\n",
       "      <th>rooms</th>\n",
       "      <th>ceiling_height</th>\n",
       "      <th>floors_total</th>\n",
       "      <th>living_area</th>\n",
       "      <th>floor</th>\n",
       "      <th>is_apartment</th>\n",
       "      <th>studio</th>\n",
       "      <th>open_plan</th>\n",
       "      <th>kitchen_area</th>\n",
       "      <th>balcony</th>\n",
       "      <th>locality_name</th>\n",
       "      <th>airports_nearest</th>\n",
       "      <th>cityCenters_nearest</th>\n",
       "      <th>parks_around3000</th>\n",
       "      <th>parks_nearest</th>\n",
       "      <th>ponds_around3000</th>\n",
       "      <th>ponds_nearest</th>\n",
       "      <th>days_exposition</th>\n",
       "      <th>price_per_square_metre</th>\n",
       "      <th>day_of_exposition</th>\n",
       "      <th>month_of_exposition</th>\n",
       "      <th>year_of_exposition</th>\n",
       "      <th>type_of_floor</th>\n",
       "      <th>city_center_in_km</th>\n",
       "    </tr>\n",
       "  </thead>\n",
       "  <tbody>\n",
       "    <tr>\n",
       "      <th>9640</th>\n",
       "      <td>8</td>\n",
       "      <td>4200000</td>\n",
       "      <td>51.4</td>\n",
       "      <td>2014-12-10</td>\n",
       "      <td>2</td>\n",
       "      <td>2.55</td>\n",
       "      <td>5</td>\n",
       "      <td>31.0</td>\n",
       "      <td>2</td>\n",
       "      <td>False</td>\n",
       "      <td>False</td>\n",
       "      <td>False</td>\n",
       "      <td>6.0</td>\n",
       "      <td>1</td>\n",
       "      <td>Молодёжное</td>\n",
       "      <td>84869.0</td>\n",
       "      <td>65968.0</td>\n",
       "      <td>0</td>\n",
       "      <td>NaN</td>\n",
       "      <td>0</td>\n",
       "      <td>NaN</td>\n",
       "      <td>1194</td>\n",
       "      <td>81712.062257</td>\n",
       "      <td>среда</td>\n",
       "      <td>12</td>\n",
       "      <td>2014</td>\n",
       "      <td>другой</td>\n",
       "      <td>66.0</td>\n",
       "    </tr>\n",
       "  </tbody>\n",
       "</table>\n",
       "</div>"
      ],
      "text/plain": [
       "      total_images  last_price  total_area first_day_exposition  rooms  \\\n",
       "9640             8     4200000        51.4           2014-12-10      2   \n",
       "\n",
       "      ceiling_height  floors_total  living_area  floor  is_apartment  studio  \\\n",
       "9640            2.55             5         31.0      2         False   False   \n",
       "\n",
       "      open_plan  kitchen_area  balcony locality_name  airports_nearest  \\\n",
       "9640      False           6.0        1    Молодёжное           84869.0   \n",
       "\n",
       "      cityCenters_nearest  parks_around3000  parks_nearest  ponds_around3000  \\\n",
       "9640              65968.0                 0            NaN                 0   \n",
       "\n",
       "      ponds_nearest  days_exposition  price_per_square_metre  \\\n",
       "9640            NaN             1194            81712.062257   \n",
       "\n",
       "     day_of_exposition  month_of_exposition  year_of_exposition type_of_floor  \\\n",
       "9640             среда                   12                2014        другой   \n",
       "\n",
       "      city_center_in_km  \n",
       "9640               66.0  "
      ]
     },
     "execution_count": 58,
     "metadata": {},
     "output_type": "execute_result"
    }
   ],
   "source": [
    "data[data['cityCenters_nearest'] == 65968] # От посёлка Молодёжное до центра Санкт-Петербурга"
   ]
  },
  {
   "cell_type": "code",
   "execution_count": 59,
   "metadata": {},
   "outputs": [
    {
     "data": {
      "text/plain": [
       "5139"
      ]
     },
     "execution_count": 59,
     "metadata": {},
     "output_type": "execute_result"
    }
   ],
   "source": [
    "data['airports_nearest'].isna().sum() # Проверим количество пропусков в данных"
   ]
  },
  {
   "cell_type": "code",
   "execution_count": 60,
   "metadata": {},
   "outputs": [
    {
     "data": {
      "text/plain": [
       "<AxesSubplot:>"
      ]
     },
     "execution_count": 60,
     "metadata": {},
     "output_type": "execute_result"
    },
    {
     "data": {
      "image/png": "[encoded data removed]",
      "text/plain": [
       "<Figure size 640x480 with 1 Axes>"
      ]
     },
     "metadata": {},
     "output_type": "display_data"
    }
   ],
   "source": [
    "data['cityCenters_nearest'].hist(bins=30)"
   ]
  },
  {
   "cell_type": "markdown",
   "metadata": {},
   "source": [
    "**Наблюдения:** \n",
    "1. В среднем квартира находится в 14440 метрах от центра города.\n",
    "2. Максимальная удаленность от центра города - 65968 метров, минимальная - 208 метров.\n",
    "3. Рынок недвижимости по большей части насыщён квартирами, которые находятся на расстоянии от 10000 до 18000 метров.\n",
    "4. В данных имеется 5139 пропусков. Это 18-20% от общего количества. Такие данные не были заполнены на момент преобработки данных, так как отсутствуют данные расстояния до центра города для всех квартир в населенном пункте. Можно предположить, что это технический сбой."
   ]
  },
  {
   "cell_type": "markdown",
   "metadata": {},
   "source": [
    "***Исследование расстояния до ближайшего аэропорта:***"
   ]
  },
  {
   "cell_type": "code",
   "execution_count": 61,
   "metadata": {},
   "outputs": [
    {
     "data": {
      "text/plain": [
       "count    17441.000000\n",
       "mean     28961.778510\n",
       "std      12778.735385\n",
       "min          0.000000\n",
       "25%      18487.000000\n",
       "50%      26941.000000\n",
       "75%      37434.000000\n",
       "max      84869.000000\n",
       "Name: airports_nearest, dtype: float64"
      ]
     },
     "execution_count": 61,
     "metadata": {},
     "output_type": "execute_result"
    }
   ],
   "source": [
    "data['airports_nearest'].describe()"
   ]
  },
  {
   "cell_type": "code",
   "execution_count": 62,
   "metadata": {},
   "outputs": [
    {
     "data": {
      "text/plain": [
       "6450.0"
      ]
     },
     "execution_count": 62,
     "metadata": {},
     "output_type": "execute_result"
    }
   ],
   "source": [
    "data[data['airports_nearest'] != 0]['airports_nearest'].min() # Вручную уберем аномальное значение (0 метров от ближайшего аэропорта), чтобы не потерять 20% данных"
   ]
  },
  {
   "cell_type": "code",
   "execution_count": 63,
   "metadata": {},
   "outputs": [
    {
     "data": {
      "text/plain": [
       "<AxesSubplot:>"
      ]
     },
     "execution_count": 63,
     "metadata": {},
     "output_type": "execute_result"
    },
    {
     "data": {
      "image/png": "[encoded data removed]",
      "text/plain": [
       "<Figure size 640x480 with 1 Axes>"
      ]
     },
     "metadata": {},
     "output_type": "display_data"
    }
   ],
   "source": [
    "data['airports_nearest'].hist(bins=[5000, 10000, 15000, 20000, 25000, 30000, 35000, 40000, 45000, 50000, 55000, 60000, 65000, 70000, 75000, 80000, 85000])"
   ]
  },
  {
   "cell_type": "markdown",
   "metadata": {},
   "source": [
    "**Наблюдения:** \n",
    "1. В среднем расстояние до аэропорта составляет 28962 метра.\n",
    "2. Максимальная удаленность от ближайшего аэропорта составляет 84869 метров. Минимальная удаленность составляет 6450 метров.\n",
    "3. Больше всего на рынке квартир, которые находятся на расстоянии 15000-20000 метров до ближайшего аэропорта.\n",
    "4. В основном рынок состоит из квартир, у которых удаленность от аэропорта составляет от 10000 до 50000 метров.\n",
    "5. В данных имеется 5139 пропусков. Такие данные не были исправлены, так как отсутствует информация о расстоянии до аэропорта для всех квартир в населенном пункте. Следует обратиться к разработчикам, чтобы узнать причину появления пропусков в картографических данных для целого населенного пункта."
   ]
  },
  {
   "cell_type": "markdown",
   "metadata": {},
   "source": [
    "***Исследование расстояния до ближайшего парка:***"
   ]
  },
  {
   "cell_type": "markdown",
   "metadata": {},
   "source": [
    "В столбце ```parks_nearest``` обнаружены 14964 пропуска в данных. Процент пропусков - 66% от общего количества данных. Чтобы разобраться, нужно обратиться к специалисту, который загружал в исходный датасет картографические данные."
   ]
  },
  {
   "cell_type": "markdown",
   "metadata": {},
   "source": [
    "Рассмотрим имеющиеся данные о расстоянии до ближайшего парка:"
   ]
  },
  {
   "cell_type": "code",
   "execution_count": 64,
   "metadata": {},
   "outputs": [
    {
     "data": {
      "text/plain": [
       "count    7616.000000\n",
       "mean      492.143514\n",
       "std       342.101786\n",
       "min         1.000000\n",
       "25%       288.000000\n",
       "50%       456.000000\n",
       "75%       614.000000\n",
       "max      3190.000000\n",
       "Name: parks_nearest, dtype: float64"
      ]
     },
     "execution_count": 64,
     "metadata": {},
     "output_type": "execute_result"
    }
   ],
   "source": [
    "data['parks_nearest'].describe()"
   ]
  },
  {
   "cell_type": "code",
   "execution_count": 65,
   "metadata": {},
   "outputs": [
    {
     "data": {
      "image/png": "[encoded data removed]",
      "text/plain": [
       "<Figure size 640x480 with 1 Axes>"
      ]
     },
     "metadata": {},
     "output_type": "display_data"
    },
    {
     "data": {
      "image/png": "[encoded data removed]",
      "text/plain": [
       "<Figure size 640x480 with 1 Axes>"
      ]
     },
     "metadata": {},
     "output_type": "display_data"
    }
   ],
   "source": [
    "data['parks_nearest'].hist(bins=20)\n",
    "plt.show()\n",
    "data['parks_nearest'].hist(bins=[300, 400, 500, 600])\n",
    "plt.show()"
   ]
  },
  {
   "cell_type": "markdown",
   "metadata": {},
   "source": [
    "**Наблюдения:** \n",
    "1. В среднем расстояние до ближайшего парка составляет 492 метра.\n",
    "2. Максимальная удаленность от парка составляет 3190 метров, минимальная - 1 метр (дом находится рядом с парком).\n",
    "3. Больше всего квартир находится на расстоянии от 300 до 700 метров до ближайшего парка.\n",
    "4. Наиболее частая отдаленность от парка - 400-500 метров."
   ]
  },
  {
   "cell_type": "markdown",
   "metadata": {},
   "source": [
    "***Исследование дня и месяца объявления:***"
   ]
  },
  {
   "cell_type": "code",
   "execution_count": 66,
   "metadata": {},
   "outputs": [
    {
     "name": "stdout",
     "output_type": "stream",
     "text": [
      "count       22580\n",
      "unique          7\n",
      "top       четверг\n",
      "freq         4065\n",
      "Name: day_of_exposition, dtype: object\n"
     ]
    },
    {
     "data": {
      "text/plain": [
       "<AxesSubplot:>"
      ]
     },
     "execution_count": 66,
     "metadata": {},
     "output_type": "execute_result"
    },
    {
     "data": {
      "image/png": "[encoded data removed]",
      "text/plain": [
       "<Figure size 640x480 with 1 Axes>"
      ]
     },
     "metadata": {},
     "output_type": "display_data"
    }
   ],
   "source": [
    "print(data['day_of_exposition'].describe())\n",
    "data['day_of_exposition'].hist(bins=20)"
   ]
  },
  {
   "cell_type": "code",
   "execution_count": 67,
   "metadata": {},
   "outputs": [
    {
     "data": {
      "text/plain": [
       "<AxesSubplot:>"
      ]
     },
     "execution_count": 67,
     "metadata": {},
     "output_type": "execute_result"
    },
    {
     "data": {
      "image/png": "[encoded data removed]",
      "text/plain": [
       "<Figure size 640x480 with 1 Axes>"
      ]
     },
     "metadata": {},
     "output_type": "display_data"
    }
   ],
   "source": [
    "data['month_of_exposition'].hist(bins=12)"
   ]
  },
  {
   "cell_type": "markdown",
   "metadata": {},
   "source": [
    "**Наблюдения:** \n",
    "1. Чаще всего объявления размещали в четверг. Реже всего размещали в воскресенье.\n",
    "2. В большинстве случаев объявления размещали в будние дни.\n",
    "3. В феврале было размещено больше всего объявлений. Меньше всего объявлений было размещено в мае."
   ]
  },
  {
   "cell_type": "markdown",
   "metadata": {},
   "source": [
    "##### Изучение, как быстро продавались квартиры:"
   ]
  },
  {
   "cell_type": "markdown",
   "metadata": {},
   "source": [
    "Построение гистограммы:"
   ]
  },
  {
   "cell_type": "code",
   "execution_count": 68,
   "metadata": {},
   "outputs": [
    {
     "data": {
      "text/plain": [
       "<AxesSubplot:>"
      ]
     },
     "execution_count": 68,
     "metadata": {},
     "output_type": "execute_result"
    },
    {
     "data": {
      "image/png": "[encoded data removed]",
      "text/plain": [
       "<Figure size 640x480 with 1 Axes>"
      ]
     },
     "metadata": {},
     "output_type": "display_data"
    }
   ],
   "source": [
    "data['days_exposition'].hist(bins=[0, 1, 25, 50, 100, 200, 300, 400, 500, 600, 700, 800, 900, 1000, 1100, 1200])"
   ]
  },
  {
   "cell_type": "markdown",
   "metadata": {},
   "source": [
    "Гистограмма показывает, что в среднем покупка квартиры происходит через 25-100 дней после публикации объявления. Объявлений, которые снимали через 1 день больше, чем объявлений, которые остаются актуальными, однако неизвестна причина снятия квартиры. Можно предположить, чтобы продавец снимал объявление, чтобы исправить некоторые детали."
   ]
  },
  {
   "cell_type": "markdown",
   "metadata": {},
   "source": [
    "Вычисление медианы и среднего значения:"
   ]
  },
  {
   "cell_type": "code",
   "execution_count": 69,
   "metadata": {},
   "outputs": [
    {
     "name": "stdout",
     "output_type": "stream",
     "text": [
      "151.6014171833481\n",
      "73.0\n"
     ]
    }
   ],
   "source": [
    "print(data['days_exposition'].mean()) # среднее значение\n",
    "\n",
    "print(data['days_exposition'].median()) # медиана"
   ]
  },
  {
   "cell_type": "markdown",
   "metadata": {},
   "source": [
    "Определение быстрой и необычно долгой продажи:"
   ]
  },
  {
   "cell_type": "code",
   "execution_count": 70,
   "metadata": {},
   "outputs": [
    {
     "name": "stdout",
     "output_type": "stream",
     "text": [
      "count    22580.000000\n",
      "mean       151.601417\n",
      "std        200.041595\n",
      "min          0.000000\n",
      "25%         23.000000\n",
      "50%         73.000000\n",
      "75%        195.000000\n",
      "max       1200.000000\n",
      "Name: days_exposition, dtype: float64\n"
     ]
    }
   ],
   "source": [
    "print(data['days_exposition'].describe())"
   ]
  },
  {
   "cell_type": "code",
   "execution_count": 71,
   "metadata": {},
   "outputs": [
    {
     "data": {
      "image/png": "[encoded data removed]",
      "text/plain": [
       "<Figure size 640x480 with 1 Axes>"
      ]
     },
     "metadata": {},
     "output_type": "display_data"
    }
   ],
   "source": [
    "data.boxplot('days_exposition') # Построение диаграмы размаха\n",
    "plt.show()"
   ]
  },
  {
   "cell_type": "code",
   "execution_count": 72,
   "metadata": {},
   "outputs": [
    {
     "name": "stdout",
     "output_type": "stream",
     "text": [
      "453.0\n",
      "Количество объявлений квартир, продажа которых происходила дольше 452 дней: 1909\n",
      "Процент необычно долгих продаж от общего количества объявлений: 0.0845438441098317\n"
     ]
    }
   ],
   "source": [
    "print(195+1.5*(195-23)) # нахождение границы правого \"уса\" диаграммы\n",
    "print('Количество объявлений квартир, продажа которых происходила дольше 452 дней:', data[data['days_exposition'] >= 453]['total_area'].count())\n",
    "print('Процент необычно долгих продаж от общего количества объявлений:', data[data['days_exposition'] >= 453]['total_area'].count()/22580)"
   ]
  },
  {
   "cell_type": "markdown",
   "metadata": {},
   "source": [
    "**Выводы:**\n",
    "1. Квартиры в целом продавались достаточно быстро. Обычно продажа занимает от 50 до 100 дней с момента публикации объявления.\n",
    "2. Продажи можно считать быстрыми, если они происходят в течение первых 23 дней с момента публикации объявления. Первый квартиль означает, что четверть выборки данных не превышает 23 дней.\n",
    "3. Необычно долгими можно считать продажи, которые происходят через 453 и более дней после публикации объявления. В среднем только 8.5% квартир продаются более 453 дней."
   ]
  },
  {
   "cell_type": "markdown",
   "metadata": {},
   "source": [
    "##### Факторы, влияющие на общую стоимость объекта:"
   ]
  },
  {
   "cell_type": "markdown",
   "metadata": {},
   "source": [
    "Проверим, как влияет общая площадь квартиры на общую стоимость:"
   ]
  },
  {
   "cell_type": "code",
   "execution_count": 73,
   "metadata": {
    "scrolled": true
   },
   "outputs": [
    {
     "data": {
      "image/png": "[encoded data removed]",
      "text/plain": [
       "<Figure size 640x480 with 1 Axes>"
      ]
     },
     "metadata": {},
     "output_type": "display_data"
    }
   ],
   "source": [
    "(\n",
    "    data.pivot_table(index='total_area', values='last_price')\n",
    "    .plot(y='last_price', style='o', title='Зависимость цены от общей площади квартиры')\n",
    ")\n",
    "plt.show()"
   ]
  },
  {
   "cell_type": "code",
   "execution_count": 74,
   "metadata": {},
   "outputs": [
    {
     "data": {
      "text/plain": [
       "0.7206341477007433"
      ]
     },
     "execution_count": 74,
     "metadata": {},
     "output_type": "execute_result"
    }
   ],
   "source": [
    "data['total_area'].corr(data['last_price'])"
   ]
  },
  {
   "cell_type": "markdown",
   "metadata": {},
   "source": [
    "На графике можно наблюдать, что зависимость есть. Коэффициент корреляции Пирсона стремится к единице, значит чем больше общая площадь квартиры, тем выше стоимость объекта. Следует обратить внимание, что встречаются случаи, где стоимость квартиры гораздо больше, чем квартиры с близкой к ней общей площадью. Такие случаи могут быть, если квартиры различаются в классе (квартиры бизнес-класса будут оценены значительно выше, чем квартиры эконом-класса)"
   ]
  },
  {
   "cell_type": "markdown",
   "metadata": {},
   "source": [
    "Проверим, как влияет жилая площадь квартиры на общую стоимость:"
   ]
  },
  {
   "cell_type": "code",
   "execution_count": 75,
   "metadata": {},
   "outputs": [
    {
     "data": {
      "text/plain": [
       "<AxesSubplot:title={'center':'Зависимость цены квартиры от жилой площади'}, xlabel='living_area'>"
      ]
     },
     "execution_count": 75,
     "metadata": {},
     "output_type": "execute_result"
    },
    {
     "data": {
      "image/png": "[encoded data removed]",
      "text/plain": [
       "<Figure size 640x480 with 1 Axes>"
      ]
     },
     "metadata": {},
     "output_type": "display_data"
    }
   ],
   "source": [
    "(\n",
    "    data.pivot_table(index='living_area', values='last_price')\n",
    "    .plot(y='last_price', style='o', title='Зависимость цены квартиры от жилой площади')\n",
    ")"
   ]
  },
  {
   "cell_type": "code",
   "execution_count": 76,
   "metadata": {},
   "outputs": [
    {
     "data": {
      "text/plain": [
       "0.5796261944706794"
      ]
     },
     "execution_count": 76,
     "metadata": {},
     "output_type": "execute_result"
    }
   ],
   "source": [
    "data['living_area'].corr(data['last_price'])"
   ]
  },
  {
   "cell_type": "markdown",
   "metadata": {},
   "source": [
    "В данном случае зависимость меньше, чем от общей площади квартиры. Тут тоже встречаются индивидуальные случаи в цене на один жилой квадратный метр. Мы наблюдаем, что график не растет стремительно вверх, значит мы не можем говорить о том, что зависимость рассматриваемых параметров сильная."
   ]
  },
  {
   "cell_type": "markdown",
   "metadata": {},
   "source": [
    "Проверим, как влияет площадь кухни на общую стоимость квартиры:"
   ]
  },
  {
   "cell_type": "code",
   "execution_count": 77,
   "metadata": {},
   "outputs": [
    {
     "data": {
      "text/plain": [
       "<AxesSubplot:title={'center':'Зависимость цены квартиры от площади кухни'}, xlabel='kitchen_area'>"
      ]
     },
     "execution_count": 77,
     "metadata": {},
     "output_type": "execute_result"
    },
    {
     "data": {
      "image/png": "[encoded data removed]",
      "text/plain": [
       "<Figure size 640x480 with 1 Axes>"
      ]
     },
     "metadata": {},
     "output_type": "display_data"
    }
   ],
   "source": [
    "(\n",
    "    data.pivot_table(index='kitchen_area', values='last_price')\n",
    "    .plot(y='last_price', style='o', title='Зависимость цены квартиры от площади кухни')\n",
    ")"
   ]
  },
  {
   "cell_type": "code",
   "execution_count": 78,
   "metadata": {},
   "outputs": [
    {
     "data": {
      "text/plain": [
       "0.5010654929606849"
      ]
     },
     "execution_count": 78,
     "metadata": {},
     "output_type": "execute_result"
    }
   ],
   "source": [
    "data['kitchen_area'].corr(data['last_price'])"
   ]
  },
  {
   "cell_type": "markdown",
   "metadata": {},
   "source": [
    "Небольшая зависимость наблюдается, однако график очень волатилен, поэтому мы не можем четко утверждать о прямой зависимости двух параметров. Чем больше площадь кухни в квартире, тем более волатилен график, а значит цена квартиры может быть установлена по желанию продавца."
   ]
  },
  {
   "cell_type": "markdown",
   "metadata": {},
   "source": [
    "Проверим, как влияет количество комнат на общую стоимость квартиры:"
   ]
  },
  {
   "cell_type": "code",
   "execution_count": 79,
   "metadata": {},
   "outputs": [
    {
     "data": {
      "text/plain": [
       "<AxesSubplot:title={'center':'График зависимости цены квартиры от количества комнат'}, xlabel='Количество комнат', ylabel='Цена квартиры (руб.)'>"
      ]
     },
     "execution_count": 79,
     "metadata": {},
     "output_type": "execute_result"
    },
    {
     "data": {
      "image/png": "[encoded data removed]",
      "text/plain": [
       "<Figure size 640x480 with 1 Axes>"
      ]
     },
     "metadata": {},
     "output_type": "display_data"
    }
   ],
   "source": [
    "(\n",
    "    data.pivot_table(index='rooms', values='last_price')\n",
    "    .plot(title='График зависимости цены квартиры от количества комнат',\n",
    "    xlabel='Количество комнат', ylabel='Цена квартиры (руб.)')\n",
    ")"
   ]
  },
  {
   "cell_type": "markdown",
   "metadata": {},
   "source": [
    "На этом графике четко показано, что между количеством комнат и общей стоимостью квартиры существует прямая зависимость. Чем больше комнат в квартире, тем выше ее стоимость."
   ]
  },
  {
   "cell_type": "markdown",
   "metadata": {},
   "source": [
    "Проверим, как влияет тип этажа квартиры на общую стоимость:"
   ]
  },
  {
   "cell_type": "code",
   "execution_count": 80,
   "metadata": {},
   "outputs": [
    {
     "data": {
      "text/plain": [
       "<AxesSubplot:title={'center':'График зависимости цены от типа этажа квартиры'}, xlabel='Тип этажа (первый, другой, последний)', ylabel='Цена квартиры (руб.)'>"
      ]
     },
     "execution_count": 80,
     "metadata": {},
     "output_type": "execute_result"
    },
    {
     "data": {
      "image/png": "[encoded data removed]",
      "text/plain": [
       "<Figure size 640x480 with 1 Axes>"
      ]
     },
     "metadata": {},
     "output_type": "display_data"
    }
   ],
   "source": [
    "(\n",
    "    data.pivot_table(index='type_of_floor', values='last_price')\n",
    "    .plot(kind='bar', title='График зависимости цены от типа этажа квартиры',\n",
    "    xlabel='Тип этажа (первый, другой, последний)', ylabel='Цена квартиры (руб.)')\n",
    ")"
   ]
  },
  {
   "cell_type": "markdown",
   "metadata": {},
   "source": [
    "Зависимость прослеживается. Квартиры на первом этаже в среднем стоят меньше, чем на любом другом этаже. Квартиры на последнем этаже составляют конкуренцию по стоимости квартирам, которые находятся на всех этажах, кроме первого и последнего. Можно сделать вывод, что этаж влияет на общую стоимость квартиры."
   ]
  },
  {
   "cell_type": "markdown",
   "metadata": {},
   "source": [
    "Проверим зависимость общей стоимости квартиры от даты размещения (день, неделя, месяц, год):"
   ]
  },
  {
   "cell_type": "markdown",
   "metadata": {},
   "source": [
    "Зависимость общей стоимости квартиры от дня размещения:"
   ]
  },
  {
   "cell_type": "code",
   "execution_count": 81,
   "metadata": {},
   "outputs": [],
   "source": [
    "data['week_of_exposition'] = pd.DatetimeIndex(data['first_day_exposition']).week"
   ]
  },
  {
   "cell_type": "code",
   "execution_count": 82,
   "metadata": {},
   "outputs": [
    {
     "data": {
      "image/png": "[encoded data removed]",
      "text/plain": [
       "<Figure size 640x480 with 1 Axes>"
      ]
     },
     "metadata": {},
     "output_type": "display_data"
    },
    {
     "data": {
      "image/png": "[encoded data removed]",
      "text/plain": [
       "<Figure size 640x480 with 1 Axes>"
      ]
     },
     "metadata": {},
     "output_type": "display_data"
    },
    {
     "data": {
      "image/png": "[encoded data removed]",
      "text/plain": [
       "<Figure size 640x480 with 1 Axes>"
      ]
     },
     "metadata": {},
     "output_type": "display_data"
    },
    {
     "data": {
      "image/png": "[encoded data removed]",
      "text/plain": [
       "<Figure size 640x480 with 1 Axes>"
      ]
     },
     "metadata": {},
     "output_type": "display_data"
    }
   ],
   "source": [
    "(\n",
    "    data.pivot_table(index='day_of_exposition', values='last_price')\n",
    "    .plot(title='График зависимости цены от дня размещения',\n",
    "    xlabel='День размещения объявления', ylabel='Цена квартиры (руб.)')\n",
    ")\n",
    "plt.show()\n",
    "\n",
    "(\n",
    "    data.pivot_table(index='week_of_exposition', values='last_price')\n",
    "    .plot(title='График зависимости цены квартиры от ее общей площади',\n",
    "    xlabel='Неделя размещения объявления', ylabel='Цена квартиры (руб.)')\n",
    ")\n",
    "plt.show()\n",
    "\n",
    "(\n",
    "    data.pivot_table(index='month_of_exposition', values='last_price')\n",
    "    .plot(kind='bar', title='График зависимости цены квартиры от ее общей площади',\n",
    "    xlabel='Общая площадь квартиры (кв. метр)', ylabel='Цена квартиры (1е7 руб.)')\n",
    ")\n",
    "plt.show()\n",
    "\n",
    "(\n",
    "    data.pivot_table(index='year_of_exposition', values='last_price')\n",
    "    .plot(kind='bar', title='График зависимости цены от года размещения объявления',\n",
    "    xlabel='Год размещения объявления', ylabel='Цена квартиры (руб.)')\n",
    ")\n",
    "plt.show()"
   ]
  },
  {
   "cell_type": "code",
   "execution_count": 83,
   "metadata": {},
   "outputs": [
    {
     "data": {
      "text/html": [
       "<div>\n",
       "<style scoped>\n",
       "    .dataframe tbody tr th:only-of-type {\n",
       "        vertical-align: middle;\n",
       "    }\n",
       "\n",
       "    .dataframe tbody tr th {\n",
       "        vertical-align: top;\n",
       "    }\n",
       "\n",
       "    .dataframe thead th {\n",
       "        text-align: right;\n",
       "    }\n",
       "</style>\n",
       "<table border=\"1\" class=\"dataframe\">\n",
       "  <thead>\n",
       "    <tr style=\"text-align: right;\">\n",
       "      <th></th>\n",
       "      <th>total_images</th>\n",
       "      <th>last_price</th>\n",
       "      <th>total_area</th>\n",
       "      <th>first_day_exposition</th>\n",
       "      <th>rooms</th>\n",
       "      <th>ceiling_height</th>\n",
       "      <th>floors_total</th>\n",
       "      <th>living_area</th>\n",
       "      <th>floor</th>\n",
       "      <th>is_apartment</th>\n",
       "      <th>studio</th>\n",
       "      <th>open_plan</th>\n",
       "      <th>kitchen_area</th>\n",
       "      <th>balcony</th>\n",
       "      <th>locality_name</th>\n",
       "      <th>airports_nearest</th>\n",
       "      <th>cityCenters_nearest</th>\n",
       "      <th>parks_around3000</th>\n",
       "      <th>parks_nearest</th>\n",
       "      <th>ponds_around3000</th>\n",
       "      <th>ponds_nearest</th>\n",
       "      <th>days_exposition</th>\n",
       "      <th>price_per_square_metre</th>\n",
       "      <th>day_of_exposition</th>\n",
       "      <th>month_of_exposition</th>\n",
       "      <th>year_of_exposition</th>\n",
       "      <th>type_of_floor</th>\n",
       "      <th>city_center_in_km</th>\n",
       "      <th>week_of_exposition</th>\n",
       "    </tr>\n",
       "  </thead>\n",
       "  <tbody>\n",
       "    <tr>\n",
       "      <th>3015</th>\n",
       "      <td>6</td>\n",
       "      <td>8484786</td>\n",
       "      <td>60.0</td>\n",
       "      <td>2015-12-30</td>\n",
       "      <td>2</td>\n",
       "      <td>2.70</td>\n",
       "      <td>18</td>\n",
       "      <td>30.5</td>\n",
       "      <td>17</td>\n",
       "      <td>False</td>\n",
       "      <td>False</td>\n",
       "      <td>False</td>\n",
       "      <td>9.1</td>\n",
       "      <td>0</td>\n",
       "      <td>Санкт-Петербург</td>\n",
       "      <td>17313.0</td>\n",
       "      <td>7963.0</td>\n",
       "      <td>0</td>\n",
       "      <td>NaN</td>\n",
       "      <td>0</td>\n",
       "      <td>NaN</td>\n",
       "      <td>666</td>\n",
       "      <td>141413.100000</td>\n",
       "      <td>среда</td>\n",
       "      <td>12</td>\n",
       "      <td>2015</td>\n",
       "      <td>другой</td>\n",
       "      <td>8.0</td>\n",
       "      <td>53</td>\n",
       "    </tr>\n",
       "    <tr>\n",
       "      <th>6837</th>\n",
       "      <td>12</td>\n",
       "      <td>4100000</td>\n",
       "      <td>44.0</td>\n",
       "      <td>2015-12-29</td>\n",
       "      <td>2</td>\n",
       "      <td>2.55</td>\n",
       "      <td>9</td>\n",
       "      <td>27.0</td>\n",
       "      <td>9</td>\n",
       "      <td>False</td>\n",
       "      <td>False</td>\n",
       "      <td>False</td>\n",
       "      <td>7.0</td>\n",
       "      <td>1</td>\n",
       "      <td>Санкт-Петербург</td>\n",
       "      <td>27359.0</td>\n",
       "      <td>12226.0</td>\n",
       "      <td>0</td>\n",
       "      <td>NaN</td>\n",
       "      <td>0</td>\n",
       "      <td>NaN</td>\n",
       "      <td>457</td>\n",
       "      <td>93181.818182</td>\n",
       "      <td>вторник</td>\n",
       "      <td>12</td>\n",
       "      <td>2015</td>\n",
       "      <td>последний</td>\n",
       "      <td>12.0</td>\n",
       "      <td>53</td>\n",
       "    </tr>\n",
       "    <tr>\n",
       "      <th>7409</th>\n",
       "      <td>3</td>\n",
       "      <td>14950000</td>\n",
       "      <td>122.2</td>\n",
       "      <td>2015-12-28</td>\n",
       "      <td>2</td>\n",
       "      <td>2.90</td>\n",
       "      <td>9</td>\n",
       "      <td>67.1</td>\n",
       "      <td>2</td>\n",
       "      <td>False</td>\n",
       "      <td>False</td>\n",
       "      <td>False</td>\n",
       "      <td>25.6</td>\n",
       "      <td>2</td>\n",
       "      <td>Санкт-Петербург</td>\n",
       "      <td>24796.0</td>\n",
       "      <td>3371.0</td>\n",
       "      <td>3</td>\n",
       "      <td>528.0</td>\n",
       "      <td>2</td>\n",
       "      <td>383.0</td>\n",
       "      <td>948</td>\n",
       "      <td>122340.425532</td>\n",
       "      <td>понедельник</td>\n",
       "      <td>12</td>\n",
       "      <td>2015</td>\n",
       "      <td>другой</td>\n",
       "      <td>3.0</td>\n",
       "      <td>53</td>\n",
       "    </tr>\n",
       "    <tr>\n",
       "      <th>9375</th>\n",
       "      <td>7</td>\n",
       "      <td>5000000</td>\n",
       "      <td>60.0</td>\n",
       "      <td>2015-12-31</td>\n",
       "      <td>3</td>\n",
       "      <td>2.70</td>\n",
       "      <td>9</td>\n",
       "      <td>38.1</td>\n",
       "      <td>5</td>\n",
       "      <td>False</td>\n",
       "      <td>False</td>\n",
       "      <td>False</td>\n",
       "      <td>7.2</td>\n",
       "      <td>0</td>\n",
       "      <td>Санкт-Петербург</td>\n",
       "      <td>50898.0</td>\n",
       "      <td>14963.0</td>\n",
       "      <td>0</td>\n",
       "      <td>NaN</td>\n",
       "      <td>0</td>\n",
       "      <td>NaN</td>\n",
       "      <td>194</td>\n",
       "      <td>83333.333333</td>\n",
       "      <td>четверг</td>\n",
       "      <td>12</td>\n",
       "      <td>2015</td>\n",
       "      <td>другой</td>\n",
       "      <td>15.0</td>\n",
       "      <td>53</td>\n",
       "    </tr>\n",
       "    <tr>\n",
       "      <th>11835</th>\n",
       "      <td>20</td>\n",
       "      <td>36500000</td>\n",
       "      <td>164.2</td>\n",
       "      <td>2015-12-31</td>\n",
       "      <td>5</td>\n",
       "      <td>3.35</td>\n",
       "      <td>6</td>\n",
       "      <td>82.2</td>\n",
       "      <td>6</td>\n",
       "      <td>False</td>\n",
       "      <td>False</td>\n",
       "      <td>False</td>\n",
       "      <td>21.8</td>\n",
       "      <td>1</td>\n",
       "      <td>Санкт-Петербург</td>\n",
       "      <td>20375.0</td>\n",
       "      <td>2209.0</td>\n",
       "      <td>2</td>\n",
       "      <td>207.0</td>\n",
       "      <td>3</td>\n",
       "      <td>225.0</td>\n",
       "      <td>250</td>\n",
       "      <td>222289.890378</td>\n",
       "      <td>четверг</td>\n",
       "      <td>12</td>\n",
       "      <td>2015</td>\n",
       "      <td>последний</td>\n",
       "      <td>2.0</td>\n",
       "      <td>53</td>\n",
       "    </tr>\n",
       "    <tr>\n",
       "      <th>13047</th>\n",
       "      <td>3</td>\n",
       "      <td>3700000</td>\n",
       "      <td>33.0</td>\n",
       "      <td>2015-12-28</td>\n",
       "      <td>1</td>\n",
       "      <td>2.70</td>\n",
       "      <td>26</td>\n",
       "      <td>16.0</td>\n",
       "      <td>15</td>\n",
       "      <td>False</td>\n",
       "      <td>False</td>\n",
       "      <td>False</td>\n",
       "      <td>7.0</td>\n",
       "      <td>1</td>\n",
       "      <td>Санкт-Петербург</td>\n",
       "      <td>15266.0</td>\n",
       "      <td>13171.0</td>\n",
       "      <td>0</td>\n",
       "      <td>NaN</td>\n",
       "      <td>1</td>\n",
       "      <td>1068.0</td>\n",
       "      <td>197</td>\n",
       "      <td>112121.212121</td>\n",
       "      <td>понедельник</td>\n",
       "      <td>12</td>\n",
       "      <td>2015</td>\n",
       "      <td>другой</td>\n",
       "      <td>13.0</td>\n",
       "      <td>53</td>\n",
       "    </tr>\n",
       "    <tr>\n",
       "      <th>13685</th>\n",
       "      <td>20</td>\n",
       "      <td>55845000</td>\n",
       "      <td>124.1</td>\n",
       "      <td>2015-12-28</td>\n",
       "      <td>2</td>\n",
       "      <td>2.70</td>\n",
       "      <td>9</td>\n",
       "      <td>50.0</td>\n",
       "      <td>2</td>\n",
       "      <td>False</td>\n",
       "      <td>False</td>\n",
       "      <td>False</td>\n",
       "      <td>20.0</td>\n",
       "      <td>0</td>\n",
       "      <td>Санкт-Петербург</td>\n",
       "      <td>21946.0</td>\n",
       "      <td>2242.0</td>\n",
       "      <td>1</td>\n",
       "      <td>679.0</td>\n",
       "      <td>1</td>\n",
       "      <td>227.0</td>\n",
       "      <td>378</td>\n",
       "      <td>450000.000000</td>\n",
       "      <td>понедельник</td>\n",
       "      <td>12</td>\n",
       "      <td>2015</td>\n",
       "      <td>другой</td>\n",
       "      <td>2.0</td>\n",
       "      <td>53</td>\n",
       "    </tr>\n",
       "    <tr>\n",
       "      <th>13761</th>\n",
       "      <td>5</td>\n",
       "      <td>1450000</td>\n",
       "      <td>31.0</td>\n",
       "      <td>2015-12-31</td>\n",
       "      <td>1</td>\n",
       "      <td>2.58</td>\n",
       "      <td>5</td>\n",
       "      <td>17.0</td>\n",
       "      <td>2</td>\n",
       "      <td>False</td>\n",
       "      <td>False</td>\n",
       "      <td>False</td>\n",
       "      <td>6.0</td>\n",
       "      <td>0</td>\n",
       "      <td>Волхов</td>\n",
       "      <td>NaN</td>\n",
       "      <td>NaN</td>\n",
       "      <td>0</td>\n",
       "      <td>NaN</td>\n",
       "      <td>0</td>\n",
       "      <td>NaN</td>\n",
       "      <td>320</td>\n",
       "      <td>46774.193548</td>\n",
       "      <td>четверг</td>\n",
       "      <td>12</td>\n",
       "      <td>2015</td>\n",
       "      <td>другой</td>\n",
       "      <td>NaN</td>\n",
       "      <td>53</td>\n",
       "    </tr>\n",
       "    <tr>\n",
       "      <th>19347</th>\n",
       "      <td>13</td>\n",
       "      <td>6999000</td>\n",
       "      <td>54.7</td>\n",
       "      <td>2015-12-29</td>\n",
       "      <td>2</td>\n",
       "      <td>2.70</td>\n",
       "      <td>11</td>\n",
       "      <td>30.5</td>\n",
       "      <td>7</td>\n",
       "      <td>False</td>\n",
       "      <td>False</td>\n",
       "      <td>False</td>\n",
       "      <td>10.7</td>\n",
       "      <td>2</td>\n",
       "      <td>Санкт-Петербург</td>\n",
       "      <td>43479.0</td>\n",
       "      <td>11261.0</td>\n",
       "      <td>0</td>\n",
       "      <td>NaN</td>\n",
       "      <td>0</td>\n",
       "      <td>NaN</td>\n",
       "      <td>649</td>\n",
       "      <td>127952.468007</td>\n",
       "      <td>вторник</td>\n",
       "      <td>12</td>\n",
       "      <td>2015</td>\n",
       "      <td>другой</td>\n",
       "      <td>11.0</td>\n",
       "      <td>53</td>\n",
       "    </tr>\n",
       "    <tr>\n",
       "      <th>21670</th>\n",
       "      <td>9</td>\n",
       "      <td>3650000</td>\n",
       "      <td>50.0</td>\n",
       "      <td>2015-12-28</td>\n",
       "      <td>2</td>\n",
       "      <td>2.50</td>\n",
       "      <td>6</td>\n",
       "      <td>29.0</td>\n",
       "      <td>6</td>\n",
       "      <td>False</td>\n",
       "      <td>False</td>\n",
       "      <td>False</td>\n",
       "      <td>9.4</td>\n",
       "      <td>1</td>\n",
       "      <td>Шушары</td>\n",
       "      <td>18288.0</td>\n",
       "      <td>29539.0</td>\n",
       "      <td>0</td>\n",
       "      <td>NaN</td>\n",
       "      <td>1</td>\n",
       "      <td>884.0</td>\n",
       "      <td>740</td>\n",
       "      <td>73000.000000</td>\n",
       "      <td>понедельник</td>\n",
       "      <td>12</td>\n",
       "      <td>2015</td>\n",
       "      <td>последний</td>\n",
       "      <td>30.0</td>\n",
       "      <td>53</td>\n",
       "    </tr>\n",
       "    <tr>\n",
       "      <th>23342</th>\n",
       "      <td>6</td>\n",
       "      <td>4200000</td>\n",
       "      <td>34.0</td>\n",
       "      <td>2015-12-30</td>\n",
       "      <td>1</td>\n",
       "      <td>2.75</td>\n",
       "      <td>9</td>\n",
       "      <td>15.0</td>\n",
       "      <td>6</td>\n",
       "      <td>False</td>\n",
       "      <td>False</td>\n",
       "      <td>False</td>\n",
       "      <td>10.0</td>\n",
       "      <td>0</td>\n",
       "      <td>Кудрово</td>\n",
       "      <td>NaN</td>\n",
       "      <td>NaN</td>\n",
       "      <td>0</td>\n",
       "      <td>NaN</td>\n",
       "      <td>0</td>\n",
       "      <td>NaN</td>\n",
       "      <td>283</td>\n",
       "      <td>123529.411765</td>\n",
       "      <td>среда</td>\n",
       "      <td>12</td>\n",
       "      <td>2015</td>\n",
       "      <td>другой</td>\n",
       "      <td>NaN</td>\n",
       "      <td>53</td>\n",
       "    </tr>\n",
       "  </tbody>\n",
       "</table>\n",
       "</div>"
      ],
      "text/plain": [
       "       total_images  last_price  total_area first_day_exposition  rooms  \\\n",
       "3015              6     8484786        60.0           2015-12-30      2   \n",
       "6837             12     4100000        44.0           2015-12-29      2   \n",
       "7409              3    14950000       122.2           2015-12-28      2   \n",
       "9375              7     5000000        60.0           2015-12-31      3   \n",
       "11835            20    36500000       164.2           2015-12-31      5   \n",
       "13047             3     3700000        33.0           2015-12-28      1   \n",
       "13685            20    55845000       124.1           2015-12-28      2   \n",
       "13761             5     1450000        31.0           2015-12-31      1   \n",
       "19347            13     6999000        54.7           2015-12-29      2   \n",
       "21670             9     3650000        50.0           2015-12-28      2   \n",
       "23342             6     4200000        34.0           2015-12-30      1   \n",
       "\n",
       "       ceiling_height  floors_total  living_area  floor  is_apartment  studio  \\\n",
       "3015             2.70            18         30.5     17         False   False   \n",
       "6837             2.55             9         27.0      9         False   False   \n",
       "7409             2.90             9         67.1      2         False   False   \n",
       "9375             2.70             9         38.1      5         False   False   \n",
       "11835            3.35             6         82.2      6         False   False   \n",
       "13047            2.70            26         16.0     15         False   False   \n",
       "13685            2.70             9         50.0      2         False   False   \n",
       "13761            2.58             5         17.0      2         False   False   \n",
       "19347            2.70            11         30.5      7         False   False   \n",
       "21670            2.50             6         29.0      6         False   False   \n",
       "23342            2.75             9         15.0      6         False   False   \n",
       "\n",
       "       open_plan  kitchen_area  balcony    locality_name  airports_nearest  \\\n",
       "3015       False           9.1        0  Санкт-Петербург           17313.0   \n",
       "6837       False           7.0        1  Санкт-Петербург           27359.0   \n",
       "7409       False          25.6        2  Санкт-Петербург           24796.0   \n",
       "9375       False           7.2        0  Санкт-Петербург           50898.0   \n",
       "11835      False          21.8        1  Санкт-Петербург           20375.0   \n",
       "13047      False           7.0        1  Санкт-Петербург           15266.0   \n",
       "13685      False          20.0        0  Санкт-Петербург           21946.0   \n",
       "13761      False           6.0        0           Волхов               NaN   \n",
       "19347      False          10.7        2  Санкт-Петербург           43479.0   \n",
       "21670      False           9.4        1           Шушары           18288.0   \n",
       "23342      False          10.0        0          Кудрово               NaN   \n",
       "\n",
       "       cityCenters_nearest  parks_around3000  parks_nearest  ponds_around3000  \\\n",
       "3015                7963.0                 0            NaN                 0   \n",
       "6837               12226.0                 0            NaN                 0   \n",
       "7409                3371.0                 3          528.0                 2   \n",
       "9375               14963.0                 0            NaN                 0   \n",
       "11835               2209.0                 2          207.0                 3   \n",
       "13047              13171.0                 0            NaN                 1   \n",
       "13685               2242.0                 1          679.0                 1   \n",
       "13761                  NaN                 0            NaN                 0   \n",
       "19347              11261.0                 0            NaN                 0   \n",
       "21670              29539.0                 0            NaN                 1   \n",
       "23342                  NaN                 0            NaN                 0   \n",
       "\n",
       "       ponds_nearest  days_exposition  price_per_square_metre  \\\n",
       "3015             NaN              666           141413.100000   \n",
       "6837             NaN              457            93181.818182   \n",
       "7409           383.0              948           122340.425532   \n",
       "9375             NaN              194            83333.333333   \n",
       "11835          225.0              250           222289.890378   \n",
       "13047         1068.0              197           112121.212121   \n",
       "13685          227.0              378           450000.000000   \n",
       "13761            NaN              320            46774.193548   \n",
       "19347            NaN              649           127952.468007   \n",
       "21670          884.0              740            73000.000000   \n",
       "23342            NaN              283           123529.411765   \n",
       "\n",
       "      day_of_exposition  month_of_exposition  year_of_exposition  \\\n",
       "3015              среда                   12                2015   \n",
       "6837            вторник                   12                2015   \n",
       "7409        понедельник                   12                2015   \n",
       "9375            четверг                   12                2015   \n",
       "11835           четверг                   12                2015   \n",
       "13047       понедельник                   12                2015   \n",
       "13685       понедельник                   12                2015   \n",
       "13761           четверг                   12                2015   \n",
       "19347           вторник                   12                2015   \n",
       "21670       понедельник                   12                2015   \n",
       "23342             среда                   12                2015   \n",
       "\n",
       "      type_of_floor  city_center_in_km  week_of_exposition  \n",
       "3015         другой                8.0                  53  \n",
       "6837      последний               12.0                  53  \n",
       "7409         другой                3.0                  53  \n",
       "9375         другой               15.0                  53  \n",
       "11835     последний                2.0                  53  \n",
       "13047        другой               13.0                  53  \n",
       "13685        другой                2.0                  53  \n",
       "13761        другой                NaN                  53  \n",
       "19347        другой               11.0                  53  \n",
       "21670     последний               30.0                  53  \n",
       "23342        другой                NaN                  53  "
      ]
     },
     "execution_count": 83,
     "metadata": {},
     "output_type": "execute_result"
    }
   ],
   "source": [
    "data[data['week_of_exposition'] == 53] # Проверим аномальную неделю на графике"
   ]
  },
  {
   "cell_type": "markdown",
   "metadata": {},
   "source": [
    "Зависимости общей стоимости квартиры от дня размещения объявления нет. Продавцы сами решают, в какой день выложить объявление, поэтому нецелесообразно искать зависимость цены от даты размещения.\n",
    "\n",
    "На графике зависимости цены квартиры от недели размещения можно заметить, что в последние дни года существует тенденция размещать объявление квартир по значительно большой стоимости. Никакой прямой зависимости нет, однако следует учитывать такой фактор для тех, кто хочет посмотреть квартиры подороже. Вероятно, подоходящих объявлений будет больше в канун Нового года."
   ]
  },
  {
   "cell_type": "markdown",
   "metadata": {},
   "source": [
    "**Выводы:**\n",
    "1. Больше всего влияют на общую стоимость квартиры такие факторы, как количество комнат, тип этажа квартиры.\n",
    "2. Меньше всего влияет на стоимость дата размещения (день, неделя, месяц, год).\n",
    "3. Есть зависимость общей стоимости от площади кухни, общей и жилой площади квартиры."
   ]
  },
  {
   "cell_type": "markdown",
   "metadata": {},
   "source": [
    "##### Средняя цена квадратного метра в десяти населенных пунктах:"
   ]
  },
  {
   "cell_type": "code",
   "execution_count": 84,
   "metadata": {},
   "outputs": [
    {
     "data": {
      "text/html": [
       "<div>\n",
       "<style scoped>\n",
       "    .dataframe tbody tr th:only-of-type {\n",
       "        vertical-align: middle;\n",
       "    }\n",
       "\n",
       "    .dataframe tbody tr th {\n",
       "        vertical-align: top;\n",
       "    }\n",
       "\n",
       "    .dataframe thead th {\n",
       "        text-align: right;\n",
       "    }\n",
       "</style>\n",
       "<table border=\"1\" class=\"dataframe\">\n",
       "  <thead>\n",
       "    <tr style=\"text-align: right;\">\n",
       "      <th></th>\n",
       "      <th>last_price</th>\n",
       "      <th>price_per_square_metre</th>\n",
       "      <th>count_last_price</th>\n",
       "      <th>count_price_per_square_metre</th>\n",
       "    </tr>\n",
       "    <tr>\n",
       "      <th>locality_name</th>\n",
       "      <th></th>\n",
       "      <th></th>\n",
       "      <th></th>\n",
       "      <th></th>\n",
       "    </tr>\n",
       "  </thead>\n",
       "  <tbody>\n",
       "    <tr>\n",
       "      <th>Санкт-Петербург</th>\n",
       "      <td>14910</td>\n",
       "      <td>5450000.0</td>\n",
       "      <td>14910</td>\n",
       "      <td>104188.502764</td>\n",
       "    </tr>\n",
       "    <tr>\n",
       "      <th>Мурино</th>\n",
       "      <td>552</td>\n",
       "      <td>3490000.0</td>\n",
       "      <td>552</td>\n",
       "      <td>85145.665323</td>\n",
       "    </tr>\n",
       "    <tr>\n",
       "      <th>Кудрово</th>\n",
       "      <td>447</td>\n",
       "      <td>3950000.0</td>\n",
       "      <td>447</td>\n",
       "      <td>95185.185185</td>\n",
       "    </tr>\n",
       "    <tr>\n",
       "      <th>Шушары</th>\n",
       "      <td>434</td>\n",
       "      <td>3970000.0</td>\n",
       "      <td>434</td>\n",
       "      <td>76747.967480</td>\n",
       "    </tr>\n",
       "    <tr>\n",
       "      <th>Всеволожск</th>\n",
       "      <td>389</td>\n",
       "      <td>3500000.0</td>\n",
       "      <td>389</td>\n",
       "      <td>65789.473684</td>\n",
       "    </tr>\n",
       "    <tr>\n",
       "      <th>Пушкин</th>\n",
       "      <td>355</td>\n",
       "      <td>5150000.0</td>\n",
       "      <td>355</td>\n",
       "      <td>99706.744868</td>\n",
       "    </tr>\n",
       "    <tr>\n",
       "      <th>Колпино</th>\n",
       "      <td>337</td>\n",
       "      <td>3600000.0</td>\n",
       "      <td>337</td>\n",
       "      <td>74722.222222</td>\n",
       "    </tr>\n",
       "    <tr>\n",
       "      <th>Парголово</th>\n",
       "      <td>315</td>\n",
       "      <td>4100000.0</td>\n",
       "      <td>315</td>\n",
       "      <td>91642.857143</td>\n",
       "    </tr>\n",
       "    <tr>\n",
       "      <th>Гатчина</th>\n",
       "      <td>306</td>\n",
       "      <td>3095000.0</td>\n",
       "      <td>306</td>\n",
       "      <td>67860.569236</td>\n",
       "    </tr>\n",
       "    <tr>\n",
       "      <th>Выборг</th>\n",
       "      <td>233</td>\n",
       "      <td>2897000.0</td>\n",
       "      <td>233</td>\n",
       "      <td>58158.319871</td>\n",
       "    </tr>\n",
       "  </tbody>\n",
       "</table>\n",
       "</div>"
      ],
      "text/plain": [
       "                 last_price  price_per_square_metre  count_last_price  \\\n",
       "locality_name                                                           \n",
       "Санкт-Петербург       14910               5450000.0             14910   \n",
       "Мурино                  552               3490000.0               552   \n",
       "Кудрово                 447               3950000.0               447   \n",
       "Шушары                  434               3970000.0               434   \n",
       "Всеволожск              389               3500000.0               389   \n",
       "Пушкин                  355               5150000.0               355   \n",
       "Колпино                 337               3600000.0               337   \n",
       "Парголово               315               4100000.0               315   \n",
       "Гатчина                 306               3095000.0               306   \n",
       "Выборг                  233               2897000.0               233   \n",
       "\n",
       "                 count_price_per_square_metre  \n",
       "locality_name                                  \n",
       "Санкт-Петербург                 104188.502764  \n",
       "Мурино                           85145.665323  \n",
       "Кудрово                          95185.185185  \n",
       "Шушары                           76747.967480  \n",
       "Всеволожск                       65789.473684  \n",
       "Пушкин                           99706.744868  \n",
       "Колпино                          74722.222222  \n",
       "Парголово                        91642.857143  \n",
       "Гатчина                          67860.569236  \n",
       "Выборг                           58158.319871  "
      ]
     },
     "execution_count": 84,
     "metadata": {},
     "output_type": "execute_result"
    }
   ],
   "source": [
    "top_cities = data.pivot_table(index='locality_name', values=('last_price', 'price_per_square_metre'), aggfunc=('median', 'count'))\n",
    "top_cities.columns=['last_price', 'price_per_square_metre', 'count_last_price', 'count_price_per_square_metre']\n",
    "top_cities.sort_values(by='count_last_price', ascending=False).head(10)"
   ]
  },
  {
   "cell_type": "markdown",
   "metadata": {},
   "source": [
    "**Вывод:** На основе данных можно отметить, что населенными пунктами с самой низкой стоимостью квадратного метра являются Выборг, Всеволжск и Гатчина. Населенные пункты с самой высокой стоимостью квадратного метра - Санкт-Петербург, Пушкин и Кудрово.\n",
    "\n",
    "Населенный пункт с самой дорогой ценой за квадратный метр - Санкт-Петербург, с самой низкой ценой за квадратный метр - Выборг."
   ]
  },
  {
   "cell_type": "markdown",
   "metadata": {},
   "source": [
    "##### Зависимость стоимости квартиры от расстояния до центра города:"
   ]
  },
  {
   "cell_type": "code",
   "execution_count": 85,
   "metadata": {},
   "outputs": [
    {
     "data": {
      "image/png": "[encoded data removed]",
      "text/plain": [
       "<Figure size 640x480 with 1 Axes>"
      ]
     },
     "metadata": {},
     "output_type": "display_data"
    }
   ],
   "source": [
    "data.query('locality_name == \"Санкт-Петербург\"')\\\n",
    "    .pivot_table(index='city_center_in_km', values='price_per_square_metre', aggfunc='median')\\\n",
    "    .plot(grid = True, title = 'Зависимость цены квартиры от расстояния до центра города');"
   ]
  },
  {
   "cell_type": "markdown",
   "metadata": {},
   "source": [
    "**Вывод:** средняя стоимость одного квадратного метра больше, если квартира находится ближе к центру. Важно отметить, что есть район с высокой стоимостью квадратного метра в 27 километрах от центра города. "
   ]
  },
  {
   "cell_type": "markdown",
   "metadata": {},
   "source": [
    "**Вывод к исследованию:** На этом этапе были изучены параметры объектов. Также было изучено, как быстро продавались квартиры, продемонстрирована зависимость общей стоимости от различного рода факторов, была посчитана средняя стоимость одного квадратного метра в 10 населенных пунктах с наибольшим числом объявлений и определена зависимость стоимости квартиры от расстояния до центра города."
   ]
  },
  {
   "cell_type": "markdown",
   "metadata": {},
   "source": [
    "### Общий вывод"
   ]
  },
  {
   "cell_type": "markdown",
   "metadata": {},
   "source": [
    "В процессе работы над проектом были изучены исходные данные из архива объявлений о продаже квартир в Санкт-Петербурге и соседних населенных пунктах. На этапе предобработки были исправлены пропуски в данных, отслежены аномалии в данных. Для того, чтобы провести исследование, необходимо было добавить новые столбцы с информацией о цене квадратного метра, о дате публикации объявления, о типе этажа квартиры и расстоянии до центра города в километрах.\n",
    "\n",
    "В исследовании была отслежена зависимость общей стоимости квартиры от различного рода факторов (параметры квартиры, инфраструктура города, инфраструктура района) для того, чтобы точно определять изменчивость цены при изменении параметров, влияющих на ценообразование. Также были изучены средние показатели стоимости одного квадратного метра объекта среди десяти населенных пунктов с наибольшим количеством объявлений. Для Санкт-Петербурга была выявлена зависимость цены одного квадратного метра от расстояния до центра города. Расчеты были сделаны для того, чтобы отследить различного рода аномалии на рынке недвижимости и минимизировать появление мошеннической деятельности.\n",
    "\n",
    "**Рекомендации:**\n",
    "\n",
    "В исследовании возникли трудности с пользовательскими данными. Для того, чтобы иметь корректное представление о рынке недвижимости и проводить качественные исследования, необходимо запрашивать всю информацию об имуществе у пользователя сервиса. Таким образом, удастся избежать большого количества пропусков в данных.\n",
    "\n",
    "В исследовании также возникли трудности с картографическими данными. Желательно проверить систему, которая выгружает эти данные во избежания возникновения пропусков в большом объеме, не позволяющих провести более точный исследовательский анализ имеющихся данных о рынке недвижимости."
   ]
  }
 ],
 "metadata": {
  "ExecuteTimeLog": [
   {
    "duration": 433,
    "start_time": "2023-01-15T16:18:45.134Z"
   },
   {
    "duration": 79,
    "start_time": "2023-01-15T16:20:09.692Z"
   },
   {
    "duration": 758,
    "start_time": "2023-01-15T16:20:20.010Z"
   },
   {
    "duration": 100,
    "start_time": "2023-01-15T16:20:26.073Z"
   },
   {
    "duration": 119,
    "start_time": "2023-01-15T16:20:46.071Z"
   },
   {
    "duration": 127,
    "start_time": "2023-01-15T16:21:14.566Z"
   },
   {
    "duration": 126,
    "start_time": "2023-01-15T16:21:35.605Z"
   },
   {
    "duration": 31,
    "start_time": "2023-01-15T16:22:04.886Z"
   },
   {
    "duration": 391,
    "start_time": "2023-01-15T16:22:30.609Z"
   },
   {
    "duration": 115,
    "start_time": "2023-01-15T16:22:31.003Z"
   },
   {
    "duration": 52,
    "start_time": "2023-01-15T16:22:31.120Z"
   },
   {
    "duration": 901,
    "start_time": "2023-01-17T21:22:10.605Z"
   },
   {
    "duration": 10,
    "start_time": "2023-01-17T21:22:11.508Z"
   },
   {
    "duration": 14,
    "start_time": "2023-01-17T21:22:11.519Z"
   },
   {
    "duration": 59,
    "start_time": "2023-01-17T21:22:11.536Z"
   },
   {
    "duration": 81,
    "start_time": "2023-01-17T21:22:11.598Z"
   },
   {
    "duration": 0,
    "start_time": "2023-01-17T21:22:11.683Z"
   },
   {
    "duration": 0,
    "start_time": "2023-01-17T21:22:11.684Z"
   },
   {
    "duration": 0,
    "start_time": "2023-01-17T21:22:11.685Z"
   },
   {
    "duration": 0,
    "start_time": "2023-01-17T21:22:11.685Z"
   },
   {
    "duration": 0,
    "start_time": "2023-01-17T21:22:11.686Z"
   },
   {
    "duration": 0,
    "start_time": "2023-01-17T21:22:11.687Z"
   },
   {
    "duration": 0,
    "start_time": "2023-01-17T21:22:11.691Z"
   },
   {
    "duration": 0,
    "start_time": "2023-01-17T21:22:11.692Z"
   },
   {
    "duration": 0,
    "start_time": "2023-01-17T21:22:11.699Z"
   },
   {
    "duration": 0,
    "start_time": "2023-01-17T21:22:11.701Z"
   },
   {
    "duration": 0,
    "start_time": "2023-01-17T21:22:11.702Z"
   },
   {
    "duration": 0,
    "start_time": "2023-01-17T21:22:11.704Z"
   },
   {
    "duration": 0,
    "start_time": "2023-01-17T21:22:11.705Z"
   },
   {
    "duration": 0,
    "start_time": "2023-01-17T21:22:11.707Z"
   },
   {
    "duration": 0,
    "start_time": "2023-01-17T21:22:11.708Z"
   },
   {
    "duration": 0,
    "start_time": "2023-01-17T21:22:11.709Z"
   },
   {
    "duration": 0,
    "start_time": "2023-01-17T21:22:11.710Z"
   },
   {
    "duration": 0,
    "start_time": "2023-01-17T21:22:11.712Z"
   },
   {
    "duration": 0,
    "start_time": "2023-01-17T21:22:11.713Z"
   },
   {
    "duration": 0,
    "start_time": "2023-01-17T21:22:11.715Z"
   },
   {
    "duration": 0,
    "start_time": "2023-01-17T21:22:11.716Z"
   },
   {
    "duration": 0,
    "start_time": "2023-01-17T21:22:11.718Z"
   },
   {
    "duration": 0,
    "start_time": "2023-01-17T21:22:11.720Z"
   },
   {
    "duration": 0,
    "start_time": "2023-01-17T21:22:11.721Z"
   },
   {
    "duration": 0,
    "start_time": "2023-01-17T21:22:11.722Z"
   },
   {
    "duration": 0,
    "start_time": "2023-01-17T21:22:11.724Z"
   },
   {
    "duration": 0,
    "start_time": "2023-01-17T21:22:11.724Z"
   },
   {
    "duration": 0,
    "start_time": "2023-01-17T21:22:11.725Z"
   },
   {
    "duration": 0,
    "start_time": "2023-01-17T21:22:11.726Z"
   },
   {
    "duration": 0,
    "start_time": "2023-01-17T21:22:11.727Z"
   },
   {
    "duration": 0,
    "start_time": "2023-01-17T21:22:11.728Z"
   },
   {
    "duration": 0,
    "start_time": "2023-01-17T21:22:11.785Z"
   },
   {
    "duration": 0,
    "start_time": "2023-01-17T21:22:11.786Z"
   },
   {
    "duration": 0,
    "start_time": "2023-01-17T21:22:11.786Z"
   },
   {
    "duration": 0,
    "start_time": "2023-01-17T21:22:11.787Z"
   },
   {
    "duration": 0,
    "start_time": "2023-01-17T21:22:11.788Z"
   },
   {
    "duration": 0,
    "start_time": "2023-01-17T21:22:11.788Z"
   },
   {
    "duration": 0,
    "start_time": "2023-01-17T21:22:11.789Z"
   },
   {
    "duration": 0,
    "start_time": "2023-01-17T21:22:11.790Z"
   },
   {
    "duration": 0,
    "start_time": "2023-01-17T21:22:11.790Z"
   },
   {
    "duration": 0,
    "start_time": "2023-01-17T21:22:11.791Z"
   },
   {
    "duration": 0,
    "start_time": "2023-01-17T21:22:11.791Z"
   },
   {
    "duration": 0,
    "start_time": "2023-01-17T21:22:11.792Z"
   },
   {
    "duration": 0,
    "start_time": "2023-01-17T21:22:11.793Z"
   },
   {
    "duration": 0,
    "start_time": "2023-01-17T21:22:11.794Z"
   },
   {
    "duration": 0,
    "start_time": "2023-01-17T21:22:11.795Z"
   },
   {
    "duration": 0,
    "start_time": "2023-01-17T21:22:11.797Z"
   },
   {
    "duration": 0,
    "start_time": "2023-01-17T21:22:11.801Z"
   },
   {
    "duration": 0,
    "start_time": "2023-01-17T21:22:11.801Z"
   },
   {
    "duration": 0,
    "start_time": "2023-01-17T21:22:11.803Z"
   },
   {
    "duration": 0,
    "start_time": "2023-01-17T21:22:11.804Z"
   },
   {
    "duration": 0,
    "start_time": "2023-01-17T21:22:11.805Z"
   },
   {
    "duration": 0,
    "start_time": "2023-01-17T21:22:11.806Z"
   },
   {
    "duration": 0,
    "start_time": "2023-01-17T21:22:11.807Z"
   },
   {
    "duration": 0,
    "start_time": "2023-01-17T21:22:11.808Z"
   },
   {
    "duration": 0,
    "start_time": "2023-01-17T21:22:11.810Z"
   },
   {
    "duration": 0,
    "start_time": "2023-01-17T21:22:11.811Z"
   },
   {
    "duration": 0,
    "start_time": "2023-01-17T21:22:11.812Z"
   },
   {
    "duration": 0,
    "start_time": "2023-01-17T21:22:11.813Z"
   },
   {
    "duration": 0,
    "start_time": "2023-01-17T21:22:11.814Z"
   },
   {
    "duration": 0,
    "start_time": "2023-01-17T21:22:11.815Z"
   },
   {
    "duration": 0,
    "start_time": "2023-01-17T21:22:11.816Z"
   },
   {
    "duration": 0,
    "start_time": "2023-01-17T21:22:11.817Z"
   },
   {
    "duration": 0,
    "start_time": "2023-01-17T21:22:11.818Z"
   },
   {
    "duration": 0,
    "start_time": "2023-01-17T21:22:11.819Z"
   },
   {
    "duration": 0,
    "start_time": "2023-01-17T21:22:11.820Z"
   },
   {
    "duration": 0,
    "start_time": "2023-01-17T21:22:11.822Z"
   },
   {
    "duration": 0,
    "start_time": "2023-01-17T21:22:11.885Z"
   },
   {
    "duration": 0,
    "start_time": "2023-01-17T21:22:11.886Z"
   },
   {
    "duration": 0,
    "start_time": "2023-01-17T21:22:11.887Z"
   },
   {
    "duration": 1,
    "start_time": "2023-01-17T21:22:11.888Z"
   },
   {
    "duration": 0,
    "start_time": "2023-01-17T21:22:11.890Z"
   },
   {
    "duration": 1,
    "start_time": "2023-01-17T21:22:11.891Z"
   },
   {
    "duration": 0,
    "start_time": "2023-01-17T21:22:11.893Z"
   },
   {
    "duration": 0,
    "start_time": "2023-01-17T21:22:11.894Z"
   },
   {
    "duration": 707,
    "start_time": "2023-01-17T21:22:47.692Z"
   },
   {
    "duration": 29,
    "start_time": "2023-01-17T21:22:48.401Z"
   },
   {
    "duration": 14,
    "start_time": "2023-01-17T21:22:48.432Z"
   },
   {
    "duration": 84,
    "start_time": "2023-01-17T21:22:48.449Z"
   },
   {
    "duration": 1965,
    "start_time": "2023-01-17T21:22:48.535Z"
   },
   {
    "duration": 8,
    "start_time": "2023-01-17T21:22:50.502Z"
   },
   {
    "duration": 11,
    "start_time": "2023-01-17T21:22:50.512Z"
   },
   {
    "duration": 3923,
    "start_time": "2023-01-17T21:22:50.524Z"
   },
   {
    "duration": 5,
    "start_time": "2023-01-17T21:22:54.449Z"
   },
   {
    "duration": 2175,
    "start_time": "2023-01-17T21:22:54.457Z"
   },
   {
    "duration": 7,
    "start_time": "2023-01-17T21:22:56.634Z"
   },
   {
    "duration": 53,
    "start_time": "2023-01-17T21:22:56.643Z"
   },
   {
    "duration": 6,
    "start_time": "2023-01-17T21:22:56.702Z"
   },
   {
    "duration": 29,
    "start_time": "2023-01-17T21:22:56.710Z"
   },
   {
    "duration": 6,
    "start_time": "2023-01-17T21:22:56.741Z"
   },
   {
    "duration": 99,
    "start_time": "2023-01-17T21:22:56.749Z"
   },
   {
    "duration": 2863,
    "start_time": "2023-01-17T21:22:56.849Z"
   },
   {
    "duration": 90,
    "start_time": "2023-01-17T21:22:59.713Z"
   },
   {
    "duration": 10,
    "start_time": "2023-01-17T21:22:59.805Z"
   },
   {
    "duration": 115,
    "start_time": "2023-01-17T21:22:59.817Z"
   },
   {
    "duration": 162,
    "start_time": "2023-01-17T21:22:59.933Z"
   },
   {
    "duration": 269,
    "start_time": "2023-01-17T21:23:00.102Z"
   },
   {
    "duration": 326,
    "start_time": "2023-01-17T21:23:00.387Z"
   },
   {
    "duration": 202,
    "start_time": "2023-01-17T21:23:00.714Z"
   },
   {
    "duration": 222,
    "start_time": "2023-01-17T21:23:00.917Z"
   },
   {
    "duration": 231,
    "start_time": "2023-01-17T21:23:01.140Z"
   },
   {
    "duration": 225,
    "start_time": "2023-01-17T21:23:01.382Z"
   },
   {
    "duration": 245,
    "start_time": "2023-01-17T21:23:01.611Z"
   },
   {
    "duration": 83,
    "start_time": "2023-01-17T21:23:01.858Z"
   },
   {
    "duration": 21,
    "start_time": "2023-01-17T21:23:01.943Z"
   },
   {
    "duration": 57,
    "start_time": "2023-01-17T21:23:01.966Z"
   },
   {
    "duration": 20,
    "start_time": "2023-01-17T21:23:02.025Z"
   },
   {
    "duration": 45,
    "start_time": "2023-01-17T21:23:02.046Z"
   },
   {
    "duration": 387,
    "start_time": "2023-01-17T21:23:02.092Z"
   },
   {
    "duration": 40,
    "start_time": "2023-01-17T21:23:02.482Z"
   },
   {
    "duration": 19,
    "start_time": "2023-01-17T21:23:02.524Z"
   },
   {
    "duration": 166,
    "start_time": "2023-01-17T21:23:02.545Z"
   },
   {
    "duration": 10,
    "start_time": "2023-01-17T21:23:02.713Z"
   },
   {
    "duration": 165,
    "start_time": "2023-01-17T21:23:02.724Z"
   },
   {
    "duration": 9,
    "start_time": "2023-01-17T21:23:02.894Z"
   },
   {
    "duration": 163,
    "start_time": "2023-01-17T21:23:02.904Z"
   },
   {
    "duration": 5,
    "start_time": "2023-01-17T21:23:03.069Z"
   },
   {
    "duration": 155,
    "start_time": "2023-01-17T21:23:03.083Z"
   },
   {
    "duration": 7,
    "start_time": "2023-01-17T21:23:03.240Z"
   },
   {
    "duration": 176,
    "start_time": "2023-01-17T21:23:03.249Z"
   },
   {
    "duration": 10,
    "start_time": "2023-01-17T21:23:03.428Z"
   },
   {
    "duration": 173,
    "start_time": "2023-01-17T21:23:03.440Z"
   },
   {
    "duration": 11,
    "start_time": "2023-01-17T21:23:03.615Z"
   },
   {
    "duration": 187,
    "start_time": "2023-01-17T21:23:03.628Z"
   },
   {
    "duration": 13,
    "start_time": "2023-01-17T21:23:03.818Z"
   },
   {
    "duration": 169,
    "start_time": "2023-01-17T21:23:03.833Z"
   },
   {
    "duration": 9,
    "start_time": "2023-01-17T21:23:04.003Z"
   },
   {
    "duration": 134,
    "start_time": "2023-01-17T21:23:04.013Z"
   },
   {
    "duration": 10,
    "start_time": "2023-01-17T21:23:04.149Z"
   },
   {
    "duration": 39,
    "start_time": "2023-01-17T21:23:04.161Z"
   },
   {
    "duration": 5,
    "start_time": "2023-01-17T21:23:04.201Z"
   },
   {
    "duration": 192,
    "start_time": "2023-01-17T21:23:04.208Z"
   },
   {
    "duration": 9,
    "start_time": "2023-01-17T21:23:04.405Z"
   },
   {
    "duration": 7,
    "start_time": "2023-01-17T21:23:04.415Z"
   },
   {
    "duration": 181,
    "start_time": "2023-01-17T21:23:04.424Z"
   },
   {
    "duration": 8,
    "start_time": "2023-01-17T21:23:04.607Z"
   },
   {
    "duration": 356,
    "start_time": "2023-01-17T21:23:04.617Z"
   },
   {
    "duration": 179,
    "start_time": "2023-01-17T21:23:04.974Z"
   },
   {
    "duration": 139,
    "start_time": "2023-01-17T21:23:05.155Z"
   },
   {
    "duration": 14,
    "start_time": "2023-01-17T21:23:05.303Z"
   },
   {
    "duration": 158,
    "start_time": "2023-01-17T21:23:05.319Z"
   },
   {
    "duration": 6,
    "start_time": "2023-01-17T21:23:05.482Z"
   },
   {
    "duration": 21,
    "start_time": "2023-01-17T21:23:05.490Z"
   },
   {
    "duration": 124,
    "start_time": "2023-01-17T21:23:05.513Z"
   },
   {
    "duration": 11,
    "start_time": "2023-01-17T21:23:05.640Z"
   },
   {
    "duration": 207,
    "start_time": "2023-01-17T21:23:05.653Z"
   },
   {
    "duration": 183,
    "start_time": "2023-01-17T21:23:05.862Z"
   },
   {
    "duration": 169,
    "start_time": "2023-01-17T21:23:06.047Z"
   },
   {
    "duration": 206,
    "start_time": "2023-01-17T21:23:06.219Z"
   },
   {
    "duration": 205,
    "start_time": "2023-01-17T21:23:06.427Z"
   },
   {
    "duration": 11,
    "start_time": "2023-01-17T21:23:06.634Z"
   },
   {
    "duration": 655,
    "start_time": "2023-01-17T21:23:06.647Z"
   },
   {
    "duration": 34,
    "start_time": "2023-01-17T21:23:07.305Z"
   },
   {
    "duration": 47,
    "start_time": "2023-01-17T21:23:07.342Z"
   },
   {
    "duration": 168,
    "start_time": "2023-01-17T21:23:07.392Z"
   },
   {
    "duration": 264,
    "start_time": "2023-01-17T21:26:58.460Z"
   },
   {
    "duration": 159,
    "start_time": "2023-01-17T21:27:50.309Z"
   },
   {
    "duration": 1129,
    "start_time": "2023-01-19T20:02:04.912Z"
   },
   {
    "duration": 1881,
    "start_time": "2023-01-19T20:23:46.727Z"
   },
   {
    "duration": 120,
    "start_time": "2023-01-19T20:25:48.172Z"
   },
   {
    "duration": 4127,
    "start_time": "2023-01-19T20:25:54.581Z"
   },
   {
    "duration": 83,
    "start_time": "2023-01-19T20:28:34.112Z"
   },
   {
    "duration": 21,
    "start_time": "2023-01-19T20:28:40.180Z"
   },
   {
    "duration": 20,
    "start_time": "2023-01-19T20:28:47.817Z"
   },
   {
    "duration": 754,
    "start_time": "2023-01-19T20:28:54.128Z"
   },
   {
    "duration": 44,
    "start_time": "2023-01-19T20:28:54.884Z"
   },
   {
    "duration": 24,
    "start_time": "2023-01-19T20:28:54.930Z"
   },
   {
    "duration": 109,
    "start_time": "2023-01-19T20:28:54.969Z"
   },
   {
    "duration": 2035,
    "start_time": "2023-01-19T20:28:55.081Z"
   },
   {
    "duration": 9,
    "start_time": "2023-01-19T20:28:57.117Z"
   },
   {
    "duration": 43,
    "start_time": "2023-01-19T20:28:57.128Z"
   },
   {
    "duration": 4583,
    "start_time": "2023-01-19T20:28:57.173Z"
   },
   {
    "duration": 11,
    "start_time": "2023-01-19T20:29:01.757Z"
   },
   {
    "duration": 3133,
    "start_time": "2023-01-19T20:29:01.770Z"
   },
   {
    "duration": 5,
    "start_time": "2023-01-19T20:29:04.904Z"
   },
   {
    "duration": 93,
    "start_time": "2023-01-19T20:29:04.910Z"
   },
   {
    "duration": 16,
    "start_time": "2023-01-19T20:29:05.006Z"
   },
   {
    "duration": 96,
    "start_time": "2023-01-19T20:29:05.026Z"
   },
   {
    "duration": 48,
    "start_time": "2023-01-19T20:29:05.124Z"
   },
   {
    "duration": 207,
    "start_time": "2023-01-19T20:29:05.175Z"
   },
   {
    "duration": 5896,
    "start_time": "2023-01-19T20:29:05.383Z"
   },
   {
    "duration": 119,
    "start_time": "2023-01-19T20:29:11.280Z"
   },
   {
    "duration": 8,
    "start_time": "2023-01-19T20:29:11.401Z"
   },
   {
    "duration": 272,
    "start_time": "2023-01-19T20:29:11.411Z"
   },
   {
    "duration": 284,
    "start_time": "2023-01-19T20:29:11.685Z"
   },
   {
    "duration": 421,
    "start_time": "2023-01-19T20:29:11.971Z"
   },
   {
    "duration": 612,
    "start_time": "2023-01-19T20:29:12.393Z"
   },
   {
    "duration": 470,
    "start_time": "2023-01-19T20:29:13.006Z"
   },
   {
    "duration": 499,
    "start_time": "2023-01-19T20:29:13.478Z"
   },
   {
    "duration": 424,
    "start_time": "2023-01-19T20:29:13.979Z"
   },
   {
    "duration": 499,
    "start_time": "2023-01-19T20:29:14.405Z"
   },
   {
    "duration": 565,
    "start_time": "2023-01-19T20:29:14.908Z"
   },
   {
    "duration": 306,
    "start_time": "2023-01-19T20:29:15.475Z"
   },
   {
    "duration": 20,
    "start_time": "2023-01-19T20:29:15.782Z"
   },
   {
    "duration": 85,
    "start_time": "2023-01-19T20:29:15.804Z"
   },
   {
    "duration": 21,
    "start_time": "2023-01-19T20:29:15.891Z"
   },
   {
    "duration": 23,
    "start_time": "2023-01-19T20:29:15.968Z"
   },
   {
    "duration": 547,
    "start_time": "2023-01-19T20:29:15.992Z"
   },
   {
    "duration": 35,
    "start_time": "2023-01-19T20:29:16.541Z"
   },
   {
    "duration": 11,
    "start_time": "2023-01-19T20:29:16.578Z"
   },
   {
    "duration": 190,
    "start_time": "2023-01-19T20:29:16.590Z"
   },
   {
    "duration": 11,
    "start_time": "2023-01-19T20:29:16.781Z"
   },
   {
    "duration": 160,
    "start_time": "2023-01-19T20:29:16.794Z"
   },
   {
    "duration": 17,
    "start_time": "2023-01-19T20:29:16.956Z"
   },
   {
    "duration": 187,
    "start_time": "2023-01-19T20:29:16.974Z"
   },
   {
    "duration": 5,
    "start_time": "2023-01-19T20:29:17.163Z"
   },
   {
    "duration": 143,
    "start_time": "2023-01-19T20:29:17.170Z"
   },
   {
    "duration": 8,
    "start_time": "2023-01-19T20:29:17.314Z"
   },
   {
    "duration": 179,
    "start_time": "2023-01-19T20:29:17.324Z"
   },
   {
    "duration": 10,
    "start_time": "2023-01-19T20:29:17.505Z"
   },
   {
    "duration": 271,
    "start_time": "2023-01-19T20:29:17.517Z"
   },
   {
    "duration": 9,
    "start_time": "2023-01-19T20:29:17.789Z"
   },
   {
    "duration": 311,
    "start_time": "2023-01-19T20:29:17.800Z"
   },
   {
    "duration": 62,
    "start_time": "2023-01-19T20:29:18.113Z"
   },
   {
    "duration": 233,
    "start_time": "2023-01-19T20:29:18.177Z"
   },
   {
    "duration": 63,
    "start_time": "2023-01-19T20:29:18.412Z"
   },
   {
    "duration": 404,
    "start_time": "2023-01-19T20:29:18.477Z"
   },
   {
    "duration": 10,
    "start_time": "2023-01-19T20:29:18.882Z"
   },
   {
    "duration": 81,
    "start_time": "2023-01-19T20:29:18.893Z"
   },
   {
    "duration": 5,
    "start_time": "2023-01-19T20:29:18.976Z"
   },
   {
    "duration": 423,
    "start_time": "2023-01-19T20:29:18.983Z"
   },
   {
    "duration": 62,
    "start_time": "2023-01-19T20:29:19.408Z"
   },
   {
    "duration": 10,
    "start_time": "2023-01-19T20:29:19.473Z"
   },
   {
    "duration": 303,
    "start_time": "2023-01-19T20:29:19.484Z"
   },
   {
    "duration": 11,
    "start_time": "2023-01-19T20:29:19.788Z"
   },
   {
    "duration": 504,
    "start_time": "2023-01-19T20:29:19.800Z"
   },
   {
    "duration": 384,
    "start_time": "2023-01-19T20:29:20.306Z"
   },
   {
    "duration": 305,
    "start_time": "2023-01-19T20:29:20.691Z"
   },
   {
    "duration": 17,
    "start_time": "2023-01-19T20:29:20.997Z"
   },
   {
    "duration": 319,
    "start_time": "2023-01-19T20:29:21.067Z"
   },
   {
    "duration": 5,
    "start_time": "2023-01-19T20:29:21.388Z"
   },
   {
    "duration": 9,
    "start_time": "2023-01-19T20:29:21.395Z"
   },
   {
    "duration": 263,
    "start_time": "2023-01-19T20:29:21.406Z"
   },
   {
    "duration": 9,
    "start_time": "2023-01-19T20:29:21.671Z"
   },
   {
    "duration": 312,
    "start_time": "2023-01-19T20:29:21.682Z"
   },
   {
    "duration": 305,
    "start_time": "2023-01-19T20:29:21.995Z"
   },
   {
    "duration": 485,
    "start_time": "2023-01-19T20:29:22.302Z"
   },
   {
    "duration": 313,
    "start_time": "2023-01-19T20:29:22.788Z"
   },
   {
    "duration": 292,
    "start_time": "2023-01-19T20:29:23.103Z"
   },
   {
    "duration": 8,
    "start_time": "2023-01-19T20:29:23.396Z"
   },
   {
    "duration": 1364,
    "start_time": "2023-01-19T20:29:23.405Z"
   },
   {
    "duration": 27,
    "start_time": "2023-01-19T20:29:24.771Z"
   },
   {
    "duration": 91,
    "start_time": "2023-01-19T20:29:24.800Z"
   },
   {
    "duration": 394,
    "start_time": "2023-01-19T20:29:24.893Z"
   },
   {
    "duration": 26,
    "start_time": "2023-01-19T20:29:51.757Z"
   },
   {
    "duration": 24,
    "start_time": "2023-01-19T20:30:10.206Z"
   },
   {
    "duration": 85,
    "start_time": "2023-01-19T20:42:13.375Z"
   },
   {
    "duration": 8,
    "start_time": "2023-01-19T20:42:45.714Z"
   },
   {
    "duration": 916,
    "start_time": "2023-01-19T20:48:04.036Z"
   },
   {
    "duration": 926,
    "start_time": "2023-01-19T20:48:09.734Z"
   },
   {
    "duration": 848,
    "start_time": "2023-01-19T20:48:36.669Z"
   },
   {
    "duration": 80,
    "start_time": "2023-01-19T20:48:52.722Z"
   },
   {
    "duration": 15,
    "start_time": "2023-01-19T20:48:57.392Z"
   },
   {
    "duration": 18,
    "start_time": "2023-01-19T20:50:32.853Z"
   },
   {
    "duration": 220,
    "start_time": "2023-01-19T20:51:05.794Z"
   },
   {
    "duration": 228,
    "start_time": "2023-01-19T20:51:26.287Z"
   },
   {
    "duration": 16,
    "start_time": "2023-01-19T20:51:34.314Z"
   },
   {
    "duration": 18,
    "start_time": "2023-01-19T20:56:35.939Z"
   },
   {
    "duration": 22,
    "start_time": "2023-01-19T20:56:41.009Z"
   },
   {
    "duration": 18,
    "start_time": "2023-01-19T20:56:48.052Z"
   },
   {
    "duration": 871,
    "start_time": "2023-01-19T20:57:27.558Z"
   },
   {
    "duration": 715,
    "start_time": "2023-01-19T20:57:54.177Z"
   },
   {
    "duration": 142,
    "start_time": "2023-01-19T20:58:30.079Z"
   },
   {
    "duration": 132,
    "start_time": "2023-01-19T20:59:21.835Z"
   },
   {
    "duration": 5,
    "start_time": "2023-01-19T21:01:29.209Z"
   },
   {
    "duration": 28,
    "start_time": "2023-01-19T21:05:57.885Z"
   },
   {
    "duration": 28,
    "start_time": "2023-01-19T21:06:09.242Z"
   },
   {
    "duration": 27,
    "start_time": "2023-01-19T21:06:14.814Z"
   },
   {
    "duration": 29,
    "start_time": "2023-01-19T21:06:17.138Z"
   },
   {
    "duration": 161,
    "start_time": "2023-01-19T21:07:46.138Z"
   },
   {
    "duration": 155,
    "start_time": "2023-01-19T21:07:57.184Z"
   },
   {
    "duration": 160,
    "start_time": "2023-01-19T21:08:03.910Z"
   },
   {
    "duration": 25,
    "start_time": "2023-01-19T21:11:08.589Z"
   },
   {
    "duration": 23,
    "start_time": "2023-01-19T21:11:12.087Z"
   },
   {
    "duration": 6,
    "start_time": "2023-01-19T21:12:54.873Z"
   },
   {
    "duration": 17,
    "start_time": "2023-01-19T21:13:37.340Z"
   },
   {
    "duration": 16,
    "start_time": "2023-01-19T21:13:42.009Z"
   },
   {
    "duration": 17,
    "start_time": "2023-01-19T21:13:51.852Z"
   },
   {
    "duration": 41,
    "start_time": "2023-01-19T21:14:28.541Z"
   },
   {
    "duration": 27,
    "start_time": "2023-01-19T21:14:35.085Z"
   },
   {
    "duration": 27,
    "start_time": "2023-01-19T21:14:56.154Z"
   },
   {
    "duration": 127,
    "start_time": "2023-01-19T21:24:11.841Z"
   },
   {
    "duration": 5,
    "start_time": "2023-01-19T21:24:22.563Z"
   },
   {
    "duration": 134,
    "start_time": "2023-01-19T21:25:22.903Z"
   },
   {
    "duration": 128,
    "start_time": "2023-01-19T21:25:32.118Z"
   },
   {
    "duration": 130,
    "start_time": "2023-01-19T21:25:56.384Z"
   },
   {
    "duration": 133,
    "start_time": "2023-01-19T21:26:15.686Z"
   },
   {
    "duration": 133,
    "start_time": "2023-01-19T21:26:40.679Z"
   },
   {
    "duration": 6,
    "start_time": "2023-01-19T21:28:27.552Z"
   },
   {
    "duration": 34,
    "start_time": "2023-01-19T22:16:02.436Z"
   },
   {
    "duration": 42,
    "start_time": "2023-01-19T22:16:02.473Z"
   },
   {
    "duration": 96,
    "start_time": "2023-01-19T22:16:02.517Z"
   },
   {
    "duration": 0,
    "start_time": "2023-01-19T22:16:02.617Z"
   },
   {
    "duration": 0,
    "start_time": "2023-01-19T22:16:02.619Z"
   },
   {
    "duration": 0,
    "start_time": "2023-01-19T22:16:02.620Z"
   },
   {
    "duration": 0,
    "start_time": "2023-01-19T22:16:02.622Z"
   },
   {
    "duration": 0,
    "start_time": "2023-01-19T22:16:02.623Z"
   },
   {
    "duration": 0,
    "start_time": "2023-01-19T22:16:02.625Z"
   },
   {
    "duration": 0,
    "start_time": "2023-01-19T22:16:02.626Z"
   },
   {
    "duration": 0,
    "start_time": "2023-01-19T22:16:02.628Z"
   },
   {
    "duration": 0,
    "start_time": "2023-01-19T22:16:02.629Z"
   },
   {
    "duration": 0,
    "start_time": "2023-01-19T22:16:02.631Z"
   },
   {
    "duration": 0,
    "start_time": "2023-01-19T22:16:02.632Z"
   },
   {
    "duration": 0,
    "start_time": "2023-01-19T22:16:02.634Z"
   },
   {
    "duration": 0,
    "start_time": "2023-01-19T22:16:02.635Z"
   },
   {
    "duration": 0,
    "start_time": "2023-01-19T22:16:02.636Z"
   },
   {
    "duration": 0,
    "start_time": "2023-01-19T22:16:02.637Z"
   },
   {
    "duration": 0,
    "start_time": "2023-01-19T22:16:02.638Z"
   },
   {
    "duration": 0,
    "start_time": "2023-01-19T22:16:02.639Z"
   },
   {
    "duration": 0,
    "start_time": "2023-01-19T22:16:02.640Z"
   },
   {
    "duration": 0,
    "start_time": "2023-01-19T22:16:02.641Z"
   },
   {
    "duration": 0,
    "start_time": "2023-01-19T22:16:02.642Z"
   },
   {
    "duration": 0,
    "start_time": "2023-01-19T22:16:02.643Z"
   },
   {
    "duration": 0,
    "start_time": "2023-01-19T22:16:02.644Z"
   },
   {
    "duration": 0,
    "start_time": "2023-01-19T22:16:02.645Z"
   },
   {
    "duration": 0,
    "start_time": "2023-01-19T22:16:02.646Z"
   },
   {
    "duration": 0,
    "start_time": "2023-01-19T22:16:02.647Z"
   },
   {
    "duration": 0,
    "start_time": "2023-01-19T22:16:02.694Z"
   },
   {
    "duration": 0,
    "start_time": "2023-01-19T22:16:02.702Z"
   },
   {
    "duration": 0,
    "start_time": "2023-01-19T22:16:02.703Z"
   },
   {
    "duration": 0,
    "start_time": "2023-01-19T22:16:02.704Z"
   },
   {
    "duration": 0,
    "start_time": "2023-01-19T22:16:02.710Z"
   },
   {
    "duration": 0,
    "start_time": "2023-01-19T22:16:02.711Z"
   },
   {
    "duration": 0,
    "start_time": "2023-01-19T22:16:02.711Z"
   },
   {
    "duration": 0,
    "start_time": "2023-01-19T22:16:02.714Z"
   },
   {
    "duration": 0,
    "start_time": "2023-01-19T22:16:02.715Z"
   },
   {
    "duration": 0,
    "start_time": "2023-01-19T22:16:02.716Z"
   },
   {
    "duration": 0,
    "start_time": "2023-01-19T22:16:02.717Z"
   },
   {
    "duration": 0,
    "start_time": "2023-01-19T22:16:02.718Z"
   },
   {
    "duration": 0,
    "start_time": "2023-01-19T22:16:02.719Z"
   },
   {
    "duration": 0,
    "start_time": "2023-01-19T22:16:02.721Z"
   },
   {
    "duration": 0,
    "start_time": "2023-01-19T22:16:02.722Z"
   },
   {
    "duration": 0,
    "start_time": "2023-01-19T22:16:02.724Z"
   },
   {
    "duration": 0,
    "start_time": "2023-01-19T22:16:02.725Z"
   },
   {
    "duration": 0,
    "start_time": "2023-01-19T22:16:02.725Z"
   },
   {
    "duration": 0,
    "start_time": "2023-01-19T22:16:02.727Z"
   },
   {
    "duration": 0,
    "start_time": "2023-01-19T22:16:02.728Z"
   },
   {
    "duration": 0,
    "start_time": "2023-01-19T22:16:02.730Z"
   },
   {
    "duration": 0,
    "start_time": "2023-01-19T22:16:02.732Z"
   },
   {
    "duration": 0,
    "start_time": "2023-01-19T22:16:02.733Z"
   },
   {
    "duration": 0,
    "start_time": "2023-01-19T22:16:02.736Z"
   },
   {
    "duration": 0,
    "start_time": "2023-01-19T22:16:02.737Z"
   },
   {
    "duration": 0,
    "start_time": "2023-01-19T22:16:02.739Z"
   },
   {
    "duration": 0,
    "start_time": "2023-01-19T22:16:02.740Z"
   },
   {
    "duration": 0,
    "start_time": "2023-01-19T22:16:02.741Z"
   },
   {
    "duration": 0,
    "start_time": "2023-01-19T22:16:02.797Z"
   },
   {
    "duration": 0,
    "start_time": "2023-01-19T22:16:02.798Z"
   },
   {
    "duration": 0,
    "start_time": "2023-01-19T22:16:02.798Z"
   },
   {
    "duration": 0,
    "start_time": "2023-01-19T22:16:02.799Z"
   },
   {
    "duration": 0,
    "start_time": "2023-01-19T22:16:02.800Z"
   },
   {
    "duration": 0,
    "start_time": "2023-01-19T22:16:02.800Z"
   },
   {
    "duration": 0,
    "start_time": "2023-01-19T22:16:02.801Z"
   },
   {
    "duration": 0,
    "start_time": "2023-01-19T22:16:02.802Z"
   },
   {
    "duration": 0,
    "start_time": "2023-01-19T22:16:02.802Z"
   },
   {
    "duration": 0,
    "start_time": "2023-01-19T22:16:02.803Z"
   },
   {
    "duration": 0,
    "start_time": "2023-01-19T22:16:02.803Z"
   },
   {
    "duration": 0,
    "start_time": "2023-01-19T22:16:02.804Z"
   },
   {
    "duration": 0,
    "start_time": "2023-01-19T22:16:02.805Z"
   },
   {
    "duration": 0,
    "start_time": "2023-01-19T22:16:02.805Z"
   },
   {
    "duration": 0,
    "start_time": "2023-01-19T22:16:02.810Z"
   },
   {
    "duration": 0,
    "start_time": "2023-01-19T22:16:02.811Z"
   },
   {
    "duration": 0,
    "start_time": "2023-01-19T22:16:02.812Z"
   },
   {
    "duration": 0,
    "start_time": "2023-01-19T22:16:02.813Z"
   },
   {
    "duration": 0,
    "start_time": "2023-01-19T22:16:02.814Z"
   },
   {
    "duration": 0,
    "start_time": "2023-01-19T22:16:02.815Z"
   },
   {
    "duration": 0,
    "start_time": "2023-01-19T22:16:02.818Z"
   },
   {
    "duration": 0,
    "start_time": "2023-01-19T22:16:02.819Z"
   },
   {
    "duration": 0,
    "start_time": "2023-01-19T22:16:02.820Z"
   },
   {
    "duration": 0,
    "start_time": "2023-01-19T22:16:02.822Z"
   },
   {
    "duration": 0,
    "start_time": "2023-01-19T22:16:02.824Z"
   },
   {
    "duration": 731,
    "start_time": "2023-01-19T22:16:50.722Z"
   },
   {
    "duration": 55,
    "start_time": "2023-01-19T22:16:51.456Z"
   },
   {
    "duration": 22,
    "start_time": "2023-01-19T22:16:51.513Z"
   },
   {
    "duration": 92,
    "start_time": "2023-01-19T22:16:51.538Z"
   },
   {
    "duration": 1994,
    "start_time": "2023-01-19T22:16:51.632Z"
   },
   {
    "duration": 9,
    "start_time": "2023-01-19T22:16:53.628Z"
   },
   {
    "duration": 10,
    "start_time": "2023-01-19T22:16:53.639Z"
   },
   {
    "duration": 4535,
    "start_time": "2023-01-19T22:16:53.651Z"
   },
   {
    "duration": 18,
    "start_time": "2023-01-19T22:16:58.188Z"
   },
   {
    "duration": 2425,
    "start_time": "2023-01-19T22:16:58.209Z"
   },
   {
    "duration": 6,
    "start_time": "2023-01-19T22:17:00.636Z"
   },
   {
    "duration": 90,
    "start_time": "2023-01-19T22:17:00.644Z"
   },
   {
    "duration": 5,
    "start_time": "2023-01-19T22:17:00.736Z"
   },
   {
    "duration": 57,
    "start_time": "2023-01-19T22:17:00.744Z"
   },
   {
    "duration": 34,
    "start_time": "2023-01-19T22:17:00.802Z"
   },
   {
    "duration": 14,
    "start_time": "2023-01-19T22:17:00.839Z"
   },
   {
    "duration": 114,
    "start_time": "2023-01-19T22:17:00.855Z"
   },
   {
    "duration": 3469,
    "start_time": "2023-01-19T22:17:00.970Z"
   },
   {
    "duration": 91,
    "start_time": "2023-01-19T22:17:04.441Z"
   },
   {
    "duration": 8,
    "start_time": "2023-01-19T22:17:04.534Z"
   },
   {
    "duration": 133,
    "start_time": "2023-01-19T22:17:04.544Z"
   },
   {
    "duration": 159,
    "start_time": "2023-01-19T22:17:04.679Z"
   },
   {
    "duration": 273,
    "start_time": "2023-01-19T22:17:04.840Z"
   },
   {
    "duration": 336,
    "start_time": "2023-01-19T22:17:05.114Z"
   },
   {
    "duration": 249,
    "start_time": "2023-01-19T22:17:05.452Z"
   },
   {
    "duration": 213,
    "start_time": "2023-01-19T22:17:05.703Z"
   },
   {
    "duration": 236,
    "start_time": "2023-01-19T22:17:05.917Z"
   },
   {
    "duration": 263,
    "start_time": "2023-01-19T22:17:06.157Z"
   },
   {
    "duration": 248,
    "start_time": "2023-01-19T22:17:06.422Z"
   },
   {
    "duration": 145,
    "start_time": "2023-01-19T22:17:06.671Z"
   },
   {
    "duration": 23,
    "start_time": "2023-01-19T22:17:06.818Z"
   },
   {
    "duration": 34,
    "start_time": "2023-01-19T22:17:06.843Z"
   },
   {
    "duration": 33,
    "start_time": "2023-01-19T22:17:06.894Z"
   },
   {
    "duration": 23,
    "start_time": "2023-01-19T22:17:06.928Z"
   },
   {
    "duration": 317,
    "start_time": "2023-01-19T22:17:06.953Z"
   },
   {
    "duration": 42,
    "start_time": "2023-01-19T22:17:07.272Z"
   },
   {
    "duration": 10,
    "start_time": "2023-01-19T22:17:07.316Z"
   },
   {
    "duration": 191,
    "start_time": "2023-01-19T22:17:07.327Z"
   },
   {
    "duration": 10,
    "start_time": "2023-01-19T22:17:07.520Z"
   },
   {
    "duration": 153,
    "start_time": "2023-01-19T22:17:07.531Z"
   },
   {
    "duration": 12,
    "start_time": "2023-01-19T22:17:07.686Z"
   },
   {
    "duration": 175,
    "start_time": "2023-01-19T22:17:07.701Z"
   },
   {
    "duration": 5,
    "start_time": "2023-01-19T22:17:07.878Z"
   },
   {
    "duration": 163,
    "start_time": "2023-01-19T22:17:07.893Z"
   },
   {
    "duration": 12,
    "start_time": "2023-01-19T22:17:08.059Z"
   },
   {
    "duration": 233,
    "start_time": "2023-01-19T22:17:08.072Z"
   },
   {
    "duration": 13,
    "start_time": "2023-01-19T22:17:08.307Z"
   },
   {
    "duration": 154,
    "start_time": "2023-01-19T22:17:08.321Z"
   },
   {
    "duration": 28,
    "start_time": "2023-01-19T22:17:08.477Z"
   },
   {
    "duration": 177,
    "start_time": "2023-01-19T22:17:08.509Z"
   },
   {
    "duration": 19,
    "start_time": "2023-01-19T22:17:08.687Z"
   },
   {
    "duration": 140,
    "start_time": "2023-01-19T22:17:08.710Z"
   },
   {
    "duration": 10,
    "start_time": "2023-01-19T22:17:08.852Z"
   },
   {
    "duration": 224,
    "start_time": "2023-01-19T22:17:08.864Z"
   },
   {
    "duration": 15,
    "start_time": "2023-01-19T22:17:09.095Z"
   },
   {
    "duration": 39,
    "start_time": "2023-01-19T22:17:09.113Z"
   },
   {
    "duration": 4,
    "start_time": "2023-01-19T22:17:09.153Z"
   },
   {
    "duration": 173,
    "start_time": "2023-01-19T22:17:09.159Z"
   },
   {
    "duration": 10,
    "start_time": "2023-01-19T22:17:09.333Z"
   },
   {
    "duration": 16,
    "start_time": "2023-01-19T22:17:09.345Z"
   },
   {
    "duration": 158,
    "start_time": "2023-01-19T22:17:09.363Z"
   },
   {
    "duration": 9,
    "start_time": "2023-01-19T22:17:09.523Z"
   },
   {
    "duration": 291,
    "start_time": "2023-01-19T22:17:09.534Z"
   },
   {
    "duration": 170,
    "start_time": "2023-01-19T22:17:09.826Z"
   },
   {
    "duration": 142,
    "start_time": "2023-01-19T22:17:09.997Z"
   },
   {
    "duration": 178,
    "start_time": "2023-01-19T22:17:10.141Z"
   },
   {
    "duration": 5,
    "start_time": "2023-01-19T22:17:10.320Z"
   },
   {
    "duration": 12,
    "start_time": "2023-01-19T22:17:10.327Z"
   },
   {
    "duration": 135,
    "start_time": "2023-01-19T22:17:10.341Z"
   },
   {
    "duration": 19,
    "start_time": "2023-01-19T22:17:10.478Z"
   },
   {
    "duration": 156,
    "start_time": "2023-01-19T22:17:10.498Z"
   },
   {
    "duration": 5,
    "start_time": "2023-01-19T22:17:10.656Z"
   },
   {
    "duration": 159,
    "start_time": "2023-01-19T22:17:10.662Z"
   },
   {
    "duration": 6,
    "start_time": "2023-01-19T22:17:10.823Z"
   },
   {
    "duration": 245,
    "start_time": "2023-01-19T22:17:10.831Z"
   },
   {
    "duration": 5,
    "start_time": "2023-01-19T22:17:11.078Z"
   },
   {
    "duration": 183,
    "start_time": "2023-01-19T22:17:11.093Z"
   },
   {
    "duration": 176,
    "start_time": "2023-01-19T22:17:11.278Z"
   },
   {
    "duration": 7,
    "start_time": "2023-01-19T22:17:11.456Z"
   },
   {
    "duration": 660,
    "start_time": "2023-01-19T22:17:11.465Z"
   },
   {
    "duration": 35,
    "start_time": "2023-01-19T22:17:12.126Z"
   },
   {
    "duration": 61,
    "start_time": "2023-01-19T22:17:12.166Z"
   },
   {
    "duration": 188,
    "start_time": "2023-01-19T22:17:12.229Z"
   }
  ],
  "kernelspec": {
   "display_name": "Python 3 (ipykernel)",
   "language": "python",
   "name": "python3"
  },
  "language_info": {
   "codemirror_mode": {
    "name": "ipython",
    "version": 3
   },
   "file_extension": ".py",
   "mimetype": "text/x-python",
   "name": "python",
   "nbconvert_exporter": "python",
   "pygments_lexer": "ipython3",
   "version": "3.9.13"
  },
  "toc": {
   "base_numbering": 1,
   "nav_menu": {},
   "number_sections": true,
   "sideBar": true,
   "skip_h1_title": true,
   "title_cell": "Table of Contents",
   "title_sidebar": "Contents",
   "toc_cell": false,
   "toc_position": {
    "height": "calc(100% - 180px)",
    "left": "10px",
    "top": "150px",
    "width": "165px"
   },
   "toc_section_display": true,
   "toc_window_display": true
  },
  "vscode": {
   "interpreter": {
    "hash": "abe6e74ac036534443e39d56336447c8749d759729ebe44fdc71c77b10e010f8"
   }
  }
 },
 "nbformat": 4,
 "nbformat_minor": 2
}
