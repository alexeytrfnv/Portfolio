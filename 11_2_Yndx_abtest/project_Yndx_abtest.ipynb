{
 "cells": [
  {
   "cell_type": "markdown",
   "metadata": {},
   "source": [
    "# Анализ A/B-теста\n",
    "\n",
    "**Описание проекта:**\n",
    "\n",
    "В нашем распоряжении есть датасет с действиями пользователей, техническое задание и несколько вспомогательных датасетов.\n",
    "\n",
    "**Задача исследования:**\n",
    "\n",
    "Оцените корректность проведения теста и проанализируйте его результаты.\n",
    "\n",
    "Чтобы оценить корректность проведения теста:\n",
    "\n",
    "- удостоверьтесь, что нет пересечений с конкурирующим тестом и нет пользователей, участвующих в двух группах теста одновременно;\n",
    "- проверьте равномерность распределения пользователей по тестовым группам и правильность их формирования.\n",
    "\n",
    "**Цель исследования:**\n",
    "\n",
    "Провести анализ результатов A/B-теста с целью удостовериться в корректности проведения тестирования."
   ]
  },
  {
   "cell_type": "markdown",
   "metadata": {},
   "source": [
    "## Описание данных\n",
    "\n",
    "`ab_project_marketing_events.csv` — календарь маркетинговых событий на 2020 год.\n",
    "\n",
    "Структура файла:\n",
    "\n",
    "- `name` — название маркетингового события;\n",
    "- `regions` — регионы, в которых будет проводиться рекламная кампания;\n",
    "- `start_dt` — дата начала кампании;\n",
    "- `finish_dt` — дата завершения кампании.\n",
    "\n",
    "`final_ab_new_users.csv` — пользователи, зарегистрировавшиеся с 7 до 21 декабря 2020 года.\n",
    "\n",
    "Структура файла:\n",
    "\n",
    "- `user_id` — идентификатор пользователя;\n",
    "- `first_date` — дата регистрации;\n",
    "- `region` — регион пользователя;\n",
    "- `device` — устройство, с которого происходила регистрация.\n",
    "\n",
    "`final_ab_events.csv` — действия новых пользователей в период с 7 декабря 2020 по 4 января 2021 года.\n",
    "\n",
    "Структура файла:\n",
    "\n",
    "- `user_id` — идентификатор пользователя;\n",
    "- `event_dt` — дата и время события;\n",
    "- `event_name` — тип события;\n",
    "- `details` — дополнительные данные о событии. Например, для покупок, `purchase`, в этом поле хранится стоимость покупки в долларах.\n",
    "\n",
    "`final_ab_participants.csv` — таблица участников тестов.\n",
    "\n",
    "Структура файла:\n",
    "\n",
    "- `user_id` — идентификатор пользователя;\n",
    "- `ab_test` — название теста;\n",
    "- `group` — группа пользователя."
   ]
  },
  {
   "cell_type": "markdown",
   "metadata": {},
   "source": [
    "## Содержание\n",
    "\n",
    "- Изучение исходных данных\n",
    "- Предобработка данных\n",
    "- Оценка корректности проведения теста: соответствие данных требованиям технического задания\n",
    "- Проведение исследовательского анализа\n",
    "    - Количество событий на пользователя в выборках\n",
    "    - Число событий в выборках по дням\n",
    "    - Изменение конверсии в воронке в выборках на разных этапах\n",
    "    - Какие особенности данных необходимо учесть, прежде чем приступить к A/B-тесту?\n",
    "- Оценка результатов A/B-тестирования\n",
    "    - Оценка результатов A/B-теста\n",
    "    - Проверка статистической разницы долей z-критерием\n",
    "- Формулирование выводов"
   ]
  },
  {
   "cell_type": "markdown",
   "metadata": {},
   "source": [
    "### Изучение исходных данных"
   ]
  },
  {
   "cell_type": "markdown",
   "metadata": {},
   "source": [
    "#### Импорт библиотек и создание датафреймов"
   ]
  },
  {
   "cell_type": "markdown",
   "metadata": {},
   "source": [
    "**Импортируем все необходимые библиотеки:**"
   ]
  },
  {
   "cell_type": "code",
   "execution_count": 1,
   "metadata": {},
   "outputs": [],
   "source": [
    "import pandas as pd\n",
    "import seaborn as sns\n",
    "import numpy as np\n",
    "import math as mth\n",
    "from scipy import stats as st\n",
    "import warnings\n",
    "warnings.filterwarnings('ignore')\n",
    "import matplotlib.pyplot as plt\n",
    "%matplotlib inline\n",
    "import datetime as dt\n",
    "from datetime import timedelta\n",
    "from plotly import graph_objects as go\n",
    "\n",
    "pd.set_option('display.max_columns', None)\n",
    "pd.options.display.float_format = '{:,.2f}'.format\n",
    "pd.set_option('display.max_colwidth', -1)"
   ]
  },
  {
   "cell_type": "markdown",
   "metadata": {},
   "source": [
    "**Создадим датафреймы с данными из файлов:**"
   ]
  },
  {
   "cell_type": "code",
   "execution_count": 2,
   "metadata": {},
   "outputs": [],
   "source": [
    "try:\n",
    "    events = pd.read_csv('final_ab_events.csv')  \n",
    "    marketing_events = pd.read_csv('ab_project_marketing_events.csv')  \n",
    "    new_users = pd.read_csv('final_ab_new_users.csv')  \n",
    "    participants = pd.read_csv('final_ab_participants.csv')  \n",
    "except:\n",
    "    events = pd.read_csv('/datasets/final_ab_events.csv')\n",
    "    marketing_events = pd.read_csv('/datasets/ab_project_marketing_events.csv')\n",
    "    new_users = pd.read_csv('/datasets/final_ab_new_users.csv')\n",
    "    participants = pd.read_csv('/datasets/final_ab_participants.csv')"
   ]
  },
  {
   "cell_type": "markdown",
   "metadata": {},
   "source": [
    "#### Изучение информации о датафреймах"
   ]
  },
  {
   "cell_type": "markdown",
   "metadata": {},
   "source": [
    "**Датафрейм `events`:**"
   ]
  },
  {
   "cell_type": "code",
   "execution_count": 3,
   "metadata": {},
   "outputs": [
    {
     "name": "stdout",
     "output_type": "stream",
     "text": [
      "<class 'pandas.core.frame.DataFrame'>\n",
      "RangeIndex: 440317 entries, 0 to 440316\n",
      "Data columns (total 4 columns):\n",
      " #   Column      Non-Null Count   Dtype  \n",
      "---  ------      --------------   -----  \n",
      " 0   user_id     440317 non-null  object \n",
      " 1   event_dt    440317 non-null  object \n",
      " 2   event_name  440317 non-null  object \n",
      " 3   details     62740 non-null   float64\n",
      "dtypes: float64(1), object(3)\n",
      "memory usage: 13.4+ MB\n"
     ]
    }
   ],
   "source": [
    "events.info() # вывод общей информации о столбцах"
   ]
  },
  {
   "cell_type": "code",
   "execution_count": 4,
   "metadata": {},
   "outputs": [
    {
     "data": {
      "text/html": [
       "<div>\n",
       "<style scoped>\n",
       "    .dataframe tbody tr th:only-of-type {\n",
       "        vertical-align: middle;\n",
       "    }\n",
       "\n",
       "    .dataframe tbody tr th {\n",
       "        vertical-align: top;\n",
       "    }\n",
       "\n",
       "    .dataframe thead th {\n",
       "        text-align: right;\n",
       "    }\n",
       "</style>\n",
       "<table border=\"1\" class=\"dataframe\">\n",
       "  <thead>\n",
       "    <tr style=\"text-align: right;\">\n",
       "      <th></th>\n",
       "      <th>user_id</th>\n",
       "      <th>event_dt</th>\n",
       "      <th>event_name</th>\n",
       "      <th>details</th>\n",
       "    </tr>\n",
       "  </thead>\n",
       "  <tbody>\n",
       "    <tr>\n",
       "      <th>0</th>\n",
       "      <td>E1BDDCE0DAFA2679</td>\n",
       "      <td>2020-12-07 20:22:03</td>\n",
       "      <td>purchase</td>\n",
       "      <td>99.99</td>\n",
       "    </tr>\n",
       "    <tr>\n",
       "      <th>1</th>\n",
       "      <td>7B6452F081F49504</td>\n",
       "      <td>2020-12-07 09:22:53</td>\n",
       "      <td>purchase</td>\n",
       "      <td>9.99</td>\n",
       "    </tr>\n",
       "    <tr>\n",
       "      <th>2</th>\n",
       "      <td>9CD9F34546DF254C</td>\n",
       "      <td>2020-12-07 12:59:29</td>\n",
       "      <td>purchase</td>\n",
       "      <td>4.99</td>\n",
       "    </tr>\n",
       "    <tr>\n",
       "      <th>3</th>\n",
       "      <td>96F27A054B191457</td>\n",
       "      <td>2020-12-07 04:02:40</td>\n",
       "      <td>purchase</td>\n",
       "      <td>4.99</td>\n",
       "    </tr>\n",
       "    <tr>\n",
       "      <th>4</th>\n",
       "      <td>1FD7660FDF94CA1F</td>\n",
       "      <td>2020-12-07 10:15:09</td>\n",
       "      <td>purchase</td>\n",
       "      <td>4.99</td>\n",
       "    </tr>\n",
       "  </tbody>\n",
       "</table>\n",
       "</div>"
      ],
      "text/plain": [
       "            user_id             event_dt event_name  details\n",
       "0  E1BDDCE0DAFA2679  2020-12-07 20:22:03  purchase  99.99   \n",
       "1  7B6452F081F49504  2020-12-07 09:22:53  purchase  9.99    \n",
       "2  9CD9F34546DF254C  2020-12-07 12:59:29  purchase  4.99    \n",
       "3  96F27A054B191457  2020-12-07 04:02:40  purchase  4.99    \n",
       "4  1FD7660FDF94CA1F  2020-12-07 10:15:09  purchase  4.99    "
      ]
     },
     "execution_count": 4,
     "metadata": {},
     "output_type": "execute_result"
    }
   ],
   "source": [
    "events.head() # вывод первых 5 строк"
   ]
  },
  {
   "cell_type": "code",
   "execution_count": 5,
   "metadata": {},
   "outputs": [
    {
     "name": "stdout",
     "output_type": "stream",
     "text": [
      "2020-12-07 00:00:33 2020-12-30 23:36:33\n"
     ]
    }
   ],
   "source": [
    "print(events['event_dt'].min(), events['event_dt'].max())"
   ]
  },
  {
   "cell_type": "code",
   "execution_count": 6,
   "metadata": {},
   "outputs": [
    {
     "data": {
      "text/plain": [
       "user_id       0     \n",
       "event_dt      0     \n",
       "event_name    0     \n",
       "details       377577\n",
       "dtype: int64"
      ]
     },
     "execution_count": 6,
     "metadata": {},
     "output_type": "execute_result"
    }
   ],
   "source": [
    "events.isna().sum() # проверка на пропуски"
   ]
  },
  {
   "cell_type": "code",
   "execution_count": 7,
   "metadata": {},
   "outputs": [
    {
     "name": "stdout",
     "output_type": "stream",
     "text": [
      "Количество дубликатов: 0\n"
     ]
    }
   ],
   "source": [
    "print('Количество дубликатов:', events.duplicated().sum())"
   ]
  },
  {
   "cell_type": "markdown",
   "metadata": {},
   "source": [
    "**Датафрейм `marketing_events`:**"
   ]
  },
  {
   "cell_type": "code",
   "execution_count": 8,
   "metadata": {},
   "outputs": [
    {
     "name": "stdout",
     "output_type": "stream",
     "text": [
      "<class 'pandas.core.frame.DataFrame'>\n",
      "RangeIndex: 14 entries, 0 to 13\n",
      "Data columns (total 4 columns):\n",
      " #   Column     Non-Null Count  Dtype \n",
      "---  ------     --------------  ----- \n",
      " 0   name       14 non-null     object\n",
      " 1   regions    14 non-null     object\n",
      " 2   start_dt   14 non-null     object\n",
      " 3   finish_dt  14 non-null     object\n",
      "dtypes: object(4)\n",
      "memory usage: 576.0+ bytes\n"
     ]
    }
   ],
   "source": [
    "marketing_events.info() # вывод общей информации о столбцах"
   ]
  },
  {
   "cell_type": "code",
   "execution_count": 9,
   "metadata": {},
   "outputs": [
    {
     "data": {
      "text/html": [
       "<div>\n",
       "<style scoped>\n",
       "    .dataframe tbody tr th:only-of-type {\n",
       "        vertical-align: middle;\n",
       "    }\n",
       "\n",
       "    .dataframe tbody tr th {\n",
       "        vertical-align: top;\n",
       "    }\n",
       "\n",
       "    .dataframe thead th {\n",
       "        text-align: right;\n",
       "    }\n",
       "</style>\n",
       "<table border=\"1\" class=\"dataframe\">\n",
       "  <thead>\n",
       "    <tr style=\"text-align: right;\">\n",
       "      <th></th>\n",
       "      <th>name</th>\n",
       "      <th>regions</th>\n",
       "      <th>start_dt</th>\n",
       "      <th>finish_dt</th>\n",
       "    </tr>\n",
       "  </thead>\n",
       "  <tbody>\n",
       "    <tr>\n",
       "      <th>0</th>\n",
       "      <td>Christmas&amp;New Year Promo</td>\n",
       "      <td>EU, N.America</td>\n",
       "      <td>2020-12-25</td>\n",
       "      <td>2021-01-03</td>\n",
       "    </tr>\n",
       "    <tr>\n",
       "      <th>1</th>\n",
       "      <td>St. Valentine's Day Giveaway</td>\n",
       "      <td>EU, CIS, APAC, N.America</td>\n",
       "      <td>2020-02-14</td>\n",
       "      <td>2020-02-16</td>\n",
       "    </tr>\n",
       "    <tr>\n",
       "      <th>2</th>\n",
       "      <td>St. Patric's Day Promo</td>\n",
       "      <td>EU, N.America</td>\n",
       "      <td>2020-03-17</td>\n",
       "      <td>2020-03-19</td>\n",
       "    </tr>\n",
       "    <tr>\n",
       "      <th>3</th>\n",
       "      <td>Easter Promo</td>\n",
       "      <td>EU, CIS, APAC, N.America</td>\n",
       "      <td>2020-04-12</td>\n",
       "      <td>2020-04-19</td>\n",
       "    </tr>\n",
       "    <tr>\n",
       "      <th>4</th>\n",
       "      <td>4th of July Promo</td>\n",
       "      <td>N.America</td>\n",
       "      <td>2020-07-04</td>\n",
       "      <td>2020-07-11</td>\n",
       "    </tr>\n",
       "  </tbody>\n",
       "</table>\n",
       "</div>"
      ],
      "text/plain": [
       "                           name                   regions    start_dt  \\\n",
       "0  Christmas&New Year Promo      EU, N.America             2020-12-25   \n",
       "1  St. Valentine's Day Giveaway  EU, CIS, APAC, N.America  2020-02-14   \n",
       "2  St. Patric's Day Promo        EU, N.America             2020-03-17   \n",
       "3  Easter Promo                  EU, CIS, APAC, N.America  2020-04-12   \n",
       "4  4th of July Promo             N.America                 2020-07-04   \n",
       "\n",
       "    finish_dt  \n",
       "0  2021-01-03  \n",
       "1  2020-02-16  \n",
       "2  2020-03-19  \n",
       "3  2020-04-19  \n",
       "4  2020-07-11  "
      ]
     },
     "execution_count": 9,
     "metadata": {},
     "output_type": "execute_result"
    }
   ],
   "source": [
    "marketing_events.head() # вывод первых 5 строк"
   ]
  },
  {
   "cell_type": "code",
   "execution_count": 10,
   "metadata": {},
   "outputs": [
    {
     "data": {
      "text/plain": [
       "name         0\n",
       "regions      0\n",
       "start_dt     0\n",
       "finish_dt    0\n",
       "dtype: int64"
      ]
     },
     "execution_count": 10,
     "metadata": {},
     "output_type": "execute_result"
    }
   ],
   "source": [
    "marketing_events.isna().sum() # проверка на пропуски"
   ]
  },
  {
   "cell_type": "code",
   "execution_count": 11,
   "metadata": {},
   "outputs": [
    {
     "name": "stdout",
     "output_type": "stream",
     "text": [
      "Количество дубликатов: 0\n"
     ]
    }
   ],
   "source": [
    "print('Количество дубликатов:', marketing_events.duplicated().sum())"
   ]
  },
  {
   "cell_type": "markdown",
   "metadata": {},
   "source": [
    "**Датафрейм `new_users`:**"
   ]
  },
  {
   "cell_type": "code",
   "execution_count": 12,
   "metadata": {},
   "outputs": [
    {
     "name": "stdout",
     "output_type": "stream",
     "text": [
      "<class 'pandas.core.frame.DataFrame'>\n",
      "RangeIndex: 61733 entries, 0 to 61732\n",
      "Data columns (total 4 columns):\n",
      " #   Column      Non-Null Count  Dtype \n",
      "---  ------      --------------  ----- \n",
      " 0   user_id     61733 non-null  object\n",
      " 1   first_date  61733 non-null  object\n",
      " 2   region      61733 non-null  object\n",
      " 3   device      61733 non-null  object\n",
      "dtypes: object(4)\n",
      "memory usage: 1.9+ MB\n"
     ]
    }
   ],
   "source": [
    "new_users.info() # вывод общей информации о столбцах"
   ]
  },
  {
   "cell_type": "code",
   "execution_count": 13,
   "metadata": {},
   "outputs": [
    {
     "data": {
      "text/html": [
       "<div>\n",
       "<style scoped>\n",
       "    .dataframe tbody tr th:only-of-type {\n",
       "        vertical-align: middle;\n",
       "    }\n",
       "\n",
       "    .dataframe tbody tr th {\n",
       "        vertical-align: top;\n",
       "    }\n",
       "\n",
       "    .dataframe thead th {\n",
       "        text-align: right;\n",
       "    }\n",
       "</style>\n",
       "<table border=\"1\" class=\"dataframe\">\n",
       "  <thead>\n",
       "    <tr style=\"text-align: right;\">\n",
       "      <th></th>\n",
       "      <th>user_id</th>\n",
       "      <th>first_date</th>\n",
       "      <th>region</th>\n",
       "      <th>device</th>\n",
       "    </tr>\n",
       "  </thead>\n",
       "  <tbody>\n",
       "    <tr>\n",
       "      <th>0</th>\n",
       "      <td>D72A72121175D8BE</td>\n",
       "      <td>2020-12-07</td>\n",
       "      <td>EU</td>\n",
       "      <td>PC</td>\n",
       "    </tr>\n",
       "    <tr>\n",
       "      <th>1</th>\n",
       "      <td>F1C668619DFE6E65</td>\n",
       "      <td>2020-12-07</td>\n",
       "      <td>N.America</td>\n",
       "      <td>Android</td>\n",
       "    </tr>\n",
       "    <tr>\n",
       "      <th>2</th>\n",
       "      <td>2E1BF1D4C37EA01F</td>\n",
       "      <td>2020-12-07</td>\n",
       "      <td>EU</td>\n",
       "      <td>PC</td>\n",
       "    </tr>\n",
       "    <tr>\n",
       "      <th>3</th>\n",
       "      <td>50734A22C0C63768</td>\n",
       "      <td>2020-12-07</td>\n",
       "      <td>EU</td>\n",
       "      <td>iPhone</td>\n",
       "    </tr>\n",
       "    <tr>\n",
       "      <th>4</th>\n",
       "      <td>E1BDDCE0DAFA2679</td>\n",
       "      <td>2020-12-07</td>\n",
       "      <td>N.America</td>\n",
       "      <td>iPhone</td>\n",
       "    </tr>\n",
       "  </tbody>\n",
       "</table>\n",
       "</div>"
      ],
      "text/plain": [
       "            user_id  first_date     region   device\n",
       "0  D72A72121175D8BE  2020-12-07  EU         PC     \n",
       "1  F1C668619DFE6E65  2020-12-07  N.America  Android\n",
       "2  2E1BF1D4C37EA01F  2020-12-07  EU         PC     \n",
       "3  50734A22C0C63768  2020-12-07  EU         iPhone \n",
       "4  E1BDDCE0DAFA2679  2020-12-07  N.America  iPhone "
      ]
     },
     "execution_count": 13,
     "metadata": {},
     "output_type": "execute_result"
    }
   ],
   "source": [
    "new_users.head() # вывод первых 5 строк"
   ]
  },
  {
   "cell_type": "code",
   "execution_count": 14,
   "metadata": {},
   "outputs": [
    {
     "name": "stdout",
     "output_type": "stream",
     "text": [
      "2020-12-07 2020-12-23\n"
     ]
    }
   ],
   "source": [
    "print(new_users['first_date'].min(), new_users['first_date'].max())"
   ]
  },
  {
   "cell_type": "code",
   "execution_count": 15,
   "metadata": {},
   "outputs": [
    {
     "data": {
      "text/plain": [
       "user_id       0\n",
       "first_date    0\n",
       "region        0\n",
       "device        0\n",
       "dtype: int64"
      ]
     },
     "execution_count": 15,
     "metadata": {},
     "output_type": "execute_result"
    }
   ],
   "source": [
    "new_users.isna().sum() # проверка на пропуски"
   ]
  },
  {
   "cell_type": "code",
   "execution_count": 16,
   "metadata": {},
   "outputs": [
    {
     "name": "stdout",
     "output_type": "stream",
     "text": [
      "Количество дубликатов: 0\n"
     ]
    }
   ],
   "source": [
    "print('Количество дубликатов:', new_users.duplicated().sum())"
   ]
  },
  {
   "cell_type": "markdown",
   "metadata": {},
   "source": [
    "**Датафрейм `participants`:**"
   ]
  },
  {
   "cell_type": "code",
   "execution_count": 17,
   "metadata": {},
   "outputs": [
    {
     "name": "stdout",
     "output_type": "stream",
     "text": [
      "<class 'pandas.core.frame.DataFrame'>\n",
      "RangeIndex: 18268 entries, 0 to 18267\n",
      "Data columns (total 3 columns):\n",
      " #   Column   Non-Null Count  Dtype \n",
      "---  ------   --------------  ----- \n",
      " 0   user_id  18268 non-null  object\n",
      " 1   group    18268 non-null  object\n",
      " 2   ab_test  18268 non-null  object\n",
      "dtypes: object(3)\n",
      "memory usage: 428.3+ KB\n"
     ]
    }
   ],
   "source": [
    "participants.info() # вывод общей информации о столбцах"
   ]
  },
  {
   "cell_type": "code",
   "execution_count": 18,
   "metadata": {},
   "outputs": [
    {
     "data": {
      "text/html": [
       "<div>\n",
       "<style scoped>\n",
       "    .dataframe tbody tr th:only-of-type {\n",
       "        vertical-align: middle;\n",
       "    }\n",
       "\n",
       "    .dataframe tbody tr th {\n",
       "        vertical-align: top;\n",
       "    }\n",
       "\n",
       "    .dataframe thead th {\n",
       "        text-align: right;\n",
       "    }\n",
       "</style>\n",
       "<table border=\"1\" class=\"dataframe\">\n",
       "  <thead>\n",
       "    <tr style=\"text-align: right;\">\n",
       "      <th></th>\n",
       "      <th>user_id</th>\n",
       "      <th>group</th>\n",
       "      <th>ab_test</th>\n",
       "    </tr>\n",
       "  </thead>\n",
       "  <tbody>\n",
       "    <tr>\n",
       "      <th>0</th>\n",
       "      <td>D1ABA3E2887B6A73</td>\n",
       "      <td>A</td>\n",
       "      <td>recommender_system_test</td>\n",
       "    </tr>\n",
       "    <tr>\n",
       "      <th>1</th>\n",
       "      <td>A7A3664BD6242119</td>\n",
       "      <td>A</td>\n",
       "      <td>recommender_system_test</td>\n",
       "    </tr>\n",
       "    <tr>\n",
       "      <th>2</th>\n",
       "      <td>DABC14FDDFADD29E</td>\n",
       "      <td>A</td>\n",
       "      <td>recommender_system_test</td>\n",
       "    </tr>\n",
       "    <tr>\n",
       "      <th>3</th>\n",
       "      <td>04988C5DF189632E</td>\n",
       "      <td>A</td>\n",
       "      <td>recommender_system_test</td>\n",
       "    </tr>\n",
       "    <tr>\n",
       "      <th>4</th>\n",
       "      <td>482F14783456D21B</td>\n",
       "      <td>B</td>\n",
       "      <td>recommender_system_test</td>\n",
       "    </tr>\n",
       "  </tbody>\n",
       "</table>\n",
       "</div>"
      ],
      "text/plain": [
       "            user_id group                  ab_test\n",
       "0  D1ABA3E2887B6A73  A     recommender_system_test\n",
       "1  A7A3664BD6242119  A     recommender_system_test\n",
       "2  DABC14FDDFADD29E  A     recommender_system_test\n",
       "3  04988C5DF189632E  A     recommender_system_test\n",
       "4  482F14783456D21B  B     recommender_system_test"
      ]
     },
     "execution_count": 18,
     "metadata": {},
     "output_type": "execute_result"
    }
   ],
   "source": [
    "participants.head() # вывод первых 5 строк"
   ]
  },
  {
   "cell_type": "code",
   "execution_count": 19,
   "metadata": {},
   "outputs": [
    {
     "data": {
      "text/plain": [
       "user_id    0\n",
       "group      0\n",
       "ab_test    0\n",
       "dtype: int64"
      ]
     },
     "execution_count": 19,
     "metadata": {},
     "output_type": "execute_result"
    }
   ],
   "source": [
    "participants.isna().sum() # проверка на пропуски"
   ]
  },
  {
   "cell_type": "code",
   "execution_count": 20,
   "metadata": {},
   "outputs": [
    {
     "name": "stdout",
     "output_type": "stream",
     "text": [
      "Количество дубликатов: 0\n"
     ]
    }
   ],
   "source": [
    "print('Количество дубликатов:', participants.duplicated().sum())"
   ]
  },
  {
   "cell_type": "markdown",
   "metadata": {},
   "source": [
    "**Проверим, сколько участников попали в обе группы тестирования:**"
   ]
  },
  {
   "cell_type": "code",
   "execution_count": 21,
   "metadata": {},
   "outputs": [
    {
     "name": "stdout",
     "output_type": "stream",
     "text": [
      "Количество участников, попавших в обе группы тестирования: 1602\n"
     ]
    }
   ],
   "source": [
    "double_users = participants['user_id'].value_counts(ascending=False)\n",
    "double_users = double_users>1\n",
    "print('Количество участников, попавших в обе группы тестирования:', double_users.sum())"
   ]
  },
  {
   "cell_type": "markdown",
   "metadata": {},
   "source": [
    "#### Вывод:\n",
    "\n",
    "Для анализа предоставлено 4 датасета. После изучения исходных данных было обнаружено:\n",
    "\n",
    "`events` - 440317 действий пользователей в период c 7 по 30 декабря 2020 года\n",
    "\n",
    "Структура датафрейма:\n",
    "    \n",
    "- Столбец `user_id` — идентификатор пользователя\n",
    "- Столбец `event_dt` — дата и время покупки\n",
    "- Столбец `event_name` — тип события\n",
    "- Столбец `details` — дополнительные данные о событии\n",
    "\n",
    "В столбце `details` обнаружены пропуски в данных. Их следует оставить без изменения, так как они составляют значительную часть от общего объема данных.\n",
    "\n",
    "`marketing_events` - календарь 14 маркетинговых событий на 2020 год\n",
    "\n",
    "Структура датафрейма:\n",
    "    \n",
    "- Столбец `name` — название маркетингового события \n",
    "- Столбец `regions` — регионы, в которых будет проводиться рекламная кампания\n",
    "- Столбец `start_dt` — дата начала кампании\n",
    "- Столбец `finish_dt` — дата завершения кампании\n",
    "\n",
    "`new_users` - данные о 61733 пользователях в период с 7 по 23 декабря 2020 года\n",
    "\n",
    "Структура датафрейма:\n",
    "    \n",
    "- Столбец `user_id` — идентификатор пользователя\n",
    "- Столбец `first_date` — дата регистрации\n",
    "- Столбец `region` — регион пользователя\n",
    "- Столбец `device` — устройство, с которого происходила регистрация\n",
    "\n",
    "`participants` - данные о 18268 участниках тестов\n",
    "\n",
    "Структура датафрейма:\n",
    "    \n",
    "- Столбец `user_id` — идентификатор пользователя\n",
    "- Столбец `ab_test` — название теста\n",
    "- Столбец `group` — группа пользователя\n",
    "\n",
    "1602 участника тестирования попали в разные группы/тесты одновременно.\n",
    "\n",
    "Для проведения дальнейшего анализа необходимо обработать данные:\n",
    "\n",
    "- Привести формат столбца с датой на формат datetime в столбце `events`\n",
    "- Привести формат столбцов с датой на формат datetime в столбце `marketing_events`\n",
    "- Привести формат столбца с датой на формат datetime в столбце `new_users`"
   ]
  },
  {
   "cell_type": "markdown",
   "metadata": {},
   "source": [
    "### Предобработка данных"
   ]
  },
  {
   "cell_type": "markdown",
   "metadata": {},
   "source": [
    "**Заменим формат данных в датафрейме `events`:**"
   ]
  },
  {
   "cell_type": "code",
   "execution_count": 22,
   "metadata": {},
   "outputs": [
    {
     "name": "stdout",
     "output_type": "stream",
     "text": [
      "<class 'pandas.core.frame.DataFrame'>\n",
      "RangeIndex: 440317 entries, 0 to 440316\n",
      "Data columns (total 4 columns):\n",
      " #   Column      Non-Null Count   Dtype         \n",
      "---  ------      --------------   -----         \n",
      " 0   user_id     440317 non-null  object        \n",
      " 1   event_dt    440317 non-null  datetime64[ns]\n",
      " 2   event_name  440317 non-null  object        \n",
      " 3   details     62740 non-null   float64       \n",
      "dtypes: datetime64[ns](1), float64(1), object(2)\n",
      "memory usage: 13.4+ MB\n"
     ]
    }
   ],
   "source": [
    "events['event_dt'] = pd.to_datetime(events['event_dt'])\n",
    "events.info()"
   ]
  },
  {
   "cell_type": "markdown",
   "metadata": {},
   "source": [
    "**Заменим формат данных в датафрейме `marketing_events`:**"
   ]
  },
  {
   "cell_type": "code",
   "execution_count": 23,
   "metadata": {},
   "outputs": [
    {
     "name": "stdout",
     "output_type": "stream",
     "text": [
      "<class 'pandas.core.frame.DataFrame'>\n",
      "RangeIndex: 14 entries, 0 to 13\n",
      "Data columns (total 4 columns):\n",
      " #   Column     Non-Null Count  Dtype         \n",
      "---  ------     --------------  -----         \n",
      " 0   name       14 non-null     object        \n",
      " 1   regions    14 non-null     object        \n",
      " 2   start_dt   14 non-null     datetime64[ns]\n",
      " 3   finish_dt  14 non-null     datetime64[ns]\n",
      "dtypes: datetime64[ns](2), object(2)\n",
      "memory usage: 576.0+ bytes\n"
     ]
    }
   ],
   "source": [
    "marketing_events['start_dt'] = pd.to_datetime(marketing_events['start_dt'])\n",
    "marketing_events['finish_dt'] = pd.to_datetime(marketing_events['finish_dt'])\n",
    "marketing_events.info()"
   ]
  },
  {
   "cell_type": "markdown",
   "metadata": {},
   "source": [
    "**Заменим формат данных в датафрейме `new_users`:**"
   ]
  },
  {
   "cell_type": "code",
   "execution_count": 24,
   "metadata": {},
   "outputs": [
    {
     "name": "stdout",
     "output_type": "stream",
     "text": [
      "<class 'pandas.core.frame.DataFrame'>\n",
      "RangeIndex: 61733 entries, 0 to 61732\n",
      "Data columns (total 4 columns):\n",
      " #   Column      Non-Null Count  Dtype         \n",
      "---  ------      --------------  -----         \n",
      " 0   user_id     61733 non-null  object        \n",
      " 1   first_date  61733 non-null  datetime64[ns]\n",
      " 2   region      61733 non-null  object        \n",
      " 3   device      61733 non-null  object        \n",
      "dtypes: datetime64[ns](1), object(3)\n",
      "memory usage: 1.9+ MB\n"
     ]
    }
   ],
   "source": [
    "new_users['first_date'] = pd.to_datetime(new_users['first_date'])\n",
    "new_users.info()"
   ]
  },
  {
   "cell_type": "markdown",
   "metadata": {},
   "source": [
    "#### Вывод:\n",
    "\n",
    "Форматы столбцов с датами приведены к нужному формату. Можно приступать к анализу данных."
   ]
  },
  {
   "cell_type": "markdown",
   "metadata": {},
   "source": [
    "### Оценка корректности проведения теста: соответствие данных требованиям технического задания"
   ]
  },
  {
   "cell_type": "markdown",
   "metadata": {},
   "source": [
    "***Техническое задание***\n",
    "\n",
    "- Название теста: `recommender_system_test`;\n",
    "- Группы: А — контрольная, B — новая платёжная воронка;\n",
    "- Дата запуска: 2020-12-07;\n",
    "- Дата остановки набора новых пользователей: 2020-12-21;\n",
    "- Дата остановки: 2021-01-04;\n",
    "- Аудитория: в тест должно быть отобрано 15% новых пользователей из региона EU;\n",
    "- Назначение теста: тестирование изменений, связанных с внедрением улучшенной рекомендательной системы;\n",
    "- Ожидаемое количество участников теста: 6000\n",
    "- Ожидаемый эффект: за 14 дней с момента регистрации пользователи покажут улучшение каждой метрики не менее, чем на 10%: \n",
    "- конверсии в просмотр карточек товаров — событие product_page,\n",
    "- просмотры корзины — product_cart,\n",
    "- покупки — purchase."
   ]
  },
  {
   "cell_type": "code",
   "execution_count": 25,
   "metadata": {},
   "outputs": [
    {
     "data": {
      "text/plain": [
       "ab_test\n",
       "interface_eu_test          11567\n",
       "recommender_system_test    6701 \n",
       "Name: user_id, dtype: int64"
      ]
     },
     "execution_count": 25,
     "metadata": {},
     "output_type": "execute_result"
    }
   ],
   "source": [
    "participants.groupby('ab_test')['user_id'].count() # вывод информации о количестве участников в каждом тесте"
   ]
  },
  {
   "cell_type": "markdown",
   "metadata": {},
   "source": [
    "Нам необходимо проанализировать второй тест, в котором 6701 участник, создадим отдельный датафрейм с данными об участниках теста:"
   ]
  },
  {
   "cell_type": "code",
   "execution_count": 26,
   "metadata": {},
   "outputs": [
    {
     "data": {
      "text/html": [
       "<div>\n",
       "<style scoped>\n",
       "    .dataframe tbody tr th:only-of-type {\n",
       "        vertical-align: middle;\n",
       "    }\n",
       "\n",
       "    .dataframe tbody tr th {\n",
       "        vertical-align: top;\n",
       "    }\n",
       "\n",
       "    .dataframe thead th {\n",
       "        text-align: right;\n",
       "    }\n",
       "</style>\n",
       "<table border=\"1\" class=\"dataframe\">\n",
       "  <thead>\n",
       "    <tr style=\"text-align: right;\">\n",
       "      <th></th>\n",
       "      <th>user_id</th>\n",
       "      <th>group</th>\n",
       "    </tr>\n",
       "  </thead>\n",
       "  <tbody>\n",
       "    <tr>\n",
       "      <th>0</th>\n",
       "      <td>D1ABA3E2887B6A73</td>\n",
       "      <td>A</td>\n",
       "    </tr>\n",
       "    <tr>\n",
       "      <th>1</th>\n",
       "      <td>A7A3664BD6242119</td>\n",
       "      <td>A</td>\n",
       "    </tr>\n",
       "    <tr>\n",
       "      <th>2</th>\n",
       "      <td>DABC14FDDFADD29E</td>\n",
       "      <td>A</td>\n",
       "    </tr>\n",
       "    <tr>\n",
       "      <th>3</th>\n",
       "      <td>04988C5DF189632E</td>\n",
       "      <td>A</td>\n",
       "    </tr>\n",
       "    <tr>\n",
       "      <th>4</th>\n",
       "      <td>482F14783456D21B</td>\n",
       "      <td>B</td>\n",
       "    </tr>\n",
       "    <tr>\n",
       "      <th>5</th>\n",
       "      <td>4FF2998A348C484F</td>\n",
       "      <td>A</td>\n",
       "    </tr>\n",
       "    <tr>\n",
       "      <th>6</th>\n",
       "      <td>7473E0943673C09E</td>\n",
       "      <td>A</td>\n",
       "    </tr>\n",
       "    <tr>\n",
       "      <th>7</th>\n",
       "      <td>C46FE336D240A054</td>\n",
       "      <td>A</td>\n",
       "    </tr>\n",
       "    <tr>\n",
       "      <th>8</th>\n",
       "      <td>92CB588012C10D3D</td>\n",
       "      <td>A</td>\n",
       "    </tr>\n",
       "    <tr>\n",
       "      <th>9</th>\n",
       "      <td>057AB296296C7FC0</td>\n",
       "      <td>B</td>\n",
       "    </tr>\n",
       "  </tbody>\n",
       "</table>\n",
       "</div>"
      ],
      "text/plain": [
       "            user_id group\n",
       "0  D1ABA3E2887B6A73  A   \n",
       "1  A7A3664BD6242119  A   \n",
       "2  DABC14FDDFADD29E  A   \n",
       "3  04988C5DF189632E  A   \n",
       "4  482F14783456D21B  B   \n",
       "5  4FF2998A348C484F  A   \n",
       "6  7473E0943673C09E  A   \n",
       "7  C46FE336D240A054  A   \n",
       "8  92CB588012C10D3D  A   \n",
       "9  057AB296296C7FC0  B   "
      ]
     },
     "execution_count": 26,
     "metadata": {},
     "output_type": "execute_result"
    }
   ],
   "source": [
    "participants_system_test = participants.query('ab_test == \"recommender_system_test\"')[['user_id', 'group']]\n",
    "participants_system_test.head(10)"
   ]
  },
  {
   "cell_type": "markdown",
   "metadata": {},
   "source": [
    "Посчитаем количество пользователей в двух группах тестирования:"
   ]
  },
  {
   "cell_type": "code",
   "execution_count": 27,
   "metadata": {},
   "outputs": [
    {
     "data": {
      "text/html": [
       "<div>\n",
       "<style scoped>\n",
       "    .dataframe tbody tr th:only-of-type {\n",
       "        vertical-align: middle;\n",
       "    }\n",
       "\n",
       "    .dataframe tbody tr th {\n",
       "        vertical-align: top;\n",
       "    }\n",
       "\n",
       "    .dataframe thead th {\n",
       "        text-align: right;\n",
       "    }\n",
       "</style>\n",
       "<table border=\"1\" class=\"dataframe\">\n",
       "  <thead>\n",
       "    <tr style=\"text-align: right;\">\n",
       "      <th></th>\n",
       "      <th>user_id</th>\n",
       "    </tr>\n",
       "    <tr>\n",
       "      <th>group</th>\n",
       "      <th></th>\n",
       "    </tr>\n",
       "  </thead>\n",
       "  <tbody>\n",
       "    <tr>\n",
       "      <th>A</th>\n",
       "      <td>3824</td>\n",
       "    </tr>\n",
       "    <tr>\n",
       "      <th>B</th>\n",
       "      <td>2877</td>\n",
       "    </tr>\n",
       "  </tbody>\n",
       "</table>\n",
       "</div>"
      ],
      "text/plain": [
       "       user_id\n",
       "group         \n",
       "A      3824   \n",
       "B      2877   "
      ]
     },
     "execution_count": 27,
     "metadata": {},
     "output_type": "execute_result"
    }
   ],
   "source": [
    "participants_system_test.groupby('group').count()"
   ]
  },
  {
   "cell_type": "markdown",
   "metadata": {},
   "source": [
    "Можно сделать следующие наблюдения:\n",
    "\n",
    "- В группе A находятся 3824 пользователя\n",
    "- В группе B нахожятся 2877 пользователей"
   ]
  },
  {
   "cell_type": "markdown",
   "metadata": {},
   "source": [
    "#### Изучение периода проведения теста и набора пользователей"
   ]
  },
  {
   "cell_type": "code",
   "execution_count": 28,
   "metadata": {},
   "outputs": [
    {
     "data": {
      "text/html": [
       "<div>\n",
       "<style scoped>\n",
       "    .dataframe tbody tr th:only-of-type {\n",
       "        vertical-align: middle;\n",
       "    }\n",
       "\n",
       "    .dataframe tbody tr th {\n",
       "        vertical-align: top;\n",
       "    }\n",
       "\n",
       "    .dataframe thead th {\n",
       "        text-align: right;\n",
       "    }\n",
       "</style>\n",
       "<table border=\"1\" class=\"dataframe\">\n",
       "  <thead>\n",
       "    <tr style=\"text-align: right;\">\n",
       "      <th></th>\n",
       "      <th>user_id</th>\n",
       "      <th>first_date</th>\n",
       "      <th>region</th>\n",
       "      <th>device</th>\n",
       "    </tr>\n",
       "  </thead>\n",
       "  <tbody>\n",
       "    <tr>\n",
       "      <th>0</th>\n",
       "      <td>D72A72121175D8BE</td>\n",
       "      <td>2020-12-07</td>\n",
       "      <td>EU</td>\n",
       "      <td>PC</td>\n",
       "    </tr>\n",
       "    <tr>\n",
       "      <th>3689</th>\n",
       "      <td>9B1F030CA887DAE6</td>\n",
       "      <td>2020-12-07</td>\n",
       "      <td>EU</td>\n",
       "      <td>iPhone</td>\n",
       "    </tr>\n",
       "    <tr>\n",
       "      <th>3695</th>\n",
       "      <td>07F90C8E398C5655</td>\n",
       "      <td>2020-12-07</td>\n",
       "      <td>EU</td>\n",
       "      <td>PC</td>\n",
       "    </tr>\n",
       "    <tr>\n",
       "      <th>3697</th>\n",
       "      <td>E3E47B8FBDF4EF63</td>\n",
       "      <td>2020-12-07</td>\n",
       "      <td>EU</td>\n",
       "      <td>Android</td>\n",
       "    </tr>\n",
       "    <tr>\n",
       "      <th>3699</th>\n",
       "      <td>9C2D0067A991213E</td>\n",
       "      <td>2020-12-07</td>\n",
       "      <td>EU</td>\n",
       "      <td>PC</td>\n",
       "    </tr>\n",
       "  </tbody>\n",
       "</table>\n",
       "</div>"
      ],
      "text/plain": [
       "               user_id first_date region   device\n",
       "0     D72A72121175D8BE 2020-12-07  EU     PC     \n",
       "3689  9B1F030CA887DAE6 2020-12-07  EU     iPhone \n",
       "3695  07F90C8E398C5655 2020-12-07  EU     PC     \n",
       "3697  E3E47B8FBDF4EF63 2020-12-07  EU     Android\n",
       "3699  9C2D0067A991213E 2020-12-07  EU     PC     "
      ]
     },
     "metadata": {},
     "output_type": "display_data"
    },
    {
     "data": {
      "text/plain": [
       "count     6701               \n",
       "unique    15                 \n",
       "top       2020-12-21 00:00:00\n",
       "freq      723                \n",
       "first     2020-12-07 00:00:00\n",
       "last      2020-12-21 00:00:00\n",
       "Name: first_date, dtype: object"
      ]
     },
     "execution_count": 28,
     "metadata": {},
     "output_type": "execute_result"
    }
   ],
   "source": [
    "spisok = list(participants_system_test[\"user_id\"])\n",
    "new_users_system_test = new_users.query('user_id in @spisok').sort_values(by='first_date')\n",
    "display(new_users_system_test.head())\n",
    "new_users_system_test['first_date'].describe()"
   ]
  },
  {
   "cell_type": "markdown",
   "metadata": {},
   "source": [
    "Даты начала и остановки набора новых пользователей соответствуют техническому заданию."
   ]
  },
  {
   "cell_type": "markdown",
   "metadata": {},
   "source": [
    "**Проверим даты старта и остановки теста:**"
   ]
  },
  {
   "cell_type": "code",
   "execution_count": 29,
   "metadata": {},
   "outputs": [
    {
     "name": "stdout",
     "output_type": "stream",
     "text": [
      "             user_id            event_dt event_name  details\n",
      "5   831887FE7F2D6CBA 2020-12-07 06:50:29  purchase  4.99    \n",
      "17  3C5DD0288AC4FE23 2020-12-07 19:42:40  purchase  4.99    \n",
      "58  49EA242586C87836 2020-12-07 06:31:24  purchase  99.99   \n",
      "71  2B06EB547B7AAD08 2020-12-07 21:36:38  purchase  4.99    \n",
      "74  A640F31CAC7823A6 2020-12-07 18:48:26  purchase  4.99    \n"
     ]
    },
    {
     "data": {
      "text/plain": [
       "count     24698              \n",
       "unique    16523              \n",
       "top       2020-12-09 19:01:05\n",
       "freq      6                  \n",
       "first     2020-12-07 00:05:57\n",
       "last      2020-12-30 12:42:57\n",
       "Name: event_dt, dtype: object"
      ]
     },
     "execution_count": 29,
     "metadata": {},
     "output_type": "execute_result"
    }
   ],
   "source": [
    "events_system_test = events.query('user_id in @spisok')\n",
    "print(events_system_test.head())\n",
    "events_system_test['event_dt'].describe()"
   ]
  },
  {
   "cell_type": "markdown",
   "metadata": {},
   "source": [
    "Дата остановки не соответствует техническому заданию: тест остановился 30 декабря, а должен был 4 января. Можно считать, что это произошло из-за новогодних праздников."
   ]
  },
  {
   "cell_type": "markdown",
   "metadata": {},
   "source": [
    "#### Время проведения теста"
   ]
  },
  {
   "cell_type": "markdown",
   "metadata": {},
   "source": [
    "**Проверим, совпадает ли проведение теста с маркетинговыми кампаниями, запланированными на 2020 год:**"
   ]
  },
  {
   "cell_type": "code",
   "execution_count": 30,
   "metadata": {},
   "outputs": [
    {
     "data": {
      "text/html": [
       "<div>\n",
       "<style scoped>\n",
       "    .dataframe tbody tr th:only-of-type {\n",
       "        vertical-align: middle;\n",
       "    }\n",
       "\n",
       "    .dataframe tbody tr th {\n",
       "        vertical-align: top;\n",
       "    }\n",
       "\n",
       "    .dataframe thead th {\n",
       "        text-align: right;\n",
       "    }\n",
       "</style>\n",
       "<table border=\"1\" class=\"dataframe\">\n",
       "  <thead>\n",
       "    <tr style=\"text-align: right;\">\n",
       "      <th></th>\n",
       "      <th>name</th>\n",
       "      <th>regions</th>\n",
       "      <th>start_dt</th>\n",
       "      <th>finish_dt</th>\n",
       "    </tr>\n",
       "  </thead>\n",
       "  <tbody>\n",
       "    <tr>\n",
       "      <th>0</th>\n",
       "      <td>Christmas&amp;New Year Promo</td>\n",
       "      <td>EU, N.America</td>\n",
       "      <td>2020-12-25</td>\n",
       "      <td>2021-01-03</td>\n",
       "    </tr>\n",
       "  </tbody>\n",
       "</table>\n",
       "</div>"
      ],
      "text/plain": [
       "                       name        regions   start_dt  finish_dt\n",
       "0  Christmas&New Year Promo  EU, N.America 2020-12-25 2021-01-03"
      ]
     },
     "execution_count": 30,
     "metadata": {},
     "output_type": "execute_result"
    }
   ],
   "source": [
    "min_dt = pd.to_datetime('2020-12-07',  format='%Y-%m-%d')\n",
    "max_dt = pd.to_datetime('2021-01-04',  format='%Y-%m-%d')\n",
    "\n",
    "marketing_events[marketing_events['regions'].str.contains(\"EU\")].query('@max_dt >= start_dt >= @min_dt or @max_dt >= finish_dt >= @min_dt')"
   ]
  },
  {
   "cell_type": "markdown",
   "metadata": {},
   "source": [
    "Во время проведения теста в регионах EU и North America проводилась акция `Christmas&New Year Promo`. Из-за этого события определение зависимости улучшений от конкретных изменений становится довольно сложным, так как влияет еще влияет проводимая акция."
   ]
  },
  {
   "cell_type": "markdown",
   "metadata": {},
   "source": [
    "#### Проверка аудитории теста"
   ]
  },
  {
   "cell_type": "markdown",
   "metadata": {},
   "source": [
    "**Посмотрим на пользователей, которые попали в оба тестирования сразу:**"
   ]
  },
  {
   "cell_type": "code",
   "execution_count": 31,
   "metadata": {},
   "outputs": [
    {
     "data": {
      "text/html": [
       "<div>\n",
       "<style scoped>\n",
       "    .dataframe tbody tr th:only-of-type {\n",
       "        vertical-align: middle;\n",
       "    }\n",
       "\n",
       "    .dataframe tbody tr th {\n",
       "        vertical-align: top;\n",
       "    }\n",
       "\n",
       "    .dataframe thead th {\n",
       "        text-align: right;\n",
       "    }\n",
       "</style>\n",
       "<table border=\"1\" class=\"dataframe\">\n",
       "  <thead>\n",
       "    <tr style=\"text-align: right;\">\n",
       "      <th></th>\n",
       "      <th>user_id</th>\n",
       "      <th>groups</th>\n",
       "      <th>group_names</th>\n",
       "    </tr>\n",
       "  </thead>\n",
       "  <tbody>\n",
       "    <tr>\n",
       "      <th>0</th>\n",
       "      <td>001064FEAAB631A1</td>\n",
       "      <td>2</td>\n",
       "      <td>[recommender_system_test, interface_eu_test]</td>\n",
       "    </tr>\n",
       "    <tr>\n",
       "      <th>1</th>\n",
       "      <td>00341D8401F0F665</td>\n",
       "      <td>2</td>\n",
       "      <td>[recommender_system_test, interface_eu_test]</td>\n",
       "    </tr>\n",
       "    <tr>\n",
       "      <th>2</th>\n",
       "      <td>003B6786B4FF5B03</td>\n",
       "      <td>2</td>\n",
       "      <td>[recommender_system_test, interface_eu_test]</td>\n",
       "    </tr>\n",
       "    <tr>\n",
       "      <th>3</th>\n",
       "      <td>0082295A41A867B5</td>\n",
       "      <td>2</td>\n",
       "      <td>[recommender_system_test, interface_eu_test]</td>\n",
       "    </tr>\n",
       "    <tr>\n",
       "      <th>4</th>\n",
       "      <td>00E68F103C66C1F7</td>\n",
       "      <td>2</td>\n",
       "      <td>[recommender_system_test, interface_eu_test]</td>\n",
       "    </tr>\n",
       "  </tbody>\n",
       "</table>\n",
       "</div>"
      ],
      "text/plain": [
       "            user_id  groups                                   group_names\n",
       "0  001064FEAAB631A1  2       [recommender_system_test, interface_eu_test]\n",
       "1  00341D8401F0F665  2       [recommender_system_test, interface_eu_test]\n",
       "2  003B6786B4FF5B03  2       [recommender_system_test, interface_eu_test]\n",
       "3  0082295A41A867B5  2       [recommender_system_test, interface_eu_test]\n",
       "4  00E68F103C66C1F7  2       [recommender_system_test, interface_eu_test]"
      ]
     },
     "metadata": {},
     "output_type": "display_data"
    },
    {
     "data": {
      "text/plain": [
       "user_id        1602\n",
       "groups         1602\n",
       "group_names    1602\n",
       "dtype: int64"
      ]
     },
     "execution_count": 31,
     "metadata": {},
     "output_type": "execute_result"
    }
   ],
   "source": [
    "duplicated_users_tests = participants.groupby('user_id').agg({'ab_test': ['nunique', 'unique']})\n",
    "duplicated_users_tests.columns = ['groups', 'group_names']\n",
    "\n",
    "duplicated_users_tests = duplicated_users_tests.query('groups > 1').reset_index()\n",
    "\n",
    "display(duplicated_users_tests.head())\n",
    "duplicated_users_tests.count()"
   ]
  },
  {
   "cell_type": "markdown",
   "metadata": {},
   "source": [
    "На этапе изучения исходных данных мы уже обнаружили 1602 пользователя, которые попали в обе группы. Такие участники тестирования могут повлиять на корректное определение, какие именно события относились к нашему тесту, а какие к другому конкурирующему тесту."
   ]
  },
  {
   "cell_type": "markdown",
   "metadata": {},
   "source": [
    "**Посмотрим на пользователей, которые попали сразу в две группы теста:**"
   ]
  },
  {
   "cell_type": "code",
   "execution_count": 32,
   "metadata": {},
   "outputs": [
    {
     "data": {
      "text/html": [
       "<div>\n",
       "<style scoped>\n",
       "    .dataframe tbody tr th:only-of-type {\n",
       "        vertical-align: middle;\n",
       "    }\n",
       "\n",
       "    .dataframe tbody tr th {\n",
       "        vertical-align: top;\n",
       "    }\n",
       "\n",
       "    .dataframe thead th {\n",
       "        text-align: right;\n",
       "    }\n",
       "</style>\n",
       "<table border=\"1\" class=\"dataframe\">\n",
       "  <thead>\n",
       "    <tr style=\"text-align: right;\">\n",
       "      <th></th>\n",
       "      <th>groups</th>\n",
       "      <th>group_names</th>\n",
       "    </tr>\n",
       "    <tr>\n",
       "      <th>user_id</th>\n",
       "      <th></th>\n",
       "      <th></th>\n",
       "    </tr>\n",
       "  </thead>\n",
       "  <tbody>\n",
       "  </tbody>\n",
       "</table>\n",
       "</div>"
      ],
      "text/plain": [
       "Empty DataFrame\n",
       "Columns: [groups, group_names]\n",
       "Index: []"
      ]
     },
     "metadata": {},
     "output_type": "display_data"
    },
    {
     "data": {
      "text/plain": [
       "0"
      ]
     },
     "execution_count": 32,
     "metadata": {},
     "output_type": "execute_result"
    }
   ],
   "source": [
    "duplicated_users_groups = participants.query('ab_test == \"recommender_system_test\" ')\\\n",
    "                  .groupby('user_id').agg({'group': ['nunique', 'unique']})\n",
    "duplicated_users_groups.columns = ['groups', 'group_names']\n",
    "\n",
    "duplicated_users_groups = duplicated_users_groups.query('groups > 1')\n",
    "\n",
    "display(duplicated_users_groups.head())\n",
    "len(duplicated_users_groups)"
   ]
  },
  {
   "cell_type": "markdown",
   "metadata": {},
   "source": [
    "Пользователей, которые попали сразу в обе группы тестирования, не было обнаружено."
   ]
  },
  {
   "cell_type": "markdown",
   "metadata": {},
   "source": [
    "**Проверим равномерность распределения участников тестирования по группам и оценим правильность их формирования:**"
   ]
  },
  {
   "cell_type": "code",
   "execution_count": 33,
   "metadata": {},
   "outputs": [
    {
     "data": {
      "text/html": [
       "<div>\n",
       "<style scoped>\n",
       "    .dataframe tbody tr th:only-of-type {\n",
       "        vertical-align: middle;\n",
       "    }\n",
       "\n",
       "    .dataframe tbody tr th {\n",
       "        vertical-align: top;\n",
       "    }\n",
       "\n",
       "    .dataframe thead th {\n",
       "        text-align: right;\n",
       "    }\n",
       "</style>\n",
       "<table border=\"1\" class=\"dataframe\">\n",
       "  <thead>\n",
       "    <tr style=\"text-align: right;\">\n",
       "      <th></th>\n",
       "      <th>user_id</th>\n",
       "      <th>percent_of_group</th>\n",
       "    </tr>\n",
       "    <tr>\n",
       "      <th>group</th>\n",
       "      <th></th>\n",
       "      <th></th>\n",
       "    </tr>\n",
       "  </thead>\n",
       "  <tbody>\n",
       "    <tr>\n",
       "      <th>A</th>\n",
       "      <td>3824</td>\n",
       "      <td>57.07</td>\n",
       "    </tr>\n",
       "    <tr>\n",
       "      <th>B</th>\n",
       "      <td>2877</td>\n",
       "      <td>42.93</td>\n",
       "    </tr>\n",
       "  </tbody>\n",
       "</table>\n",
       "</div>"
      ],
      "text/plain": [
       "       user_id  percent_of_group\n",
       "group                           \n",
       "A      3824    57.07            \n",
       "B      2877    42.93            "
      ]
     },
     "execution_count": 33,
     "metadata": {},
     "output_type": "execute_result"
    }
   ],
   "source": [
    "test_data =  participants_system_test.groupby('group').count()\n",
    "test_data['user_id'].sum()\n",
    "test_data['percent_of_group'] = test_data['user_id']*100 / test_data['user_id'].sum()\n",
    "test_data"
   ]
  },
  {
   "cell_type": "code",
   "execution_count": 34,
   "metadata": {},
   "outputs": [
    {
     "data": {
      "image/png": "[encoded data removed]",
      "text/plain": [
       "<Figure size 640x480 with 1 Axes>"
      ]
     },
     "metadata": {},
     "output_type": "display_data"
    }
   ],
   "source": [
    "sns.countplot(data=new_users_system_test, y=new_users_system_test['first_date'].dt.date).set(\n",
    "                                 title = \"Распределение регистраций пользователей теста\",\n",
    "                                 ylabel = \"Дата регистрации\",\n",
    "                                 xlabel = \"Количество регистраций пользователей\")\n",
    "plt.show()"
   ]
  },
  {
   "cell_type": "markdown",
   "metadata": {},
   "source": [
    "Можно заметить, что группы распределены неравномерно, так как в тестовой группе находится 43% пользователей от общего числа, а в контрольной - 57%. На графике можно наблюдать, что пик регистрации пользователей приходится на понедельники."
   ]
  },
  {
   "cell_type": "markdown",
   "metadata": {},
   "source": [
    "**Проверим следующие требования из ТЗ: ожидаемое количество участников (6000) и аудитория - 15% новых пользователей из региона EU:**"
   ]
  },
  {
   "cell_type": "code",
   "execution_count": 35,
   "metadata": {},
   "outputs": [
    {
     "data": {
      "text/plain": [
       "region\n",
       "APAC         72  \n",
       "CIS          55  \n",
       "EU           6351\n",
       "N.America    223 \n",
       "Name: region, dtype: int64"
      ]
     },
     "execution_count": 35,
     "metadata": {},
     "output_type": "execute_result"
    }
   ],
   "source": [
    "new_users_system_test.groupby('region')['region'].count()"
   ]
  },
  {
   "cell_type": "code",
   "execution_count": 36,
   "metadata": {},
   "outputs": [
    {
     "name": "stdout",
     "output_type": "stream",
     "text": [
      "Количество зарегистрированных новых пользователей из EU: 46270\n",
      "Расчетное количество (15%) новых пользователей из EU для аудитории теста: 6940\n",
      "Реальное количество новых пользователей из EU в тесте: 6351\n",
      "% новых пользователей из EU в тесте:  13.73%\n"
     ]
    }
   ],
   "source": [
    "#всего новых пользователей из EU\n",
    "count_total_EU = new_users[new_users['region'] == 'EU']['region'].count()\n",
    "print(f'Количество зарегистрированных новых пользователей из EU: {count_total_EU}')\n",
    "\n",
    "count_of_plan = int(new_users[new_users['region'] == 'EU']['region'].count()*0.15)\n",
    "print(f'Расчетное количество (15%) новых пользователей из EU для аудитории теста: {count_of_plan}') \n",
    "\n",
    "#всего новых пользователей из EU в тесте\n",
    "count_of_real = new_users_system_test.groupby('region')['region'].count()['EU']\n",
    "print(f'Реальное количество новых пользователей из EU в тесте: {count_of_real}')\n",
    "\n",
    "percent_of_real = count_of_real / count_total_EU\n",
    "print(f'% новых пользователей из EU в тесте: {percent_of_real : .2%}')    "
   ]
  },
  {
   "cell_type": "markdown",
   "metadata": {},
   "source": [
    "На основе полученных данных можно сделать следующие наблюдения:\n",
    "\n",
    "- Расчетное количество пользователей - 6940\n",
    "- Реальное количество пользователей из региона EU в тесте - 6351 (составляет 13.73%, однако в ТЗ сказано о 15%)\n",
    "\n",
    "Для того, чтобы результаты тестирования соответствовали ТЗ, необходимо удалить пользователей из других регионов."
   ]
  },
  {
   "cell_type": "markdown",
   "metadata": {},
   "source": [
    "#### Профили пользователей"
   ]
  },
  {
   "cell_type": "markdown",
   "metadata": {},
   "source": [
    "**Напишем функцию, которая удалит данные теста о пользователях из других регионов, а также попавшихся в оба теста:**"
   ]
  },
  {
   "cell_type": "code",
   "execution_count": 37,
   "metadata": {},
   "outputs": [],
   "source": [
    "def clear(dataframe):\n",
    "    print('Количество пользователей теста до чистки:', dataframe['user_id'].nunique())\n",
    "    user_not_EU = new_users_system_test.query('region != \"EU\"')['user_id']\n",
    "    listok = list(duplicated_users_tests[\"user_id\"].unique())\n",
    "    dataframe_ok = dataframe.query('user_id not in @listok')\n",
    "    dataframe_ok = dataframe_ok.query('user_id not in @user_not_EU')\n",
    "    print('Количество пользователей теста после чистки:', dataframe_ok['user_id'].nunique())\n",
    "    return dataframe_ok"
   ]
  },
  {
   "cell_type": "markdown",
   "metadata": {},
   "source": [
    "**Очистим данные от \"лишних\" пользователей:**"
   ]
  },
  {
   "cell_type": "code",
   "execution_count": 38,
   "metadata": {},
   "outputs": [
    {
     "name": "stdout",
     "output_type": "stream",
     "text": [
      "Количество пользователей теста до чистки: 3675\n",
      "Количество пользователей теста после чистки: 2594\n",
      "Количество пользователей теста до чистки: 6701\n",
      "Количество пользователей теста после чистки: 4749\n",
      "Количество пользователей теста до чистки: 6701\n",
      "Количество пользователей теста после чистки: 4749\n"
     ]
    }
   ],
   "source": [
    "events_system_test_clear = clear(events_system_test)\n",
    "new_users_system_test_clear = clear(new_users_system_test)\n",
    "participants_system_test_clear =  clear(participants_system_test)"
   ]
  },
  {
   "cell_type": "markdown",
   "metadata": {},
   "source": [
    "**Посмотрим на распределение регистраций пользователей между группами тестирования:**"
   ]
  },
  {
   "cell_type": "code",
   "execution_count": 39,
   "metadata": {},
   "outputs": [
    {
     "data": {
      "text/html": [
       "<div>\n",
       "<style scoped>\n",
       "    .dataframe tbody tr th:only-of-type {\n",
       "        vertical-align: middle;\n",
       "    }\n",
       "\n",
       "    .dataframe tbody tr th {\n",
       "        vertical-align: top;\n",
       "    }\n",
       "\n",
       "    .dataframe thead th {\n",
       "        text-align: right;\n",
       "    }\n",
       "</style>\n",
       "<table border=\"1\" class=\"dataframe\">\n",
       "  <thead>\n",
       "    <tr style=\"text-align: right;\">\n",
       "      <th></th>\n",
       "      <th>user_id</th>\n",
       "      <th>percent_of_group</th>\n",
       "    </tr>\n",
       "    <tr>\n",
       "      <th>group</th>\n",
       "      <th></th>\n",
       "      <th></th>\n",
       "    </tr>\n",
       "  </thead>\n",
       "  <tbody>\n",
       "    <tr>\n",
       "      <th>A</th>\n",
       "      <td>2713</td>\n",
       "      <td>57.13</td>\n",
       "    </tr>\n",
       "    <tr>\n",
       "      <th>B</th>\n",
       "      <td>2036</td>\n",
       "      <td>42.87</td>\n",
       "    </tr>\n",
       "  </tbody>\n",
       "</table>\n",
       "</div>"
      ],
      "text/plain": [
       "       user_id  percent_of_group\n",
       "group                           \n",
       "A      2713    57.13            \n",
       "B      2036    42.87            "
      ]
     },
     "execution_count": 39,
     "metadata": {},
     "output_type": "execute_result"
    }
   ],
   "source": [
    "test_data_ok =  participants_system_test_clear.groupby('group').count()\n",
    "test_data_ok['user_id'].sum()\n",
    "test_data_ok['percent_of_group'] = test_data_ok['user_id']*100 / test_data_ok['user_id'].sum()\n",
    "test_data_ok"
   ]
  },
  {
   "cell_type": "code",
   "execution_count": 40,
   "metadata": {},
   "outputs": [
    {
     "data": {
      "image/png": "[encoded data removed]",
      "text/plain": [
       "<Figure size 640x480 with 1 Axes>"
      ]
     },
     "metadata": {},
     "output_type": "display_data"
    }
   ],
   "source": [
    "sns.countplot(data=new_users_system_test_clear, y=new_users_system_test_clear['first_date'].dt.date).set(\n",
    "                                 title = \"Распределение регистраций пользователей теста\",\n",
    "                                 ylabel = \"Дата регистрации\",\n",
    "                                 xlabel = \"Количество регистраций пользователей\")\n",
    "plt.show()"
   ]
  },
  {
   "cell_type": "markdown",
   "metadata": {},
   "source": [
    "Очистка данных о пользователях никак не повлияла на распределение регистраций."
   ]
  },
  {
   "cell_type": "markdown",
   "metadata": {},
   "source": [
    "**Объединим таблицы событий с профилями пользователей теста, посчитаем лайфтайм и удалим данные, которые не подходят под условия:**"
   ]
  },
  {
   "cell_type": "code",
   "execution_count": 41,
   "metadata": {},
   "outputs": [
    {
     "data": {
      "text/plain": [
       "Timestamp('2020-12-17 00:00:00')"
      ]
     },
     "execution_count": 41,
     "metadata": {},
     "output_type": "execute_result"
    }
   ],
   "source": [
    "end_date = dt.datetime(2020, 12, 30).date()\n",
    "horison_days = 14\n",
    "first_dat = pd.to_datetime(end_date - timedelta(days=horison_days - 1),  format='%Y-%m-%d')\n",
    "first_dat"
   ]
  },
  {
   "cell_type": "markdown",
   "metadata": {},
   "source": [
    "С 18.12.2020 данные неполные. Необходимо их обработать:"
   ]
  },
  {
   "cell_type": "code",
   "execution_count": 42,
   "metadata": {},
   "outputs": [],
   "source": [
    "# функция для вывода профиля пользователя со всеми данные\n",
    "def events_and_profiles(dataframe_events, dataframe_new_users, dataframe_participants):\n",
    "    data = dataframe_events.merge(dataframe_participants, how='left', on=['user_id'] )\n",
    "    data = data.merge(dataframe_new_users[['user_id', 'first_date']], how='left', on=['user_id'])\n",
    "    data['event_date'] = data['event_dt'].dt.date\n",
    "    data['first_date'] = data['first_date'].dt.date\n",
    "    data['lifetime'] = (data['event_date'] - data['first_date']).dt.days\n",
    "    data = data[data['lifetime']<=13]\n",
    "    data = data[data['first_date']<=  first_dat]\n",
    "    return data"
   ]
  },
  {
   "cell_type": "markdown",
   "metadata": {},
   "source": [
    "Для детального исследования необходимо сравнивать результаты исходных и очищенных данных:"
   ]
  },
  {
   "cell_type": "code",
   "execution_count": 43,
   "metadata": {},
   "outputs": [
    {
     "data": {
      "text/plain": [
       "'Количество событий в исходном датасете - 14775'"
      ]
     },
     "metadata": {},
     "output_type": "display_data"
    },
    {
     "data": {
      "text/html": [
       "<div>\n",
       "<style scoped>\n",
       "    .dataframe tbody tr th:only-of-type {\n",
       "        vertical-align: middle;\n",
       "    }\n",
       "\n",
       "    .dataframe tbody tr th {\n",
       "        vertical-align: top;\n",
       "    }\n",
       "\n",
       "    .dataframe thead th {\n",
       "        text-align: right;\n",
       "    }\n",
       "</style>\n",
       "<table border=\"1\" class=\"dataframe\">\n",
       "  <thead>\n",
       "    <tr style=\"text-align: right;\">\n",
       "      <th></th>\n",
       "      <th>user_id</th>\n",
       "      <th>event_dt</th>\n",
       "      <th>event_name</th>\n",
       "      <th>details</th>\n",
       "      <th>group</th>\n",
       "      <th>first_date</th>\n",
       "      <th>event_date</th>\n",
       "      <th>lifetime</th>\n",
       "    </tr>\n",
       "  </thead>\n",
       "  <tbody>\n",
       "    <tr>\n",
       "      <th>0</th>\n",
       "      <td>831887FE7F2D6CBA</td>\n",
       "      <td>2020-12-07 06:50:29</td>\n",
       "      <td>purchase</td>\n",
       "      <td>4.99</td>\n",
       "      <td>A</td>\n",
       "      <td>2020-12-07</td>\n",
       "      <td>2020-12-07</td>\n",
       "      <td>0</td>\n",
       "    </tr>\n",
       "    <tr>\n",
       "      <th>1</th>\n",
       "      <td>3C5DD0288AC4FE23</td>\n",
       "      <td>2020-12-07 19:42:40</td>\n",
       "      <td>purchase</td>\n",
       "      <td>4.99</td>\n",
       "      <td>A</td>\n",
       "      <td>2020-12-07</td>\n",
       "      <td>2020-12-07</td>\n",
       "      <td>0</td>\n",
       "    </tr>\n",
       "    <tr>\n",
       "      <th>2</th>\n",
       "      <td>49EA242586C87836</td>\n",
       "      <td>2020-12-07 06:31:24</td>\n",
       "      <td>purchase</td>\n",
       "      <td>99.99</td>\n",
       "      <td>B</td>\n",
       "      <td>2020-12-07</td>\n",
       "      <td>2020-12-07</td>\n",
       "      <td>0</td>\n",
       "    </tr>\n",
       "    <tr>\n",
       "      <th>3</th>\n",
       "      <td>2B06EB547B7AAD08</td>\n",
       "      <td>2020-12-07 21:36:38</td>\n",
       "      <td>purchase</td>\n",
       "      <td>4.99</td>\n",
       "      <td>A</td>\n",
       "      <td>2020-12-07</td>\n",
       "      <td>2020-12-07</td>\n",
       "      <td>0</td>\n",
       "    </tr>\n",
       "    <tr>\n",
       "      <th>4</th>\n",
       "      <td>A640F31CAC7823A6</td>\n",
       "      <td>2020-12-07 18:48:26</td>\n",
       "      <td>purchase</td>\n",
       "      <td>4.99</td>\n",
       "      <td>B</td>\n",
       "      <td>2020-12-07</td>\n",
       "      <td>2020-12-07</td>\n",
       "      <td>0</td>\n",
       "    </tr>\n",
       "  </tbody>\n",
       "</table>\n",
       "</div>"
      ],
      "text/plain": [
       "            user_id            event_dt event_name  details group  first_date  \\\n",
       "0  831887FE7F2D6CBA 2020-12-07 06:50:29  purchase  4.99      A     2020-12-07   \n",
       "1  3C5DD0288AC4FE23 2020-12-07 19:42:40  purchase  4.99      A     2020-12-07   \n",
       "2  49EA242586C87836 2020-12-07 06:31:24  purchase  99.99     B     2020-12-07   \n",
       "3  2B06EB547B7AAD08 2020-12-07 21:36:38  purchase  4.99      A     2020-12-07   \n",
       "4  A640F31CAC7823A6 2020-12-07 18:48:26  purchase  4.99      B     2020-12-07   \n",
       "\n",
       "   event_date  lifetime  \n",
       "0  2020-12-07  0         \n",
       "1  2020-12-07  0         \n",
       "2  2020-12-07  0         \n",
       "3  2020-12-07  0         \n",
       "4  2020-12-07  0         "
      ]
     },
     "metadata": {},
     "output_type": "display_data"
    },
    {
     "data": {
      "text/plain": [
       "'Количество событий в очищенном датасете - 10374'"
      ]
     },
     "metadata": {},
     "output_type": "display_data"
    },
    {
     "data": {
      "text/html": [
       "<div>\n",
       "<style scoped>\n",
       "    .dataframe tbody tr th:only-of-type {\n",
       "        vertical-align: middle;\n",
       "    }\n",
       "\n",
       "    .dataframe tbody tr th {\n",
       "        vertical-align: top;\n",
       "    }\n",
       "\n",
       "    .dataframe thead th {\n",
       "        text-align: right;\n",
       "    }\n",
       "</style>\n",
       "<table border=\"1\" class=\"dataframe\">\n",
       "  <thead>\n",
       "    <tr style=\"text-align: right;\">\n",
       "      <th></th>\n",
       "      <th>user_id</th>\n",
       "      <th>event_dt</th>\n",
       "      <th>event_name</th>\n",
       "      <th>details</th>\n",
       "      <th>group</th>\n",
       "      <th>first_date</th>\n",
       "      <th>event_date</th>\n",
       "      <th>lifetime</th>\n",
       "    </tr>\n",
       "  </thead>\n",
       "  <tbody>\n",
       "    <tr>\n",
       "      <th>0</th>\n",
       "      <td>831887FE7F2D6CBA</td>\n",
       "      <td>2020-12-07 06:50:29</td>\n",
       "      <td>purchase</td>\n",
       "      <td>4.99</td>\n",
       "      <td>A</td>\n",
       "      <td>2020-12-07</td>\n",
       "      <td>2020-12-07</td>\n",
       "      <td>0</td>\n",
       "    </tr>\n",
       "    <tr>\n",
       "      <th>1</th>\n",
       "      <td>3C5DD0288AC4FE23</td>\n",
       "      <td>2020-12-07 19:42:40</td>\n",
       "      <td>purchase</td>\n",
       "      <td>4.99</td>\n",
       "      <td>A</td>\n",
       "      <td>2020-12-07</td>\n",
       "      <td>2020-12-07</td>\n",
       "      <td>0</td>\n",
       "    </tr>\n",
       "    <tr>\n",
       "      <th>2</th>\n",
       "      <td>49EA242586C87836</td>\n",
       "      <td>2020-12-07 06:31:24</td>\n",
       "      <td>purchase</td>\n",
       "      <td>99.99</td>\n",
       "      <td>B</td>\n",
       "      <td>2020-12-07</td>\n",
       "      <td>2020-12-07</td>\n",
       "      <td>0</td>\n",
       "    </tr>\n",
       "    <tr>\n",
       "      <th>3</th>\n",
       "      <td>A640F31CAC7823A6</td>\n",
       "      <td>2020-12-07 18:48:26</td>\n",
       "      <td>purchase</td>\n",
       "      <td>4.99</td>\n",
       "      <td>B</td>\n",
       "      <td>2020-12-07</td>\n",
       "      <td>2020-12-07</td>\n",
       "      <td>0</td>\n",
       "    </tr>\n",
       "    <tr>\n",
       "      <th>4</th>\n",
       "      <td>A9908F62C41613A8</td>\n",
       "      <td>2020-12-07 11:26:47</td>\n",
       "      <td>purchase</td>\n",
       "      <td>9.99</td>\n",
       "      <td>B</td>\n",
       "      <td>2020-12-07</td>\n",
       "      <td>2020-12-07</td>\n",
       "      <td>0</td>\n",
       "    </tr>\n",
       "  </tbody>\n",
       "</table>\n",
       "</div>"
      ],
      "text/plain": [
       "            user_id            event_dt event_name  details group  first_date  \\\n",
       "0  831887FE7F2D6CBA 2020-12-07 06:50:29  purchase  4.99      A     2020-12-07   \n",
       "1  3C5DD0288AC4FE23 2020-12-07 19:42:40  purchase  4.99      A     2020-12-07   \n",
       "2  49EA242586C87836 2020-12-07 06:31:24  purchase  99.99     B     2020-12-07   \n",
       "3  A640F31CAC7823A6 2020-12-07 18:48:26  purchase  4.99      B     2020-12-07   \n",
       "4  A9908F62C41613A8 2020-12-07 11:26:47  purchase  9.99      B     2020-12-07   \n",
       "\n",
       "   event_date  lifetime  \n",
       "0  2020-12-07  0         \n",
       "1  2020-12-07  0         \n",
       "2  2020-12-07  0         \n",
       "3  2020-12-07  0         \n",
       "4  2020-12-07  0         "
      ]
     },
     "metadata": {},
     "output_type": "display_data"
    }
   ],
   "source": [
    "# датафрейм с исходными данными\n",
    "old_events_and_profiles = events_and_profiles(events_system_test, new_users_system_test, participants_system_test)\n",
    "\n",
    "# датафрейм с \"чистыми\" данными\n",
    "new_events_and_profiles = events_and_profiles(events_system_test_clear, new_users_system_test_clear, participants_system_test_clear)\n",
    "\n",
    "\n",
    "display(f'Количество событий в исходном датасете - {len(old_events_and_profiles)}', old_events_and_profiles.head())\n",
    "display(f'Количество событий в очищенном датасете - {len(new_events_and_profiles)}', new_events_and_profiles.head())"
   ]
  },
  {
   "cell_type": "markdown",
   "metadata": {},
   "source": [
    "**Найдем количество активных пользователей в группах:**"
   ]
  },
  {
   "cell_type": "code",
   "execution_count": 44,
   "metadata": {},
   "outputs": [
    {
     "name": "stdout",
     "output_type": "stream",
     "text": [
      "Активные пользователи в исходных данных: group\n",
      "A    1597\n",
      "B    675 \n",
      "Name: user_id, dtype: int64\n",
      "Активные пользователи в обработанных данных:  group\n",
      "A    1115\n",
      "B    476 \n",
      "Name: user_id, dtype: int64\n"
     ]
    }
   ],
   "source": [
    "print('Активные пользователи в исходных данных:', old_events_and_profiles.groupby('group')['user_id'].nunique())\n",
    "print('Активные пользователи в обработанных данных: ', new_events_and_profiles.groupby('group')['user_id'].nunique())"
   ]
  },
  {
   "cell_type": "markdown",
   "metadata": {},
   "source": [
    "**Наблюдения:** \n",
    "\n",
    "По исходным данным:\n",
    "\n",
    "- В группе A - 1597 активных пользователей\n",
    "- В группе B - 675 активных пользователей\n",
    "\n",
    "По обработанным данным:\n",
    "\n",
    "- В группе A - 1115 активных пользователей\n",
    "- В группе B - 476 активных пользователей"
   ]
  },
  {
   "cell_type": "markdown",
   "metadata": {},
   "source": [
    "**Посчитаем общее количество пользователей в группах теста после обработки пользователей по горизонту:**"
   ]
  },
  {
   "cell_type": "code",
   "execution_count": 45,
   "metadata": {},
   "outputs": [
    {
     "data": {
      "text/plain": [
       "'Результаты по исходным данным:'"
      ]
     },
     "metadata": {},
     "output_type": "display_data"
    },
    {
     "data": {
      "text/html": [
       "<div>\n",
       "<style scoped>\n",
       "    .dataframe tbody tr th:only-of-type {\n",
       "        vertical-align: middle;\n",
       "    }\n",
       "\n",
       "    .dataframe tbody tr th {\n",
       "        vertical-align: top;\n",
       "    }\n",
       "\n",
       "    .dataframe thead th {\n",
       "        text-align: right;\n",
       "    }\n",
       "</style>\n",
       "<table border=\"1\" class=\"dataframe\">\n",
       "  <thead>\n",
       "    <tr style=\"text-align: right;\">\n",
       "      <th>group</th>\n",
       "      <th>A</th>\n",
       "      <th>B</th>\n",
       "    </tr>\n",
       "  </thead>\n",
       "  <tbody>\n",
       "    <tr>\n",
       "      <th>user_id</th>\n",
       "      <td>2674</td>\n",
       "      <td>1999</td>\n",
       "    </tr>\n",
       "  </tbody>\n",
       "</table>\n",
       "</div>"
      ],
      "text/plain": [
       "group       A     B\n",
       "user_id  2674  1999"
      ]
     },
     "metadata": {},
     "output_type": "display_data"
    },
    {
     "data": {
      "text/plain": [
       "'Результаты по обработанным данным:'"
      ]
     },
     "metadata": {},
     "output_type": "display_data"
    },
    {
     "data": {
      "text/html": [
       "<div>\n",
       "<style scoped>\n",
       "    .dataframe tbody tr th:only-of-type {\n",
       "        vertical-align: middle;\n",
       "    }\n",
       "\n",
       "    .dataframe tbody tr th {\n",
       "        vertical-align: top;\n",
       "    }\n",
       "\n",
       "    .dataframe thead th {\n",
       "        text-align: right;\n",
       "    }\n",
       "</style>\n",
       "<table border=\"1\" class=\"dataframe\">\n",
       "  <thead>\n",
       "    <tr style=\"text-align: right;\">\n",
       "      <th>group</th>\n",
       "      <th>A</th>\n",
       "      <th>B</th>\n",
       "    </tr>\n",
       "  </thead>\n",
       "  <tbody>\n",
       "    <tr>\n",
       "      <th>user_id</th>\n",
       "      <td>1889</td>\n",
       "      <td>1396</td>\n",
       "    </tr>\n",
       "  </tbody>\n",
       "</table>\n",
       "</div>"
      ],
      "text/plain": [
       "group       A     B\n",
       "user_id  1889  1396"
      ]
     },
     "metadata": {},
     "output_type": "display_data"
    }
   ],
   "source": [
    "old_users = new_users_system_test.query('first_date <=  @first_dat')['user_id'] \n",
    "old_groups = participants_system_test.query('user_id in @old_users').groupby('group').count().T\n",
    "\n",
    "# расчет по обработанным данным\n",
    "new_users = new_users_system_test_clear.query('first_date <=  @first_dat')['user_id']\n",
    "new_groups = participants_system_test_clear.query('user_id in @new_users').groupby('group').count().T\n",
    "\n",
    "display(\"Результаты по исходным данным:\", old_groups)\n",
    "display(\"Результаты по обработанным данным:\", new_groups)"
   ]
  },
  {
   "cell_type": "markdown",
   "metadata": {},
   "source": [
    "Были обработаны пользователи, не прожившие полные 14 дней, и события, которые произошли после 17 декабря (свыше 14 лайфтайма).\n",
    "\n",
    "- По исходным данным:\n",
    "\n",
    "    Осталась информация о 4763 пользователях: в группе A - 2674, в группе B - 1999\n",
    "\n",
    "- По обработанным данным:\n",
    "\n",
    "    Осталась информация о 3285 пользователях: в группе A - 1889, в группе B - 1396"
   ]
  },
  {
   "cell_type": "markdown",
   "metadata": {},
   "source": [
    "#### Проверка ожидаемого эффекта: за 14 дней с момента регистрации пользователи покажут улучшение каждой метрики не менее, чем на 10%\n",
    "\n",
    "- конверсии в просмотр карточек товаров - событие `product_page`,\n",
    "- просмотр корзины - `product_cart`,\n",
    "- покупки - `purchase`"
   ]
  },
  {
   "cell_type": "markdown",
   "metadata": {},
   "source": [
    "**Напишем функцию для подготовки данных для воронок:**"
   ]
  },
  {
   "cell_type": "code",
   "execution_count": 46,
   "metadata": {},
   "outputs": [],
   "source": [
    "def funnels(events_and_profiles, group_df):\n",
    "    # Группируем уникальных пользователей по событиям\n",
    "    funnel = events_and_profiles.pivot_table(index = 'event_name', columns = 'group', values = 'user_id', aggfunc = 'nunique')\n",
    "    funnel = pd.concat([funnel, group_df]).sort_values(by='B', ascending=False)\n",
    "    \n",
    "    funnel.drop('user_id', inplace=True, axis=0)\n",
    "    # Добавляем расчетные колонки % конверсии от предыдущего события\n",
    "    funnel['A_shift'] = funnel['A'].shift(1, axis=0)\n",
    "    funnel['A_convers'] = funnel['A'] * 100 /  funnel['A_shift']\n",
    "    funnel['B_shift'] = funnel['B'].shift(1, axis=0)\n",
    "    funnel['B_convers'] = funnel['B'] * 100 /  funnel['B_shift']\n",
    "    funnel['delta_%_convers'] =   funnel['B_convers'] - funnel['A_convers'] \n",
    "    \n",
    "    funnel.drop(['A_shift', 'B_shift'], inplace=True, axis = 1)\n",
    "\n",
    "    return funnel"
   ]
  },
  {
   "cell_type": "markdown",
   "metadata": {},
   "source": [
    "**Построим воронки для двух датасетов:**"
   ]
  },
  {
   "cell_type": "code",
   "execution_count": 47,
   "metadata": {},
   "outputs": [
    {
     "data": {
      "text/plain": [
       "'Воронка по исходным данным:'"
      ]
     },
     "metadata": {},
     "output_type": "display_data"
    },
    {
     "data": {
      "text/html": [
       "<div>\n",
       "<style scoped>\n",
       "    .dataframe tbody tr th:only-of-type {\n",
       "        vertical-align: middle;\n",
       "    }\n",
       "\n",
       "    .dataframe tbody tr th {\n",
       "        vertical-align: top;\n",
       "    }\n",
       "\n",
       "    .dataframe thead th {\n",
       "        text-align: right;\n",
       "    }\n",
       "</style>\n",
       "<table border=\"1\" class=\"dataframe\">\n",
       "  <thead>\n",
       "    <tr style=\"text-align: right;\">\n",
       "      <th>group</th>\n",
       "      <th>A</th>\n",
       "      <th>B</th>\n",
       "      <th>A_convers</th>\n",
       "      <th>B_convers</th>\n",
       "      <th>delta_%_convers</th>\n",
       "    </tr>\n",
       "  </thead>\n",
       "  <tbody>\n",
       "    <tr>\n",
       "      <th>login</th>\n",
       "      <td>1597</td>\n",
       "      <td>674</td>\n",
       "      <td>NaN</td>\n",
       "      <td>NaN</td>\n",
       "      <td>NaN</td>\n",
       "    </tr>\n",
       "    <tr>\n",
       "      <th>product_page</th>\n",
       "      <td>1018</td>\n",
       "      <td>386</td>\n",
       "      <td>63.74</td>\n",
       "      <td>57.27</td>\n",
       "      <td>-6.47</td>\n",
       "    </tr>\n",
       "    <tr>\n",
       "      <th>product_cart</th>\n",
       "      <td>479</td>\n",
       "      <td>195</td>\n",
       "      <td>47.05</td>\n",
       "      <td>50.52</td>\n",
       "      <td>3.47</td>\n",
       "    </tr>\n",
       "    <tr>\n",
       "      <th>purchase</th>\n",
       "      <td>487</td>\n",
       "      <td>189</td>\n",
       "      <td>101.67</td>\n",
       "      <td>96.92</td>\n",
       "      <td>-4.75</td>\n",
       "    </tr>\n",
       "  </tbody>\n",
       "</table>\n",
       "</div>"
      ],
      "text/plain": [
       "group            A    B  A_convers  B_convers  delta_%_convers\n",
       "login         1597  674 NaN        NaN        NaN             \n",
       "product_page  1018  386 63.74      57.27      -6.47           \n",
       "product_cart  479   195 47.05      50.52      3.47            \n",
       "purchase      487   189 101.67     96.92      -4.75           "
      ]
     },
     "metadata": {},
     "output_type": "display_data"
    },
    {
     "data": {
      "application/vnd.plotly.v1+json": {
       "config": {
        "plotlyServerURL": "https://plot.ly"
       },
       "data": [
        {
         "name": "A",
         "type": "funnel",
         "x": [
          1597,
          1018,
          479,
          487
         ],
         "y": [
          "Вошел в приложение",
          "Страница товара",
          "Корзина",
          "Покупка"
         ]
        },
        {
         "name": "B",
         "type": "funnel",
         "x": [
          674,
          386,
          195,
          189
         ],
         "y": [
          "Вошел в приложение",
          "Страница товара",
          "Корзина",
          "Покупка"
         ]
        }
       ],
       "layout": {
        "template": {
         "data": {
          "bar": [
           {
            "error_x": {
             "color": "#2a3f5f"
            },
            "error_y": {
             "color": "#2a3f5f"
            },
            "marker": {
             "line": {
              "color": "#E5ECF6",
              "width": 0.5
             },
             "pattern": {
              "fillmode": "overlay",
              "size": 10,
              "solidity": 0.2
             }
            },
            "type": "bar"
           }
          ],
          "barpolar": [
           {
            "marker": {
             "line": {
              "color": "#E5ECF6",
              "width": 0.5
             },
             "pattern": {
              "fillmode": "overlay",
              "size": 10,
              "solidity": 0.2
             }
            },
            "type": "barpolar"
           }
          ],
          "carpet": [
           {
            "aaxis": {
             "endlinecolor": "#2a3f5f",
             "gridcolor": "white",
             "linecolor": "white",
             "minorgridcolor": "white",
             "startlinecolor": "#2a3f5f"
            },
            "baxis": {
             "endlinecolor": "#2a3f5f",
             "gridcolor": "white",
             "linecolor": "white",
             "minorgridcolor": "white",
             "startlinecolor": "#2a3f5f"
            },
            "type": "carpet"
           }
          ],
          "choropleth": [
           {
            "colorbar": {
             "outlinewidth": 0,
             "ticks": ""
            },
            "type": "choropleth"
           }
          ],
          "contour": [
           {
            "colorbar": {
             "outlinewidth": 0,
             "ticks": ""
            },
            "colorscale": [
             [
              0,
              "#0d0887"
             ],
             [
              0.1111111111111111,
              "#46039f"
             ],
             [
              0.2222222222222222,
              "#7201a8"
             ],
             [
              0.3333333333333333,
              "#9c179e"
             ],
             [
              0.4444444444444444,
              "#bd3786"
             ],
             [
              0.5555555555555556,
              "#d8576b"
             ],
             [
              0.6666666666666666,
              "#ed7953"
             ],
             [
              0.7777777777777778,
              "#fb9f3a"
             ],
             [
              0.8888888888888888,
              "#fdca26"
             ],
             [
              1,
              "#f0f921"
             ]
            ],
            "type": "contour"
           }
          ],
          "contourcarpet": [
           {
            "colorbar": {
             "outlinewidth": 0,
             "ticks": ""
            },
            "type": "contourcarpet"
           }
          ],
          "heatmap": [
           {
            "colorbar": {
             "outlinewidth": 0,
             "ticks": ""
            },
            "colorscale": [
             [
              0,
              "#0d0887"
             ],
             [
              0.1111111111111111,
              "#46039f"
             ],
             [
              0.2222222222222222,
              "#7201a8"
             ],
             [
              0.3333333333333333,
              "#9c179e"
             ],
             [
              0.4444444444444444,
              "#bd3786"
             ],
             [
              0.5555555555555556,
              "#d8576b"
             ],
             [
              0.6666666666666666,
              "#ed7953"
             ],
             [
              0.7777777777777778,
              "#fb9f3a"
             ],
             [
              0.8888888888888888,
              "#fdca26"
             ],
             [
              1,
              "#f0f921"
             ]
            ],
            "type": "heatmap"
           }
          ],
          "heatmapgl": [
           {
            "colorbar": {
             "outlinewidth": 0,
             "ticks": ""
            },
            "colorscale": [
             [
              0,
              "#0d0887"
             ],
             [
              0.1111111111111111,
              "#46039f"
             ],
             [
              0.2222222222222222,
              "#7201a8"
             ],
             [
              0.3333333333333333,
              "#9c179e"
             ],
             [
              0.4444444444444444,
              "#bd3786"
             ],
             [
              0.5555555555555556,
              "#d8576b"
             ],
             [
              0.6666666666666666,
              "#ed7953"
             ],
             [
              0.7777777777777778,
              "#fb9f3a"
             ],
             [
              0.8888888888888888,
              "#fdca26"
             ],
             [
              1,
              "#f0f921"
             ]
            ],
            "type": "heatmapgl"
           }
          ],
          "histogram": [
           {
            "marker": {
             "pattern": {
              "fillmode": "overlay",
              "size": 10,
              "solidity": 0.2
             }
            },
            "type": "histogram"
           }
          ],
          "histogram2d": [
           {
            "colorbar": {
             "outlinewidth": 0,
             "ticks": ""
            },
            "colorscale": [
             [
              0,
              "#0d0887"
             ],
             [
              0.1111111111111111,
              "#46039f"
             ],
             [
              0.2222222222222222,
              "#7201a8"
             ],
             [
              0.3333333333333333,
              "#9c179e"
             ],
             [
              0.4444444444444444,
              "#bd3786"
             ],
             [
              0.5555555555555556,
              "#d8576b"
             ],
             [
              0.6666666666666666,
              "#ed7953"
             ],
             [
              0.7777777777777778,
              "#fb9f3a"
             ],
             [
              0.8888888888888888,
              "#fdca26"
             ],
             [
              1,
              "#f0f921"
             ]
            ],
            "type": "histogram2d"
           }
          ],
          "histogram2dcontour": [
           {
            "colorbar": {
             "outlinewidth": 0,
             "ticks": ""
            },
            "colorscale": [
             [
              0,
              "#0d0887"
             ],
             [
              0.1111111111111111,
              "#46039f"
             ],
             [
              0.2222222222222222,
              "#7201a8"
             ],
             [
              0.3333333333333333,
              "#9c179e"
             ],
             [
              0.4444444444444444,
              "#bd3786"
             ],
             [
              0.5555555555555556,
              "#d8576b"
             ],
             [
              0.6666666666666666,
              "#ed7953"
             ],
             [
              0.7777777777777778,
              "#fb9f3a"
             ],
             [
              0.8888888888888888,
              "#fdca26"
             ],
             [
              1,
              "#f0f921"
             ]
            ],
            "type": "histogram2dcontour"
           }
          ],
          "mesh3d": [
           {
            "colorbar": {
             "outlinewidth": 0,
             "ticks": ""
            },
            "type": "mesh3d"
           }
          ],
          "parcoords": [
           {
            "line": {
             "colorbar": {
              "outlinewidth": 0,
              "ticks": ""
             }
            },
            "type": "parcoords"
           }
          ],
          "pie": [
           {
            "automargin": true,
            "type": "pie"
           }
          ],
          "scatter": [
           {
            "fillpattern": {
             "fillmode": "overlay",
             "size": 10,
             "solidity": 0.2
            },
            "type": "scatter"
           }
          ],
          "scatter3d": [
           {
            "line": {
             "colorbar": {
              "outlinewidth": 0,
              "ticks": ""
             }
            },
            "marker": {
             "colorbar": {
              "outlinewidth": 0,
              "ticks": ""
             }
            },
            "type": "scatter3d"
           }
          ],
          "scattercarpet": [
           {
            "marker": {
             "colorbar": {
              "outlinewidth": 0,
              "ticks": ""
             }
            },
            "type": "scattercarpet"
           }
          ],
          "scattergeo": [
           {
            "marker": {
             "colorbar": {
              "outlinewidth": 0,
              "ticks": ""
             }
            },
            "type": "scattergeo"
           }
          ],
          "scattergl": [
           {
            "marker": {
             "colorbar": {
              "outlinewidth": 0,
              "ticks": ""
             }
            },
            "type": "scattergl"
           }
          ],
          "scattermapbox": [
           {
            "marker": {
             "colorbar": {
              "outlinewidth": 0,
              "ticks": ""
             }
            },
            "type": "scattermapbox"
           }
          ],
          "scatterpolar": [
           {
            "marker": {
             "colorbar": {
              "outlinewidth": 0,
              "ticks": ""
             }
            },
            "type": "scatterpolar"
           }
          ],
          "scatterpolargl": [
           {
            "marker": {
             "colorbar": {
              "outlinewidth": 0,
              "ticks": ""
             }
            },
            "type": "scatterpolargl"
           }
          ],
          "scatterternary": [
           {
            "marker": {
             "colorbar": {
              "outlinewidth": 0,
              "ticks": ""
             }
            },
            "type": "scatterternary"
           }
          ],
          "surface": [
           {
            "colorbar": {
             "outlinewidth": 0,
             "ticks": ""
            },
            "colorscale": [
             [
              0,
              "#0d0887"
             ],
             [
              0.1111111111111111,
              "#46039f"
             ],
             [
              0.2222222222222222,
              "#7201a8"
             ],
             [
              0.3333333333333333,
              "#9c179e"
             ],
             [
              0.4444444444444444,
              "#bd3786"
             ],
             [
              0.5555555555555556,
              "#d8576b"
             ],
             [
              0.6666666666666666,
              "#ed7953"
             ],
             [
              0.7777777777777778,
              "#fb9f3a"
             ],
             [
              0.8888888888888888,
              "#fdca26"
             ],
             [
              1,
              "#f0f921"
             ]
            ],
            "type": "surface"
           }
          ],
          "table": [
           {
            "cells": {
             "fill": {
              "color": "#EBF0F8"
             },
             "line": {
              "color": "white"
             }
            },
            "header": {
             "fill": {
              "color": "#C8D4E3"
             },
             "line": {
              "color": "white"
             }
            },
            "type": "table"
           }
          ]
         },
         "layout": {
          "annotationdefaults": {
           "arrowcolor": "#2a3f5f",
           "arrowhead": 0,
           "arrowwidth": 1
          },
          "autotypenumbers": "strict",
          "coloraxis": {
           "colorbar": {
            "outlinewidth": 0,
            "ticks": ""
           }
          },
          "colorscale": {
           "diverging": [
            [
             0,
             "#8e0152"
            ],
            [
             0.1,
             "#c51b7d"
            ],
            [
             0.2,
             "#de77ae"
            ],
            [
             0.3,
             "#f1b6da"
            ],
            [
             0.4,
             "#fde0ef"
            ],
            [
             0.5,
             "#f7f7f7"
            ],
            [
             0.6,
             "#e6f5d0"
            ],
            [
             0.7,
             "#b8e186"
            ],
            [
             0.8,
             "#7fbc41"
            ],
            [
             0.9,
             "#4d9221"
            ],
            [
             1,
             "#276419"
            ]
           ],
           "sequential": [
            [
             0,
             "#0d0887"
            ],
            [
             0.1111111111111111,
             "#46039f"
            ],
            [
             0.2222222222222222,
             "#7201a8"
            ],
            [
             0.3333333333333333,
             "#9c179e"
            ],
            [
             0.4444444444444444,
             "#bd3786"
            ],
            [
             0.5555555555555556,
             "#d8576b"
            ],
            [
             0.6666666666666666,
             "#ed7953"
            ],
            [
             0.7777777777777778,
             "#fb9f3a"
            ],
            [
             0.8888888888888888,
             "#fdca26"
            ],
            [
             1,
             "#f0f921"
            ]
           ],
           "sequentialminus": [
            [
             0,
             "#0d0887"
            ],
            [
             0.1111111111111111,
             "#46039f"
            ],
            [
             0.2222222222222222,
             "#7201a8"
            ],
            [
             0.3333333333333333,
             "#9c179e"
            ],
            [
             0.4444444444444444,
             "#bd3786"
            ],
            [
             0.5555555555555556,
             "#d8576b"
            ],
            [
             0.6666666666666666,
             "#ed7953"
            ],
            [
             0.7777777777777778,
             "#fb9f3a"
            ],
            [
             0.8888888888888888,
             "#fdca26"
            ],
            [
             1,
             "#f0f921"
            ]
           ]
          },
          "colorway": [
           "#636efa",
           "#EF553B",
           "#00cc96",
           "#ab63fa",
           "#FFA15A",
           "#19d3f3",
           "#FF6692",
           "#B6E880",
           "#FF97FF",
           "#FECB52"
          ],
          "font": {
           "color": "#2a3f5f"
          },
          "geo": {
           "bgcolor": "white",
           "lakecolor": "white",
           "landcolor": "#E5ECF6",
           "showlakes": true,
           "showland": true,
           "subunitcolor": "white"
          },
          "hoverlabel": {
           "align": "left"
          },
          "hovermode": "closest",
          "mapbox": {
           "style": "light"
          },
          "paper_bgcolor": "white",
          "plot_bgcolor": "#E5ECF6",
          "polar": {
           "angularaxis": {
            "gridcolor": "white",
            "linecolor": "white",
            "ticks": ""
           },
           "bgcolor": "#E5ECF6",
           "radialaxis": {
            "gridcolor": "white",
            "linecolor": "white",
            "ticks": ""
           }
          },
          "scene": {
           "xaxis": {
            "backgroundcolor": "#E5ECF6",
            "gridcolor": "white",
            "gridwidth": 2,
            "linecolor": "white",
            "showbackground": true,
            "ticks": "",
            "zerolinecolor": "white"
           },
           "yaxis": {
            "backgroundcolor": "#E5ECF6",
            "gridcolor": "white",
            "gridwidth": 2,
            "linecolor": "white",
            "showbackground": true,
            "ticks": "",
            "zerolinecolor": "white"
           },
           "zaxis": {
            "backgroundcolor": "#E5ECF6",
            "gridcolor": "white",
            "gridwidth": 2,
            "linecolor": "white",
            "showbackground": true,
            "ticks": "",
            "zerolinecolor": "white"
           }
          },
          "shapedefaults": {
           "line": {
            "color": "#2a3f5f"
           }
          },
          "ternary": {
           "aaxis": {
            "gridcolor": "white",
            "linecolor": "white",
            "ticks": ""
           },
           "baxis": {
            "gridcolor": "white",
            "linecolor": "white",
            "ticks": ""
           },
           "bgcolor": "#E5ECF6",
           "caxis": {
            "gridcolor": "white",
            "linecolor": "white",
            "ticks": ""
           }
          },
          "title": {
           "x": 0.05
          },
          "xaxis": {
           "automargin": true,
           "gridcolor": "white",
           "linecolor": "white",
           "ticks": "",
           "title": {
            "standoff": 15
           },
           "zerolinecolor": "white",
           "zerolinewidth": 2
          },
          "yaxis": {
           "automargin": true,
           "gridcolor": "white",
           "linecolor": "white",
           "ticks": "",
           "title": {
            "standoff": 15
           },
           "zerolinecolor": "white",
           "zerolinewidth": 2
          }
         }
        },
        "title": {
         "text": "Воронка событий по группам A и B",
         "x": 0.55,
         "xanchor": "center"
        }
       }
      }
     },
     "metadata": {},
     "output_type": "display_data"
    }
   ],
   "source": [
    "old_funnel = funnels(old_events_and_profiles,old_groups)\n",
    "display('Воронка по исходным данным:', old_funnel)\n",
    "\n",
    "fig = go.Figure()\n",
    "fig.update_layout(title={'text' :'Воронка событий по группам A и B', 'x':0.55, 'xanchor': 'center'})\n",
    "for event in ['A', 'B']:    \n",
    "    fig.add_trace(go.Funnel(\n",
    "    name = event,\n",
    "    y=['Вошел в приложение', 'Страница товара', 'Корзина', 'Покупка'],\n",
    "    x=old_funnel[event]))\n",
    "fig.show() "
   ]
  },
  {
   "cell_type": "code",
   "execution_count": 48,
   "metadata": {},
   "outputs": [
    {
     "data": {
      "text/plain": [
       "'Воронка по обработанным данным:'"
      ]
     },
     "metadata": {},
     "output_type": "display_data"
    },
    {
     "data": {
      "text/html": [
       "<div>\n",
       "<style scoped>\n",
       "    .dataframe tbody tr th:only-of-type {\n",
       "        vertical-align: middle;\n",
       "    }\n",
       "\n",
       "    .dataframe tbody tr th {\n",
       "        vertical-align: top;\n",
       "    }\n",
       "\n",
       "    .dataframe thead th {\n",
       "        text-align: right;\n",
       "    }\n",
       "</style>\n",
       "<table border=\"1\" class=\"dataframe\">\n",
       "  <thead>\n",
       "    <tr style=\"text-align: right;\">\n",
       "      <th>group</th>\n",
       "      <th>A</th>\n",
       "      <th>B</th>\n",
       "      <th>A_convers</th>\n",
       "      <th>B_convers</th>\n",
       "      <th>delta_%_convers</th>\n",
       "    </tr>\n",
       "  </thead>\n",
       "  <tbody>\n",
       "    <tr>\n",
       "      <th>login</th>\n",
       "      <td>1115</td>\n",
       "      <td>475</td>\n",
       "      <td>NaN</td>\n",
       "      <td>NaN</td>\n",
       "      <td>NaN</td>\n",
       "    </tr>\n",
       "    <tr>\n",
       "      <th>product_page</th>\n",
       "      <td>723</td>\n",
       "      <td>265</td>\n",
       "      <td>64.84</td>\n",
       "      <td>55.79</td>\n",
       "      <td>-9.05</td>\n",
       "    </tr>\n",
       "    <tr>\n",
       "      <th>product_cart</th>\n",
       "      <td>350</td>\n",
       "      <td>139</td>\n",
       "      <td>48.41</td>\n",
       "      <td>52.45</td>\n",
       "      <td>4.04</td>\n",
       "    </tr>\n",
       "    <tr>\n",
       "      <th>purchase</th>\n",
       "      <td>333</td>\n",
       "      <td>132</td>\n",
       "      <td>95.14</td>\n",
       "      <td>94.96</td>\n",
       "      <td>-0.18</td>\n",
       "    </tr>\n",
       "  </tbody>\n",
       "</table>\n",
       "</div>"
      ],
      "text/plain": [
       "group            A    B  A_convers  B_convers  delta_%_convers\n",
       "login         1115  475 NaN        NaN        NaN             \n",
       "product_page  723   265 64.84      55.79      -9.05           \n",
       "product_cart  350   139 48.41      52.45      4.04            \n",
       "purchase      333   132 95.14      94.96      -0.18           "
      ]
     },
     "metadata": {},
     "output_type": "display_data"
    },
    {
     "data": {
      "application/vnd.plotly.v1+json": {
       "config": {
        "plotlyServerURL": "https://plot.ly"
       },
       "data": [
        {
         "name": "A",
         "type": "funnel",
         "x": [
          1115,
          723,
          350,
          333
         ],
         "y": [
          "Вошел в приложение",
          "Страница товара",
          "Корзина",
          "Покупка"
         ]
        },
        {
         "name": "B",
         "type": "funnel",
         "x": [
          475,
          265,
          139,
          132
         ],
         "y": [
          "Вошел в приложение",
          "Страница товара",
          "Корзина",
          "Покупка"
         ]
        }
       ],
       "layout": {
        "template": {
         "data": {
          "bar": [
           {
            "error_x": {
             "color": "#2a3f5f"
            },
            "error_y": {
             "color": "#2a3f5f"
            },
            "marker": {
             "line": {
              "color": "#E5ECF6",
              "width": 0.5
             },
             "pattern": {
              "fillmode": "overlay",
              "size": 10,
              "solidity": 0.2
             }
            },
            "type": "bar"
           }
          ],
          "barpolar": [
           {
            "marker": {
             "line": {
              "color": "#E5ECF6",
              "width": 0.5
             },
             "pattern": {
              "fillmode": "overlay",
              "size": 10,
              "solidity": 0.2
             }
            },
            "type": "barpolar"
           }
          ],
          "carpet": [
           {
            "aaxis": {
             "endlinecolor": "#2a3f5f",
             "gridcolor": "white",
             "linecolor": "white",
             "minorgridcolor": "white",
             "startlinecolor": "#2a3f5f"
            },
            "baxis": {
             "endlinecolor": "#2a3f5f",
             "gridcolor": "white",
             "linecolor": "white",
             "minorgridcolor": "white",
             "startlinecolor": "#2a3f5f"
            },
            "type": "carpet"
           }
          ],
          "choropleth": [
           {
            "colorbar": {
             "outlinewidth": 0,
             "ticks": ""
            },
            "type": "choropleth"
           }
          ],
          "contour": [
           {
            "colorbar": {
             "outlinewidth": 0,
             "ticks": ""
            },
            "colorscale": [
             [
              0,
              "#0d0887"
             ],
             [
              0.1111111111111111,
              "#46039f"
             ],
             [
              0.2222222222222222,
              "#7201a8"
             ],
             [
              0.3333333333333333,
              "#9c179e"
             ],
             [
              0.4444444444444444,
              "#bd3786"
             ],
             [
              0.5555555555555556,
              "#d8576b"
             ],
             [
              0.6666666666666666,
              "#ed7953"
             ],
             [
              0.7777777777777778,
              "#fb9f3a"
             ],
             [
              0.8888888888888888,
              "#fdca26"
             ],
             [
              1,
              "#f0f921"
             ]
            ],
            "type": "contour"
           }
          ],
          "contourcarpet": [
           {
            "colorbar": {
             "outlinewidth": 0,
             "ticks": ""
            },
            "type": "contourcarpet"
           }
          ],
          "heatmap": [
           {
            "colorbar": {
             "outlinewidth": 0,
             "ticks": ""
            },
            "colorscale": [
             [
              0,
              "#0d0887"
             ],
             [
              0.1111111111111111,
              "#46039f"
             ],
             [
              0.2222222222222222,
              "#7201a8"
             ],
             [
              0.3333333333333333,
              "#9c179e"
             ],
             [
              0.4444444444444444,
              "#bd3786"
             ],
             [
              0.5555555555555556,
              "#d8576b"
             ],
             [
              0.6666666666666666,
              "#ed7953"
             ],
             [
              0.7777777777777778,
              "#fb9f3a"
             ],
             [
              0.8888888888888888,
              "#fdca26"
             ],
             [
              1,
              "#f0f921"
             ]
            ],
            "type": "heatmap"
           }
          ],
          "heatmapgl": [
           {
            "colorbar": {
             "outlinewidth": 0,
             "ticks": ""
            },
            "colorscale": [
             [
              0,
              "#0d0887"
             ],
             [
              0.1111111111111111,
              "#46039f"
             ],
             [
              0.2222222222222222,
              "#7201a8"
             ],
             [
              0.3333333333333333,
              "#9c179e"
             ],
             [
              0.4444444444444444,
              "#bd3786"
             ],
             [
              0.5555555555555556,
              "#d8576b"
             ],
             [
              0.6666666666666666,
              "#ed7953"
             ],
             [
              0.7777777777777778,
              "#fb9f3a"
             ],
             [
              0.8888888888888888,
              "#fdca26"
             ],
             [
              1,
              "#f0f921"
             ]
            ],
            "type": "heatmapgl"
           }
          ],
          "histogram": [
           {
            "marker": {
             "pattern": {
              "fillmode": "overlay",
              "size": 10,
              "solidity": 0.2
             }
            },
            "type": "histogram"
           }
          ],
          "histogram2d": [
           {
            "colorbar": {
             "outlinewidth": 0,
             "ticks": ""
            },
            "colorscale": [
             [
              0,
              "#0d0887"
             ],
             [
              0.1111111111111111,
              "#46039f"
             ],
             [
              0.2222222222222222,
              "#7201a8"
             ],
             [
              0.3333333333333333,
              "#9c179e"
             ],
             [
              0.4444444444444444,
              "#bd3786"
             ],
             [
              0.5555555555555556,
              "#d8576b"
             ],
             [
              0.6666666666666666,
              "#ed7953"
             ],
             [
              0.7777777777777778,
              "#fb9f3a"
             ],
             [
              0.8888888888888888,
              "#fdca26"
             ],
             [
              1,
              "#f0f921"
             ]
            ],
            "type": "histogram2d"
           }
          ],
          "histogram2dcontour": [
           {
            "colorbar": {
             "outlinewidth": 0,
             "ticks": ""
            },
            "colorscale": [
             [
              0,
              "#0d0887"
             ],
             [
              0.1111111111111111,
              "#46039f"
             ],
             [
              0.2222222222222222,
              "#7201a8"
             ],
             [
              0.3333333333333333,
              "#9c179e"
             ],
             [
              0.4444444444444444,
              "#bd3786"
             ],
             [
              0.5555555555555556,
              "#d8576b"
             ],
             [
              0.6666666666666666,
              "#ed7953"
             ],
             [
              0.7777777777777778,
              "#fb9f3a"
             ],
             [
              0.8888888888888888,
              "#fdca26"
             ],
             [
              1,
              "#f0f921"
             ]
            ],
            "type": "histogram2dcontour"
           }
          ],
          "mesh3d": [
           {
            "colorbar": {
             "outlinewidth": 0,
             "ticks": ""
            },
            "type": "mesh3d"
           }
          ],
          "parcoords": [
           {
            "line": {
             "colorbar": {
              "outlinewidth": 0,
              "ticks": ""
             }
            },
            "type": "parcoords"
           }
          ],
          "pie": [
           {
            "automargin": true,
            "type": "pie"
           }
          ],
          "scatter": [
           {
            "fillpattern": {
             "fillmode": "overlay",
             "size": 10,
             "solidity": 0.2
            },
            "type": "scatter"
           }
          ],
          "scatter3d": [
           {
            "line": {
             "colorbar": {
              "outlinewidth": 0,
              "ticks": ""
             }
            },
            "marker": {
             "colorbar": {
              "outlinewidth": 0,
              "ticks": ""
             }
            },
            "type": "scatter3d"
           }
          ],
          "scattercarpet": [
           {
            "marker": {
             "colorbar": {
              "outlinewidth": 0,
              "ticks": ""
             }
            },
            "type": "scattercarpet"
           }
          ],
          "scattergeo": [
           {
            "marker": {
             "colorbar": {
              "outlinewidth": 0,
              "ticks": ""
             }
            },
            "type": "scattergeo"
           }
          ],
          "scattergl": [
           {
            "marker": {
             "colorbar": {
              "outlinewidth": 0,
              "ticks": ""
             }
            },
            "type": "scattergl"
           }
          ],
          "scattermapbox": [
           {
            "marker": {
             "colorbar": {
              "outlinewidth": 0,
              "ticks": ""
             }
            },
            "type": "scattermapbox"
           }
          ],
          "scatterpolar": [
           {
            "marker": {
             "colorbar": {
              "outlinewidth": 0,
              "ticks": ""
             }
            },
            "type": "scatterpolar"
           }
          ],
          "scatterpolargl": [
           {
            "marker": {
             "colorbar": {
              "outlinewidth": 0,
              "ticks": ""
             }
            },
            "type": "scatterpolargl"
           }
          ],
          "scatterternary": [
           {
            "marker": {
             "colorbar": {
              "outlinewidth": 0,
              "ticks": ""
             }
            },
            "type": "scatterternary"
           }
          ],
          "surface": [
           {
            "colorbar": {
             "outlinewidth": 0,
             "ticks": ""
            },
            "colorscale": [
             [
              0,
              "#0d0887"
             ],
             [
              0.1111111111111111,
              "#46039f"
             ],
             [
              0.2222222222222222,
              "#7201a8"
             ],
             [
              0.3333333333333333,
              "#9c179e"
             ],
             [
              0.4444444444444444,
              "#bd3786"
             ],
             [
              0.5555555555555556,
              "#d8576b"
             ],
             [
              0.6666666666666666,
              "#ed7953"
             ],
             [
              0.7777777777777778,
              "#fb9f3a"
             ],
             [
              0.8888888888888888,
              "#fdca26"
             ],
             [
              1,
              "#f0f921"
             ]
            ],
            "type": "surface"
           }
          ],
          "table": [
           {
            "cells": {
             "fill": {
              "color": "#EBF0F8"
             },
             "line": {
              "color": "white"
             }
            },
            "header": {
             "fill": {
              "color": "#C8D4E3"
             },
             "line": {
              "color": "white"
             }
            },
            "type": "table"
           }
          ]
         },
         "layout": {
          "annotationdefaults": {
           "arrowcolor": "#2a3f5f",
           "arrowhead": 0,
           "arrowwidth": 1
          },
          "autotypenumbers": "strict",
          "coloraxis": {
           "colorbar": {
            "outlinewidth": 0,
            "ticks": ""
           }
          },
          "colorscale": {
           "diverging": [
            [
             0,
             "#8e0152"
            ],
            [
             0.1,
             "#c51b7d"
            ],
            [
             0.2,
             "#de77ae"
            ],
            [
             0.3,
             "#f1b6da"
            ],
            [
             0.4,
             "#fde0ef"
            ],
            [
             0.5,
             "#f7f7f7"
            ],
            [
             0.6,
             "#e6f5d0"
            ],
            [
             0.7,
             "#b8e186"
            ],
            [
             0.8,
             "#7fbc41"
            ],
            [
             0.9,
             "#4d9221"
            ],
            [
             1,
             "#276419"
            ]
           ],
           "sequential": [
            [
             0,
             "#0d0887"
            ],
            [
             0.1111111111111111,
             "#46039f"
            ],
            [
             0.2222222222222222,
             "#7201a8"
            ],
            [
             0.3333333333333333,
             "#9c179e"
            ],
            [
             0.4444444444444444,
             "#bd3786"
            ],
            [
             0.5555555555555556,
             "#d8576b"
            ],
            [
             0.6666666666666666,
             "#ed7953"
            ],
            [
             0.7777777777777778,
             "#fb9f3a"
            ],
            [
             0.8888888888888888,
             "#fdca26"
            ],
            [
             1,
             "#f0f921"
            ]
           ],
           "sequentialminus": [
            [
             0,
             "#0d0887"
            ],
            [
             0.1111111111111111,
             "#46039f"
            ],
            [
             0.2222222222222222,
             "#7201a8"
            ],
            [
             0.3333333333333333,
             "#9c179e"
            ],
            [
             0.4444444444444444,
             "#bd3786"
            ],
            [
             0.5555555555555556,
             "#d8576b"
            ],
            [
             0.6666666666666666,
             "#ed7953"
            ],
            [
             0.7777777777777778,
             "#fb9f3a"
            ],
            [
             0.8888888888888888,
             "#fdca26"
            ],
            [
             1,
             "#f0f921"
            ]
           ]
          },
          "colorway": [
           "#636efa",
           "#EF553B",
           "#00cc96",
           "#ab63fa",
           "#FFA15A",
           "#19d3f3",
           "#FF6692",
           "#B6E880",
           "#FF97FF",
           "#FECB52"
          ],
          "font": {
           "color": "#2a3f5f"
          },
          "geo": {
           "bgcolor": "white",
           "lakecolor": "white",
           "landcolor": "#E5ECF6",
           "showlakes": true,
           "showland": true,
           "subunitcolor": "white"
          },
          "hoverlabel": {
           "align": "left"
          },
          "hovermode": "closest",
          "mapbox": {
           "style": "light"
          },
          "paper_bgcolor": "white",
          "plot_bgcolor": "#E5ECF6",
          "polar": {
           "angularaxis": {
            "gridcolor": "white",
            "linecolor": "white",
            "ticks": ""
           },
           "bgcolor": "#E5ECF6",
           "radialaxis": {
            "gridcolor": "white",
            "linecolor": "white",
            "ticks": ""
           }
          },
          "scene": {
           "xaxis": {
            "backgroundcolor": "#E5ECF6",
            "gridcolor": "white",
            "gridwidth": 2,
            "linecolor": "white",
            "showbackground": true,
            "ticks": "",
            "zerolinecolor": "white"
           },
           "yaxis": {
            "backgroundcolor": "#E5ECF6",
            "gridcolor": "white",
            "gridwidth": 2,
            "linecolor": "white",
            "showbackground": true,
            "ticks": "",
            "zerolinecolor": "white"
           },
           "zaxis": {
            "backgroundcolor": "#E5ECF6",
            "gridcolor": "white",
            "gridwidth": 2,
            "linecolor": "white",
            "showbackground": true,
            "ticks": "",
            "zerolinecolor": "white"
           }
          },
          "shapedefaults": {
           "line": {
            "color": "#2a3f5f"
           }
          },
          "ternary": {
           "aaxis": {
            "gridcolor": "white",
            "linecolor": "white",
            "ticks": ""
           },
           "baxis": {
            "gridcolor": "white",
            "linecolor": "white",
            "ticks": ""
           },
           "bgcolor": "#E5ECF6",
           "caxis": {
            "gridcolor": "white",
            "linecolor": "white",
            "ticks": ""
           }
          },
          "title": {
           "x": 0.05
          },
          "xaxis": {
           "automargin": true,
           "gridcolor": "white",
           "linecolor": "white",
           "ticks": "",
           "title": {
            "standoff": 15
           },
           "zerolinecolor": "white",
           "zerolinewidth": 2
          },
          "yaxis": {
           "automargin": true,
           "gridcolor": "white",
           "linecolor": "white",
           "ticks": "",
           "title": {
            "standoff": 15
           },
           "zerolinecolor": "white",
           "zerolinewidth": 2
          }
         }
        },
        "title": {
         "text": "Воронка событий по группам A и B",
         "x": 0.55,
         "xanchor": "center"
        }
       }
      }
     },
     "metadata": {},
     "output_type": "display_data"
    }
   ],
   "source": [
    "new_funnel = funnels(new_events_and_profiles,new_groups)\n",
    "display('Воронка по обработанным данным:', new_funnel)\n",
    "\n",
    "fig = go.Figure()\n",
    "fig.update_layout(title={'text' :'Воронка событий по группам A и B', 'x':0.55, 'xanchor': 'center'})\n",
    "for event in ['A', 'B']:    \n",
    "    fig.add_trace(go.Funnel(\n",
    "    name = event,\n",
    "    y=['Вошел в приложение', 'Страница товара', 'Корзина', 'Покупка'],\n",
    "    x=new_funnel[event]))\n",
    "fig.show() "
   ]
  },
  {
   "cell_type": "markdown",
   "metadata": {},
   "source": [
    "#### Вывод:\n",
    "\n",
    "На основе полученных результатов можно сделать следующие выводы:\n",
    "\n",
    "- Имеется информация о 6701 участнике рассматриваемого теста: 3824 находятся в группе A и 2877 находятся в группе B\n",
    "\n",
    "- Дата начала и окончания набора новых пользователей соответствуют техническому заданию\n",
    "\n",
    "- Дата старта и окончания теста не соответствуют техническому заданию, так как тест законичился 30 декабря, а должен был 4 января. На это могли повлиять новогодние праздники\n",
    "\n",
    "- Было обнаружено, что 1602 пользователя являлись участниками сразу двух тестов. Они могут исказить результаты, если их не обработать.\n",
    "\n",
    "- Во время проведения тестирования в регионе EU проводилась акция `Christmas&New Year Promo`. Из-за этого определение зависимости улучшений от конкретных изменений становится довольно сложным, так как акция может повлиять на эти результаты\n",
    "\n",
    "- Пользователей, которые попали сразу в обе группы теста, не было обнаружено\n",
    "\n",
    "- Пользователи в группах распределены неравномерно: в тестовой группе находится 43% пользователей, а в контрольной - 57%\n",
    "\n",
    "- Состав аудитории теста: исходное количество  участников - 6701, из которых 6351 из EU. Согласно техническому заданию аудитория должна состоять из 15% новых зарегистрированных пользователей из региона EU, однако их доля составила 13,73%. \n",
    "\n",
    "- Были обработаны пользователи, не прожившие полные 14 дней, и события, которые произошли после 14 лайфтайма.\n",
    "\n",
    "После проведенных изменений было обнаружено, что они никак не повлияли на ситуацию: конверсия регистрации в покупку в группе В упала в 2 раза по сравнению с группой А. Необходимо провести более детальный анализ."
   ]
  },
  {
   "cell_type": "markdown",
   "metadata": {},
   "source": [
    "### Исследовательский анализ данных"
   ]
  },
  {
   "cell_type": "markdown",
   "metadata": {},
   "source": [
    "#### Распределение количества событий на пользователя"
   ]
  },
  {
   "cell_type": "markdown",
   "metadata": {},
   "source": [
    "**Для исходных данных:**"
   ]
  },
  {
   "cell_type": "code",
   "execution_count": 49,
   "metadata": {},
   "outputs": [
    {
     "data": {
      "text/html": [
       "<div>\n",
       "<style scoped>\n",
       "    .dataframe tbody tr th:only-of-type {\n",
       "        vertical-align: middle;\n",
       "    }\n",
       "\n",
       "    .dataframe tbody tr th {\n",
       "        vertical-align: top;\n",
       "    }\n",
       "\n",
       "    .dataframe thead th {\n",
       "        text-align: right;\n",
       "    }\n",
       "</style>\n",
       "<table border=\"1\" class=\"dataframe\">\n",
       "  <thead>\n",
       "    <tr style=\"text-align: right;\">\n",
       "      <th></th>\n",
       "      <th>total_users</th>\n",
       "      <th>active_users</th>\n",
       "      <th>nonactive_users</th>\n",
       "      <th>perc_nonactive_users</th>\n",
       "    </tr>\n",
       "    <tr>\n",
       "      <th>group</th>\n",
       "      <th></th>\n",
       "      <th></th>\n",
       "      <th></th>\n",
       "      <th></th>\n",
       "    </tr>\n",
       "  </thead>\n",
       "  <tbody>\n",
       "    <tr>\n",
       "      <th>A</th>\n",
       "      <td>2674</td>\n",
       "      <td>1597</td>\n",
       "      <td>1077</td>\n",
       "      <td>40.28</td>\n",
       "    </tr>\n",
       "    <tr>\n",
       "      <th>B</th>\n",
       "      <td>1999</td>\n",
       "      <td>675</td>\n",
       "      <td>1324</td>\n",
       "      <td>66.23</td>\n",
       "    </tr>\n",
       "  </tbody>\n",
       "</table>\n",
       "</div>"
      ],
      "text/plain": [
       "       total_users  active_users  nonactive_users  perc_nonactive_users\n",
       "group                                                                  \n",
       "A      2674         1597          1077            40.28                \n",
       "B      1999         675           1324            66.23                "
      ]
     },
     "execution_count": 49,
     "metadata": {},
     "output_type": "execute_result"
    }
   ],
   "source": [
    "old_database = old_events_and_profiles.groupby('group')['user_id'].nunique().to_frame().T\n",
    "old_database.rename(index={'user_id':'active_users'}, inplace=True)\n",
    "old_database = pd.concat([old_groups, old_database]).T\n",
    "\n",
    "old_database['nonactive_users'] = old_database['user_id'] - old_database['active_users'] # количество неактивных пользователей\n",
    "old_database['perc_nonactive_users'] = old_database['nonactive_users'] * 100 / old_database['user_id'] # % неактивных\n",
    "\n",
    "old_database.rename(columns={'user_id':'total_users'}, inplace=True)\n",
    "old_database"
   ]
  },
  {
   "cell_type": "markdown",
   "metadata": {},
   "source": [
    "**Для обработанных данных:**"
   ]
  },
  {
   "cell_type": "code",
   "execution_count": 50,
   "metadata": {},
   "outputs": [
    {
     "data": {
      "text/html": [
       "<div>\n",
       "<style scoped>\n",
       "    .dataframe tbody tr th:only-of-type {\n",
       "        vertical-align: middle;\n",
       "    }\n",
       "\n",
       "    .dataframe tbody tr th {\n",
       "        vertical-align: top;\n",
       "    }\n",
       "\n",
       "    .dataframe thead th {\n",
       "        text-align: right;\n",
       "    }\n",
       "</style>\n",
       "<table border=\"1\" class=\"dataframe\">\n",
       "  <thead>\n",
       "    <tr style=\"text-align: right;\">\n",
       "      <th></th>\n",
       "      <th>total_users</th>\n",
       "      <th>active_users</th>\n",
       "      <th>nonactive_users</th>\n",
       "      <th>perc_nonactive_users</th>\n",
       "    </tr>\n",
       "    <tr>\n",
       "      <th>group</th>\n",
       "      <th></th>\n",
       "      <th></th>\n",
       "      <th></th>\n",
       "      <th></th>\n",
       "    </tr>\n",
       "  </thead>\n",
       "  <tbody>\n",
       "    <tr>\n",
       "      <th>A</th>\n",
       "      <td>1889</td>\n",
       "      <td>1115</td>\n",
       "      <td>774</td>\n",
       "      <td>40.97</td>\n",
       "    </tr>\n",
       "    <tr>\n",
       "      <th>B</th>\n",
       "      <td>1396</td>\n",
       "      <td>476</td>\n",
       "      <td>920</td>\n",
       "      <td>65.90</td>\n",
       "    </tr>\n",
       "  </tbody>\n",
       "</table>\n",
       "</div>"
      ],
      "text/plain": [
       "       total_users  active_users  nonactive_users  perc_nonactive_users\n",
       "group                                                                  \n",
       "A      1889         1115          774             40.97                \n",
       "B      1396         476           920             65.90                "
      ]
     },
     "execution_count": 50,
     "metadata": {},
     "output_type": "execute_result"
    }
   ],
   "source": [
    "new_database = new_events_and_profiles.groupby('group')['user_id'].nunique().to_frame().T\n",
    "new_database.rename(index={'user_id':'active_users'}, inplace=True)\n",
    "new_database = pd.concat([new_groups, new_database]).T\n",
    "\n",
    "new_database['nonactive_users'] = new_database['user_id'] - new_database['active_users'] # количество неактивных пользователей\n",
    "new_database['perc_nonactive_users'] = new_database['nonactive_users'] * 100 / new_database['user_id'] # % неактивных\n",
    "\n",
    "new_database.rename(columns={'user_id':'total_users'}, inplace=True)\n",
    "new_database"
   ]
  },
  {
   "cell_type": "markdown",
   "metadata": {},
   "source": [
    "По полученным результатам можно сделать очень важное наблюдение, что в группе B 66% пользователей являются неактивными. Это может означать неэффективность изменений, которые тестируют в группе B."
   ]
  },
  {
   "cell_type": "markdown",
   "metadata": {},
   "source": [
    "**Посчитаем среднее значение количества событий для групп:**"
   ]
  },
  {
   "cell_type": "code",
   "execution_count": 51,
   "metadata": {},
   "outputs": [
    {
     "name": "stdout",
     "output_type": "stream",
     "text": [
      "Среднее количество событий на пользователя в группе А:\n",
      "mean     7.00\n",
      "median   6.00\n",
      "Name: event_name, dtype: float64\n",
      "\n",
      "Среднее количество событий на пользователя в группе B:\n",
      "mean     6.00\n",
      "median   5.00\n",
      "Name: event_name, dtype: float64\n"
     ]
    }
   ],
   "source": [
    "print(\"Среднее количество событий на пользователя в группе А:\") \n",
    "print(round(old_events_and_profiles.query('group == \"A\"').groupby('user_id')['event_name'].count().agg(['mean', 'median'])))\n",
    "print()\n",
    "print(\"Среднее количество событий на пользователя в группе B:\")\n",
    "print(round(old_events_and_profiles.query('group == \"B\"').groupby('user_id')['event_name'].count().agg(['mean', 'median'])))"
   ]
  },
  {
   "cell_type": "markdown",
   "metadata": {},
   "source": [
    "При распределении событий между активными пользователями в группе A:\n",
    "\n",
    "- Среднее количество событий на пользователя - 7\n",
    "- Медианное количество событий на пользователя - 6\n",
    "\n",
    "При распределении событий между активными пользователями в группе B:\n",
    "\n",
    "- Среднее количество событий на пользователя - 6\n",
    "- Медианное количество событий на пользователя - 5"
   ]
  },
  {
   "cell_type": "markdown",
   "metadata": {},
   "source": [
    "**Посмотрим на распределение количества событий на пользователя при учете активных и неактивных пользователей:**"
   ]
  },
  {
   "cell_type": "markdown",
   "metadata": {},
   "source": [
    "**Напишем функцию для подсчета количества событий по группам:**"
   ]
  },
  {
   "cell_type": "code",
   "execution_count": 52,
   "metadata": {},
   "outputs": [],
   "source": [
    "def event_count(events_and_profiles, user_group_dataframe, group_test):\n",
    "\n",
    "    event_counts = events_and_profiles.query('group == @group_test').groupby('user_id')['event_name'].count()\n",
    "    event_counts = pd.concat([event_counts, pd.Series(0, index=np.arange(0, user_group_dataframe.loc[group_test,'nonactive_users']))])\n",
    "    \n",
    "    return event_counts"
   ]
  },
  {
   "cell_type": "markdown",
   "metadata": {},
   "source": [
    "**Напишем функцию для подсчета среднего количества событий на пользователя и распределения событий по группам:**"
   ]
  },
  {
   "cell_type": "code",
   "execution_count": 53,
   "metadata": {},
   "outputs": [],
   "source": [
    "def avg_events_users(dataA, dataB):\n",
    "    print(\"Среднее количество событий на пользователя в группе А:\", round(dataA.mean()))\n",
    "    print(\"Среднее количество событий на пользователя в группе B:\", round(dataB.mean()))\n",
    "    plt.figure(figsize=(16, 5))\n",
    "\n",
    "    ax1 = plt.subplot(1, 2, 1)\n",
    "    dataA.hist(bins=20).set(title='Распределение событий пользователей группы А', \n",
    "                            xlabel = \"Количество событий на пользователя\")\n",
    "    ax2 = plt.subplot(1, 2, 2)\n",
    "    dataB.hist(bins=25).set(title='Распределение событий пользователей группы B', \n",
    "                              xlabel = \"Количество событий на пользователя\")\n",
    "    plt.show()\n",
    "\n",
    "    plt.figure(figsize=(18,5))\n",
    "    plt.subplot(1, 2, 1)\n",
    "    sns.boxplot(dataA).set(title='Распределение событий пользователей группы A', \n",
    "                            xlabel = \"Количество событий на пользователя\")\n",
    "    plt.subplot(1, 2, 2)\n",
    "    sns.boxplot(dataB).set(title='Распределение событий пользователей группы B', \n",
    "                            xlabel = \"Количество событий на пользователя\")\n",
    "    plt.xticks(rotation=45)\n",
    "    plt.show()"
   ]
  },
  {
   "cell_type": "markdown",
   "metadata": {},
   "source": [
    "**Найдем разницу в количестве событий и среднее количество событий на пользователя по группам:**"
   ]
  },
  {
   "cell_type": "code",
   "execution_count": 54,
   "metadata": {},
   "outputs": [
    {
     "name": "stdout",
     "output_type": "stream",
     "text": [
      "Разница в количестве событий группы В и группы А -53.01%\n",
      "p_значение: 0.0000\n",
      "Среднее количество событий на пользователя в группе А: 4\n",
      "Среднее количество событий на пользователя в группе B: 2\n"
     ]
    },
    {
     "data": {
      "image/png": "[encoded data removed]",
      "text/plain": [
       "<Figure size 1600x500 with 2 Axes>"
      ]
     },
     "metadata": {},
     "output_type": "display_data"
    },
    {
     "data": {
      "image/png": "[encoded data removed]",
      "text/plain": [
       "<Figure size 1800x500 with 2 Axes>"
      ]
     },
     "metadata": {},
     "output_type": "display_data"
    }
   ],
   "source": [
    "df_groupA = event_count(old_events_and_profiles, old_database, \"A\" )\n",
    "df_groupB = event_count(old_events_and_profiles, old_database, \"B\" )\n",
    "\n",
    "print(\"Разница в количестве событий группы В и группы А {0:.2%}\".format((df_groupB.mean() / df_groupA.mean() - 1)))\n",
    "\n",
    "# Расчет p-значения критерия Манна-Уитни\n",
    "print('p_значение: {0:.4f}'.format(st.mannwhitneyu(df_groupA, df_groupB, True, \"two-sided\")[1]))\n",
    "\n",
    "avg_events_users(df_groupA, df_groupB)"
   ]
  },
  {
   "cell_type": "markdown",
   "metadata": {},
   "source": [
    "**Вывод:**\n",
    "\n",
    "По полученным результатам можно сделать вывод, что группа A активнее, чем группа B. 66% пользователей в группе B являются неактивными (в группе А - 40%). Среднее значение количества событий на пользователя в группе А в два раза больше, чем в группе B. Разница в количестве событий на пользователя между группами A и B - 53%\n",
    "\n",
    "При распределении событий между активными пользователями в группе A:\n",
    "\n",
    "- Среднее количество событий на пользователя - 7\n",
    "- Медианное количество событий на пользователя - 6\n",
    "\n",
    "При распределении событий между активными пользователями в группе B:\n",
    "\n",
    "- Среднее количество событий на пользователя - 6\n",
    "- Медианное количество событий на пользователя - 5"
   ]
  },
  {
   "cell_type": "markdown",
   "metadata": {},
   "source": [
    "#### Распределение числа событий в группах по дням"
   ]
  },
  {
   "cell_type": "code",
   "execution_count": 55,
   "metadata": {},
   "outputs": [
    {
     "data": {
      "image/png": "[encoded data removed]",
      "text/plain": [
       "<Figure size 1800x600 with 2 Axes>"
      ]
     },
     "metadata": {},
     "output_type": "display_data"
    }
   ],
   "source": [
    "plt.figure(figsize=(18,6))\n",
    "plt.subplot(1, 2, 1)\n",
    "sns.countplot(data=old_events_and_profiles, x=\"event_date\", hue='group' )\n",
    "plt.title('Общее распределение событий по исходным данным')\n",
    "plt.xlabel('Дата события')\n",
    "plt.ylabel('Количество событий')\n",
    "plt.xticks(rotation=30)\n",
    "\n",
    "\n",
    "plt.subplot(1, 2, 2)\n",
    "sns.countplot(data=new_events_and_profiles, x=\"event_date\", hue='group')\n",
    "plt.title('Общее распределение событий по обработанным данным')\n",
    "plt.xlabel('Дата события')\n",
    "plt.ylabel('Количество событий')\n",
    "plt.xticks(rotation=30)\n",
    "plt.tight_layout()\n",
    "plt.show()"
   ]
  },
  {
   "cell_type": "markdown",
   "metadata": {},
   "source": [
    "С помощью графиков можно сделать следующие наблюдения:\n",
    "\n",
    "- У группы A наблюдается резкий рост количества событий с 13 по 17 декабря 2020 года.\n",
    "- Ближе к концу теста показатели уменьшаются. Можно предположить, что пик в середине теста был вызван подготовкой к новогодним праздникам.\n",
    "- Акция, проводимая в регионе EU, сильно не повлияла на ситуацию, так как пик не приходится на момент старта акции."
   ]
  },
  {
   "cell_type": "markdown",
   "metadata": {},
   "source": [
    "#### Как меняется конверсия в воронке в выборках на разных этапах"
   ]
  },
  {
   "cell_type": "markdown",
   "metadata": {},
   "source": [
    "**По исходным данным:**"
   ]
  },
  {
   "cell_type": "code",
   "execution_count": 56,
   "metadata": {},
   "outputs": [
    {
     "data": {
      "text/plain": [
       "'Воронка по исходным данным:'"
      ]
     },
     "metadata": {},
     "output_type": "display_data"
    },
    {
     "data": {
      "text/html": [
       "<div>\n",
       "<style scoped>\n",
       "    .dataframe tbody tr th:only-of-type {\n",
       "        vertical-align: middle;\n",
       "    }\n",
       "\n",
       "    .dataframe tbody tr th {\n",
       "        vertical-align: top;\n",
       "    }\n",
       "\n",
       "    .dataframe thead th {\n",
       "        text-align: right;\n",
       "    }\n",
       "</style>\n",
       "<table border=\"1\" class=\"dataframe\">\n",
       "  <thead>\n",
       "    <tr style=\"text-align: right;\">\n",
       "      <th>group</th>\n",
       "      <th>A</th>\n",
       "      <th>B</th>\n",
       "      <th>A_convers</th>\n",
       "      <th>B_convers</th>\n",
       "      <th>delta_%_convers</th>\n",
       "    </tr>\n",
       "  </thead>\n",
       "  <tbody>\n",
       "    <tr>\n",
       "      <th>login</th>\n",
       "      <td>1597</td>\n",
       "      <td>674</td>\n",
       "      <td>NaN</td>\n",
       "      <td>NaN</td>\n",
       "      <td>NaN</td>\n",
       "    </tr>\n",
       "    <tr>\n",
       "      <th>product_page</th>\n",
       "      <td>1018</td>\n",
       "      <td>386</td>\n",
       "      <td>63.74</td>\n",
       "      <td>57.27</td>\n",
       "      <td>-6.47</td>\n",
       "    </tr>\n",
       "    <tr>\n",
       "      <th>product_cart</th>\n",
       "      <td>479</td>\n",
       "      <td>195</td>\n",
       "      <td>47.05</td>\n",
       "      <td>50.52</td>\n",
       "      <td>3.47</td>\n",
       "    </tr>\n",
       "    <tr>\n",
       "      <th>purchase</th>\n",
       "      <td>487</td>\n",
       "      <td>189</td>\n",
       "      <td>101.67</td>\n",
       "      <td>96.92</td>\n",
       "      <td>-4.75</td>\n",
       "    </tr>\n",
       "  </tbody>\n",
       "</table>\n",
       "</div>"
      ],
      "text/plain": [
       "group            A    B  A_convers  B_convers  delta_%_convers\n",
       "login         1597  674 NaN        NaN        NaN             \n",
       "product_page  1018  386 63.74      57.27      -6.47           \n",
       "product_cart  479   195 47.05      50.52      3.47            \n",
       "purchase      487   189 101.67     96.92      -4.75           "
      ]
     },
     "metadata": {},
     "output_type": "display_data"
    },
    {
     "data": {
      "application/vnd.plotly.v1+json": {
       "config": {
        "plotlyServerURL": "https://plot.ly"
       },
       "data": [
        {
         "name": "A",
         "type": "funnel",
         "x": [
          1597,
          1018,
          479,
          487
         ],
         "y": [
          "Вошел в приложение",
          "Страница товара",
          "Корзина",
          "Покупка"
         ]
        },
        {
         "name": "B",
         "type": "funnel",
         "x": [
          674,
          386,
          195,
          189
         ],
         "y": [
          "Вошел в приложение",
          "Страница товара",
          "Корзина",
          "Покупка"
         ]
        }
       ],
       "layout": {
        "template": {
         "data": {
          "bar": [
           {
            "error_x": {
             "color": "#2a3f5f"
            },
            "error_y": {
             "color": "#2a3f5f"
            },
            "marker": {
             "line": {
              "color": "#E5ECF6",
              "width": 0.5
             },
             "pattern": {
              "fillmode": "overlay",
              "size": 10,
              "solidity": 0.2
             }
            },
            "type": "bar"
           }
          ],
          "barpolar": [
           {
            "marker": {
             "line": {
              "color": "#E5ECF6",
              "width": 0.5
             },
             "pattern": {
              "fillmode": "overlay",
              "size": 10,
              "solidity": 0.2
             }
            },
            "type": "barpolar"
           }
          ],
          "carpet": [
           {
            "aaxis": {
             "endlinecolor": "#2a3f5f",
             "gridcolor": "white",
             "linecolor": "white",
             "minorgridcolor": "white",
             "startlinecolor": "#2a3f5f"
            },
            "baxis": {
             "endlinecolor": "#2a3f5f",
             "gridcolor": "white",
             "linecolor": "white",
             "minorgridcolor": "white",
             "startlinecolor": "#2a3f5f"
            },
            "type": "carpet"
           }
          ],
          "choropleth": [
           {
            "colorbar": {
             "outlinewidth": 0,
             "ticks": ""
            },
            "type": "choropleth"
           }
          ],
          "contour": [
           {
            "colorbar": {
             "outlinewidth": 0,
             "ticks": ""
            },
            "colorscale": [
             [
              0,
              "#0d0887"
             ],
             [
              0.1111111111111111,
              "#46039f"
             ],
             [
              0.2222222222222222,
              "#7201a8"
             ],
             [
              0.3333333333333333,
              "#9c179e"
             ],
             [
              0.4444444444444444,
              "#bd3786"
             ],
             [
              0.5555555555555556,
              "#d8576b"
             ],
             [
              0.6666666666666666,
              "#ed7953"
             ],
             [
              0.7777777777777778,
              "#fb9f3a"
             ],
             [
              0.8888888888888888,
              "#fdca26"
             ],
             [
              1,
              "#f0f921"
             ]
            ],
            "type": "contour"
           }
          ],
          "contourcarpet": [
           {
            "colorbar": {
             "outlinewidth": 0,
             "ticks": ""
            },
            "type": "contourcarpet"
           }
          ],
          "heatmap": [
           {
            "colorbar": {
             "outlinewidth": 0,
             "ticks": ""
            },
            "colorscale": [
             [
              0,
              "#0d0887"
             ],
             [
              0.1111111111111111,
              "#46039f"
             ],
             [
              0.2222222222222222,
              "#7201a8"
             ],
             [
              0.3333333333333333,
              "#9c179e"
             ],
             [
              0.4444444444444444,
              "#bd3786"
             ],
             [
              0.5555555555555556,
              "#d8576b"
             ],
             [
              0.6666666666666666,
              "#ed7953"
             ],
             [
              0.7777777777777778,
              "#fb9f3a"
             ],
             [
              0.8888888888888888,
              "#fdca26"
             ],
             [
              1,
              "#f0f921"
             ]
            ],
            "type": "heatmap"
           }
          ],
          "heatmapgl": [
           {
            "colorbar": {
             "outlinewidth": 0,
             "ticks": ""
            },
            "colorscale": [
             [
              0,
              "#0d0887"
             ],
             [
              0.1111111111111111,
              "#46039f"
             ],
             [
              0.2222222222222222,
              "#7201a8"
             ],
             [
              0.3333333333333333,
              "#9c179e"
             ],
             [
              0.4444444444444444,
              "#bd3786"
             ],
             [
              0.5555555555555556,
              "#d8576b"
             ],
             [
              0.6666666666666666,
              "#ed7953"
             ],
             [
              0.7777777777777778,
              "#fb9f3a"
             ],
             [
              0.8888888888888888,
              "#fdca26"
             ],
             [
              1,
              "#f0f921"
             ]
            ],
            "type": "heatmapgl"
           }
          ],
          "histogram": [
           {
            "marker": {
             "pattern": {
              "fillmode": "overlay",
              "size": 10,
              "solidity": 0.2
             }
            },
            "type": "histogram"
           }
          ],
          "histogram2d": [
           {
            "colorbar": {
             "outlinewidth": 0,
             "ticks": ""
            },
            "colorscale": [
             [
              0,
              "#0d0887"
             ],
             [
              0.1111111111111111,
              "#46039f"
             ],
             [
              0.2222222222222222,
              "#7201a8"
             ],
             [
              0.3333333333333333,
              "#9c179e"
             ],
             [
              0.4444444444444444,
              "#bd3786"
             ],
             [
              0.5555555555555556,
              "#d8576b"
             ],
             [
              0.6666666666666666,
              "#ed7953"
             ],
             [
              0.7777777777777778,
              "#fb9f3a"
             ],
             [
              0.8888888888888888,
              "#fdca26"
             ],
             [
              1,
              "#f0f921"
             ]
            ],
            "type": "histogram2d"
           }
          ],
          "histogram2dcontour": [
           {
            "colorbar": {
             "outlinewidth": 0,
             "ticks": ""
            },
            "colorscale": [
             [
              0,
              "#0d0887"
             ],
             [
              0.1111111111111111,
              "#46039f"
             ],
             [
              0.2222222222222222,
              "#7201a8"
             ],
             [
              0.3333333333333333,
              "#9c179e"
             ],
             [
              0.4444444444444444,
              "#bd3786"
             ],
             [
              0.5555555555555556,
              "#d8576b"
             ],
             [
              0.6666666666666666,
              "#ed7953"
             ],
             [
              0.7777777777777778,
              "#fb9f3a"
             ],
             [
              0.8888888888888888,
              "#fdca26"
             ],
             [
              1,
              "#f0f921"
             ]
            ],
            "type": "histogram2dcontour"
           }
          ],
          "mesh3d": [
           {
            "colorbar": {
             "outlinewidth": 0,
             "ticks": ""
            },
            "type": "mesh3d"
           }
          ],
          "parcoords": [
           {
            "line": {
             "colorbar": {
              "outlinewidth": 0,
              "ticks": ""
             }
            },
            "type": "parcoords"
           }
          ],
          "pie": [
           {
            "automargin": true,
            "type": "pie"
           }
          ],
          "scatter": [
           {
            "fillpattern": {
             "fillmode": "overlay",
             "size": 10,
             "solidity": 0.2
            },
            "type": "scatter"
           }
          ],
          "scatter3d": [
           {
            "line": {
             "colorbar": {
              "outlinewidth": 0,
              "ticks": ""
             }
            },
            "marker": {
             "colorbar": {
              "outlinewidth": 0,
              "ticks": ""
             }
            },
            "type": "scatter3d"
           }
          ],
          "scattercarpet": [
           {
            "marker": {
             "colorbar": {
              "outlinewidth": 0,
              "ticks": ""
             }
            },
            "type": "scattercarpet"
           }
          ],
          "scattergeo": [
           {
            "marker": {
             "colorbar": {
              "outlinewidth": 0,
              "ticks": ""
             }
            },
            "type": "scattergeo"
           }
          ],
          "scattergl": [
           {
            "marker": {
             "colorbar": {
              "outlinewidth": 0,
              "ticks": ""
             }
            },
            "type": "scattergl"
           }
          ],
          "scattermapbox": [
           {
            "marker": {
             "colorbar": {
              "outlinewidth": 0,
              "ticks": ""
             }
            },
            "type": "scattermapbox"
           }
          ],
          "scatterpolar": [
           {
            "marker": {
             "colorbar": {
              "outlinewidth": 0,
              "ticks": ""
             }
            },
            "type": "scatterpolar"
           }
          ],
          "scatterpolargl": [
           {
            "marker": {
             "colorbar": {
              "outlinewidth": 0,
              "ticks": ""
             }
            },
            "type": "scatterpolargl"
           }
          ],
          "scatterternary": [
           {
            "marker": {
             "colorbar": {
              "outlinewidth": 0,
              "ticks": ""
             }
            },
            "type": "scatterternary"
           }
          ],
          "surface": [
           {
            "colorbar": {
             "outlinewidth": 0,
             "ticks": ""
            },
            "colorscale": [
             [
              0,
              "#0d0887"
             ],
             [
              0.1111111111111111,
              "#46039f"
             ],
             [
              0.2222222222222222,
              "#7201a8"
             ],
             [
              0.3333333333333333,
              "#9c179e"
             ],
             [
              0.4444444444444444,
              "#bd3786"
             ],
             [
              0.5555555555555556,
              "#d8576b"
             ],
             [
              0.6666666666666666,
              "#ed7953"
             ],
             [
              0.7777777777777778,
              "#fb9f3a"
             ],
             [
              0.8888888888888888,
              "#fdca26"
             ],
             [
              1,
              "#f0f921"
             ]
            ],
            "type": "surface"
           }
          ],
          "table": [
           {
            "cells": {
             "fill": {
              "color": "#EBF0F8"
             },
             "line": {
              "color": "white"
             }
            },
            "header": {
             "fill": {
              "color": "#C8D4E3"
             },
             "line": {
              "color": "white"
             }
            },
            "type": "table"
           }
          ]
         },
         "layout": {
          "annotationdefaults": {
           "arrowcolor": "#2a3f5f",
           "arrowhead": 0,
           "arrowwidth": 1
          },
          "autotypenumbers": "strict",
          "coloraxis": {
           "colorbar": {
            "outlinewidth": 0,
            "ticks": ""
           }
          },
          "colorscale": {
           "diverging": [
            [
             0,
             "#8e0152"
            ],
            [
             0.1,
             "#c51b7d"
            ],
            [
             0.2,
             "#de77ae"
            ],
            [
             0.3,
             "#f1b6da"
            ],
            [
             0.4,
             "#fde0ef"
            ],
            [
             0.5,
             "#f7f7f7"
            ],
            [
             0.6,
             "#e6f5d0"
            ],
            [
             0.7,
             "#b8e186"
            ],
            [
             0.8,
             "#7fbc41"
            ],
            [
             0.9,
             "#4d9221"
            ],
            [
             1,
             "#276419"
            ]
           ],
           "sequential": [
            [
             0,
             "#0d0887"
            ],
            [
             0.1111111111111111,
             "#46039f"
            ],
            [
             0.2222222222222222,
             "#7201a8"
            ],
            [
             0.3333333333333333,
             "#9c179e"
            ],
            [
             0.4444444444444444,
             "#bd3786"
            ],
            [
             0.5555555555555556,
             "#d8576b"
            ],
            [
             0.6666666666666666,
             "#ed7953"
            ],
            [
             0.7777777777777778,
             "#fb9f3a"
            ],
            [
             0.8888888888888888,
             "#fdca26"
            ],
            [
             1,
             "#f0f921"
            ]
           ],
           "sequentialminus": [
            [
             0,
             "#0d0887"
            ],
            [
             0.1111111111111111,
             "#46039f"
            ],
            [
             0.2222222222222222,
             "#7201a8"
            ],
            [
             0.3333333333333333,
             "#9c179e"
            ],
            [
             0.4444444444444444,
             "#bd3786"
            ],
            [
             0.5555555555555556,
             "#d8576b"
            ],
            [
             0.6666666666666666,
             "#ed7953"
            ],
            [
             0.7777777777777778,
             "#fb9f3a"
            ],
            [
             0.8888888888888888,
             "#fdca26"
            ],
            [
             1,
             "#f0f921"
            ]
           ]
          },
          "colorway": [
           "#636efa",
           "#EF553B",
           "#00cc96",
           "#ab63fa",
           "#FFA15A",
           "#19d3f3",
           "#FF6692",
           "#B6E880",
           "#FF97FF",
           "#FECB52"
          ],
          "font": {
           "color": "#2a3f5f"
          },
          "geo": {
           "bgcolor": "white",
           "lakecolor": "white",
           "landcolor": "#E5ECF6",
           "showlakes": true,
           "showland": true,
           "subunitcolor": "white"
          },
          "hoverlabel": {
           "align": "left"
          },
          "hovermode": "closest",
          "mapbox": {
           "style": "light"
          },
          "paper_bgcolor": "white",
          "plot_bgcolor": "#E5ECF6",
          "polar": {
           "angularaxis": {
            "gridcolor": "white",
            "linecolor": "white",
            "ticks": ""
           },
           "bgcolor": "#E5ECF6",
           "radialaxis": {
            "gridcolor": "white",
            "linecolor": "white",
            "ticks": ""
           }
          },
          "scene": {
           "xaxis": {
            "backgroundcolor": "#E5ECF6",
            "gridcolor": "white",
            "gridwidth": 2,
            "linecolor": "white",
            "showbackground": true,
            "ticks": "",
            "zerolinecolor": "white"
           },
           "yaxis": {
            "backgroundcolor": "#E5ECF6",
            "gridcolor": "white",
            "gridwidth": 2,
            "linecolor": "white",
            "showbackground": true,
            "ticks": "",
            "zerolinecolor": "white"
           },
           "zaxis": {
            "backgroundcolor": "#E5ECF6",
            "gridcolor": "white",
            "gridwidth": 2,
            "linecolor": "white",
            "showbackground": true,
            "ticks": "",
            "zerolinecolor": "white"
           }
          },
          "shapedefaults": {
           "line": {
            "color": "#2a3f5f"
           }
          },
          "ternary": {
           "aaxis": {
            "gridcolor": "white",
            "linecolor": "white",
            "ticks": ""
           },
           "baxis": {
            "gridcolor": "white",
            "linecolor": "white",
            "ticks": ""
           },
           "bgcolor": "#E5ECF6",
           "caxis": {
            "gridcolor": "white",
            "linecolor": "white",
            "ticks": ""
           }
          },
          "title": {
           "x": 0.05
          },
          "xaxis": {
           "automargin": true,
           "gridcolor": "white",
           "linecolor": "white",
           "ticks": "",
           "title": {
            "standoff": 15
           },
           "zerolinecolor": "white",
           "zerolinewidth": 2
          },
          "yaxis": {
           "automargin": true,
           "gridcolor": "white",
           "linecolor": "white",
           "ticks": "",
           "title": {
            "standoff": 15
           },
           "zerolinecolor": "white",
           "zerolinewidth": 2
          }
         }
        },
        "title": {
         "text": "Воронка событий по группам A и B",
         "x": 0.55,
         "xanchor": "center"
        }
       }
      }
     },
     "metadata": {},
     "output_type": "display_data"
    }
   ],
   "source": [
    "old_funnel = funnels(old_events_and_profiles,old_groups)\n",
    "display('Воронка по исходным данным:', old_funnel)\n",
    "\n",
    "fig = go.Figure()\n",
    "fig.update_layout(title={'text' :'Воронка событий по группам A и B', 'x':0.55, 'xanchor': 'center'})\n",
    "for event in ['A', 'B']:    \n",
    "    fig.add_trace(go.Funnel(\n",
    "    name = event,\n",
    "    y=['Вошел в приложение', 'Страница товара', 'Корзина', 'Покупка'],\n",
    "    x=old_funnel[event]))\n",
    "fig.show() "
   ]
  },
  {
   "cell_type": "markdown",
   "metadata": {},
   "source": [
    "**По обработанным данным:**"
   ]
  },
  {
   "cell_type": "code",
   "execution_count": 57,
   "metadata": {},
   "outputs": [
    {
     "data": {
      "text/plain": [
       "'Воронка по обработанным данным:'"
      ]
     },
     "metadata": {},
     "output_type": "display_data"
    },
    {
     "data": {
      "text/html": [
       "<div>\n",
       "<style scoped>\n",
       "    .dataframe tbody tr th:only-of-type {\n",
       "        vertical-align: middle;\n",
       "    }\n",
       "\n",
       "    .dataframe tbody tr th {\n",
       "        vertical-align: top;\n",
       "    }\n",
       "\n",
       "    .dataframe thead th {\n",
       "        text-align: right;\n",
       "    }\n",
       "</style>\n",
       "<table border=\"1\" class=\"dataframe\">\n",
       "  <thead>\n",
       "    <tr style=\"text-align: right;\">\n",
       "      <th>group</th>\n",
       "      <th>A</th>\n",
       "      <th>B</th>\n",
       "      <th>A_convers</th>\n",
       "      <th>B_convers</th>\n",
       "      <th>delta_%_convers</th>\n",
       "    </tr>\n",
       "  </thead>\n",
       "  <tbody>\n",
       "    <tr>\n",
       "      <th>login</th>\n",
       "      <td>1115</td>\n",
       "      <td>475</td>\n",
       "      <td>NaN</td>\n",
       "      <td>NaN</td>\n",
       "      <td>NaN</td>\n",
       "    </tr>\n",
       "    <tr>\n",
       "      <th>product_page</th>\n",
       "      <td>723</td>\n",
       "      <td>265</td>\n",
       "      <td>64.84</td>\n",
       "      <td>55.79</td>\n",
       "      <td>-9.05</td>\n",
       "    </tr>\n",
       "    <tr>\n",
       "      <th>product_cart</th>\n",
       "      <td>350</td>\n",
       "      <td>139</td>\n",
       "      <td>48.41</td>\n",
       "      <td>52.45</td>\n",
       "      <td>4.04</td>\n",
       "    </tr>\n",
       "    <tr>\n",
       "      <th>purchase</th>\n",
       "      <td>333</td>\n",
       "      <td>132</td>\n",
       "      <td>95.14</td>\n",
       "      <td>94.96</td>\n",
       "      <td>-0.18</td>\n",
       "    </tr>\n",
       "  </tbody>\n",
       "</table>\n",
       "</div>"
      ],
      "text/plain": [
       "group            A    B  A_convers  B_convers  delta_%_convers\n",
       "login         1115  475 NaN        NaN        NaN             \n",
       "product_page  723   265 64.84      55.79      -9.05           \n",
       "product_cart  350   139 48.41      52.45      4.04            \n",
       "purchase      333   132 95.14      94.96      -0.18           "
      ]
     },
     "metadata": {},
     "output_type": "display_data"
    },
    {
     "data": {
      "application/vnd.plotly.v1+json": {
       "config": {
        "plotlyServerURL": "https://plot.ly"
       },
       "data": [
        {
         "name": "A",
         "type": "funnel",
         "x": [
          1115,
          723,
          350,
          333
         ],
         "y": [
          "Вошел в приложение",
          "Страница товара",
          "Корзина",
          "Покупка"
         ]
        },
        {
         "name": "B",
         "type": "funnel",
         "x": [
          475,
          265,
          139,
          132
         ],
         "y": [
          "Вошел в приложение",
          "Страница товара",
          "Корзина",
          "Покупка"
         ]
        }
       ],
       "layout": {
        "template": {
         "data": {
          "bar": [
           {
            "error_x": {
             "color": "#2a3f5f"
            },
            "error_y": {
             "color": "#2a3f5f"
            },
            "marker": {
             "line": {
              "color": "#E5ECF6",
              "width": 0.5
             },
             "pattern": {
              "fillmode": "overlay",
              "size": 10,
              "solidity": 0.2
             }
            },
            "type": "bar"
           }
          ],
          "barpolar": [
           {
            "marker": {
             "line": {
              "color": "#E5ECF6",
              "width": 0.5
             },
             "pattern": {
              "fillmode": "overlay",
              "size": 10,
              "solidity": 0.2
             }
            },
            "type": "barpolar"
           }
          ],
          "carpet": [
           {
            "aaxis": {
             "endlinecolor": "#2a3f5f",
             "gridcolor": "white",
             "linecolor": "white",
             "minorgridcolor": "white",
             "startlinecolor": "#2a3f5f"
            },
            "baxis": {
             "endlinecolor": "#2a3f5f",
             "gridcolor": "white",
             "linecolor": "white",
             "minorgridcolor": "white",
             "startlinecolor": "#2a3f5f"
            },
            "type": "carpet"
           }
          ],
          "choropleth": [
           {
            "colorbar": {
             "outlinewidth": 0,
             "ticks": ""
            },
            "type": "choropleth"
           }
          ],
          "contour": [
           {
            "colorbar": {
             "outlinewidth": 0,
             "ticks": ""
            },
            "colorscale": [
             [
              0,
              "#0d0887"
             ],
             [
              0.1111111111111111,
              "#46039f"
             ],
             [
              0.2222222222222222,
              "#7201a8"
             ],
             [
              0.3333333333333333,
              "#9c179e"
             ],
             [
              0.4444444444444444,
              "#bd3786"
             ],
             [
              0.5555555555555556,
              "#d8576b"
             ],
             [
              0.6666666666666666,
              "#ed7953"
             ],
             [
              0.7777777777777778,
              "#fb9f3a"
             ],
             [
              0.8888888888888888,
              "#fdca26"
             ],
             [
              1,
              "#f0f921"
             ]
            ],
            "type": "contour"
           }
          ],
          "contourcarpet": [
           {
            "colorbar": {
             "outlinewidth": 0,
             "ticks": ""
            },
            "type": "contourcarpet"
           }
          ],
          "heatmap": [
           {
            "colorbar": {
             "outlinewidth": 0,
             "ticks": ""
            },
            "colorscale": [
             [
              0,
              "#0d0887"
             ],
             [
              0.1111111111111111,
              "#46039f"
             ],
             [
              0.2222222222222222,
              "#7201a8"
             ],
             [
              0.3333333333333333,
              "#9c179e"
             ],
             [
              0.4444444444444444,
              "#bd3786"
             ],
             [
              0.5555555555555556,
              "#d8576b"
             ],
             [
              0.6666666666666666,
              "#ed7953"
             ],
             [
              0.7777777777777778,
              "#fb9f3a"
             ],
             [
              0.8888888888888888,
              "#fdca26"
             ],
             [
              1,
              "#f0f921"
             ]
            ],
            "type": "heatmap"
           }
          ],
          "heatmapgl": [
           {
            "colorbar": {
             "outlinewidth": 0,
             "ticks": ""
            },
            "colorscale": [
             [
              0,
              "#0d0887"
             ],
             [
              0.1111111111111111,
              "#46039f"
             ],
             [
              0.2222222222222222,
              "#7201a8"
             ],
             [
              0.3333333333333333,
              "#9c179e"
             ],
             [
              0.4444444444444444,
              "#bd3786"
             ],
             [
              0.5555555555555556,
              "#d8576b"
             ],
             [
              0.6666666666666666,
              "#ed7953"
             ],
             [
              0.7777777777777778,
              "#fb9f3a"
             ],
             [
              0.8888888888888888,
              "#fdca26"
             ],
             [
              1,
              "#f0f921"
             ]
            ],
            "type": "heatmapgl"
           }
          ],
          "histogram": [
           {
            "marker": {
             "pattern": {
              "fillmode": "overlay",
              "size": 10,
              "solidity": 0.2
             }
            },
            "type": "histogram"
           }
          ],
          "histogram2d": [
           {
            "colorbar": {
             "outlinewidth": 0,
             "ticks": ""
            },
            "colorscale": [
             [
              0,
              "#0d0887"
             ],
             [
              0.1111111111111111,
              "#46039f"
             ],
             [
              0.2222222222222222,
              "#7201a8"
             ],
             [
              0.3333333333333333,
              "#9c179e"
             ],
             [
              0.4444444444444444,
              "#bd3786"
             ],
             [
              0.5555555555555556,
              "#d8576b"
             ],
             [
              0.6666666666666666,
              "#ed7953"
             ],
             [
              0.7777777777777778,
              "#fb9f3a"
             ],
             [
              0.8888888888888888,
              "#fdca26"
             ],
             [
              1,
              "#f0f921"
             ]
            ],
            "type": "histogram2d"
           }
          ],
          "histogram2dcontour": [
           {
            "colorbar": {
             "outlinewidth": 0,
             "ticks": ""
            },
            "colorscale": [
             [
              0,
              "#0d0887"
             ],
             [
              0.1111111111111111,
              "#46039f"
             ],
             [
              0.2222222222222222,
              "#7201a8"
             ],
             [
              0.3333333333333333,
              "#9c179e"
             ],
             [
              0.4444444444444444,
              "#bd3786"
             ],
             [
              0.5555555555555556,
              "#d8576b"
             ],
             [
              0.6666666666666666,
              "#ed7953"
             ],
             [
              0.7777777777777778,
              "#fb9f3a"
             ],
             [
              0.8888888888888888,
              "#fdca26"
             ],
             [
              1,
              "#f0f921"
             ]
            ],
            "type": "histogram2dcontour"
           }
          ],
          "mesh3d": [
           {
            "colorbar": {
             "outlinewidth": 0,
             "ticks": ""
            },
            "type": "mesh3d"
           }
          ],
          "parcoords": [
           {
            "line": {
             "colorbar": {
              "outlinewidth": 0,
              "ticks": ""
             }
            },
            "type": "parcoords"
           }
          ],
          "pie": [
           {
            "automargin": true,
            "type": "pie"
           }
          ],
          "scatter": [
           {
            "fillpattern": {
             "fillmode": "overlay",
             "size": 10,
             "solidity": 0.2
            },
            "type": "scatter"
           }
          ],
          "scatter3d": [
           {
            "line": {
             "colorbar": {
              "outlinewidth": 0,
              "ticks": ""
             }
            },
            "marker": {
             "colorbar": {
              "outlinewidth": 0,
              "ticks": ""
             }
            },
            "type": "scatter3d"
           }
          ],
          "scattercarpet": [
           {
            "marker": {
             "colorbar": {
              "outlinewidth": 0,
              "ticks": ""
             }
            },
            "type": "scattercarpet"
           }
          ],
          "scattergeo": [
           {
            "marker": {
             "colorbar": {
              "outlinewidth": 0,
              "ticks": ""
             }
            },
            "type": "scattergeo"
           }
          ],
          "scattergl": [
           {
            "marker": {
             "colorbar": {
              "outlinewidth": 0,
              "ticks": ""
             }
            },
            "type": "scattergl"
           }
          ],
          "scattermapbox": [
           {
            "marker": {
             "colorbar": {
              "outlinewidth": 0,
              "ticks": ""
             }
            },
            "type": "scattermapbox"
           }
          ],
          "scatterpolar": [
           {
            "marker": {
             "colorbar": {
              "outlinewidth": 0,
              "ticks": ""
             }
            },
            "type": "scatterpolar"
           }
          ],
          "scatterpolargl": [
           {
            "marker": {
             "colorbar": {
              "outlinewidth": 0,
              "ticks": ""
             }
            },
            "type": "scatterpolargl"
           }
          ],
          "scatterternary": [
           {
            "marker": {
             "colorbar": {
              "outlinewidth": 0,
              "ticks": ""
             }
            },
            "type": "scatterternary"
           }
          ],
          "surface": [
           {
            "colorbar": {
             "outlinewidth": 0,
             "ticks": ""
            },
            "colorscale": [
             [
              0,
              "#0d0887"
             ],
             [
              0.1111111111111111,
              "#46039f"
             ],
             [
              0.2222222222222222,
              "#7201a8"
             ],
             [
              0.3333333333333333,
              "#9c179e"
             ],
             [
              0.4444444444444444,
              "#bd3786"
             ],
             [
              0.5555555555555556,
              "#d8576b"
             ],
             [
              0.6666666666666666,
              "#ed7953"
             ],
             [
              0.7777777777777778,
              "#fb9f3a"
             ],
             [
              0.8888888888888888,
              "#fdca26"
             ],
             [
              1,
              "#f0f921"
             ]
            ],
            "type": "surface"
           }
          ],
          "table": [
           {
            "cells": {
             "fill": {
              "color": "#EBF0F8"
             },
             "line": {
              "color": "white"
             }
            },
            "header": {
             "fill": {
              "color": "#C8D4E3"
             },
             "line": {
              "color": "white"
             }
            },
            "type": "table"
           }
          ]
         },
         "layout": {
          "annotationdefaults": {
           "arrowcolor": "#2a3f5f",
           "arrowhead": 0,
           "arrowwidth": 1
          },
          "autotypenumbers": "strict",
          "coloraxis": {
           "colorbar": {
            "outlinewidth": 0,
            "ticks": ""
           }
          },
          "colorscale": {
           "diverging": [
            [
             0,
             "#8e0152"
            ],
            [
             0.1,
             "#c51b7d"
            ],
            [
             0.2,
             "#de77ae"
            ],
            [
             0.3,
             "#f1b6da"
            ],
            [
             0.4,
             "#fde0ef"
            ],
            [
             0.5,
             "#f7f7f7"
            ],
            [
             0.6,
             "#e6f5d0"
            ],
            [
             0.7,
             "#b8e186"
            ],
            [
             0.8,
             "#7fbc41"
            ],
            [
             0.9,
             "#4d9221"
            ],
            [
             1,
             "#276419"
            ]
           ],
           "sequential": [
            [
             0,
             "#0d0887"
            ],
            [
             0.1111111111111111,
             "#46039f"
            ],
            [
             0.2222222222222222,
             "#7201a8"
            ],
            [
             0.3333333333333333,
             "#9c179e"
            ],
            [
             0.4444444444444444,
             "#bd3786"
            ],
            [
             0.5555555555555556,
             "#d8576b"
            ],
            [
             0.6666666666666666,
             "#ed7953"
            ],
            [
             0.7777777777777778,
             "#fb9f3a"
            ],
            [
             0.8888888888888888,
             "#fdca26"
            ],
            [
             1,
             "#f0f921"
            ]
           ],
           "sequentialminus": [
            [
             0,
             "#0d0887"
            ],
            [
             0.1111111111111111,
             "#46039f"
            ],
            [
             0.2222222222222222,
             "#7201a8"
            ],
            [
             0.3333333333333333,
             "#9c179e"
            ],
            [
             0.4444444444444444,
             "#bd3786"
            ],
            [
             0.5555555555555556,
             "#d8576b"
            ],
            [
             0.6666666666666666,
             "#ed7953"
            ],
            [
             0.7777777777777778,
             "#fb9f3a"
            ],
            [
             0.8888888888888888,
             "#fdca26"
            ],
            [
             1,
             "#f0f921"
            ]
           ]
          },
          "colorway": [
           "#636efa",
           "#EF553B",
           "#00cc96",
           "#ab63fa",
           "#FFA15A",
           "#19d3f3",
           "#FF6692",
           "#B6E880",
           "#FF97FF",
           "#FECB52"
          ],
          "font": {
           "color": "#2a3f5f"
          },
          "geo": {
           "bgcolor": "white",
           "lakecolor": "white",
           "landcolor": "#E5ECF6",
           "showlakes": true,
           "showland": true,
           "subunitcolor": "white"
          },
          "hoverlabel": {
           "align": "left"
          },
          "hovermode": "closest",
          "mapbox": {
           "style": "light"
          },
          "paper_bgcolor": "white",
          "plot_bgcolor": "#E5ECF6",
          "polar": {
           "angularaxis": {
            "gridcolor": "white",
            "linecolor": "white",
            "ticks": ""
           },
           "bgcolor": "#E5ECF6",
           "radialaxis": {
            "gridcolor": "white",
            "linecolor": "white",
            "ticks": ""
           }
          },
          "scene": {
           "xaxis": {
            "backgroundcolor": "#E5ECF6",
            "gridcolor": "white",
            "gridwidth": 2,
            "linecolor": "white",
            "showbackground": true,
            "ticks": "",
            "zerolinecolor": "white"
           },
           "yaxis": {
            "backgroundcolor": "#E5ECF6",
            "gridcolor": "white",
            "gridwidth": 2,
            "linecolor": "white",
            "showbackground": true,
            "ticks": "",
            "zerolinecolor": "white"
           },
           "zaxis": {
            "backgroundcolor": "#E5ECF6",
            "gridcolor": "white",
            "gridwidth": 2,
            "linecolor": "white",
            "showbackground": true,
            "ticks": "",
            "zerolinecolor": "white"
           }
          },
          "shapedefaults": {
           "line": {
            "color": "#2a3f5f"
           }
          },
          "ternary": {
           "aaxis": {
            "gridcolor": "white",
            "linecolor": "white",
            "ticks": ""
           },
           "baxis": {
            "gridcolor": "white",
            "linecolor": "white",
            "ticks": ""
           },
           "bgcolor": "#E5ECF6",
           "caxis": {
            "gridcolor": "white",
            "linecolor": "white",
            "ticks": ""
           }
          },
          "title": {
           "x": 0.05
          },
          "xaxis": {
           "automargin": true,
           "gridcolor": "white",
           "linecolor": "white",
           "ticks": "",
           "title": {
            "standoff": 15
           },
           "zerolinecolor": "white",
           "zerolinewidth": 2
          },
          "yaxis": {
           "automargin": true,
           "gridcolor": "white",
           "linecolor": "white",
           "ticks": "",
           "title": {
            "standoff": 15
           },
           "zerolinecolor": "white",
           "zerolinewidth": 2
          }
         }
        },
        "title": {
         "text": "Воронка событий по группам A и B",
         "x": 0.55,
         "xanchor": "center"
        }
       }
      }
     },
     "metadata": {},
     "output_type": "display_data"
    }
   ],
   "source": [
    "new_funnel = funnels(new_events_and_profiles,new_groups)\n",
    "display('Воронка по обработанным данным:', new_funnel)\n",
    "\n",
    "fig = go.Figure()\n",
    "fig.update_layout(title={'text' :'Воронка событий по группам A и B', 'x':0.55, 'xanchor': 'center'})\n",
    "for event in ['A', 'B']:    \n",
    "    fig.add_trace(go.Funnel(\n",
    "    name = event,\n",
    "    y=['Вошел в приложение', 'Страница товара', 'Корзина', 'Покупка'],\n",
    "    x=new_funnel[event]))\n",
    "fig.show() "
   ]
  },
  {
   "cell_type": "markdown",
   "metadata": {},
   "source": [
    "Можно отметить, что конверсия постепенно уменьшается на каждом этапе. Наибольшее падение конверсии произошло на этапе \"вошел в приложение - страница товара\". Она составила примерно на 16% по исходным данным и на 20% по обработанным данным. Примерно 38% пользователей из группы A и 19% пользователей группы B дошли до страницы товара. \n",
    "\n",
    "Помимо этого, наблюдается, что конверсия \"корзина-покупка\" совсем небольшая. Большинство пользователей, которые переходят в корзину, совершают покупку товара. \n",
    "\n",
    "Можно считать, что увеличение конверсии на каждом этапе не подтвердилось. Она увеличивается только на этапе \"вошел в приложение - страница товара\"."
   ]
  },
  {
   "cell_type": "markdown",
   "metadata": {},
   "source": [
    "#### Какие особенности данных нужно учесть, прежде чем приступать к A/B-тесту?"
   ]
  },
  {
   "cell_type": "markdown",
   "metadata": {},
   "source": [
    "Следует учитывать следующие особенности:\n",
    "\n",
    "- Количество участников в двух группах не должно сильно различаться\n",
    "- Не должно быть сильного различия между метриками по группам\n",
    "- Различие метрик не должно иметь статистической значимости\n",
    "- Участник одной группы должен оставаться в одной группе до конца теста (исключить одинаковых пользователей в двух группах одновременно во избежания искажения результатов)"
   ]
  },
  {
   "cell_type": "markdown",
   "metadata": {},
   "source": [
    "**Выполним проверку сформулированных особенностей:**"
   ]
  },
  {
   "cell_type": "code",
   "execution_count": 58,
   "metadata": {},
   "outputs": [
    {
     "name": "stdout",
     "output_type": "stream",
     "text": [
      "user_id   133.77\n",
      "dtype: float64\n",
      "\n",
      "user_id   135.32\n",
      "dtype: float64\n"
     ]
    }
   ],
   "source": [
    "print(old_groups['A']* 100/old_groups['B'])\n",
    "print()\n",
    "print(new_groups['A']*100/new_groups['B'])"
   ]
  },
  {
   "cell_type": "markdown",
   "metadata": {},
   "source": [
    "Остальные особенности были проверены на предыдущих этапах исследования."
   ]
  },
  {
   "cell_type": "markdown",
   "metadata": {},
   "source": [
    "По исходным данным:\n",
    "\n",
    "- Группа A больше группы B на 33,7%\n",
    "\n",
    "По обработанным данным:\n",
    "\n",
    "- Группа А больше группы B на 35,3%\n",
    "\n",
    "Пользователей, которые находятся сразу в двух группах, нет. \n",
    "\n",
    "Конверсия в события по группам превышает 1%, поэтому A/B-тест в целом уже не требуется для определения изменений.\n",
    "\n",
    "В датасете присутствуют пользователи из другого региона. Это может исказить результаты A/B-теста."
   ]
  },
  {
   "cell_type": "markdown",
   "metadata": {},
   "source": [
    "#### Вывод:\n",
    "\n",
    "По полученным результатам можно сделать вывод, что группа A активнее, чем группа B. 66% пользователей в группе B являются неактивными (в группе А - 40%). Среднее значение количества событий на пользователя в группе А в два раза больше, чем в группе B. Разница в количестве событий на пользователя между группами A и B - 53%\n",
    "\n",
    "При распределении событий между активными пользователями в группе A:\n",
    "\n",
    "- Среднее количество событий на пользователя - 7\n",
    "- Медианное количество событий на пользователя - 6\n",
    "\n",
    "При распределении событий между активными пользователями в группе B:\n",
    "\n",
    "- Среднее количество событий на пользователя - 6\n",
    "- Медианное количество событий на пользователя - 5\n",
    "\n",
    "С помощью графиков можно сделать следующие наблюдения:\n",
    "\n",
    "- У группы A наблюдается резкий рост количества событий с 13 по 17 декабря 2020 года.\n",
    "- Ближе к концу теста показатели уменьшаются. Можно предположить, что пик в середине теста был вызван подготовкой к новогодним праздникам.\n",
    "- Акция, проводимая в регионе EU, сильно не повлияла на ситуацию, так как пик не приходится на момент старта акции.\n",
    "\n",
    "Можно отметить, что конверсия постепенно уменьшается на каждом этапе. Наибольшее падение конверсии произошло на этапе \"вошел в приложение - страница товара\". Она составила примерно на 16% по исходным данным и на 20% по обработанным данным. Примерно 40% пользователей из группы A и 20% пользователей группы B дошли до страницы товара. \n",
    "Помимо этого, наблюдается, что конверсия \"корзина-покупка\" совсем небольшая. Большинство пользователей, которые переходят в корзину, совершают покупку товара. \n",
    "Можно считать, что увеличение конверсии на каждом этапе не подтвердилось. Она увеличивается только на этапе \"вошел в приложение - страница товара\".\n",
    "\n",
    "- Объем групп сильно различается: группа А на 33-35% больше группы B.\n",
    "- Конверсия событий различается более чем на 1%.\n",
    "- В датасете присутствует информация о пользователях из другого региона (не EU). Это может сказаться на результатах A/B-теста."
   ]
  },
  {
   "cell_type": "markdown",
   "metadata": {},
   "source": [
    "### Оценка результатов A/B-тестирования"
   ]
  },
  {
   "cell_type": "markdown",
   "metadata": {},
   "source": [
    "#### Анализ результатов с помощью оценки статистической разницы z-критерием"
   ]
  },
  {
   "cell_type": "markdown",
   "metadata": {},
   "source": [
    "Для проведения A/B-тестирования необходимо сформулировать гипотезы. Пусть \n",
    "\n",
    "- Нулевая гипотеза: Статистически значимые различия между конверсиями групп А и В присутствуют\n",
    "- Альтернативная гипотеза: Статистически значимые различия между конверсиями групп А и В отсутствуют\n",
    "\n",
    "Были выбраны такие гипотезы, так как на предыдущих этапах мы отмечали падение конверсии на разных этапах, однако следует провести тест. \n",
    "\n",
    "Возьмем коэффициент статистической значимости: alpha = 0.05"
   ]
  },
  {
   "cell_type": "markdown",
   "metadata": {},
   "source": [
    "**Приступим к тестированию по исходным данным:**"
   ]
  },
  {
   "cell_type": "markdown",
   "metadata": {},
   "source": [
    "Напишем функцию для теста:"
   ]
  },
  {
   "cell_type": "code",
   "execution_count": 59,
   "metadata": {},
   "outputs": [],
   "source": [
    "def z_test (funnels, alpha, event):\n",
    "    # критический уровень статистической значимости\n",
    "    alpha = alpha \n",
    "    \n",
    "    successes_A = funnels.loc[event, 'A']\n",
    "    successes_B = funnels.loc[event, 'B']\n",
    "    \n",
    "    trials_A = funnels.loc['login', 'A']\n",
    "    trials_B =  funnels.loc['login', 'B']\n",
    "\n",
    "    p_A = successes_A/trials_A\n",
    "    p_B = successes_B/trials_B\n",
    "\n",
    "    p_total = (successes_A + successes_B) / (trials_A + trials_B)\n",
    "\n",
    "    # разница пропорций в датасетах\n",
    "    difference = p_A - p_B\n",
    "\n",
    "    # Найдем z-критерий\n",
    "    z_value = difference / mth.sqrt(p_total * (1 - p_total) * (1/trials_A + 1/trials_B))\n",
    "\n",
    "    # Cтандартное нормальное распределение (среднее 0, ст.отклонение 1)\n",
    "    distr = st.norm(0, 1)  \n",
    "\n",
    "    p_value = (1 - distr.cdf(abs(z_value))) * 2\n",
    "    \n",
    "    print('p-значение равно:', p_value)\n",
    "\n",
    "    if p_value < alpha:\n",
    "        return f'Для события {event} с критический уровнем стат. значимости {alpha} не удалось отвергнуть нулевую гипотезу'\n",
    "    else:\n",
    "        return f'Для события {event} с критический уровнем стат. значимости {alpha} нулевую гипотезу следует отвергнуть'"
   ]
  },
  {
   "cell_type": "markdown",
   "metadata": {},
   "source": [
    "**Событие `Страница товара`:**"
   ]
  },
  {
   "cell_type": "code",
   "execution_count": 60,
   "metadata": {},
   "outputs": [
    {
     "name": "stdout",
     "output_type": "stream",
     "text": [
      "p-значение равно: 0.0037153168216332855\n"
     ]
    },
    {
     "data": {
      "text/plain": [
       "'Для события product_page с критический уровнем стат. значимости 0.05 не удалось отвергнуть нулевую гипотезу'"
      ]
     },
     "execution_count": 60,
     "metadata": {},
     "output_type": "execute_result"
    }
   ],
   "source": [
    "z_test(old_funnel, 0.05, 'product_page')"
   ]
  },
  {
   "cell_type": "markdown",
   "metadata": {},
   "source": [
    "**Событие `Корзина`:**"
   ]
  },
  {
   "cell_type": "code",
   "execution_count": 61,
   "metadata": {},
   "outputs": [
    {
     "name": "stdout",
     "output_type": "stream",
     "text": [
      "p-значение равно: 0.6127932877614128\n"
     ]
    },
    {
     "data": {
      "text/plain": [
       "'Для события product_cart с критический уровнем стат. значимости 0.05 нулевую гипотезу следует отвергнуть'"
      ]
     },
     "execution_count": 61,
     "metadata": {},
     "output_type": "execute_result"
    }
   ],
   "source": [
    "z_test(old_funnel, 0.05, 'product_cart')"
   ]
  },
  {
   "cell_type": "markdown",
   "metadata": {},
   "source": [
    "**Событие `Покупка`:**"
   ]
  },
  {
   "cell_type": "code",
   "execution_count": 62,
   "metadata": {},
   "outputs": [
    {
     "name": "stdout",
     "output_type": "stream",
     "text": [
      "p-значение равно: 0.24278962671482107\n"
     ]
    },
    {
     "data": {
      "text/plain": [
       "'Для события purchase с критический уровнем стат. значимости 0.05 нулевую гипотезу следует отвергнуть'"
      ]
     },
     "execution_count": 62,
     "metadata": {},
     "output_type": "execute_result"
    }
   ],
   "source": [
    "z_test(old_funnel, 0.05, 'purchase')"
   ]
  },
  {
   "cell_type": "markdown",
   "metadata": {},
   "source": [
    "**Приступим к тестированию по обработанным данным:**"
   ]
  },
  {
   "cell_type": "markdown",
   "metadata": {},
   "source": [
    "**Событие `Страница товара`:**"
   ]
  },
  {
   "cell_type": "code",
   "execution_count": 63,
   "metadata": {},
   "outputs": [
    {
     "name": "stdout",
     "output_type": "stream",
     "text": [
      "p-значение равно: 0.000657678570669562\n"
     ]
    },
    {
     "data": {
      "text/plain": [
       "'Для события product_page с критический уровнем стат. значимости 0.05 не удалось отвергнуть нулевую гипотезу'"
      ]
     },
     "execution_count": 63,
     "metadata": {},
     "output_type": "execute_result"
    }
   ],
   "source": [
    "z_test(new_funnel, 0.05, 'product_page')"
   ]
  },
  {
   "cell_type": "markdown",
   "metadata": {},
   "source": [
    "**Событие `Корзина`:**"
   ]
  },
  {
   "cell_type": "code",
   "execution_count": 64,
   "metadata": {},
   "outputs": [
    {
     "name": "stdout",
     "output_type": "stream",
     "text": [
      "p-значение равно: 0.40023788955973894\n"
     ]
    },
    {
     "data": {
      "text/plain": [
       "'Для события product_cart с критический уровнем стат. значимости 0.05 нулевую гипотезу следует отвергнуть'"
      ]
     },
     "execution_count": 64,
     "metadata": {},
     "output_type": "execute_result"
    }
   ],
   "source": [
    "z_test(new_funnel, 0.05, 'product_cart')"
   ]
  },
  {
   "cell_type": "markdown",
   "metadata": {},
   "source": [
    "**Событие `Покупка`:**"
   ]
  },
  {
   "cell_type": "code",
   "execution_count": 65,
   "metadata": {},
   "outputs": [
    {
     "name": "stdout",
     "output_type": "stream",
     "text": [
      "p-значение равно: 0.4048860315899181\n"
     ]
    },
    {
     "data": {
      "text/plain": [
       "'Для события purchase с критический уровнем стат. значимости 0.05 нулевую гипотезу следует отвергнуть'"
      ]
     },
     "execution_count": 65,
     "metadata": {},
     "output_type": "execute_result"
    }
   ],
   "source": [
    "z_test(new_funnel, 0.05, 'purchase')"
   ]
  },
  {
   "cell_type": "markdown",
   "metadata": {},
   "source": [
    "По исходным и обработанным данным можно отметить, что для события `product_page` статически значимые различия между конверсиями групп А и В наблюдаются, однако для событий `product_cart` и `purchase` статически значимых различий между конвериями групп А и В нет."
   ]
  },
  {
   "cell_type": "markdown",
   "metadata": {},
   "source": [
    "### Выводы"
   ]
  },
  {
   "cell_type": "markdown",
   "metadata": {},
   "source": [
    "На основе полученных результатов можно сделать следующие выводы:\n",
    "\n",
    "***На этапе изучения исходных данных было выявлено, что для анализа предоставлено 4 датасета. Было обнаружено:***\n",
    "\n",
    "`events` - 440317 действий пользователей в период c 7 по 30 декабря 2020 года\n",
    "\n",
    "Структура датафрейма:\n",
    "    \n",
    "- Столбец `user_id` — идентификатор пользователя\n",
    "- Столбец `event_dt` — дата и время покупки\n",
    "- Столбец `event_name` — тип события\n",
    "- Столбец `details` — дополнительные данные о событии\n",
    "\n",
    "В столбце `details` обнаружены пропуски в данных. Их следует оставить без изменения, так как они составляют значительную часть от общего объема данных.\n",
    "\n",
    "`marketing_events` - календарь 14 маркетинговых событий на 2020 год\n",
    "\n",
    "Структура датафрейма:\n",
    "    \n",
    "- Столбец `name` — название маркетингового события \n",
    "- Столбец `regions` — регионы, в которых будет проводиться рекламная кампания\n",
    "- Столбец `start_dt` — дата начала кампании\n",
    "- Столбец `finish_dt` — дата завершения кампании\n",
    "\n",
    "`new_users` - данные о 61733 пользователях в период с 7 по 23 декабря 2020 года\n",
    "\n",
    "Структура датафрейма:\n",
    "    \n",
    "- Столбец `user_id` — идентификатор пользователя\n",
    "- Столбец `first_date` — дата регистрации\n",
    "- Столбец `region` — регион пользователя\n",
    "- Столбец `device` — устройство, с которого происходила регистрация\n",
    "\n",
    "`participants` - данные о 18268 участниках тестов\n",
    "\n",
    "Структура датафрейма:\n",
    "    \n",
    "- Столбец `user_id` — идентификатор пользователя\n",
    "- Столбец `ab_test` — название теста\n",
    "- Столбец `group` — группа пользователя\n",
    "\n",
    "1602 участника тестирования попали в разные группы/тесты одновременно.\n",
    "\n",
    "***На этапе предобработки данных в столбцах с датой были изменены типы данных на datetime.***\n",
    "\n",
    "***На этапе оценки корректности проведения теста были сформулированы следующие выводы:***\n",
    "\n",
    "- Имеется информация о 6701 участнике рассматриваемого теста: 3824 находятся в группе A и 2877 находятся в группе B\n",
    "\n",
    "- Дата начала и окончания набора новых пользователей соответствуют техническому заданию\n",
    "\n",
    "- Дата старта и окончания теста не соответствуют техническому заданию, так как тест законичился 30 декабря, а должен был 4 января. На это могли повлиять новогодние праздники\n",
    "\n",
    "- Было обнаружено, что 1602 пользователя являлись участниками сразу двух тестов. Они могут исказить результаты, если их не обработать.\n",
    "\n",
    "- Во время проведения тестирования в регионе EU проводилась акция `Christmas&New Year Promo`. Из-за этого определение зависимости улучшений от конкретных изменений становится довольно сложным, так как акция может повлиять на эти результаты\n",
    "\n",
    "- Пользователей, которые попали сразу в обе группы теста, не было обнаружено\n",
    "\n",
    "- Пользователи в группах распределены неравномерно: в тестовой группе находится 43% пользователей, а в контрольной - 57%\n",
    "\n",
    "- Состав аудитории теста: исходное количество  участников - 6701, из которых 6351 из EU. Согласно техническому заданию аудитория должна состоять из 15% новых зарегистрированных пользователей из региона EU, однако их доля составила 13,73%. \n",
    "\n",
    "- Были обработаны пользователи, не прожившие полные 14 дней, и события, которые произошли после 14 лайфтайма.\n",
    "\n",
    "После проведенных изменений было обнаружено, что они никак не повлияли на ситуацию: конверсия регистрации в покупку в группе В упала в 2 раза по сравнению с группой А. \n",
    "\n",
    "***На четвертом этапе исследования были сделаны следующие выводы:***\n",
    "\n",
    "Группа A активнее, чем группа B. 66% пользователей в группе B являются неактивными (в группе А - 40%). Среднее значение количества событий на пользователя в группе А в два раза больше, чем в группе B. Разница в количестве событий на пользователя между группами A и B - 53%\n",
    "\n",
    "При распределении событий между активными пользователями в группе A:\n",
    "\n",
    "- Среднее количество событий на пользователя - 7\n",
    "- Медианное количество событий на пользователя - 6\n",
    "\n",
    "При распределении событий между активными пользователями в группе B:\n",
    "\n",
    "- Среднее количество событий на пользователя - 6\n",
    "- Медианное количество событий на пользователя - 5\n",
    "\n",
    "С помощью графиков можно сделать следующие наблюдения:\n",
    "\n",
    "- У группы A наблюдается резкий рост количества событий с 13 по 17 декабря 2020 года.\n",
    "- Ближе к концу теста показатели уменьшаются. Можно предположить, что пик в середине теста был вызван подготовкой к новогодним праздникам.\n",
    "- Акция, проводимая в регионе EU, сильно не повлияла на ситуацию, так как пик не приходится на момент старта акции.\n",
    "\n",
    "Можно отметить, что конверсия постепенно уменьшается на каждом этапе. Наибольшее падение конверсии произошло на этапе \"регистрация пользователей - страница товара\". Она составила примерно на 16% по исходным данным и на 20% по обработанным данным. Примерно 40% пользователей из группы A и 20% пользователей группы B дошли до страницы товара. \n",
    "Помимо этого, наблюдается, что конверсия \"корзина-покупка\" совсем небольшая. Большинство пользователей, которые переходят в корзину, совершают покупку товара. \n",
    "Можно считать, что увеличение конверсии на каждом этапе не подтвердилось. Она увеличивается только на этапе \"регистрация пользователей - страница товара\".\n",
    "\n",
    "- Объем групп сильно различается: группа А на 33-35% больше группы B.\n",
    "- Конверсия событий различается более чем на 1%.\n",
    "- В датасете присутствует информация о пользователях из другого региона (не EU). Это может сказаться на результатах A/B-теста.\n",
    "\n",
    "***При проведении A/B-тестирования z-критерием нулевую гипотезу не удалось отвергнуть только для события `product_page`: По исходным и обработанным данным можно отметить, что для события `product_page` статически значимые различия между конверсиями групп А и В наблюдаются, однако для событий `product_cart` и `purchase` статически значимых различий между конвериями групп А и В нет.***\n",
    "\n",
    "***Итог:***\n",
    "\n",
    "Был проведен детальный анализ данных. Исследование состояло на основе исходных и обработанных данных, чтобы избежать искажения результатов. Во время проведения A/B-тестирования в регионе EU проходила акция, которая могла повлиять на результаты тестирования. Помимо этого, тестирование проводилось перед новогодними праздниками, поэтому ажиотаж пользователей может объясняться желанием приобрести подарки друзьям и родственникам, а не проведенными изменениями. Исходя из этого, можно считать, что результаты A/B-тестирования можно признать некачественными, так как множество факторов могли повлиять на них."
   ]
  }
 ],
 "metadata": {
  "ExecuteTimeLog": [
   {
    "duration": 1462,
    "start_time": "2023-07-13T05:04:21.333Z"
   },
   {
    "duration": 1300,
    "start_time": "2023-07-13T05:04:22.798Z"
   },
   {
    "duration": 67,
    "start_time": "2023-07-13T05:04:24.100Z"
   },
   {
    "duration": 14,
    "start_time": "2023-07-13T05:04:24.169Z"
   },
   {
    "duration": 77,
    "start_time": "2023-07-13T05:04:24.186Z"
   },
   {
    "duration": 61,
    "start_time": "2023-07-13T05:04:24.265Z"
   },
   {
    "duration": 371,
    "start_time": "2023-07-13T05:04:24.329Z"
   },
   {
    "duration": 15,
    "start_time": "2023-07-13T05:04:24.702Z"
   },
   {
    "duration": 19,
    "start_time": "2023-07-13T05:04:24.719Z"
   },
   {
    "duration": 49,
    "start_time": "2023-07-13T05:04:24.739Z"
   },
   {
    "duration": 52,
    "start_time": "2023-07-13T05:04:24.790Z"
   },
   {
    "duration": 41,
    "start_time": "2023-07-13T05:04:24.844Z"
   },
   {
    "duration": 22,
    "start_time": "2023-07-13T05:04:24.887Z"
   },
   {
    "duration": 27,
    "start_time": "2023-07-13T05:04:24.912Z"
   },
   {
    "duration": 62,
    "start_time": "2023-07-13T05:04:24.940Z"
   },
   {
    "duration": 81,
    "start_time": "2023-07-13T05:04:25.005Z"
   },
   {
    "duration": 43,
    "start_time": "2023-07-13T05:04:25.087Z"
   },
   {
    "duration": 36,
    "start_time": "2023-07-13T05:04:25.132Z"
   },
   {
    "duration": 49,
    "start_time": "2023-07-13T05:04:25.170Z"
   },
   {
    "duration": 96,
    "start_time": "2023-07-13T05:04:25.221Z"
   },
   {
    "duration": 75,
    "start_time": "2023-07-13T05:04:25.319Z"
   },
   {
    "duration": 179,
    "start_time": "2023-07-13T05:04:25.396Z"
   },
   {
    "duration": 13,
    "start_time": "2023-07-13T05:04:25.577Z"
   },
   {
    "duration": 65,
    "start_time": "2023-07-13T05:04:25.592Z"
   },
   {
    "duration": 14,
    "start_time": "2023-07-13T05:04:25.660Z"
   },
   {
    "duration": 44,
    "start_time": "2023-07-13T05:04:25.676Z"
   },
   {
    "duration": 47,
    "start_time": "2023-07-13T05:04:25.722Z"
   },
   {
    "duration": 70,
    "start_time": "2023-07-13T05:04:25.771Z"
   },
   {
    "duration": 84,
    "start_time": "2023-07-13T05:04:25.843Z"
   },
   {
    "duration": 21,
    "start_time": "2023-07-13T05:04:25.929Z"
   },
   {
    "duration": 980,
    "start_time": "2023-07-13T05:04:25.953Z"
   },
   {
    "duration": 404,
    "start_time": "2023-07-13T05:04:26.936Z"
   },
   {
    "duration": 12,
    "start_time": "2023-07-13T05:04:27.343Z"
   },
   {
    "duration": 255,
    "start_time": "2023-07-13T05:04:27.356Z"
   },
   {
    "duration": 8,
    "start_time": "2023-07-13T05:04:27.612Z"
   },
   {
    "duration": 43,
    "start_time": "2023-07-13T05:04:27.622Z"
   },
   {
    "duration": 18,
    "start_time": "2023-07-13T05:04:27.667Z"
   },
   {
    "duration": 90,
    "start_time": "2023-07-13T05:04:27.687Z"
   },
   {
    "duration": 13,
    "start_time": "2023-07-13T05:04:27.779Z"
   },
   {
    "duration": 231,
    "start_time": "2023-07-13T05:04:27.794Z"
   },
   {
    "duration": 6,
    "start_time": "2023-07-13T05:04:28.029Z"
   },
   {
    "duration": 19,
    "start_time": "2023-07-13T05:04:28.037Z"
   },
   {
    "duration": 214,
    "start_time": "2023-07-13T05:04:28.057Z"
   },
   {
    "duration": 15,
    "start_time": "2023-07-13T05:04:28.273Z"
   },
   {
    "duration": 35,
    "start_time": "2023-07-13T05:04:28.309Z"
   },
   {
    "duration": 7,
    "start_time": "2023-07-13T05:04:28.345Z"
   },
   {
    "duration": 673,
    "start_time": "2023-07-13T05:04:28.353Z"
   },
   {
    "duration": 94,
    "start_time": "2023-07-13T05:04:29.028Z"
   },
   {
    "duration": 19,
    "start_time": "2023-07-13T05:04:29.124Z"
   },
   {
    "duration": 77,
    "start_time": "2023-07-13T05:04:29.145Z"
   },
   {
    "duration": 72,
    "start_time": "2023-07-13T05:04:29.225Z"
   },
   {
    "duration": 29,
    "start_time": "2023-07-13T05:04:29.300Z"
   },
   {
    "duration": 35,
    "start_time": "2023-07-13T05:04:29.331Z"
   },
   {
    "duration": 683,
    "start_time": "2023-07-13T05:04:29.368Z"
   },
   {
    "duration": 993,
    "start_time": "2023-07-13T05:04:30.053Z"
   },
   {
    "duration": 63,
    "start_time": "2023-07-13T05:04:31.049Z"
   },
   {
    "duration": 261,
    "start_time": "2023-07-13T05:04:31.115Z"
   },
   {
    "duration": 62,
    "start_time": "2023-07-13T05:04:31.378Z"
   },
   {
    "duration": 29,
    "start_time": "2023-07-13T05:04:31.442Z"
   },
   {
    "duration": 52,
    "start_time": "2023-07-13T05:04:31.473Z"
   },
   {
    "duration": 54,
    "start_time": "2023-07-13T05:04:31.527Z"
   },
   {
    "duration": 48,
    "start_time": "2023-07-13T05:04:31.582Z"
   },
   {
    "duration": 69,
    "start_time": "2023-07-13T05:04:31.632Z"
   },
   {
    "duration": 70,
    "start_time": "2023-07-13T05:04:31.704Z"
   },
   {
    "duration": 61,
    "start_time": "2023-07-13T05:04:31.776Z"
   },
   {
    "duration": 43,
    "start_time": "2023-07-13T05:04:31.838Z"
   },
   {
    "duration": 11,
    "start_time": "2023-07-13T08:10:37.859Z"
   },
   {
    "duration": 6,
    "start_time": "2023-07-13T08:10:52.907Z"
   },
   {
    "duration": 45,
    "start_time": "2023-07-13T08:11:15.987Z"
   },
   {
    "duration": 6,
    "start_time": "2023-07-13T08:11:19.389Z"
   },
   {
    "duration": 7,
    "start_time": "2023-07-13T08:11:26.610Z"
   },
   {
    "duration": 1431,
    "start_time": "2023-07-13T08:11:33.399Z"
   },
   {
    "duration": 2781,
    "start_time": "2023-07-13T08:11:34.831Z"
   },
   {
    "duration": 65,
    "start_time": "2023-07-13T08:11:37.615Z"
   },
   {
    "duration": 12,
    "start_time": "2023-07-13T08:11:37.682Z"
   },
   {
    "duration": 67,
    "start_time": "2023-07-13T08:11:37.696Z"
   },
   {
    "duration": 66,
    "start_time": "2023-07-13T08:11:37.764Z"
   },
   {
    "duration": 291,
    "start_time": "2023-07-13T08:11:37.832Z"
   },
   {
    "duration": 11,
    "start_time": "2023-07-13T08:11:38.125Z"
   },
   {
    "duration": 13,
    "start_time": "2023-07-13T08:11:38.138Z"
   },
   {
    "duration": 12,
    "start_time": "2023-07-13T08:11:38.155Z"
   },
   {
    "duration": 9,
    "start_time": "2023-07-13T08:11:38.169Z"
   },
   {
    "duration": 51,
    "start_time": "2023-07-13T08:11:38.180Z"
   },
   {
    "duration": 9,
    "start_time": "2023-07-13T08:11:38.232Z"
   },
   {
    "duration": 10,
    "start_time": "2023-07-13T08:11:38.243Z"
   },
   {
    "duration": 21,
    "start_time": "2023-07-13T08:11:38.255Z"
   },
   {
    "duration": 59,
    "start_time": "2023-07-13T08:11:38.278Z"
   },
   {
    "duration": 12,
    "start_time": "2023-07-13T08:11:38.339Z"
   },
   {
    "duration": 9,
    "start_time": "2023-07-13T08:11:38.352Z"
   },
   {
    "duration": 32,
    "start_time": "2023-07-13T08:11:38.363Z"
   },
   {
    "duration": 31,
    "start_time": "2023-07-13T08:11:38.396Z"
   },
   {
    "duration": 14,
    "start_time": "2023-07-13T08:11:38.429Z"
   },
   {
    "duration": 132,
    "start_time": "2023-07-13T08:11:38.445Z"
   },
   {
    "duration": 14,
    "start_time": "2023-07-13T08:11:38.579Z"
   },
   {
    "duration": 43,
    "start_time": "2023-07-13T08:11:38.595Z"
   },
   {
    "duration": 8,
    "start_time": "2023-07-13T08:11:38.641Z"
   },
   {
    "duration": 13,
    "start_time": "2023-07-13T08:11:38.651Z"
   },
   {
    "duration": 9,
    "start_time": "2023-07-13T08:11:38.666Z"
   },
   {
    "duration": 61,
    "start_time": "2023-07-13T08:11:38.678Z"
   },
   {
    "duration": 50,
    "start_time": "2023-07-13T08:11:38.741Z"
   },
   {
    "duration": 16,
    "start_time": "2023-07-13T08:11:38.812Z"
   },
   {
    "duration": 1066,
    "start_time": "2023-07-13T08:11:38.830Z"
   },
   {
    "duration": 407,
    "start_time": "2023-07-13T08:11:39.898Z"
   },
   {
    "duration": 14,
    "start_time": "2023-07-13T08:11:40.307Z"
   },
   {
    "duration": 228,
    "start_time": "2023-07-13T08:11:40.324Z"
   },
   {
    "duration": 8,
    "start_time": "2023-07-13T08:11:40.554Z"
   },
   {
    "duration": 37,
    "start_time": "2023-07-13T08:11:40.564Z"
   },
   {
    "duration": 11,
    "start_time": "2023-07-13T08:11:40.603Z"
   },
   {
    "duration": 61,
    "start_time": "2023-07-13T08:11:40.616Z"
   },
   {
    "duration": 14,
    "start_time": "2023-07-13T08:11:40.679Z"
   },
   {
    "duration": 219,
    "start_time": "2023-07-13T08:11:40.712Z"
   },
   {
    "duration": 6,
    "start_time": "2023-07-13T08:11:40.933Z"
   },
   {
    "duration": 46,
    "start_time": "2023-07-13T08:11:40.941Z"
   },
   {
    "duration": 189,
    "start_time": "2023-07-13T08:11:40.989Z"
   },
   {
    "duration": 15,
    "start_time": "2023-07-13T08:11:41.180Z"
   },
   {
    "duration": 58,
    "start_time": "2023-07-13T08:11:41.196Z"
   },
   {
    "duration": 8,
    "start_time": "2023-07-13T08:11:41.256Z"
   },
   {
    "duration": 201,
    "start_time": "2023-07-13T08:11:41.266Z"
   },
   {
    "duration": 65,
    "start_time": "2023-07-13T08:11:41.469Z"
   },
   {
    "duration": 18,
    "start_time": "2023-07-13T08:11:41.535Z"
   },
   {
    "duration": 72,
    "start_time": "2023-07-13T08:11:41.555Z"
   },
   {
    "duration": 24,
    "start_time": "2023-07-13T08:11:41.629Z"
   },
   {
    "duration": 4,
    "start_time": "2023-07-13T08:11:41.655Z"
   },
   {
    "duration": 9,
    "start_time": "2023-07-13T08:11:41.661Z"
   },
   {
    "duration": 614,
    "start_time": "2023-07-13T08:11:41.672Z"
   },
   {
    "duration": 987,
    "start_time": "2023-07-13T08:11:42.288Z"
   },
   {
    "duration": 52,
    "start_time": "2023-07-13T08:11:43.277Z"
   },
   {
    "duration": 40,
    "start_time": "2023-07-13T08:11:43.331Z"
   },
   {
    "duration": 6,
    "start_time": "2023-07-13T08:11:43.373Z"
   },
   {
    "duration": 34,
    "start_time": "2023-07-13T08:11:43.381Z"
   },
   {
    "duration": 119,
    "start_time": "2023-07-13T08:11:43.416Z"
   },
   {
    "duration": 0,
    "start_time": "2023-07-13T08:11:43.537Z"
   },
   {
    "duration": 0,
    "start_time": "2023-07-13T08:11:43.538Z"
   },
   {
    "duration": 0,
    "start_time": "2023-07-13T08:11:43.539Z"
   },
   {
    "duration": 0,
    "start_time": "2023-07-13T08:11:43.541Z"
   },
   {
    "duration": 0,
    "start_time": "2023-07-13T08:11:43.542Z"
   },
   {
    "duration": 0,
    "start_time": "2023-07-13T08:11:43.543Z"
   },
   {
    "duration": 0,
    "start_time": "2023-07-13T08:11:43.544Z"
   },
   {
    "duration": 7,
    "start_time": "2023-07-13T08:11:50.267Z"
   },
   {
    "duration": 7,
    "start_time": "2023-07-13T08:13:04.780Z"
   },
   {
    "duration": 7,
    "start_time": "2023-07-13T08:13:13.496Z"
   },
   {
    "duration": 7,
    "start_time": "2023-07-13T08:13:37.624Z"
   },
   {
    "duration": 7,
    "start_time": "2023-07-13T08:13:44.823Z"
   },
   {
    "duration": 6,
    "start_time": "2023-07-13T08:13:51.631Z"
   },
   {
    "duration": 11,
    "start_time": "2023-07-13T08:13:54.815Z"
   },
   {
    "duration": 6,
    "start_time": "2023-07-13T08:14:57.445Z"
   },
   {
    "duration": 49,
    "start_time": "2023-07-13T08:15:00.002Z"
   },
   {
    "duration": 42,
    "start_time": "2023-07-13T08:15:10.238Z"
   },
   {
    "duration": 44,
    "start_time": "2023-07-13T08:15:25.488Z"
   },
   {
    "duration": 41,
    "start_time": "2023-07-13T08:15:28.700Z"
   },
   {
    "duration": 7,
    "start_time": "2023-07-13T08:21:09.508Z"
   },
   {
    "duration": 57,
    "start_time": "2023-07-13T08:21:12.703Z"
   },
   {
    "duration": 42,
    "start_time": "2023-07-13T08:21:22.023Z"
   },
   {
    "duration": 6,
    "start_time": "2023-07-13T08:21:52.765Z"
   },
   {
    "duration": 1249,
    "start_time": "2023-07-13T08:21:57.537Z"
   },
   {
    "duration": 687,
    "start_time": "2023-07-13T08:21:58.788Z"
   },
   {
    "duration": 59,
    "start_time": "2023-07-13T08:21:59.476Z"
   },
   {
    "duration": 14,
    "start_time": "2023-07-13T08:21:59.537Z"
   },
   {
    "duration": 108,
    "start_time": "2023-07-13T08:21:59.553Z"
   },
   {
    "duration": 70,
    "start_time": "2023-07-13T08:21:59.664Z"
   },
   {
    "duration": 345,
    "start_time": "2023-07-13T08:21:59.736Z"
   },
   {
    "duration": 15,
    "start_time": "2023-07-13T08:22:00.083Z"
   },
   {
    "duration": 226,
    "start_time": "2023-07-13T08:22:00.100Z"
   },
   {
    "duration": 93,
    "start_time": "2023-07-13T08:22:00.329Z"
   },
   {
    "duration": 118,
    "start_time": "2023-07-13T08:22:00.424Z"
   },
   {
    "duration": 64,
    "start_time": "2023-07-13T08:22:00.545Z"
   },
   {
    "duration": 37,
    "start_time": "2023-07-13T08:22:00.612Z"
   },
   {
    "duration": 53,
    "start_time": "2023-07-13T08:22:00.651Z"
   },
   {
    "duration": 72,
    "start_time": "2023-07-13T08:22:00.706Z"
   },
   {
    "duration": 306,
    "start_time": "2023-07-13T08:22:00.780Z"
   },
   {
    "duration": 131,
    "start_time": "2023-07-13T08:22:01.088Z"
   },
   {
    "duration": 74,
    "start_time": "2023-07-13T08:22:01.221Z"
   },
   {
    "duration": 143,
    "start_time": "2023-07-13T08:22:01.297Z"
   },
   {
    "duration": 77,
    "start_time": "2023-07-13T08:22:01.442Z"
   },
   {
    "duration": 69,
    "start_time": "2023-07-13T08:22:01.522Z"
   },
   {
    "duration": 196,
    "start_time": "2023-07-13T08:22:01.593Z"
   },
   {
    "duration": 15,
    "start_time": "2023-07-13T08:22:01.792Z"
   },
   {
    "duration": 69,
    "start_time": "2023-07-13T08:22:01.815Z"
   },
   {
    "duration": 9,
    "start_time": "2023-07-13T08:22:01.887Z"
   },
   {
    "duration": 76,
    "start_time": "2023-07-13T08:22:01.897Z"
   },
   {
    "duration": 13,
    "start_time": "2023-07-13T08:22:01.976Z"
   },
   {
    "duration": 53,
    "start_time": "2023-07-13T08:22:01.995Z"
   },
   {
    "duration": 69,
    "start_time": "2023-07-13T08:22:02.050Z"
   },
   {
    "duration": 17,
    "start_time": "2023-07-13T08:22:02.121Z"
   },
   {
    "duration": 1009,
    "start_time": "2023-07-13T08:22:02.141Z"
   },
   {
    "duration": 413,
    "start_time": "2023-07-13T08:22:03.153Z"
   },
   {
    "duration": 11,
    "start_time": "2023-07-13T08:22:03.568Z"
   },
   {
    "duration": 262,
    "start_time": "2023-07-13T08:22:03.580Z"
   },
   {
    "duration": 9,
    "start_time": "2023-07-13T08:22:03.844Z"
   },
   {
    "duration": 79,
    "start_time": "2023-07-13T08:22:03.855Z"
   },
   {
    "duration": 5,
    "start_time": "2023-07-13T08:22:03.936Z"
   },
   {
    "duration": 83,
    "start_time": "2023-07-13T08:22:03.943Z"
   },
   {
    "duration": 12,
    "start_time": "2023-07-13T08:22:04.028Z"
   },
   {
    "duration": 273,
    "start_time": "2023-07-13T08:22:04.042Z"
   },
   {
    "duration": 6,
    "start_time": "2023-07-13T08:22:04.318Z"
   },
   {
    "duration": 26,
    "start_time": "2023-07-13T08:22:04.327Z"
   },
   {
    "duration": 217,
    "start_time": "2023-07-13T08:22:04.355Z"
   },
   {
    "duration": 21,
    "start_time": "2023-07-13T08:22:04.574Z"
   },
   {
    "duration": 47,
    "start_time": "2023-07-13T08:22:04.597Z"
   },
   {
    "duration": 7,
    "start_time": "2023-07-13T08:22:04.647Z"
   },
   {
    "duration": 283,
    "start_time": "2023-07-13T08:22:04.656Z"
   },
   {
    "duration": 81,
    "start_time": "2023-07-13T08:22:04.942Z"
   },
   {
    "duration": 26,
    "start_time": "2023-07-13T08:22:05.025Z"
   },
   {
    "duration": 74,
    "start_time": "2023-07-13T08:22:05.053Z"
   },
   {
    "duration": 41,
    "start_time": "2023-07-13T08:22:05.130Z"
   },
   {
    "duration": 22,
    "start_time": "2023-07-13T08:22:05.173Z"
   },
   {
    "duration": 38,
    "start_time": "2023-07-13T08:22:05.198Z"
   },
   {
    "duration": 683,
    "start_time": "2023-07-13T08:22:05.238Z"
   },
   {
    "duration": 924,
    "start_time": "2023-07-13T08:22:05.923Z"
   },
   {
    "duration": 64,
    "start_time": "2023-07-13T08:22:06.849Z"
   },
   {
    "duration": 44,
    "start_time": "2023-07-13T08:22:06.916Z"
   },
   {
    "duration": 8,
    "start_time": "2023-07-13T08:22:06.962Z"
   },
   {
    "duration": 88,
    "start_time": "2023-07-13T08:22:06.972Z"
   },
   {
    "duration": 1902,
    "start_time": "2023-07-13T08:22:07.062Z"
   },
   {
    "duration": 0,
    "start_time": "2023-07-13T08:22:08.966Z"
   },
   {
    "duration": 0,
    "start_time": "2023-07-13T08:22:08.968Z"
   },
   {
    "duration": 0,
    "start_time": "2023-07-13T08:22:08.970Z"
   },
   {
    "duration": 0,
    "start_time": "2023-07-13T08:22:08.972Z"
   },
   {
    "duration": 0,
    "start_time": "2023-07-13T08:22:08.974Z"
   },
   {
    "duration": 8,
    "start_time": "2023-07-13T08:22:50.016Z"
   },
   {
    "duration": 51,
    "start_time": "2023-07-13T08:22:51.948Z"
   },
   {
    "duration": 7,
    "start_time": "2023-07-13T08:23:53.654Z"
   },
   {
    "duration": 44,
    "start_time": "2023-07-13T08:23:55.989Z"
   },
   {
    "duration": 5,
    "start_time": "2023-07-13T08:26:01.768Z"
   },
   {
    "duration": 77,
    "start_time": "2023-07-13T08:26:03.912Z"
   },
   {
    "duration": 5,
    "start_time": "2023-07-13T08:29:36.744Z"
   },
   {
    "duration": 18,
    "start_time": "2023-07-13T08:29:38.716Z"
   },
   {
    "duration": 7,
    "start_time": "2023-07-13T08:30:37.815Z"
   },
   {
    "duration": 38,
    "start_time": "2023-07-13T08:30:39.862Z"
   },
   {
    "duration": 7,
    "start_time": "2023-07-13T08:30:54.758Z"
   },
   {
    "duration": 33,
    "start_time": "2023-07-13T08:30:56.705Z"
   },
   {
    "duration": 4,
    "start_time": "2023-07-13T08:31:17.223Z"
   },
   {
    "duration": 38,
    "start_time": "2023-07-13T08:31:19.353Z"
   },
   {
    "duration": 6,
    "start_time": "2023-07-13T08:31:30.424Z"
   },
   {
    "duration": 36,
    "start_time": "2023-07-13T08:31:32.669Z"
   },
   {
    "duration": 6,
    "start_time": "2023-07-13T08:31:40.570Z"
   },
   {
    "duration": 40,
    "start_time": "2023-07-13T08:31:43.321Z"
   },
   {
    "duration": 6,
    "start_time": "2023-07-13T08:32:07.249Z"
   },
   {
    "duration": 36,
    "start_time": "2023-07-13T08:32:09.137Z"
   },
   {
    "duration": 5,
    "start_time": "2023-07-13T08:32:15.418Z"
   },
   {
    "duration": 62,
    "start_time": "2023-07-13T08:32:17.093Z"
   },
   {
    "duration": 1245,
    "start_time": "2023-07-13T08:32:47.130Z"
   },
   {
    "duration": 672,
    "start_time": "2023-07-13T08:32:48.377Z"
   },
   {
    "duration": 57,
    "start_time": "2023-07-13T08:32:49.051Z"
   },
   {
    "duration": 15,
    "start_time": "2023-07-13T08:32:49.112Z"
   },
   {
    "duration": 110,
    "start_time": "2023-07-13T08:32:49.130Z"
   },
   {
    "duration": 102,
    "start_time": "2023-07-13T08:32:49.242Z"
   },
   {
    "duration": 399,
    "start_time": "2023-07-13T08:32:49.347Z"
   },
   {
    "duration": 15,
    "start_time": "2023-07-13T08:32:49.748Z"
   },
   {
    "duration": 13,
    "start_time": "2023-07-13T08:32:49.765Z"
   },
   {
    "duration": 32,
    "start_time": "2023-07-13T08:32:49.783Z"
   },
   {
    "duration": 9,
    "start_time": "2023-07-13T08:32:49.818Z"
   },
   {
    "duration": 28,
    "start_time": "2023-07-13T08:32:49.829Z"
   },
   {
    "duration": 17,
    "start_time": "2023-07-13T08:32:49.860Z"
   },
   {
    "duration": 45,
    "start_time": "2023-07-13T08:32:49.880Z"
   },
   {
    "duration": 22,
    "start_time": "2023-07-13T08:32:49.928Z"
   },
   {
    "duration": 67,
    "start_time": "2023-07-13T08:32:49.953Z"
   },
   {
    "duration": 26,
    "start_time": "2023-07-13T08:32:50.023Z"
   },
   {
    "duration": 14,
    "start_time": "2023-07-13T08:32:50.054Z"
   },
   {
    "duration": 18,
    "start_time": "2023-07-13T08:32:50.070Z"
   },
   {
    "duration": 32,
    "start_time": "2023-07-13T08:32:50.090Z"
   },
   {
    "duration": 16,
    "start_time": "2023-07-13T08:32:50.124Z"
   },
   {
    "duration": 148,
    "start_time": "2023-07-13T08:32:50.142Z"
   },
   {
    "duration": 27,
    "start_time": "2023-07-13T08:32:50.292Z"
   },
   {
    "duration": 52,
    "start_time": "2023-07-13T08:32:50.322Z"
   },
   {
    "duration": 11,
    "start_time": "2023-07-13T08:32:50.376Z"
   },
   {
    "duration": 37,
    "start_time": "2023-07-13T08:32:50.389Z"
   },
   {
    "duration": 12,
    "start_time": "2023-07-13T08:32:50.431Z"
   },
   {
    "duration": 46,
    "start_time": "2023-07-13T08:32:50.449Z"
   },
   {
    "duration": 76,
    "start_time": "2023-07-13T08:32:50.497Z"
   },
   {
    "duration": 38,
    "start_time": "2023-07-13T08:32:50.575Z"
   },
   {
    "duration": 965,
    "start_time": "2023-07-13T08:32:50.616Z"
   },
   {
    "duration": 456,
    "start_time": "2023-07-13T08:32:51.583Z"
   },
   {
    "duration": 18,
    "start_time": "2023-07-13T08:32:52.042Z"
   },
   {
    "duration": 377,
    "start_time": "2023-07-13T08:32:52.062Z"
   },
   {
    "duration": 12,
    "start_time": "2023-07-13T08:32:52.442Z"
   },
   {
    "duration": 51,
    "start_time": "2023-07-13T08:32:52.455Z"
   },
   {
    "duration": 8,
    "start_time": "2023-07-13T08:32:52.508Z"
   },
   {
    "duration": 80,
    "start_time": "2023-07-13T08:32:52.518Z"
   },
   {
    "duration": 12,
    "start_time": "2023-07-13T08:32:52.612Z"
   },
   {
    "duration": 275,
    "start_time": "2023-07-13T08:32:52.626Z"
   },
   {
    "duration": 13,
    "start_time": "2023-07-13T08:32:52.903Z"
   },
   {
    "duration": 21,
    "start_time": "2023-07-13T08:32:52.918Z"
   },
   {
    "duration": 313,
    "start_time": "2023-07-13T08:32:52.942Z"
   },
   {
    "duration": 25,
    "start_time": "2023-07-13T08:32:53.257Z"
   },
   {
    "duration": 60,
    "start_time": "2023-07-13T08:32:53.285Z"
   },
   {
    "duration": 5,
    "start_time": "2023-07-13T08:32:53.347Z"
   },
   {
    "duration": 231,
    "start_time": "2023-07-13T08:32:53.354Z"
   },
   {
    "duration": 62,
    "start_time": "2023-07-13T08:32:53.587Z"
   },
   {
    "duration": 74,
    "start_time": "2023-07-13T08:32:53.651Z"
   },
   {
    "duration": 23,
    "start_time": "2023-07-13T08:32:53.728Z"
   },
   {
    "duration": 70,
    "start_time": "2023-07-13T08:32:53.754Z"
   },
   {
    "duration": 8,
    "start_time": "2023-07-13T08:32:53.826Z"
   },
   {
    "duration": 10,
    "start_time": "2023-07-13T08:32:53.837Z"
   },
   {
    "duration": 613,
    "start_time": "2023-07-13T08:32:53.855Z"
   },
   {
    "duration": 941,
    "start_time": "2023-07-13T08:32:54.472Z"
   },
   {
    "duration": 48,
    "start_time": "2023-07-13T08:32:55.415Z"
   },
   {
    "duration": 78,
    "start_time": "2023-07-13T08:32:55.465Z"
   },
   {
    "duration": 7,
    "start_time": "2023-07-13T08:32:55.546Z"
   },
   {
    "duration": 8,
    "start_time": "2023-07-13T08:32:55.556Z"
   },
   {
    "duration": 2026,
    "start_time": "2023-07-13T08:32:55.566Z"
   },
   {
    "duration": 0,
    "start_time": "2023-07-13T08:32:57.594Z"
   },
   {
    "duration": 0,
    "start_time": "2023-07-13T08:32:57.596Z"
   },
   {
    "duration": 0,
    "start_time": "2023-07-13T08:32:57.597Z"
   },
   {
    "duration": 0,
    "start_time": "2023-07-13T08:32:57.599Z"
   },
   {
    "duration": 0,
    "start_time": "2023-07-13T08:32:57.601Z"
   },
   {
    "duration": 64,
    "start_time": "2023-07-13T08:35:51.116Z"
   },
   {
    "duration": 1534,
    "start_time": "2023-07-13T08:35:56.108Z"
   },
   {
    "duration": 985,
    "start_time": "2023-07-13T08:35:57.646Z"
   },
   {
    "duration": 106,
    "start_time": "2023-07-13T08:35:58.634Z"
   },
   {
    "duration": 17,
    "start_time": "2023-07-13T08:35:58.744Z"
   },
   {
    "duration": 117,
    "start_time": "2023-07-13T08:35:58.763Z"
   },
   {
    "duration": 104,
    "start_time": "2023-07-13T08:35:58.883Z"
   },
   {
    "duration": 460,
    "start_time": "2023-07-13T08:35:58.990Z"
   },
   {
    "duration": 20,
    "start_time": "2023-07-13T08:35:59.452Z"
   },
   {
    "duration": 14,
    "start_time": "2023-07-13T08:35:59.480Z"
   },
   {
    "duration": 47,
    "start_time": "2023-07-13T08:35:59.498Z"
   },
   {
    "duration": 14,
    "start_time": "2023-07-13T08:35:59.547Z"
   },
   {
    "duration": 42,
    "start_time": "2023-07-13T08:35:59.564Z"
   },
   {
    "duration": 20,
    "start_time": "2023-07-13T08:35:59.609Z"
   },
   {
    "duration": 34,
    "start_time": "2023-07-13T08:35:59.633Z"
   },
   {
    "duration": 41,
    "start_time": "2023-07-13T08:35:59.671Z"
   },
   {
    "duration": 66,
    "start_time": "2023-07-13T08:35:59.714Z"
   },
   {
    "duration": 19,
    "start_time": "2023-07-13T08:35:59.783Z"
   },
   {
    "duration": 19,
    "start_time": "2023-07-13T08:35:59.805Z"
   },
   {
    "duration": 16,
    "start_time": "2023-07-13T08:35:59.827Z"
   },
   {
    "duration": 19,
    "start_time": "2023-07-13T08:35:59.846Z"
   },
   {
    "duration": 45,
    "start_time": "2023-07-13T08:35:59.868Z"
   },
   {
    "duration": 282,
    "start_time": "2023-07-13T08:35:59.916Z"
   },
   {
    "duration": 21,
    "start_time": "2023-07-13T08:36:00.201Z"
   },
   {
    "duration": 69,
    "start_time": "2023-07-13T08:36:00.224Z"
   },
   {
    "duration": 10,
    "start_time": "2023-07-13T08:36:00.295Z"
   },
   {
    "duration": 52,
    "start_time": "2023-07-13T08:36:00.307Z"
   },
   {
    "duration": 99,
    "start_time": "2023-07-13T08:36:00.363Z"
   },
   {
    "duration": 65,
    "start_time": "2023-07-13T08:36:00.469Z"
   },
   {
    "duration": 101,
    "start_time": "2023-07-13T08:36:00.536Z"
   },
   {
    "duration": 22,
    "start_time": "2023-07-13T08:36:00.640Z"
   },
   {
    "duration": 1543,
    "start_time": "2023-07-13T08:36:00.664Z"
   },
   {
    "duration": 611,
    "start_time": "2023-07-13T08:36:02.215Z"
   },
   {
    "duration": 21,
    "start_time": "2023-07-13T08:36:02.829Z"
   },
   {
    "duration": 401,
    "start_time": "2023-07-13T08:36:02.855Z"
   },
   {
    "duration": 10,
    "start_time": "2023-07-13T08:36:03.258Z"
   },
   {
    "duration": 73,
    "start_time": "2023-07-13T08:36:03.271Z"
   },
   {
    "duration": 26,
    "start_time": "2023-07-13T08:36:03.350Z"
   },
   {
    "duration": 100,
    "start_time": "2023-07-13T08:36:03.388Z"
   },
   {
    "duration": 17,
    "start_time": "2023-07-13T08:36:03.491Z"
   },
   {
    "duration": 357,
    "start_time": "2023-07-13T08:36:03.511Z"
   },
   {
    "duration": 9,
    "start_time": "2023-07-13T08:36:03.871Z"
   },
   {
    "duration": 21,
    "start_time": "2023-07-13T08:36:03.883Z"
   },
   {
    "duration": 355,
    "start_time": "2023-07-13T08:36:03.907Z"
   },
   {
    "duration": 21,
    "start_time": "2023-07-13T08:36:04.264Z"
   },
   {
    "duration": 77,
    "start_time": "2023-07-13T08:36:04.288Z"
   },
   {
    "duration": 8,
    "start_time": "2023-07-13T08:36:04.368Z"
   },
   {
    "duration": 313,
    "start_time": "2023-07-13T08:36:04.379Z"
   },
   {
    "duration": 55,
    "start_time": "2023-07-13T08:36:04.695Z"
   },
   {
    "duration": 73,
    "start_time": "2023-07-13T08:36:04.753Z"
   },
   {
    "duration": 35,
    "start_time": "2023-07-13T08:36:04.828Z"
   },
   {
    "duration": 79,
    "start_time": "2023-07-13T08:36:04.865Z"
   },
   {
    "duration": 6,
    "start_time": "2023-07-13T08:36:04.947Z"
   },
   {
    "duration": 9,
    "start_time": "2023-07-13T08:36:04.956Z"
   },
   {
    "duration": 986,
    "start_time": "2023-07-13T08:36:04.968Z"
   },
   {
    "duration": 1424,
    "start_time": "2023-07-13T08:36:05.957Z"
   },
   {
    "duration": 84,
    "start_time": "2023-07-13T08:36:07.384Z"
   },
   {
    "duration": 76,
    "start_time": "2023-07-13T08:36:07.472Z"
   },
   {
    "duration": 10,
    "start_time": "2023-07-13T08:36:07.551Z"
   },
   {
    "duration": 31,
    "start_time": "2023-07-13T08:36:07.564Z"
   },
   {
    "duration": 2467,
    "start_time": "2023-07-13T08:36:07.598Z"
   },
   {
    "duration": 0,
    "start_time": "2023-07-13T08:36:10.067Z"
   },
   {
    "duration": 0,
    "start_time": "2023-07-13T08:36:10.069Z"
   },
   {
    "duration": 0,
    "start_time": "2023-07-13T08:36:10.070Z"
   },
   {
    "duration": 0,
    "start_time": "2023-07-13T08:36:10.072Z"
   },
   {
    "duration": 0,
    "start_time": "2023-07-13T08:36:10.073Z"
   },
   {
    "duration": 5,
    "start_time": "2023-07-13T08:40:06.700Z"
   },
   {
    "duration": 53,
    "start_time": "2023-07-13T08:40:08.203Z"
   },
   {
    "duration": 5,
    "start_time": "2023-07-13T08:40:34.707Z"
   },
   {
    "duration": 45,
    "start_time": "2023-07-13T08:40:36.708Z"
   },
   {
    "duration": 33,
    "start_time": "2023-07-13T08:40:45.910Z"
   },
   {
    "duration": 13,
    "start_time": "2023-07-13T08:40:56.607Z"
   },
   {
    "duration": 6,
    "start_time": "2023-07-13T08:42:13.033Z"
   },
   {
    "duration": 67,
    "start_time": "2023-07-13T08:42:15.092Z"
   },
   {
    "duration": 6,
    "start_time": "2023-07-13T08:42:22.114Z"
   },
   {
    "duration": 63,
    "start_time": "2023-07-13T08:42:24.402Z"
   },
   {
    "duration": 6,
    "start_time": "2023-07-13T08:42:35.885Z"
   },
   {
    "duration": 41,
    "start_time": "2023-07-13T08:42:37.664Z"
   },
   {
    "duration": 1319,
    "start_time": "2023-07-13T08:42:52.104Z"
   },
   {
    "duration": 807,
    "start_time": "2023-07-13T08:42:53.427Z"
   },
   {
    "duration": 61,
    "start_time": "2023-07-13T08:42:54.237Z"
   },
   {
    "duration": 20,
    "start_time": "2023-07-13T08:42:54.305Z"
   },
   {
    "duration": 82,
    "start_time": "2023-07-13T08:42:54.327Z"
   },
   {
    "duration": 58,
    "start_time": "2023-07-13T08:42:54.413Z"
   },
   {
    "duration": 423,
    "start_time": "2023-07-13T08:42:54.473Z"
   },
   {
    "duration": 26,
    "start_time": "2023-07-13T08:42:54.899Z"
   },
   {
    "duration": 12,
    "start_time": "2023-07-13T08:42:54.928Z"
   },
   {
    "duration": 9,
    "start_time": "2023-07-13T08:42:54.943Z"
   },
   {
    "duration": 9,
    "start_time": "2023-07-13T08:42:54.954Z"
   },
   {
    "duration": 25,
    "start_time": "2023-07-13T08:42:54.965Z"
   },
   {
    "duration": 34,
    "start_time": "2023-07-13T08:42:54.992Z"
   },
   {
    "duration": 41,
    "start_time": "2023-07-13T08:42:55.032Z"
   },
   {
    "duration": 31,
    "start_time": "2023-07-13T08:42:55.077Z"
   },
   {
    "duration": 49,
    "start_time": "2023-07-13T08:42:55.110Z"
   },
   {
    "duration": 14,
    "start_time": "2023-07-13T08:42:55.161Z"
   },
   {
    "duration": 23,
    "start_time": "2023-07-13T08:42:55.177Z"
   },
   {
    "duration": 13,
    "start_time": "2023-07-13T08:42:55.203Z"
   },
   {
    "duration": 23,
    "start_time": "2023-07-13T08:42:55.218Z"
   },
   {
    "duration": 18,
    "start_time": "2023-07-13T08:42:55.243Z"
   },
   {
    "duration": 171,
    "start_time": "2023-07-13T08:42:55.262Z"
   },
   {
    "duration": 14,
    "start_time": "2023-07-13T08:42:55.435Z"
   },
   {
    "duration": 70,
    "start_time": "2023-07-13T08:42:55.450Z"
   },
   {
    "duration": 15,
    "start_time": "2023-07-13T08:42:55.522Z"
   },
   {
    "duration": 31,
    "start_time": "2023-07-13T08:42:55.539Z"
   },
   {
    "duration": 28,
    "start_time": "2023-07-13T08:42:55.572Z"
   },
   {
    "duration": 57,
    "start_time": "2023-07-13T08:42:55.604Z"
   },
   {
    "duration": 52,
    "start_time": "2023-07-13T08:42:55.663Z"
   },
   {
    "duration": 23,
    "start_time": "2023-07-13T08:42:55.719Z"
   },
   {
    "duration": 954,
    "start_time": "2023-07-13T08:42:55.744Z"
   },
   {
    "duration": 400,
    "start_time": "2023-07-13T08:42:56.700Z"
   },
   {
    "duration": 17,
    "start_time": "2023-07-13T08:42:57.113Z"
   },
   {
    "duration": 264,
    "start_time": "2023-07-13T08:42:57.132Z"
   },
   {
    "duration": 16,
    "start_time": "2023-07-13T08:42:57.398Z"
   },
   {
    "duration": 72,
    "start_time": "2023-07-13T08:42:57.417Z"
   },
   {
    "duration": 4,
    "start_time": "2023-07-13T08:42:57.491Z"
   },
   {
    "duration": 72,
    "start_time": "2023-07-13T08:42:57.497Z"
   },
   {
    "duration": 74,
    "start_time": "2023-07-13T08:42:57.570Z"
   },
   {
    "duration": 226,
    "start_time": "2023-07-13T08:42:57.646Z"
   },
   {
    "duration": 7,
    "start_time": "2023-07-13T08:42:57.875Z"
   },
   {
    "duration": 14,
    "start_time": "2023-07-13T08:42:57.884Z"
   },
   {
    "duration": 192,
    "start_time": "2023-07-13T08:42:57.900Z"
   },
   {
    "duration": 30,
    "start_time": "2023-07-13T08:42:58.095Z"
   },
   {
    "duration": 34,
    "start_time": "2023-07-13T08:42:58.127Z"
   },
   {
    "duration": 6,
    "start_time": "2023-07-13T08:42:58.163Z"
   },
   {
    "duration": 271,
    "start_time": "2023-07-13T08:42:58.172Z"
   },
   {
    "duration": 77,
    "start_time": "2023-07-13T08:42:58.445Z"
   },
   {
    "duration": 25,
    "start_time": "2023-07-13T08:42:58.523Z"
   },
   {
    "duration": 74,
    "start_time": "2023-07-13T08:42:58.551Z"
   },
   {
    "duration": 32,
    "start_time": "2023-07-13T08:42:58.627Z"
   },
   {
    "duration": 11,
    "start_time": "2023-07-13T08:42:58.661Z"
   },
   {
    "duration": 55,
    "start_time": "2023-07-13T08:42:58.675Z"
   },
   {
    "duration": 641,
    "start_time": "2023-07-13T08:42:58.733Z"
   },
   {
    "duration": 1022,
    "start_time": "2023-07-13T08:42:59.377Z"
   },
   {
    "duration": 49,
    "start_time": "2023-07-13T08:43:00.401Z"
   },
   {
    "duration": 153,
    "start_time": "2023-07-13T08:43:00.453Z"
   },
   {
    "duration": 254,
    "start_time": "2023-07-13T08:43:00.608Z"
   },
   {
    "duration": 245,
    "start_time": "2023-07-13T08:43:00.864Z"
   },
   {
    "duration": 2154,
    "start_time": "2023-07-13T08:43:01.111Z"
   },
   {
    "duration": 0,
    "start_time": "2023-07-13T08:43:03.266Z"
   },
   {
    "duration": 0,
    "start_time": "2023-07-13T08:43:03.268Z"
   },
   {
    "duration": 0,
    "start_time": "2023-07-13T08:43:03.270Z"
   },
   {
    "duration": 0,
    "start_time": "2023-07-13T08:43:03.271Z"
   },
   {
    "duration": 0,
    "start_time": "2023-07-13T08:43:03.273Z"
   },
   {
    "duration": 7,
    "start_time": "2023-07-13T08:46:55.116Z"
   },
   {
    "duration": 1299,
    "start_time": "2023-07-13T08:47:00.292Z"
   },
   {
    "duration": 744,
    "start_time": "2023-07-13T08:47:01.594Z"
   },
   {
    "duration": 61,
    "start_time": "2023-07-13T08:47:02.340Z"
   },
   {
    "duration": 23,
    "start_time": "2023-07-13T08:47:02.403Z"
   },
   {
    "duration": 99,
    "start_time": "2023-07-13T08:47:02.430Z"
   },
   {
    "duration": 59,
    "start_time": "2023-07-13T08:47:02.531Z"
   },
   {
    "duration": 387,
    "start_time": "2023-07-13T08:47:02.592Z"
   },
   {
    "duration": 11,
    "start_time": "2023-07-13T08:47:02.981Z"
   },
   {
    "duration": 52,
    "start_time": "2023-07-13T08:47:02.994Z"
   },
   {
    "duration": 24,
    "start_time": "2023-07-13T08:47:03.048Z"
   },
   {
    "duration": 51,
    "start_time": "2023-07-13T08:47:03.074Z"
   },
   {
    "duration": 36,
    "start_time": "2023-07-13T08:47:03.128Z"
   },
   {
    "duration": 46,
    "start_time": "2023-07-13T08:47:03.166Z"
   },
   {
    "duration": 44,
    "start_time": "2023-07-13T08:47:03.216Z"
   },
   {
    "duration": 45,
    "start_time": "2023-07-13T08:47:03.261Z"
   },
   {
    "duration": 83,
    "start_time": "2023-07-13T08:47:03.308Z"
   },
   {
    "duration": 13,
    "start_time": "2023-07-13T08:47:03.392Z"
   },
   {
    "duration": 31,
    "start_time": "2023-07-13T08:47:03.407Z"
   },
   {
    "duration": 25,
    "start_time": "2023-07-13T08:47:03.441Z"
   },
   {
    "duration": 49,
    "start_time": "2023-07-13T08:47:03.468Z"
   },
   {
    "duration": 31,
    "start_time": "2023-07-13T08:47:03.520Z"
   },
   {
    "duration": 203,
    "start_time": "2023-07-13T08:47:03.554Z"
   },
   {
    "duration": 46,
    "start_time": "2023-07-13T08:47:03.759Z"
   },
   {
    "duration": 83,
    "start_time": "2023-07-13T08:47:03.807Z"
   },
   {
    "duration": 62,
    "start_time": "2023-07-13T08:47:03.892Z"
   },
   {
    "duration": 15,
    "start_time": "2023-07-13T08:47:03.957Z"
   },
   {
    "duration": 14,
    "start_time": "2023-07-13T08:47:03.974Z"
   },
   {
    "duration": 54,
    "start_time": "2023-07-13T08:47:03.990Z"
   },
   {
    "duration": 54,
    "start_time": "2023-07-13T08:47:04.046Z"
   },
   {
    "duration": 30,
    "start_time": "2023-07-13T08:47:04.101Z"
   },
   {
    "duration": 1056,
    "start_time": "2023-07-13T08:47:04.134Z"
   },
   {
    "duration": 405,
    "start_time": "2023-07-13T08:47:05.192Z"
   },
   {
    "duration": 19,
    "start_time": "2023-07-13T08:47:05.599Z"
   },
   {
    "duration": 288,
    "start_time": "2023-07-13T08:47:05.620Z"
   },
   {
    "duration": 9,
    "start_time": "2023-07-13T08:47:05.910Z"
   },
   {
    "duration": 59,
    "start_time": "2023-07-13T08:47:05.921Z"
   },
   {
    "duration": 36,
    "start_time": "2023-07-13T08:47:05.982Z"
   },
   {
    "duration": 98,
    "start_time": "2023-07-13T08:47:06.020Z"
   },
   {
    "duration": 14,
    "start_time": "2023-07-13T08:47:06.120Z"
   },
   {
    "duration": 231,
    "start_time": "2023-07-13T08:47:06.136Z"
   },
   {
    "duration": 5,
    "start_time": "2023-07-13T08:47:06.371Z"
   },
   {
    "duration": 16,
    "start_time": "2023-07-13T08:47:06.378Z"
   },
   {
    "duration": 217,
    "start_time": "2023-07-13T08:47:06.396Z"
   },
   {
    "duration": 25,
    "start_time": "2023-07-13T08:47:06.615Z"
   },
   {
    "duration": 51,
    "start_time": "2023-07-13T08:47:06.642Z"
   },
   {
    "duration": 20,
    "start_time": "2023-07-13T08:47:06.696Z"
   },
   {
    "duration": 229,
    "start_time": "2023-07-13T08:47:06.718Z"
   },
   {
    "duration": 39,
    "start_time": "2023-07-13T08:47:06.949Z"
   },
   {
    "duration": 46,
    "start_time": "2023-07-13T08:47:06.989Z"
   },
   {
    "duration": 18,
    "start_time": "2023-07-13T08:47:07.038Z"
   },
   {
    "duration": 81,
    "start_time": "2023-07-13T08:47:07.058Z"
   },
   {
    "duration": 3,
    "start_time": "2023-07-13T08:47:07.141Z"
   },
   {
    "duration": 14,
    "start_time": "2023-07-13T08:47:07.146Z"
   },
   {
    "duration": 592,
    "start_time": "2023-07-13T08:47:07.161Z"
   },
   {
    "duration": 952,
    "start_time": "2023-07-13T08:47:07.755Z"
   },
   {
    "duration": 46,
    "start_time": "2023-07-13T08:47:08.708Z"
   },
   {
    "duration": 60,
    "start_time": "2023-07-13T08:47:08.756Z"
   },
   {
    "duration": 10,
    "start_time": "2023-07-13T08:47:08.818Z"
   },
   {
    "duration": 18,
    "start_time": "2023-07-13T08:47:08.830Z"
   },
   {
    "duration": 37,
    "start_time": "2023-07-13T08:47:08.849Z"
   },
   {
    "duration": 36,
    "start_time": "2023-07-13T08:47:08.888Z"
   },
   {
    "duration": 25,
    "start_time": "2023-07-13T08:47:08.926Z"
   },
   {
    "duration": 22,
    "start_time": "2023-07-13T08:47:08.954Z"
   },
   {
    "duration": 25,
    "start_time": "2023-07-13T08:47:08.978Z"
   },
   {
    "duration": 23,
    "start_time": "2023-07-13T08:47:09.005Z"
   }
  ],
  "kernelspec": {
   "display_name": "Python 3 (ipykernel)",
   "language": "python",
   "name": "python3"
  },
  "language_info": {
   "codemirror_mode": {
    "name": "ipython",
    "version": 3
   },
   "file_extension": ".py",
   "mimetype": "text/x-python",
   "name": "python",
   "nbconvert_exporter": "python",
   "pygments_lexer": "ipython3",
   "version": "3.9.13"
  },
  "toc": {
   "base_numbering": 1,
   "nav_menu": {},
   "number_sections": true,
   "sideBar": true,
   "skip_h1_title": true,
   "title_cell": "Table of Contents",
   "title_sidebar": "Contents",
   "toc_cell": false,
   "toc_position": {},
   "toc_section_display": true,
   "toc_window_display": false
  }
 },
 "nbformat": 4,
 "nbformat_minor": 2
}
