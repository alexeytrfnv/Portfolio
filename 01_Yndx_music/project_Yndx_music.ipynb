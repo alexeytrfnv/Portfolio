{
 "cells": [
  {
   "attachments": {},
   "cell_type": "markdown",
   "metadata": {
    "deletable": false,
    "editable": false,
    "id": "E0vqbgi9ay0H"
   },
   "source": [
    "# Яндекс.Музыка"
   ]
  },
  {
   "cell_type": "markdown",
   "metadata": {
    "deletable": false,
    "editable": false,
    "id": "VUC88oWjTJw2"
   },
   "source": [
    "Сравнение Москвы и Петербурга окружено мифами. Например:\n",
    " * Москва — мегаполис, подчинённый жёсткому ритму рабочей недели;\n",
    " * Петербург — культурная столица, со своими вкусами.\n",
    "\n",
    "На данных Яндекс Музыки вы сравните поведение пользователей двух столиц.\n",
    "\n",
    "**Цель исследования** — проверьте три гипотезы:\n",
    "1. Активность пользователей зависит от дня недели. Причём в Москве и Петербурге это проявляется по-разному.\n",
    "2. В понедельник утром в Москве преобладают одни жанры, а в Петербурге — другие. Так же и вечером пятницы преобладают разные жанры — в зависимости от города. \n",
    "3. Москва и Петербург предпочитают разные жанры музыки. В Москве чаще слушают поп-музыку, в Петербурге — русский рэп.\n",
    "\n",
    "**Ход исследования**\n",
    "\n",
    "Данные о поведении пользователей вы получите из файла `yandex_music_project.csv`. О качестве данных ничего не известно. Поэтому перед проверкой гипотез понадобится обзор данных. \n",
    "\n",
    "Вы проверите данные на ошибки и оцените их влияние на исследование. Затем, на этапе предобработки вы поищете возможность исправить самые критичные ошибки данных.\n",
    " \n",
    "Таким образом, исследование пройдёт в три этапа:\n",
    " 1. Обзор данных.\n",
    " 2. Предобработка данных.\n",
    " 3. Проверка гипотез.\n",
    "\n"
   ]
  },
  {
   "cell_type": "markdown",
   "metadata": {
    "deletable": false,
    "editable": false,
    "id": "Ml1hmfXC_Zcs"
   },
   "source": [
    "## Обзор данных\n",
    "\n",
    "Составьте первое представление о данных Яндекс Музыки.\n",
    "\n",
    "\n"
   ]
  },
  {
   "cell_type": "markdown",
   "metadata": {
    "deletable": false,
    "editable": false,
    "id": "57eAOGIz_Zcs",
    "tags": [
     "start_task"
    ]
   },
   "source": [
    "**Задание 1**\n",
    "\n",
    "Основной инструмент аналитика — `pandas`. Импортируйте эту библиотеку."
   ]
  },
  {
   "cell_type": "code",
   "execution_count": null,
   "metadata": {
    "deletable": false,
    "id": "AXN7PHPN_Zcs"
   },
   "outputs": [],
   "source": [
    "import pandas as pd # импорт библиотеки pandas"
   ]
  },
  {
   "cell_type": "markdown",
   "metadata": {
    "deletable": false,
    "editable": false,
    "id": "SG23P8tt_Zcs",
    "tags": [
     "start_task"
    ]
   },
   "source": [
    "**Задание 2**\n",
    "\n",
    "Прочитайте файл `yandex_music_project.csv` из папки `/datasets` и сохраните его в переменной `df`:"
   ]
  },
  {
   "cell_type": "code",
   "execution_count": null,
   "metadata": {
    "deletable": false,
    "id": "fFVu7vqh_Zct"
   },
   "outputs": [],
   "source": [
    "try:\n",
    "    df = pd.read_csv('/datasets/yandex_music_project.csv') # чтение файла с данными и сохранение в df\n",
    "except:\n",
    "    df = pd.read_csv('yandex_music_project.csv')"
   ]
  },
  {
   "cell_type": "markdown",
   "metadata": {
    "deletable": false,
    "editable": false,
    "id": "rDoOMd3uTqnZ",
    "tags": [
     "start_task"
    ]
   },
   "source": [
    "**Задание 3**\n",
    "\n",
    "\n",
    "Выведите на экран первые десять строк таблицы:"
   ]
  },
  {
   "cell_type": "code",
   "execution_count": null,
   "metadata": {
    "deletable": false,
    "id": "oWTVX3gW_Zct"
   },
   "outputs": [],
   "source": [
    "df.head(10) # получение первых 10 строк таблицы df"
   ]
  },
  {
   "cell_type": "markdown",
   "metadata": {
    "deletable": false,
    "editable": false,
    "id": "EO73Kwic_Zct",
    "tags": [
     "start_task"
    ]
   },
   "source": [
    "**Задание 4**\n",
    "\n",
    "\n",
    "Одной командой получить общую информацию о таблице c помощью метода `info()`:"
   ]
  },
  {
   "cell_type": "code",
   "execution_count": null,
   "metadata": {
    "deletable": false,
    "id": "DSf2kIb-_Zct"
   },
   "outputs": [],
   "source": [
    "df.info() # получение общей информации о данных в таблице df"
   ]
  },
  {
   "cell_type": "markdown",
   "metadata": {
    "deletable": false,
    "editable": false,
    "id": "TaQ2Iwbr_Zct"
   },
   "source": [
    "Итак, в таблице семь столбцов. Тип данных во всех столбцах — `object`.\n",
    "\n",
    "Согласно документации к данным:\n",
    "* `userID` — идентификатор пользователя;\n",
    "* `Track` — название трека;  \n",
    "* `artist` — имя исполнителя;\n",
    "* `genre` — название жанра;\n",
    "* `City` — город пользователя;\n",
    "* `time` — время начала прослушивания;\n",
    "* `Day` — день недели.\n",
    "\n",
    "Количество значений в столбцах различается. Значит, в данных есть пропущенные значения."
   ]
  },
  {
   "cell_type": "markdown",
   "metadata": {
    "deletable": false,
    "editable": false,
    "id": "rAfziTBDmf2h",
    "tags": [
     "start_task"
    ]
   },
   "source": [
    "**Задание 5**\n",
    "\n",
    "**Вопрос со свободной формой ответа**\n",
    "\n",
    "В названиях колонок видны нарушения стиля:\n",
    "* Строчные буквы сочетаются с прописными.\n",
    "* Встречаются пробелы.\n",
    "\n",
    "Какое третье нарушение?"
   ]
  },
  {
   "cell_type": "code",
   "execution_count": null,
   "metadata": {
    "id": "jD8EXEIvmf2h"
   },
   "outputs": [],
   "source": [
    "# Отсутствует нижнее подчеркивание в userID"
   ]
  },
  {
   "cell_type": "markdown",
   "metadata": {
    "deletable": false,
    "editable": false,
    "id": "MCB6-dXG_Zct"
   },
   "source": [
    "**Выводы**\n",
    "\n",
    "В каждой строке таблицы — данные о прослушанном треке. Часть колонок описывает саму композицию: название, исполнителя и жанр. Остальные данные рассказывают о пользователе: из какого он города, когда он слушал музыку. \n",
    "\n",
    "Предварительно можно утверждать, что данных достаточно для проверки гипотез. Но встречаются пропуски в данных, а в названиях колонок — расхождения с хорошим стилем.\n",
    "\n",
    "Чтобы двигаться дальше, нужно устранить проблемы в данных."
   ]
  },
  {
   "cell_type": "markdown",
   "metadata": {
    "deletable": false,
    "editable": false,
    "id": "SjYF6Ub9_Zct"
   },
   "source": [
    "## Предобработка данных\n",
    "Исправьте стиль в заголовках столбцов, исключите пропуски. Затем проверьте данные на дубликаты."
   ]
  },
  {
   "cell_type": "markdown",
   "metadata": {
    "deletable": false,
    "editable": false,
    "id": "dIaKXr29_Zct",
    "tags": [
     "start_task"
    ]
   },
   "source": [
    "### Стиль заголовков\n",
    "\n",
    "**Задание 6**\n",
    "\n",
    "Выведите на экран названия столбцов:"
   ]
  },
  {
   "cell_type": "code",
   "execution_count": null,
   "metadata": {
    "deletable": false,
    "id": "oKOTdF_Q_Zct"
   },
   "outputs": [],
   "source": [
    "df.columns # перечень названий столбцов таблицы df"
   ]
  },
  {
   "cell_type": "markdown",
   "metadata": {
    "deletable": false,
    "editable": false,
    "id": "zj5534cv_Zct",
    "tags": [
     "start_task"
    ]
   },
   "source": [
    "**Задание 7**\n",
    "\n",
    "\n",
    "Приведите названия в соответствие с хорошим стилем:\n",
    "* несколько слов в названии запишите в «змеином_регистре»,\n",
    "* все символы сделайте строчными,\n",
    "* устраните пробелы.\n",
    "\n",
    "Для этого переименуйте колонки так:\n",
    "* `'  userID'` → `'user_id'`;\n",
    "* `'Track'` → `'track'`;\n",
    "* `'  City  '` → `'city'`;\n",
    "* `'Day'` → `'day'`."
   ]
  },
  {
   "cell_type": "code",
   "execution_count": null,
   "metadata": {
    "deletable": false,
    "id": "ISlFqs5y_Zct"
   },
   "outputs": [],
   "source": [
    "df = df.rename(columns={'  userID': 'user_id', 'Track': 'track', '  City  ': 'city', 'Day': 'day'}) # переименование столбцов"
   ]
  },
  {
   "cell_type": "markdown",
   "metadata": {
    "deletable": false,
    "editable": false,
    "id": "1dqbh00J_Zct",
    "tags": [
     "start_task"
    ]
   },
   "source": [
    "**Задание 8**\n",
    "\n",
    "\n",
    "Проверьте результат. Для этого ещё раз выведите на экран названия столбцов:"
   ]
  },
  {
   "cell_type": "code",
   "execution_count": null,
   "metadata": {
    "deletable": false,
    "id": "d4NOAmTW_Zct"
   },
   "outputs": [],
   "source": [
    "df.columns # проверка результатов - перечень названий столбцов"
   ]
  },
  {
   "cell_type": "markdown",
   "metadata": {
    "deletable": false,
    "editable": false,
    "id": "5ISfbcfY_Zct",
    "tags": [
     "start_task"
    ]
   },
   "source": [
    "### Пропуски значений\n",
    "\n",
    "**Задание 9**\n",
    "\n",
    "Сначала посчитайте, сколько в таблице пропущенных значений. Для этого достаточно двух методов `pandas`:"
   ]
  },
  {
   "cell_type": "code",
   "execution_count": null,
   "metadata": {
    "deletable": false,
    "id": "RskX29qr_Zct"
   },
   "outputs": [],
   "source": [
    "df.isna().sum() # подсчёт пропусков"
   ]
  },
  {
   "cell_type": "markdown",
   "metadata": {
    "deletable": false,
    "editable": false,
    "id": "qubhgnlO_Zct"
   },
   "source": [
    "Не все пропущенные значения влияют на исследование. Так в `track` и `artist` пропуски не важны для вашей работы. Достаточно заменить их явными обозначениями.\n",
    "\n",
    "Но пропуски в `genre` могут помешать сравнению музыкальных вкусов в Москве и Санкт-Петербурге. На практике было бы правильно установить причину пропусков и восстановить данные. Такой возможности нет в учебном проекте. Придётся:\n",
    "* заполнить и эти пропуски явными обозначениями;\n",
    "* оценить, насколько они повредят расчётам. "
   ]
  },
  {
   "cell_type": "markdown",
   "metadata": {
    "deletable": false,
    "editable": false,
    "id": "fSv2laPA_Zct",
    "tags": [
     "start_task"
    ]
   },
   "source": [
    "**Задание 10**\n",
    "\n",
    "Замените пропущенные значения в столбцах `track`, `artist` и `genre` на строку `'unknown'`. Для этого создайте список `columns_to_replace`, переберите его элементы циклом `for` и для каждого столбца выполните замену пропущенных значений:"
   ]
  },
  {
   "cell_type": "code",
   "execution_count": null,
   "metadata": {
    "deletable": false,
    "id": "KplB5qWs_Zct"
   },
   "outputs": [],
   "source": [
    "columns_to_replace = ['track', 'artist', 'genre']\n",
    "for column in columns_to_replace:\n",
    "    df[column] = df[column].fillna('unknown') # перебор названий столбцов в цикле и замена пропущенных значений на 'unknown'"
   ]
  },
  {
   "cell_type": "markdown",
   "metadata": {
    "deletable": false,
    "editable": false,
    "id": "Ilsm-MZo_Zct",
    "tags": [
     "start_task"
    ]
   },
   "source": [
    "**Задание 11**\n",
    "\n",
    "Убедитесь, что в таблице не осталось пропусков. Для этого ещё раз посчитайте пропущенные значения."
   ]
  },
  {
   "cell_type": "code",
   "execution_count": null,
   "metadata": {
    "deletable": false,
    "id": "Tq4nYRX4_Zct"
   },
   "outputs": [],
   "source": [
    "df.isna().sum() # подсчёт пропусков"
   ]
  },
  {
   "cell_type": "markdown",
   "metadata": {
    "deletable": false,
    "editable": false,
    "id": "BWKRtBJ3_Zct",
    "tags": [
     "start_task"
    ]
   },
   "source": [
    "### Дубликаты\n",
    "\n",
    "**Задание 12**\n",
    "\n",
    "Посчитайте явные дубликаты в таблице одной командой:"
   ]
  },
  {
   "cell_type": "code",
   "execution_count": null,
   "metadata": {
    "deletable": false,
    "id": "36eES_S0_Zct"
   },
   "outputs": [],
   "source": [
    "df.duplicated().sum() # подсчёт явных дубликатов"
   ]
  },
  {
   "cell_type": "markdown",
   "metadata": {
    "deletable": false,
    "editable": false,
    "id": "Ot25h6XR_Zct",
    "tags": [
     "start_task"
    ]
   },
   "source": [
    "**Задание 13**\n",
    "\n",
    "Вызовите специальный метод `pandas`, чтобы удалить явные дубликаты:"
   ]
  },
  {
   "cell_type": "code",
   "execution_count": null,
   "metadata": {
    "deletable": false,
    "id": "exFHq6tt_Zct"
   },
   "outputs": [],
   "source": [
    "df = df.drop_duplicates() # удаление явных дубликатов"
   ]
  },
  {
   "cell_type": "markdown",
   "metadata": {
    "deletable": false,
    "editable": false,
    "id": "Im2YwBEG_Zct",
    "tags": [
     "start_task"
    ]
   },
   "source": [
    "**Задание 14**\n",
    "\n",
    "Ещё раз посчитайте явные дубликаты в таблице — убедитесь, что полностью от них избавились:"
   ]
  },
  {
   "cell_type": "code",
   "execution_count": null,
   "metadata": {
    "deletable": false,
    "id": "-8PuNWQ0_Zct"
   },
   "outputs": [],
   "source": [
    "df.duplicated().sum() # проверка на отсутствие дубликатов"
   ]
  },
  {
   "cell_type": "markdown",
   "metadata": {
    "deletable": false,
    "editable": false,
    "id": "QlFBsxAr_Zct"
   },
   "source": [
    "Теперь избавьтесь от неявных дубликатов в колонке `genre`. Например, название одного и того же жанра может быть записано немного по-разному. Такие ошибки тоже повлияют на результат исследования."
   ]
  },
  {
   "cell_type": "markdown",
   "metadata": {
    "deletable": false,
    "editable": false,
    "id": "eSjWwsOh_Zct",
    "tags": [
     "start_task"
    ]
   },
   "source": [
    "**Задание 15**\n",
    "\n",
    "Выведите на экран список уникальных названий жанров, отсортированный в алфавитном порядке. Для этого:\n",
    "1. извлеките нужный столбец датафрейма; \n",
    "2. примените к нему метод сортировки;\n",
    "3. для отсортированного столбца вызовите метод, который вернёт уникальные значения из столбца."
   ]
  },
  {
   "cell_type": "code",
   "execution_count": null,
   "metadata": {
    "deletable": false,
    "id": "JIUcqzZN_Zct"
   },
   "outputs": [],
   "source": [
    "df['genre'].sort_values().unique() # Просмотр уникальных названий жанров"
   ]
  },
  {
   "cell_type": "markdown",
   "metadata": {
    "deletable": false,
    "editable": false,
    "id": "qej-Qmuo_Zct",
    "tags": [
     "start_task"
    ]
   },
   "source": [
    "**Задание 16**\n",
    "\n",
    "Просмотрите список и найдите неявные дубликаты названия `hiphop`. Это могут быть названия с ошибками или альтернативные названия того же жанра.\n",
    "\n",
    "Вы увидите следующие неявные дубликаты:\n",
    "* *hip*,\n",
    "* *hop*,\n",
    "* *hip-hop*.\n",
    "\n",
    "Чтобы очистить от них таблицу используйте метод `replace()` с двумя аргументами: списком строк-дубликатов (включащий *hip*, *hop* и *hip-hop*) и строкой с правильным значением. Вам нужно исправить колонку `genre` в таблице `df`: заменить каждое значение из списка дубликатов на верное. Вместо `hip`, `hop` и `hip-hop` в таблице должно быть значение `hiphop`:"
   ]
  },
  {
   "cell_type": "code",
   "execution_count": null,
   "metadata": {
    "deletable": false,
    "id": "ErNDkmns_Zct"
   },
   "outputs": [],
   "source": [
    "df = df.replace('hip', 'hiphop')\n",
    "df = df.replace('hop', 'hiphop')\n",
    "df = df.replace('hip-hop', 'hiphop') # Устранение неявных дубликатов"
   ]
  },
  {
   "cell_type": "markdown",
   "metadata": {
    "deletable": false,
    "editable": false,
    "id": "zQKF16_RG15m",
    "tags": [
     "start_task"
    ]
   },
   "source": [
    "**Задание 17**\n",
    "\n",
    "Проверьте, что заменили неправильные названия:\n",
    "\n",
    "*   hip,\n",
    "*   hop,\n",
    "*   hip-hop.\n",
    "\n",
    "Выведите отсортированный список уникальных значений столбца `genre`:"
   ]
  },
  {
   "cell_type": "code",
   "execution_count": null,
   "metadata": {
    "deletable": false,
    "id": "wvixALnFG15m"
   },
   "outputs": [],
   "source": [
    "df['genre'].sort_values().unique() # Проверка на неявные дубликаты"
   ]
  },
  {
   "cell_type": "markdown",
   "metadata": {
    "deletable": false,
    "editable": false,
    "id": "jz6a9-7HQUDd"
   },
   "source": [
    "**Выводы**\n",
    "\n",
    "Предобработка обнаружила три проблемы в данных:\n",
    "\n",
    "- нарушения в стиле заголовков,\n",
    "- пропущенные значения,\n",
    "- дубликаты — явные и неявные.\n",
    "\n",
    "Вы исправили заголовки, чтобы упростить работу с таблицей. Без дубликатов исследование станет более точным.\n",
    "\n",
    "Пропущенные значения вы заменили на `'unknown'`. Ещё предстоит увидеть, не повредят ли исследованию пропуски в колонке `genre`.\n",
    "\n",
    "Теперь можно перейти к проверке гипотез. "
   ]
  },
  {
   "cell_type": "markdown",
   "metadata": {
    "deletable": false,
    "editable": false,
    "id": "WttZHXH0SqKk"
   },
   "source": [
    "## Проверка гипотез"
   ]
  },
  {
   "cell_type": "markdown",
   "metadata": {
    "deletable": false,
    "editable": false,
    "id": "Im936VVi_Zcu"
   },
   "source": [
    "### Сравнение поведения пользователей двух столиц"
   ]
  },
  {
   "cell_type": "markdown",
   "metadata": {
    "deletable": false,
    "editable": false,
    "id": "nwt_MuaL_Zcu"
   },
   "source": [
    "Первая гипотеза утверждает, что пользователи по-разному слушают музыку в Москве и Санкт-Петербурге. Проверьте это предположение по данным о трёх днях недели — понедельнике, среде и пятнице. Для этого:\n",
    "\n",
    "* Разделите пользователей Москвы и Санкт-Петербурга.\n",
    "* Сравните, сколько треков послушала каждая группа пользователей в понедельник, среду и пятницу.\n"
   ]
  },
  {
   "cell_type": "markdown",
   "metadata": {
    "deletable": false,
    "editable": false,
    "id": "8Dw_YMmT_Zcu",
    "tags": [
     "start_task"
    ]
   },
   "source": [
    "**Задание 18**\n",
    "\n",
    "Для тренировки сначала выполните каждый из расчётов по отдельности. \n",
    "\n",
    "Оцените активность пользователей в каждом городе. Сгруппируйте данные по городу и посчитайте прослушивания в каждой группе.\n",
    "\n"
   ]
  },
  {
   "cell_type": "code",
   "execution_count": null,
   "metadata": {
    "deletable": false,
    "id": "0_Qs96oh_Zcu"
   },
   "outputs": [],
   "source": [
    "df.groupby('city')['time'].count() # Подсчёт прослушиваний в каждом городе"
   ]
  },
  {
   "cell_type": "markdown",
   "metadata": {
    "deletable": false,
    "editable": false,
    "id": "dzli3w8o_Zcu",
    "tags": [
     "start_task"
    ]
   },
   "source": [
    "В Москве прослушиваний больше, чем в Петербурге. Из этого не следует, что московские пользователи чаще слушают музыку. Просто самих пользователей в Москве больше.\n",
    "\n",
    "**Задание 19**\n",
    "\n",
    "Теперь сгруппируйте данные по дню недели и посчитайте прослушивания в понедельник, среду и пятницу. Учтите, что в данных есть информация о прослушиваниях только за эти дни.\n"
   ]
  },
  {
   "cell_type": "code",
   "execution_count": null,
   "metadata": {
    "deletable": false,
    "id": "uZMKjiJz_Zcu"
   },
   "outputs": [],
   "source": [
    "df.groupby('day')['time'].count() # Подсчёт прослушиваний в каждый из трёх дней"
   ]
  },
  {
   "cell_type": "markdown",
   "metadata": {
    "deletable": false,
    "editable": false,
    "id": "cC2tNrlL_Zcu"
   },
   "source": [
    "В среднем пользователи из двух городов менее активны по средам. Но картина может измениться, если рассмотреть каждый город в отдельности."
   ]
  },
  {
   "cell_type": "markdown",
   "metadata": {
    "deletable": false,
    "editable": false,
    "id": "POzs8bGa_Zcu",
    "tags": [
     "start_task"
    ]
   },
   "source": [
    "**Задание 20**\n",
    "\n",
    "\n",
    "Вы видели, как работает группировка по городу и по дням недели. Теперь напишите функцию, которая объединит два эти расчёта.\n",
    "\n",
    "Создайте функцию `number_tracks()`, которая посчитает прослушивания для заданного дня и города. Ей понадобятся два параметра:\n",
    "* день недели,\n",
    "* название города.\n",
    "\n",
    "В функции сохраните в переменную строки исходной таблицы, у которых значение:\n",
    "  * в колонке `day` равно параметру `day`,\n",
    "  * в колонке `city` равно параметру `city`.\n",
    "\n",
    "Для этого примените последовательную фильтрацию с логической индексацией (или сложные логические выражения в одну строку, если вы уже знакомы с ними).\n",
    "\n",
    "Затем посчитайте значения в столбце `user_id` получившейся таблицы. Результат сохраните в новую переменную. Верните эту переменную из функции."
   ]
  },
  {
   "cell_type": "code",
   "execution_count": null,
   "metadata": {
    "deletable": false,
    "id": "Nz3GdQB1_Zcu"
   },
   "outputs": [],
   "source": [
    "def number_tracks(day, city): # <создание функции number_tracks()>\n",
    "\n",
    "# Объявляется функция с двумя параметрами: day, city.\n",
    "    track_list = df[df['day'] == day]\n",
    "    track_list = track_list[track_list['city'] == city]\n",
    "\n",
    "    track_list_count = track_list['user_id'].count() # В переменной track_list_count сохраняется число значений столбца 'user_id',\n",
    "# рассчитанное методом count() для таблицы track_list.\n",
    "\n",
    "    return track_list_count # Функция возвращает число - значение track_list_count.\n"
   ]
  },
  {
   "cell_type": "markdown",
   "metadata": {
    "deletable": false,
    "editable": false,
    "id": "ytf7xFrFJQ2r",
    "tags": [
     "start_task"
    ]
   },
   "source": [
    "**Задание 21**\n",
    "\n",
    "Вызовите `number_tracks()` шесть раз, меняя значение параметров — так, чтобы получить данные для каждого города в каждый из трёх дней."
   ]
  },
  {
   "cell_type": "code",
   "execution_count": null,
   "metadata": {
    "deletable": false,
    "id": "rJcRATNQ_Zcu"
   },
   "outputs": [],
   "source": [
    "number_tracks('Monday', 'Moscow') # количество прослушиваний в Москве по понедельникам"
   ]
  },
  {
   "cell_type": "code",
   "execution_count": null,
   "metadata": {
    "deletable": false,
    "id": "hq_ncZ5T_Zcu"
   },
   "outputs": [],
   "source": [
    "number_tracks('Monday', 'Saint-Petersburg') # количество прослушиваний в Санкт-Петербурге по понедельникам"
   ]
  },
  {
   "cell_type": "code",
   "execution_count": null,
   "metadata": {
    "deletable": false,
    "id": "_NTy2VPU_Zcu"
   },
   "outputs": [],
   "source": [
    "number_tracks('Wednesday', 'Moscow') # количество прослушиваний в Москве по средам"
   ]
  },
  {
   "cell_type": "code",
   "execution_count": null,
   "metadata": {
    "deletable": false,
    "id": "j2y3TAwo_Zcu"
   },
   "outputs": [],
   "source": [
    "number_tracks('Wednesday', 'Saint-Petersburg') # количество прослушиваний в Санкт-Петербурге по средам"
   ]
  },
  {
   "cell_type": "code",
   "execution_count": null,
   "metadata": {
    "deletable": false,
    "id": "vYDw5u_K_Zcu"
   },
   "outputs": [],
   "source": [
    "number_tracks('Friday', 'Moscow') # количество прослушиваний в Москве по пятницам"
   ]
  },
  {
   "cell_type": "code",
   "execution_count": null,
   "metadata": {
    "deletable": false,
    "id": "8_yzFtW3_Zcu"
   },
   "outputs": [],
   "source": [
    "number_tracks('Friday', 'Saint-Petersburg') # количество прослушиваний в Санкт-Петербурге по пятницам"
   ]
  },
  {
   "cell_type": "markdown",
   "metadata": {
    "deletable": false,
    "editable": false,
    "id": "7QXffbO-_Zcu",
    "tags": [
     "start_task"
    ]
   },
   "source": [
    "**Задание 22**\n",
    "\n",
    "Создайте c помощью конструктора `pd.DataFrame` таблицу, где\n",
    "* названия колонок — `['city', 'monday', 'wednesday', 'friday']`;\n",
    "* данные — результаты, которые вы получили с помощью `number_tracks`."
   ]
  },
  {
   "cell_type": "code",
   "execution_count": null,
   "metadata": {
    "deletable": false,
    "id": "APAcLpOr_Zcu"
   },
   "outputs": [],
   "source": [
    "info = pd.DataFrame(data=[['Москва', 15740, 11056, 15945], ['Санкт-Петербург', 5614, 7003, 5895]], columns=['city', 'monday', 'wednesday', 'friday'])\n",
    "info # Таблица с результатами"
   ]
  },
  {
   "cell_type": "markdown",
   "metadata": {
    "deletable": false,
    "editable": false,
    "id": "-EgPIHYu_Zcu"
   },
   "source": [
    "**Выводы**\n",
    "\n",
    "Данные показывают разницу поведения пользователей:\n",
    "\n",
    "- В Москве пик прослушиваний приходится на понедельник и пятницу, а в среду заметен спад.\n",
    "- В Петербурге, наоборот, больше слушают музыку по средам. Активность в понедельник и пятницу здесь почти в равной мере уступает среде.\n",
    "\n",
    "Значит, данные говорят в пользу первой гипотезы."
   ]
  },
  {
   "cell_type": "markdown",
   "metadata": {
    "deletable": false,
    "editable": false,
    "id": "atZAxtq4_Zcu"
   },
   "source": [
    "### Музыка в начале и в конце недели"
   ]
  },
  {
   "cell_type": "markdown",
   "metadata": {
    "deletable": false,
    "editable": false,
    "id": "eXrQqXFH_Zcu"
   },
   "source": [
    "Согласно второй гипотезе, утром в понедельник в Москве преобладают одни жанры, а в Петербурге — другие. Так же и вечером пятницы преобладают разные жанры — в зависимости от города."
   ]
  },
  {
   "cell_type": "markdown",
   "metadata": {
    "deletable": false,
    "editable": false,
    "id": "S8UcW6Hw_Zcu",
    "tags": [
     "start_task"
    ]
   },
   "source": [
    "**Задание 23**\n",
    "\n",
    "Сохраните таблицы с данными в две переменные:\n",
    "* по Москве — в `moscow_general`;\n",
    "* по Санкт-Петербургу — в `spb_general`."
   ]
  },
  {
   "cell_type": "code",
   "execution_count": null,
   "metadata": {
    "deletable": false,
    "id": "qeaFfM_P_Zcu"
   },
   "outputs": [],
   "source": [
    "moscow_general = df[df['city'] == 'Moscow'] # получение таблицы moscow_general из тех строк таблицы df, \n",
    "# для которых значение в столбце 'city' равно 'Moscow'\n"
   ]
  },
  {
   "cell_type": "code",
   "execution_count": null,
   "metadata": {
    "deletable": false,
    "id": "ORaVRKto_Zcu"
   },
   "outputs": [],
   "source": [
    "spb_general = df[df['city'] == 'Saint-Petersburg'] # получение таблицы spb_general из тех строк таблицы df,\n",
    "# для которых значение в столбце 'city' равно 'Saint-Petersburg'\n"
   ]
  },
  {
   "cell_type": "markdown",
   "metadata": {
    "deletable": false,
    "editable": false,
    "id": "MEJV-CX2_Zcu",
    "tags": [
     "start_task"
    ]
   },
   "source": [
    "**Задание 24**\n",
    "\n",
    "Создайте функцию `genre_weekday()` с четырьмя параметрами:\n",
    "* таблица (датафрейм) с данными,\n",
    "* день недели,\n",
    "* начальная временная метка в формате 'hh:mm', \n",
    "* последняя временная метка в формате 'hh:mm'.\n",
    "\n",
    "Функция должна вернуть информацию о топ-10 жанров тех треков, которые прослушивали в указанный день, в промежутке между двумя отметками времени."
   ]
  },
  {
   "cell_type": "code",
   "execution_count": null,
   "metadata": {
    "deletable": false,
    "id": "laJT9BYl_Zcu"
   },
   "outputs": [],
   "source": [
    "def genre_weekday(df, day, time1, time2):\n",
    "\n",
    "    # оставляем в genre_df только те строки df, у которых день равен day\n",
    "    genre_df = df[df['day'] == day]\n",
    "\n",
    "    # оставляем в genre_df только те строки genre_df, у которых время меньше time2\n",
    "    genre_df = genre_df[genre_df['time'] < time2]\n",
    "\n",
    "    # оставляем в genre_df только те строки genre_df, у которых время больше time1\n",
    "    genre_df = genre_df[genre_df['time'] > time1]\n",
    "\n",
    "    # сгруппируем отфильтрованный датафрейм по столбцу с названиями жанров, возьмём столбец genre и посчитаем кол-во строк для каждого жанра методом count()\n",
    "    genre_df_grouped = genre_df.groupby('genre')['genre'].count()\n",
    "\n",
    "    # отсортируем результат по убыванию (чтобы в начале Series оказались самые популярные жанры)\n",
    "    genre_df_sorted = genre_df_grouped.sort_values(ascending=False)\n",
    "    \n",
    "    # вернём Series с 10 самыми популярными жанрами в указанный отрезок времени заданного дня\n",
    "    return genre_df_sorted[:10]"
   ]
  },
  {
   "cell_type": "markdown",
   "metadata": {
    "deletable": false,
    "editable": false,
    "id": "la2s2_PF_Zcu",
    "tags": [
     "start_task"
    ]
   },
   "source": [
    "**Задание 25**\n",
    "\n",
    "\n",
    "Cравните результаты функции `genre_weekday()` для Москвы и Санкт-Петербурга в понедельник утром (с 7:00 до 11:00) и в пятницу вечером (с 17:00 до 23:00):"
   ]
  },
  {
   "cell_type": "code",
   "execution_count": null,
   "metadata": {
    "deletable": false,
    "id": "yz7itPUQ_Zcu"
   },
   "outputs": [],
   "source": [
    "genre_weekday(moscow_general, 'Monday', '07:00', '11:00') # вызов функции для утра понедельника в Москве (вместо df — таблица moscow_general)\n",
    "# объекты, хранящие время, являются строками и сравниваются как строки"
   ]
  },
  {
   "cell_type": "code",
   "execution_count": null,
   "metadata": {
    "deletable": false,
    "id": "kwUcHPdy_Zcu"
   },
   "outputs": [],
   "source": [
    "genre_weekday(spb_general, 'Monday', '07:00', '11:00') # вызов функции для утра понедельника в Петербурге (вместо df — таблица spb_general)"
   ]
  },
  {
   "cell_type": "code",
   "execution_count": null,
   "metadata": {
    "deletable": false,
    "id": "EzXVRE1o_Zcu"
   },
   "outputs": [],
   "source": [
    "genre_weekday(moscow_general, 'Friday', '17:00', '23:00') # вызов функции для вечера пятницы в Москве"
   ]
  },
  {
   "cell_type": "code",
   "execution_count": null,
   "metadata": {
    "deletable": false,
    "id": "JZaEKu5v_Zcu"
   },
   "outputs": [],
   "source": [
    "genre_weekday(spb_general, 'Friday', '17:00', '23:00') # вызов функции для вечера пятницы в Петербурге"
   ]
  },
  {
   "cell_type": "markdown",
   "metadata": {
    "deletable": false,
    "editable": false,
    "id": "wrCe4MNX_Zcu"
   },
   "source": [
    "**Выводы**\n",
    "\n",
    "Если сравнить топ-10 жанров в понедельник утром, можно сделать такие выводы:\n",
    "\n",
    "1. В Москве и Петербурге слушают похожую музыку. Единственное отличие — в московский рейтинг вошёл жанр “world”, а в петербургский — джаз и классика.\n",
    "\n",
    "2. В Москве пропущенных значений оказалось так много, что значение `'unknown'` заняло десятое место среди самых популярных жанров. Значит, пропущенные значения занимают существенную долю в данных и угрожают достоверности исследования.\n",
    "\n",
    "Вечер пятницы не меняет эту картину. Некоторые жанры поднимаются немного выше, другие спускаются, но в целом топ-10 остаётся тем же самым.\n",
    "\n",
    "Таким образом, вторая гипотеза подтвердилась лишь частично:\n",
    "* Пользователи слушают похожую музыку в начале недели и в конце.\n",
    "* Разница между Москвой и Петербургом не слишком выражена. В Москве чаще слушают русскую популярную музыку, в Петербурге — джаз.\n",
    "\n",
    "Однако пропуски в данных ставят под сомнение этот результат. В Москве их так много, что рейтинг топ-10 мог бы выглядеть иначе, если бы не утерянные  данные о жанрах."
   ]
  },
  {
   "cell_type": "markdown",
   "metadata": {
    "deletable": false,
    "editable": false,
    "id": "JolODAqr_Zcu"
   },
   "source": [
    "### Жанровые предпочтения в Москве и Петербурге\n",
    "\n",
    "Гипотеза: Петербург — столица рэпа, музыку этого жанра там слушают чаще, чем в Москве.  А Москва — город контрастов, в котором, тем не менее, преобладает поп-музыка."
   ]
  },
  {
   "cell_type": "markdown",
   "metadata": {
    "deletable": false,
    "editable": false,
    "id": "DlegSvaT_Zcu",
    "tags": [
     "start_task"
    ]
   },
   "source": [
    "**Задание 26**\n",
    "\n",
    "Сгруппируйте таблицу `moscow_general` по жанру и посчитайте прослушивания треков каждого жанра методом `count()`. Затем отсортируйте результат в порядке убывания и сохраните его в таблице `moscow_genres`."
   ]
  },
  {
   "cell_type": "code",
   "execution_count": null,
   "metadata": {
    "deletable": false,
    "id": "r19lIPke_Zcu"
   },
   "outputs": [],
   "source": [
    "moscow_genres = moscow_general.groupby('genre')['genre'].count().sort_values(ascending=False) # одной строкой: группировка таблицы moscow_general по столбцу 'genre', \n",
    "# подсчёт числа значений 'genre' в этой группировке методом count(), \n",
    "# сортировка получившегося Series в порядке убывания и сохранение в moscow_genres"
   ]
  },
  {
   "cell_type": "markdown",
   "metadata": {
    "deletable": false,
    "editable": false,
    "id": "6kMuomxTiIr8",
    "tags": [
     "start_task"
    ]
   },
   "source": [
    "**Задание 27**\n",
    "\n",
    "Выведите на экран первые десять строк `moscow_genres`:"
   ]
  },
  {
   "cell_type": "code",
   "execution_count": null,
   "metadata": {
    "deletable": false,
    "id": "WhCSooF8_Zcv"
   },
   "outputs": [],
   "source": [
    "moscow_genres.head(10) # просмотр первых 10 строк moscow_genres"
   ]
  },
  {
   "cell_type": "markdown",
   "metadata": {
    "deletable": false,
    "editable": false,
    "id": "cnPG2vnN_Zcv",
    "tags": [
     "start_task"
    ]
   },
   "source": [
    "**Задание 28**\n",
    "\n",
    "\n",
    "Теперь повторите то же и для Петербурга.\n",
    "\n",
    "Сгруппируйте таблицу `spb_general` по жанру. Посчитайте прослушивания треков каждого жанра. Результат отсортируйте в порядке убывания и сохраните в таблице `spb_genres`:\n"
   ]
  },
  {
   "cell_type": "code",
   "execution_count": null,
   "metadata": {
    "deletable": false,
    "id": "gluLIpE7_Zcv"
   },
   "outputs": [],
   "source": [
    "spb_genres = spb_general.groupby('genre')['genre'].count().sort_values(ascending=False) # одной строкой: группировка таблицы spb_general по столбцу 'genre', \n",
    "# подсчёт числа значений 'genre' в этой группировке методом count(), \n",
    "# сортировка получившегося Series в порядке убывания и сохранение в spb_genres"
   ]
  },
  {
   "cell_type": "markdown",
   "metadata": {
    "deletable": false,
    "editable": false,
    "id": "5Doha_ODgyQ8",
    "tags": [
     "start_task"
    ]
   },
   "source": [
    "**Задание 29**\n",
    "\n",
    "Выведите на экран первые десять строк `spb_genres`:"
   ]
  },
  {
   "cell_type": "code",
   "execution_count": null,
   "metadata": {
    "deletable": false,
    "id": "uaGJHjVU_Zcv"
   },
   "outputs": [],
   "source": [
    "spb_genres.head(10) # просмотр первых 10 строк spb_genres"
   ]
  },
  {
   "attachments": {},
   "cell_type": "markdown",
   "metadata": {
    "deletable": false,
    "editable": false,
    "id": "RY51YJYu_Zcv"
   },
   "source": [
    "**Выводы:**\n",
    "\n",
    "Гипотеза частично подтвердилась:\n",
    "* Поп-музыка — самый популярный жанр в Москве, как и предполагала гипотеза. Более того, в топ-10 жанров встречается близкий жанр — русская популярная музыка.\n",
    "* Вопреки ожиданиям, рэп одинаково популярен в Москве и Петербурге. "
   ]
  },
  {
   "cell_type": "markdown",
   "metadata": {
    "deletable": false,
    "editable": false,
    "id": "ykKQ0N65_Zcv"
   },
   "source": [
    "## Итоги исследования"
   ]
  },
  {
   "cell_type": "markdown",
   "metadata": {
    "deletable": false,
    "editable": false,
    "id": "tjUwbHb3_Zcv"
   },
   "source": [
    "Вы проверили три гипотезы и установили:\n",
    "\n",
    "1. День недели по-разному влияет на активность пользователей в Москве и Петербурге. \n",
    "\n",
    "Первая гипотеза полностью подтвердилась.\n",
    "\n",
    "2. Музыкальные предпочтения не сильно меняются в течение недели — будь то Москва или Петербург. Небольшие различия заметны в начале недели, по понедельникам:\n",
    "* в Москве слушают музыку жанра “world”,\n",
    "* в Петербурге — джаз и классику.\n",
    "\n",
    "Таким образом, вторая гипотеза подтвердилась лишь отчасти. Этот результат мог оказаться иным, если бы не пропуски в данных.\n",
    "\n",
    "3. Во вкусах пользователей Москвы и Петербурга больше общего чем различий. Вопреки ожиданиям, предпочтения жанров в Петербурге напоминают московские.\n",
    "\n",
    "Третья гипотеза не подтвердилась. Если различия в предпочтениях и существуют, на основной массе пользователей они незаметны.\n",
    "\n",
    "**На практике исследования содержат проверки статистических гипотез.**\n",
    "Из данных одного сервиса не всегда можно сделать вывод о всех жителях города.\n",
    "Проверки статистических гипотез покажут, насколько они достоверны, исходя из имеющихся данных. \n",
    "С методами проверок гипотез вы ещё познакомитесь в следующих темах."
   ]
  }
 ],
 "metadata": {
  "ExecuteTimeLog": [
   {
    "duration": 81,
    "start_time": "2022-12-06T11:22:09.276Z"
   },
   {
    "duration": 6,
    "start_time": "2022-12-06T11:22:19.350Z"
   },
   {
    "duration": 379,
    "start_time": "2022-12-06T11:22:41.537Z"
   },
   {
    "duration": 235,
    "start_time": "2022-12-06T11:22:41.918Z"
   },
   {
    "duration": 2,
    "start_time": "2022-12-06T11:22:42.157Z"
   },
   {
    "duration": 6,
    "start_time": "2022-12-06T11:22:42.160Z"
   },
   {
    "duration": 6,
    "start_time": "2022-12-06T11:22:42.167Z"
   },
   {
    "duration": 4,
    "start_time": "2022-12-06T11:22:42.175Z"
   },
   {
    "duration": 4,
    "start_time": "2022-12-06T11:22:42.181Z"
   },
   {
    "duration": 5,
    "start_time": "2022-12-06T11:22:42.187Z"
   },
   {
    "duration": 3,
    "start_time": "2022-12-06T11:22:42.195Z"
   },
   {
    "duration": 6,
    "start_time": "2022-12-06T11:22:42.199Z"
   },
   {
    "duration": 6,
    "start_time": "2022-12-06T11:22:42.207Z"
   },
   {
    "duration": 5,
    "start_time": "2022-12-06T11:22:42.214Z"
   },
   {
    "duration": 5,
    "start_time": "2022-12-06T11:22:42.221Z"
   },
   {
    "duration": 5,
    "start_time": "2022-12-06T11:22:42.228Z"
   },
   {
    "duration": 5,
    "start_time": "2022-12-06T11:22:42.234Z"
   },
   {
    "duration": 7,
    "start_time": "2022-12-06T11:22:42.240Z"
   },
   {
    "duration": 4,
    "start_time": "2022-12-06T11:22:42.249Z"
   },
   {
    "duration": 22,
    "start_time": "2022-12-06T11:22:42.255Z"
   },
   {
    "duration": 3,
    "start_time": "2022-12-06T11:22:42.278Z"
   },
   {
    "duration": 5,
    "start_time": "2022-12-06T11:22:42.283Z"
   },
   {
    "duration": 7,
    "start_time": "2022-12-06T11:22:42.290Z"
   },
   {
    "duration": 13,
    "start_time": "2022-12-06T11:22:42.299Z"
   },
   {
    "duration": 5,
    "start_time": "2022-12-06T11:22:42.314Z"
   },
   {
    "duration": 6,
    "start_time": "2022-12-06T11:22:42.320Z"
   },
   {
    "duration": 9,
    "start_time": "2022-12-06T11:22:42.328Z"
   },
   {
    "duration": 4,
    "start_time": "2022-12-06T11:22:42.339Z"
   },
   {
    "duration": 5,
    "start_time": "2022-12-06T11:22:42.346Z"
   },
   {
    "duration": 6,
    "start_time": "2022-12-06T11:22:42.352Z"
   },
   {
    "duration": 8,
    "start_time": "2022-12-06T11:22:42.359Z"
   },
   {
    "duration": 49,
    "start_time": "2022-12-06T11:22:42.368Z"
   },
   {
    "duration": 0,
    "start_time": "2022-12-06T11:22:42.418Z"
   },
   {
    "duration": 0,
    "start_time": "2022-12-06T11:22:42.420Z"
   },
   {
    "duration": 0,
    "start_time": "2022-12-06T11:22:42.421Z"
   },
   {
    "duration": 0,
    "start_time": "2022-12-06T11:22:42.422Z"
   },
   {
    "duration": 0,
    "start_time": "2022-12-06T11:22:42.423Z"
   },
   {
    "duration": 0,
    "start_time": "2022-12-06T11:22:42.425Z"
   },
   {
    "duration": 0,
    "start_time": "2022-12-06T11:22:42.426Z"
   },
   {
    "duration": 0,
    "start_time": "2022-12-06T11:22:42.427Z"
   },
   {
    "duration": 172,
    "start_time": "2022-12-06T11:23:20.399Z"
   },
   {
    "duration": 169,
    "start_time": "2022-12-06T11:24:27.079Z"
   },
   {
    "duration": 58,
    "start_time": "2022-12-06T11:25:06.176Z"
   },
   {
    "duration": 220,
    "start_time": "2022-12-06T11:25:10.218Z"
   },
   {
    "duration": 178,
    "start_time": "2022-12-06T11:25:36.095Z"
   },
   {
    "duration": 159,
    "start_time": "2022-12-06T11:25:41.032Z"
   },
   {
    "duration": 164,
    "start_time": "2022-12-06T11:25:53.006Z"
   },
   {
    "duration": 174,
    "start_time": "2022-12-06T11:26:02.622Z"
   },
   {
    "duration": 169,
    "start_time": "2022-12-06T11:26:36.846Z"
   },
   {
    "duration": 381,
    "start_time": "2022-12-06T11:27:03.327Z"
   },
   {
    "duration": 181,
    "start_time": "2022-12-06T11:27:03.710Z"
   },
   {
    "duration": 3,
    "start_time": "2022-12-06T11:27:03.892Z"
   },
   {
    "duration": 14,
    "start_time": "2022-12-06T11:27:03.897Z"
   },
   {
    "duration": 6,
    "start_time": "2022-12-06T11:27:03.913Z"
   },
   {
    "duration": 7,
    "start_time": "2022-12-06T11:27:03.921Z"
   },
   {
    "duration": 11,
    "start_time": "2022-12-06T11:27:03.929Z"
   },
   {
    "duration": 5,
    "start_time": "2022-12-06T11:27:03.942Z"
   },
   {
    "duration": 6,
    "start_time": "2022-12-06T11:27:03.949Z"
   },
   {
    "duration": 5,
    "start_time": "2022-12-06T11:27:03.957Z"
   },
   {
    "duration": 11,
    "start_time": "2022-12-06T11:27:03.964Z"
   },
   {
    "duration": 8,
    "start_time": "2022-12-06T11:27:03.977Z"
   },
   {
    "duration": 11,
    "start_time": "2022-12-06T11:27:03.987Z"
   },
   {
    "duration": 21,
    "start_time": "2022-12-06T11:27:04.000Z"
   },
   {
    "duration": 57,
    "start_time": "2022-12-06T11:27:04.023Z"
   },
   {
    "duration": 25,
    "start_time": "2022-12-06T11:27:04.082Z"
   },
   {
    "duration": 12,
    "start_time": "2022-12-06T11:27:04.110Z"
   },
   {
    "duration": 17,
    "start_time": "2022-12-06T11:27:04.123Z"
   },
   {
    "duration": 8,
    "start_time": "2022-12-06T11:27:04.142Z"
   },
   {
    "duration": 7,
    "start_time": "2022-12-06T11:27:04.151Z"
   },
   {
    "duration": 41,
    "start_time": "2022-12-06T11:27:04.160Z"
   },
   {
    "duration": 26,
    "start_time": "2022-12-06T11:27:04.203Z"
   },
   {
    "duration": 19,
    "start_time": "2022-12-06T11:27:04.231Z"
   },
   {
    "duration": 13,
    "start_time": "2022-12-06T11:27:04.252Z"
   },
   {
    "duration": 21,
    "start_time": "2022-12-06T11:27:04.266Z"
   },
   {
    "duration": 25,
    "start_time": "2022-12-06T11:27:04.289Z"
   },
   {
    "duration": 14,
    "start_time": "2022-12-06T11:27:04.318Z"
   },
   {
    "duration": 15,
    "start_time": "2022-12-06T11:27:04.338Z"
   },
   {
    "duration": 7,
    "start_time": "2022-12-06T11:27:04.354Z"
   },
   {
    "duration": 126,
    "start_time": "2022-12-06T11:27:04.362Z"
   },
   {
    "duration": 0,
    "start_time": "2022-12-06T11:27:04.490Z"
   },
   {
    "duration": 0,
    "start_time": "2022-12-06T11:27:04.491Z"
   },
   {
    "duration": 0,
    "start_time": "2022-12-06T11:27:04.493Z"
   },
   {
    "duration": 0,
    "start_time": "2022-12-06T11:27:04.494Z"
   },
   {
    "duration": 0,
    "start_time": "2022-12-06T11:27:04.495Z"
   },
   {
    "duration": 0,
    "start_time": "2022-12-06T11:27:04.497Z"
   },
   {
    "duration": 0,
    "start_time": "2022-12-06T11:27:04.499Z"
   },
   {
    "duration": 0,
    "start_time": "2022-12-06T11:27:04.500Z"
   },
   {
    "duration": 17,
    "start_time": "2022-12-06T11:27:31.225Z"
   },
   {
    "duration": 36,
    "start_time": "2022-12-06T11:27:51.960Z"
   },
   {
    "duration": 58,
    "start_time": "2022-12-06T11:28:49.156Z"
   },
   {
    "duration": 6,
    "start_time": "2022-12-06T11:28:56.531Z"
   },
   {
    "duration": 416,
    "start_time": "2022-12-06T11:29:08.056Z"
   },
   {
    "duration": 167,
    "start_time": "2022-12-06T11:29:08.474Z"
   },
   {
    "duration": 17,
    "start_time": "2022-12-06T11:29:08.643Z"
   },
   {
    "duration": 40,
    "start_time": "2022-12-06T11:29:08.662Z"
   },
   {
    "duration": 2,
    "start_time": "2022-12-06T11:29:08.705Z"
   },
   {
    "duration": 7,
    "start_time": "2022-12-06T11:29:08.709Z"
   },
   {
    "duration": 20,
    "start_time": "2022-12-06T11:29:08.717Z"
   },
   {
    "duration": 18,
    "start_time": "2022-12-06T11:29:08.738Z"
   },
   {
    "duration": 6,
    "start_time": "2022-12-06T11:29:08.758Z"
   },
   {
    "duration": 6,
    "start_time": "2022-12-06T11:29:08.765Z"
   },
   {
    "duration": 13,
    "start_time": "2022-12-06T11:29:08.773Z"
   },
   {
    "duration": 5,
    "start_time": "2022-12-06T11:29:08.788Z"
   },
   {
    "duration": 8,
    "start_time": "2022-12-06T11:29:08.795Z"
   },
   {
    "duration": 4,
    "start_time": "2022-12-06T11:29:08.807Z"
   },
   {
    "duration": 7,
    "start_time": "2022-12-06T11:29:08.813Z"
   },
   {
    "duration": 8,
    "start_time": "2022-12-06T11:29:08.821Z"
   },
   {
    "duration": 5,
    "start_time": "2022-12-06T11:29:08.830Z"
   },
   {
    "duration": 9,
    "start_time": "2022-12-06T11:29:08.837Z"
   },
   {
    "duration": 7,
    "start_time": "2022-12-06T11:29:08.847Z"
   },
   {
    "duration": 7,
    "start_time": "2022-12-06T11:29:08.855Z"
   },
   {
    "duration": 11,
    "start_time": "2022-12-06T11:29:08.864Z"
   },
   {
    "duration": 6,
    "start_time": "2022-12-06T11:29:08.877Z"
   },
   {
    "duration": 8,
    "start_time": "2022-12-06T11:29:08.884Z"
   },
   {
    "duration": 7,
    "start_time": "2022-12-06T11:29:08.894Z"
   },
   {
    "duration": 10,
    "start_time": "2022-12-06T11:29:08.902Z"
   },
   {
    "duration": 6,
    "start_time": "2022-12-06T11:29:08.914Z"
   },
   {
    "duration": 37,
    "start_time": "2022-12-06T11:29:08.922Z"
   },
   {
    "duration": 8,
    "start_time": "2022-12-06T11:29:08.961Z"
   },
   {
    "duration": 5,
    "start_time": "2022-12-06T11:29:08.971Z"
   },
   {
    "duration": 48,
    "start_time": "2022-12-06T11:29:08.977Z"
   },
   {
    "duration": 0,
    "start_time": "2022-12-06T11:29:09.026Z"
   },
   {
    "duration": 0,
    "start_time": "2022-12-06T11:29:09.028Z"
   },
   {
    "duration": 0,
    "start_time": "2022-12-06T11:29:09.029Z"
   },
   {
    "duration": 0,
    "start_time": "2022-12-06T11:29:09.030Z"
   },
   {
    "duration": 0,
    "start_time": "2022-12-06T11:29:09.031Z"
   },
   {
    "duration": 0,
    "start_time": "2022-12-06T11:29:09.032Z"
   },
   {
    "duration": 0,
    "start_time": "2022-12-06T11:29:09.033Z"
   },
   {
    "duration": 0,
    "start_time": "2022-12-06T11:29:09.034Z"
   },
   {
    "duration": 481,
    "start_time": "2022-12-06T11:32:44.977Z"
   },
   {
    "duration": 192,
    "start_time": "2022-12-06T11:32:45.461Z"
   },
   {
    "duration": 29,
    "start_time": "2022-12-06T11:32:45.655Z"
   },
   {
    "duration": 40,
    "start_time": "2022-12-06T11:32:45.687Z"
   },
   {
    "duration": 6,
    "start_time": "2022-12-06T11:32:45.730Z"
   },
   {
    "duration": 94,
    "start_time": "2022-12-06T11:32:45.737Z"
   },
   {
    "duration": 0,
    "start_time": "2022-12-06T11:32:45.834Z"
   },
   {
    "duration": 0,
    "start_time": "2022-12-06T11:32:45.836Z"
   },
   {
    "duration": 0,
    "start_time": "2022-12-06T11:32:45.837Z"
   },
   {
    "duration": 0,
    "start_time": "2022-12-06T11:32:45.839Z"
   },
   {
    "duration": 0,
    "start_time": "2022-12-06T11:32:45.841Z"
   },
   {
    "duration": 0,
    "start_time": "2022-12-06T11:32:45.842Z"
   },
   {
    "duration": 0,
    "start_time": "2022-12-06T11:32:45.845Z"
   },
   {
    "duration": 0,
    "start_time": "2022-12-06T11:32:45.847Z"
   },
   {
    "duration": 0,
    "start_time": "2022-12-06T11:32:45.848Z"
   },
   {
    "duration": 0,
    "start_time": "2022-12-06T11:32:45.850Z"
   },
   {
    "duration": 0,
    "start_time": "2022-12-06T11:32:45.876Z"
   },
   {
    "duration": 0,
    "start_time": "2022-12-06T11:32:45.877Z"
   },
   {
    "duration": 0,
    "start_time": "2022-12-06T11:32:45.879Z"
   },
   {
    "duration": 0,
    "start_time": "2022-12-06T11:32:45.880Z"
   },
   {
    "duration": 0,
    "start_time": "2022-12-06T11:32:45.881Z"
   },
   {
    "duration": 0,
    "start_time": "2022-12-06T11:32:45.883Z"
   },
   {
    "duration": 0,
    "start_time": "2022-12-06T11:32:45.884Z"
   },
   {
    "duration": 0,
    "start_time": "2022-12-06T11:32:45.884Z"
   },
   {
    "duration": 0,
    "start_time": "2022-12-06T11:32:45.886Z"
   },
   {
    "duration": 0,
    "start_time": "2022-12-06T11:32:45.887Z"
   },
   {
    "duration": 0,
    "start_time": "2022-12-06T11:32:45.888Z"
   },
   {
    "duration": 0,
    "start_time": "2022-12-06T11:32:45.889Z"
   },
   {
    "duration": 0,
    "start_time": "2022-12-06T11:32:45.891Z"
   },
   {
    "duration": 0,
    "start_time": "2022-12-06T11:32:45.892Z"
   },
   {
    "duration": 0,
    "start_time": "2022-12-06T11:32:45.893Z"
   },
   {
    "duration": 0,
    "start_time": "2022-12-06T11:32:45.894Z"
   },
   {
    "duration": 0,
    "start_time": "2022-12-06T11:32:45.896Z"
   },
   {
    "duration": 0,
    "start_time": "2022-12-06T11:32:45.896Z"
   },
   {
    "duration": 0,
    "start_time": "2022-12-06T11:32:45.898Z"
   },
   {
    "duration": 0,
    "start_time": "2022-12-06T11:32:45.899Z"
   },
   {
    "duration": 0,
    "start_time": "2022-12-06T11:32:45.900Z"
   },
   {
    "duration": 0,
    "start_time": "2022-12-06T11:32:45.901Z"
   },
   {
    "duration": 4,
    "start_time": "2022-12-06T11:33:02.922Z"
   },
   {
    "duration": 49,
    "start_time": "2022-12-06T11:35:11.470Z"
   },
   {
    "duration": 65,
    "start_time": "2022-12-06T11:35:27.234Z"
   },
   {
    "duration": 62,
    "start_time": "2022-12-06T11:36:33.518Z"
   },
   {
    "duration": 11,
    "start_time": "2022-12-06T11:37:09.488Z"
   },
   {
    "duration": 3,
    "start_time": "2022-12-06T11:39:19.015Z"
   },
   {
    "duration": 24,
    "start_time": "2022-12-06T11:39:59.869Z"
   },
   {
    "duration": 862,
    "start_time": "2022-12-06T11:49:03.422Z"
   },
   {
    "duration": 19,
    "start_time": "2022-12-06T11:49:39.498Z"
   },
   {
    "duration": 32,
    "start_time": "2022-12-06T11:51:35.533Z"
   },
   {
    "duration": 69,
    "start_time": "2022-12-06T11:54:52.513Z"
   },
   {
    "duration": 62,
    "start_time": "2022-12-06T11:55:00.638Z"
   },
   {
    "duration": 85,
    "start_time": "2022-12-06T11:55:31.899Z"
   },
   {
    "duration": 83,
    "start_time": "2022-12-06T11:57:03.672Z"
   },
   {
    "duration": 85,
    "start_time": "2022-12-06T11:58:14.804Z"
   },
   {
    "duration": 59,
    "start_time": "2022-12-06T11:59:00.333Z"
   },
   {
    "duration": 10,
    "start_time": "2022-12-06T12:00:42.497Z"
   },
   {
    "duration": 7,
    "start_time": "2022-12-06T12:00:50.871Z"
   },
   {
    "duration": 11,
    "start_time": "2022-12-06T12:01:23.181Z"
   },
   {
    "duration": 36,
    "start_time": "2022-12-06T12:02:46.021Z"
   },
   {
    "duration": 63,
    "start_time": "2022-12-06T12:05:52.673Z"
   },
   {
    "duration": 51,
    "start_time": "2022-12-06T12:06:34.806Z"
   },
   {
    "duration": 9,
    "start_time": "2022-12-06T12:14:23.380Z"
   },
   {
    "duration": 35,
    "start_time": "2022-12-06T12:14:37.201Z"
   },
   {
    "duration": 10,
    "start_time": "2022-12-06T12:16:37.051Z"
   },
   {
    "duration": 10,
    "start_time": "2022-12-06T12:16:53.414Z"
   },
   {
    "duration": 6,
    "start_time": "2022-12-06T12:18:29.815Z"
   },
   {
    "duration": 4,
    "start_time": "2022-12-06T12:21:40.197Z"
   },
   {
    "duration": 4,
    "start_time": "2022-12-06T12:21:45.575Z"
   },
   {
    "duration": 3,
    "start_time": "2022-12-06T12:21:56.166Z"
   },
   {
    "duration": 4,
    "start_time": "2022-12-06T12:22:07.214Z"
   },
   {
    "duration": 4,
    "start_time": "2022-12-06T12:22:14.503Z"
   },
   {
    "duration": 5,
    "start_time": "2022-12-06T12:22:24.614Z"
   },
   {
    "duration": 384,
    "start_time": "2022-12-06T12:22:39.484Z"
   },
   {
    "duration": 157,
    "start_time": "2022-12-06T12:22:39.869Z"
   },
   {
    "duration": 28,
    "start_time": "2022-12-06T12:22:40.027Z"
   },
   {
    "duration": 37,
    "start_time": "2022-12-06T12:22:40.057Z"
   },
   {
    "duration": 19,
    "start_time": "2022-12-06T12:22:40.095Z"
   },
   {
    "duration": 8,
    "start_time": "2022-12-06T12:22:40.116Z"
   },
   {
    "duration": 14,
    "start_time": "2022-12-06T12:22:40.126Z"
   },
   {
    "duration": 9,
    "start_time": "2022-12-06T12:22:40.142Z"
   },
   {
    "duration": 27,
    "start_time": "2022-12-06T12:22:40.153Z"
   },
   {
    "duration": 19,
    "start_time": "2022-12-06T12:22:40.182Z"
   },
   {
    "duration": 21,
    "start_time": "2022-12-06T12:22:40.203Z"
   },
   {
    "duration": 73,
    "start_time": "2022-12-06T12:22:40.225Z"
   },
   {
    "duration": 59,
    "start_time": "2022-12-06T12:22:40.300Z"
   },
   {
    "duration": 60,
    "start_time": "2022-12-06T12:22:40.361Z"
   },
   {
    "duration": 36,
    "start_time": "2022-12-06T12:22:40.423Z"
   },
   {
    "duration": 54,
    "start_time": "2022-12-06T12:22:40.475Z"
   },
   {
    "duration": 47,
    "start_time": "2022-12-06T12:22:40.531Z"
   },
   {
    "duration": 10,
    "start_time": "2022-12-06T12:22:40.580Z"
   },
   {
    "duration": 2,
    "start_time": "2022-12-06T12:22:40.591Z"
   },
   {
    "duration": 9,
    "start_time": "2022-12-06T12:22:40.594Z"
   },
   {
    "duration": 10,
    "start_time": "2022-12-06T12:22:40.604Z"
   },
   {
    "duration": 15,
    "start_time": "2022-12-06T12:22:40.615Z"
   },
   {
    "duration": 12,
    "start_time": "2022-12-06T12:22:40.631Z"
   },
   {
    "duration": 6,
    "start_time": "2022-12-06T12:22:40.644Z"
   },
   {
    "duration": 11,
    "start_time": "2022-12-06T12:22:40.652Z"
   },
   {
    "duration": 7,
    "start_time": "2022-12-06T12:22:40.664Z"
   },
   {
    "duration": 10,
    "start_time": "2022-12-06T12:22:40.673Z"
   },
   {
    "duration": 12,
    "start_time": "2022-12-06T12:22:40.685Z"
   },
   {
    "duration": 10,
    "start_time": "2022-12-06T12:22:40.698Z"
   },
   {
    "duration": 51,
    "start_time": "2022-12-06T12:22:40.710Z"
   },
   {
    "duration": 0,
    "start_time": "2022-12-06T12:22:40.763Z"
   },
   {
    "duration": 0,
    "start_time": "2022-12-06T12:22:40.764Z"
   },
   {
    "duration": 0,
    "start_time": "2022-12-06T12:22:40.765Z"
   },
   {
    "duration": 0,
    "start_time": "2022-12-06T12:22:40.765Z"
   },
   {
    "duration": 0,
    "start_time": "2022-12-06T12:22:40.766Z"
   },
   {
    "duration": 0,
    "start_time": "2022-12-06T12:22:40.767Z"
   },
   {
    "duration": 0,
    "start_time": "2022-12-06T12:22:40.768Z"
   },
   {
    "duration": 0,
    "start_time": "2022-12-06T12:22:40.769Z"
   },
   {
    "duration": 13,
    "start_time": "2022-12-06T12:24:15.241Z"
   },
   {
    "duration": 382,
    "start_time": "2022-12-06T12:57:17.014Z"
   },
   {
    "duration": 165,
    "start_time": "2022-12-06T12:57:17.399Z"
   },
   {
    "duration": 18,
    "start_time": "2022-12-06T12:57:17.566Z"
   },
   {
    "duration": 34,
    "start_time": "2022-12-06T12:57:17.586Z"
   },
   {
    "duration": 2,
    "start_time": "2022-12-06T12:57:17.621Z"
   },
   {
    "duration": 8,
    "start_time": "2022-12-06T12:57:17.625Z"
   },
   {
    "duration": 12,
    "start_time": "2022-12-06T12:57:17.634Z"
   },
   {
    "duration": 6,
    "start_time": "2022-12-06T12:57:17.648Z"
   },
   {
    "duration": 39,
    "start_time": "2022-12-06T12:57:17.656Z"
   },
   {
    "duration": 22,
    "start_time": "2022-12-06T12:57:17.698Z"
   },
   {
    "duration": 21,
    "start_time": "2022-12-06T12:57:17.722Z"
   },
   {
    "duration": 84,
    "start_time": "2022-12-06T12:57:17.745Z"
   },
   {
    "duration": 67,
    "start_time": "2022-12-06T12:57:17.830Z"
   },
   {
    "duration": 54,
    "start_time": "2022-12-06T12:57:17.899Z"
   },
   {
    "duration": 49,
    "start_time": "2022-12-06T12:57:17.955Z"
   },
   {
    "duration": 57,
    "start_time": "2022-12-06T12:57:18.006Z"
   },
   {
    "duration": 43,
    "start_time": "2022-12-06T12:57:18.065Z"
   },
   {
    "duration": 12,
    "start_time": "2022-12-06T12:57:18.110Z"
   },
   {
    "duration": 11,
    "start_time": "2022-12-06T12:57:18.124Z"
   },
   {
    "duration": 6,
    "start_time": "2022-12-06T12:57:18.136Z"
   },
   {
    "duration": 8,
    "start_time": "2022-12-06T12:57:18.144Z"
   },
   {
    "duration": 27,
    "start_time": "2022-12-06T12:57:18.153Z"
   },
   {
    "duration": 7,
    "start_time": "2022-12-06T12:57:18.181Z"
   },
   {
    "duration": 16,
    "start_time": "2022-12-06T12:57:18.190Z"
   },
   {
    "duration": 10,
    "start_time": "2022-12-06T12:57:18.208Z"
   },
   {
    "duration": 23,
    "start_time": "2022-12-06T12:57:18.220Z"
   },
   {
    "duration": 8,
    "start_time": "2022-12-06T12:57:18.244Z"
   },
   {
    "duration": 7,
    "start_time": "2022-12-06T12:57:18.255Z"
   },
   {
    "duration": 6,
    "start_time": "2022-12-06T12:57:18.263Z"
   },
   {
    "duration": 43,
    "start_time": "2022-12-06T12:57:18.270Z"
   },
   {
    "duration": 0,
    "start_time": "2022-12-06T12:57:18.315Z"
   },
   {
    "duration": 0,
    "start_time": "2022-12-06T12:57:18.316Z"
   },
   {
    "duration": 0,
    "start_time": "2022-12-06T12:57:18.318Z"
   },
   {
    "duration": 0,
    "start_time": "2022-12-06T12:57:18.320Z"
   },
   {
    "duration": 0,
    "start_time": "2022-12-06T12:57:18.321Z"
   },
   {
    "duration": 0,
    "start_time": "2022-12-06T12:57:18.322Z"
   },
   {
    "duration": 0,
    "start_time": "2022-12-06T12:57:18.324Z"
   },
   {
    "duration": 0,
    "start_time": "2022-12-06T12:57:18.325Z"
   },
   {
    "duration": 5,
    "start_time": "2022-12-06T13:02:40.708Z"
   },
   {
    "duration": 3,
    "start_time": "2022-12-06T13:04:36.545Z"
   },
   {
    "duration": 59,
    "start_time": "2022-12-06T13:06:26.586Z"
   },
   {
    "duration": 38,
    "start_time": "2022-12-06T13:06:40.258Z"
   },
   {
    "duration": 403,
    "start_time": "2022-12-06T13:06:56.295Z"
   },
   {
    "duration": 158,
    "start_time": "2022-12-06T13:06:56.700Z"
   },
   {
    "duration": 20,
    "start_time": "2022-12-06T13:06:56.860Z"
   },
   {
    "duration": 27,
    "start_time": "2022-12-06T13:06:56.881Z"
   },
   {
    "duration": 2,
    "start_time": "2022-12-06T13:06:56.910Z"
   },
   {
    "duration": 7,
    "start_time": "2022-12-06T13:06:56.914Z"
   },
   {
    "duration": 13,
    "start_time": "2022-12-06T13:06:56.922Z"
   },
   {
    "duration": 6,
    "start_time": "2022-12-06T13:06:56.937Z"
   },
   {
    "duration": 41,
    "start_time": "2022-12-06T13:06:56.945Z"
   },
   {
    "duration": 19,
    "start_time": "2022-12-06T13:06:56.988Z"
   },
   {
    "duration": 22,
    "start_time": "2022-12-06T13:06:57.009Z"
   },
   {
    "duration": 79,
    "start_time": "2022-12-06T13:06:57.033Z"
   },
   {
    "duration": 70,
    "start_time": "2022-12-06T13:06:57.114Z"
   },
   {
    "duration": 59,
    "start_time": "2022-12-06T13:06:57.186Z"
   },
   {
    "duration": 54,
    "start_time": "2022-12-06T13:06:57.247Z"
   },
   {
    "duration": 61,
    "start_time": "2022-12-06T13:06:57.302Z"
   },
   {
    "duration": 47,
    "start_time": "2022-12-06T13:06:57.365Z"
   },
   {
    "duration": 11,
    "start_time": "2022-12-06T13:06:57.413Z"
   },
   {
    "duration": 10,
    "start_time": "2022-12-06T13:06:57.425Z"
   },
   {
    "duration": 5,
    "start_time": "2022-12-06T13:06:57.436Z"
   },
   {
    "duration": 44,
    "start_time": "2022-12-06T13:06:57.443Z"
   },
   {
    "duration": 13,
    "start_time": "2022-12-06T13:06:57.489Z"
   },
   {
    "duration": 16,
    "start_time": "2022-12-06T13:06:57.503Z"
   },
   {
    "duration": 14,
    "start_time": "2022-12-06T13:06:57.521Z"
   },
   {
    "duration": 84,
    "start_time": "2022-12-06T13:06:57.537Z"
   },
   {
    "duration": 0,
    "start_time": "2022-12-06T13:06:57.622Z"
   },
   {
    "duration": 0,
    "start_time": "2022-12-06T13:06:57.624Z"
   },
   {
    "duration": 0,
    "start_time": "2022-12-06T13:06:57.625Z"
   },
   {
    "duration": 0,
    "start_time": "2022-12-06T13:06:57.626Z"
   },
   {
    "duration": 0,
    "start_time": "2022-12-06T13:06:57.627Z"
   },
   {
    "duration": 0,
    "start_time": "2022-12-06T13:06:57.628Z"
   },
   {
    "duration": 0,
    "start_time": "2022-12-06T13:06:57.629Z"
   },
   {
    "duration": 0,
    "start_time": "2022-12-06T13:06:57.630Z"
   },
   {
    "duration": 0,
    "start_time": "2022-12-06T13:06:57.631Z"
   },
   {
    "duration": 0,
    "start_time": "2022-12-06T13:06:57.633Z"
   },
   {
    "duration": 0,
    "start_time": "2022-12-06T13:06:57.634Z"
   },
   {
    "duration": 0,
    "start_time": "2022-12-06T13:06:57.635Z"
   },
   {
    "duration": 0,
    "start_time": "2022-12-06T13:06:57.636Z"
   },
   {
    "duration": 19,
    "start_time": "2022-12-06T13:07:09.176Z"
   },
   {
    "duration": 14,
    "start_time": "2022-12-06T13:07:31.612Z"
   },
   {
    "duration": 11,
    "start_time": "2022-12-06T13:14:30.121Z"
   },
   {
    "duration": 395,
    "start_time": "2022-12-06T13:14:47.899Z"
   },
   {
    "duration": 192,
    "start_time": "2022-12-06T13:14:48.296Z"
   },
   {
    "duration": 18,
    "start_time": "2022-12-06T13:14:48.490Z"
   },
   {
    "duration": 33,
    "start_time": "2022-12-06T13:14:48.510Z"
   },
   {
    "duration": 3,
    "start_time": "2022-12-06T13:14:48.545Z"
   },
   {
    "duration": 29,
    "start_time": "2022-12-06T13:14:48.549Z"
   },
   {
    "duration": 17,
    "start_time": "2022-12-06T13:14:48.580Z"
   },
   {
    "duration": 12,
    "start_time": "2022-12-06T13:14:48.598Z"
   },
   {
    "duration": 30,
    "start_time": "2022-12-06T13:14:48.611Z"
   },
   {
    "duration": 36,
    "start_time": "2022-12-06T13:14:48.643Z"
   },
   {
    "duration": 28,
    "start_time": "2022-12-06T13:14:48.682Z"
   },
   {
    "duration": 85,
    "start_time": "2022-12-06T13:14:48.712Z"
   },
   {
    "duration": 82,
    "start_time": "2022-12-06T13:14:48.799Z"
   },
   {
    "duration": 65,
    "start_time": "2022-12-06T13:14:48.884Z"
   },
   {
    "duration": 53,
    "start_time": "2022-12-06T13:14:48.951Z"
   },
   {
    "duration": 97,
    "start_time": "2022-12-06T13:14:49.006Z"
   },
   {
    "duration": 56,
    "start_time": "2022-12-06T13:14:49.106Z"
   },
   {
    "duration": 22,
    "start_time": "2022-12-06T13:14:49.164Z"
   },
   {
    "duration": 16,
    "start_time": "2022-12-06T13:14:49.188Z"
   },
   {
    "duration": 6,
    "start_time": "2022-12-06T13:14:49.206Z"
   },
   {
    "duration": 36,
    "start_time": "2022-12-06T13:14:49.214Z"
   },
   {
    "duration": 16,
    "start_time": "2022-12-06T13:14:49.276Z"
   },
   {
    "duration": 15,
    "start_time": "2022-12-06T13:14:49.294Z"
   },
   {
    "duration": 16,
    "start_time": "2022-12-06T13:14:49.310Z"
   },
   {
    "duration": 49,
    "start_time": "2022-12-06T13:14:49.328Z"
   },
   {
    "duration": 16,
    "start_time": "2022-12-06T13:14:49.379Z"
   },
   {
    "duration": 90,
    "start_time": "2022-12-06T13:14:49.396Z"
   },
   {
    "duration": 0,
    "start_time": "2022-12-06T13:14:49.487Z"
   },
   {
    "duration": 0,
    "start_time": "2022-12-06T13:14:49.488Z"
   },
   {
    "duration": 0,
    "start_time": "2022-12-06T13:14:49.489Z"
   },
   {
    "duration": 0,
    "start_time": "2022-12-06T13:14:49.490Z"
   },
   {
    "duration": 0,
    "start_time": "2022-12-06T13:14:49.491Z"
   },
   {
    "duration": 0,
    "start_time": "2022-12-06T13:14:49.492Z"
   },
   {
    "duration": 0,
    "start_time": "2022-12-06T13:14:49.493Z"
   },
   {
    "duration": 0,
    "start_time": "2022-12-06T13:14:49.494Z"
   },
   {
    "duration": 0,
    "start_time": "2022-12-06T13:14:49.495Z"
   },
   {
    "duration": 0,
    "start_time": "2022-12-06T13:14:49.496Z"
   },
   {
    "duration": 0,
    "start_time": "2022-12-06T13:14:49.497Z"
   },
   {
    "duration": 7,
    "start_time": "2022-12-06T13:15:44.814Z"
   },
   {
    "duration": 9,
    "start_time": "2022-12-06T13:20:36.043Z"
   },
   {
    "duration": 9,
    "start_time": "2022-12-06T14:14:00.844Z"
   },
   {
    "duration": 9,
    "start_time": "2022-12-06T20:00:48.174Z"
   },
   {
    "duration": 42,
    "start_time": "2022-12-06T20:05:24.908Z"
   },
   {
    "duration": 424,
    "start_time": "2022-12-06T20:05:32.276Z"
   },
   {
    "duration": 438,
    "start_time": "2022-12-06T20:05:32.702Z"
   },
   {
    "duration": 16,
    "start_time": "2022-12-06T20:05:33.142Z"
   },
   {
    "duration": 36,
    "start_time": "2022-12-06T20:05:33.160Z"
   },
   {
    "duration": 14,
    "start_time": "2022-12-06T20:05:33.197Z"
   },
   {
    "duration": 24,
    "start_time": "2022-12-06T20:05:33.213Z"
   },
   {
    "duration": 27,
    "start_time": "2022-12-06T20:05:33.239Z"
   },
   {
    "duration": 40,
    "start_time": "2022-12-06T20:05:33.268Z"
   },
   {
    "duration": 44,
    "start_time": "2022-12-06T20:05:33.310Z"
   },
   {
    "duration": 22,
    "start_time": "2022-12-06T20:05:33.356Z"
   },
   {
    "duration": 36,
    "start_time": "2022-12-06T20:05:33.379Z"
   },
   {
    "duration": 76,
    "start_time": "2022-12-06T20:05:33.416Z"
   },
   {
    "duration": 66,
    "start_time": "2022-12-06T20:05:33.494Z"
   },
   {
    "duration": 66,
    "start_time": "2022-12-06T20:05:33.562Z"
   },
   {
    "duration": 38,
    "start_time": "2022-12-06T20:05:33.630Z"
   },
   {
    "duration": 77,
    "start_time": "2022-12-06T20:05:33.669Z"
   },
   {
    "duration": 39,
    "start_time": "2022-12-06T20:05:33.747Z"
   },
   {
    "duration": 22,
    "start_time": "2022-12-06T20:05:33.788Z"
   },
   {
    "duration": 36,
    "start_time": "2022-12-06T20:05:33.812Z"
   },
   {
    "duration": 8,
    "start_time": "2022-12-06T20:05:33.850Z"
   },
   {
    "duration": 52,
    "start_time": "2022-12-06T20:05:33.860Z"
   },
   {
    "duration": 21,
    "start_time": "2022-12-06T20:05:33.914Z"
   },
   {
    "duration": 53,
    "start_time": "2022-12-06T20:05:33.937Z"
   },
   {
    "duration": 32,
    "start_time": "2022-12-06T20:05:33.991Z"
   },
   {
    "duration": 32,
    "start_time": "2022-12-06T20:05:34.025Z"
   },
   {
    "duration": 39,
    "start_time": "2022-12-06T20:05:34.058Z"
   },
   {
    "duration": 20,
    "start_time": "2022-12-06T20:05:34.099Z"
   },
   {
    "duration": 46,
    "start_time": "2022-12-06T20:05:34.122Z"
   },
   {
    "duration": 15,
    "start_time": "2022-12-06T20:05:34.169Z"
   },
   {
    "duration": 24,
    "start_time": "2022-12-06T20:05:34.186Z"
   },
   {
    "duration": 47,
    "start_time": "2022-12-06T20:05:34.212Z"
   },
   {
    "duration": 21,
    "start_time": "2022-12-06T20:05:34.260Z"
   },
   {
    "duration": 26,
    "start_time": "2022-12-06T20:05:34.283Z"
   },
   {
    "duration": 22,
    "start_time": "2022-12-06T20:05:34.311Z"
   },
   {
    "duration": 27,
    "start_time": "2022-12-06T20:05:34.335Z"
   },
   {
    "duration": 49,
    "start_time": "2022-12-06T20:05:34.364Z"
   },
   {
    "duration": 24,
    "start_time": "2022-12-06T20:05:34.414Z"
   },
   {
    "duration": 22,
    "start_time": "2022-12-06T20:05:34.439Z"
   },
   {
    "duration": 10,
    "start_time": "2022-12-06T20:06:33.103Z"
   },
   {
    "duration": 17,
    "start_time": "2022-12-06T20:06:35.541Z"
   },
   {
    "duration": 13,
    "start_time": "2022-12-06T20:06:38.398Z"
   },
   {
    "duration": 401,
    "start_time": "2022-12-06T20:07:48.695Z"
   },
   {
    "duration": 173,
    "start_time": "2022-12-06T20:07:49.098Z"
   },
   {
    "duration": 19,
    "start_time": "2022-12-06T20:07:49.273Z"
   },
   {
    "duration": 35,
    "start_time": "2022-12-06T20:07:49.303Z"
   },
   {
    "duration": 14,
    "start_time": "2022-12-06T20:07:49.340Z"
   },
   {
    "duration": 43,
    "start_time": "2022-12-06T20:07:49.355Z"
   },
   {
    "duration": 32,
    "start_time": "2022-12-06T20:07:49.400Z"
   },
   {
    "duration": 32,
    "start_time": "2022-12-06T20:07:49.434Z"
   },
   {
    "duration": 55,
    "start_time": "2022-12-06T20:07:49.467Z"
   },
   {
    "duration": 54,
    "start_time": "2022-12-06T20:07:49.526Z"
   },
   {
    "duration": 40,
    "start_time": "2022-12-06T20:07:49.582Z"
   },
   {
    "duration": 92,
    "start_time": "2022-12-06T20:07:49.623Z"
   },
   {
    "duration": 69,
    "start_time": "2022-12-06T20:07:49.717Z"
   },
   {
    "duration": 71,
    "start_time": "2022-12-06T20:07:49.787Z"
   },
   {
    "duration": 51,
    "start_time": "2022-12-06T20:07:49.860Z"
   },
   {
    "duration": 62,
    "start_time": "2022-12-06T20:07:49.913Z"
   },
   {
    "duration": 49,
    "start_time": "2022-12-06T20:07:49.976Z"
   },
   {
    "duration": 12,
    "start_time": "2022-12-06T20:07:50.027Z"
   },
   {
    "duration": 41,
    "start_time": "2022-12-06T20:07:50.040Z"
   },
   {
    "duration": 48,
    "start_time": "2022-12-06T20:07:50.083Z"
   },
   {
    "duration": 70,
    "start_time": "2022-12-06T20:07:50.133Z"
   },
   {
    "duration": 27,
    "start_time": "2022-12-06T20:07:50.204Z"
   },
   {
    "duration": 48,
    "start_time": "2022-12-06T20:07:50.233Z"
   },
   {
    "duration": 40,
    "start_time": "2022-12-06T20:07:50.283Z"
   },
   {
    "duration": 39,
    "start_time": "2022-12-06T20:07:50.325Z"
   },
   {
    "duration": 47,
    "start_time": "2022-12-06T20:07:50.366Z"
   },
   {
    "duration": 33,
    "start_time": "2022-12-06T20:07:50.415Z"
   },
   {
    "duration": 60,
    "start_time": "2022-12-06T20:07:50.451Z"
   },
   {
    "duration": 39,
    "start_time": "2022-12-06T20:07:50.512Z"
   },
   {
    "duration": 42,
    "start_time": "2022-12-06T20:07:50.552Z"
   },
   {
    "duration": 75,
    "start_time": "2022-12-06T20:07:50.596Z"
   },
   {
    "duration": 15,
    "start_time": "2022-12-06T20:07:50.672Z"
   },
   {
    "duration": 19,
    "start_time": "2022-12-06T20:07:50.688Z"
   },
   {
    "duration": 17,
    "start_time": "2022-12-06T20:07:50.708Z"
   },
   {
    "duration": 14,
    "start_time": "2022-12-06T20:07:50.727Z"
   },
   {
    "duration": 15,
    "start_time": "2022-12-06T20:07:50.743Z"
   },
   {
    "duration": 26,
    "start_time": "2022-12-06T20:07:50.760Z"
   },
   {
    "duration": 28,
    "start_time": "2022-12-06T20:07:50.788Z"
   },
   {
    "duration": 70,
    "start_time": "2022-12-06T20:09:25.969Z"
   },
   {
    "duration": 18,
    "start_time": "2022-12-06T20:09:43.452Z"
   },
   {
    "duration": 12,
    "start_time": "2022-12-06T20:09:45.681Z"
   },
   {
    "duration": 62,
    "start_time": "2022-12-06T20:24:28.494Z"
   },
   {
    "duration": 8,
    "start_time": "2022-12-06T20:25:01.561Z"
   },
   {
    "duration": 5,
    "start_time": "2022-12-06T20:25:29.971Z"
   },
   {
    "duration": 7,
    "start_time": "2022-12-06T20:26:32.310Z"
   },
   {
    "duration": 5,
    "start_time": "2022-12-06T20:26:44.834Z"
   },
   {
    "duration": 6,
    "start_time": "2022-12-06T20:27:05.688Z"
   }
  ],
  "colab": {
   "collapsed_sections": [
    "E0vqbgi9ay0H",
    "VUC88oWjTJw2"
   ],
   "name": "automatization_template_upd4.ipynb",
   "provenance": []
  },
  "kernelspec": {
   "display_name": "Python 3 (ipykernel)",
   "language": "python",
   "name": "python3"
  },
  "language_info": {
   "codemirror_mode": {
    "name": "ipython",
    "version": 3
   },
   "file_extension": ".py",
   "mimetype": "text/x-python",
   "name": "python",
   "nbconvert_exporter": "python",
   "pygments_lexer": "ipython3",
   "version": "3.9.13"
  },
  "toc": {
   "base_numbering": 1,
   "nav_menu": {
    "height": "215px",
    "width": "403px"
   },
   "number_sections": true,
   "sideBar": true,
   "skip_h1_title": true,
   "title_cell": "Table of Contents",
   "title_sidebar": "Contents",
   "toc_cell": false,
   "toc_position": {
    "height": "calc(100% - 180px)",
    "left": "10px",
    "top": "150px",
    "width": "285.825px"
   },
   "toc_section_display": true,
   "toc_window_display": false
  }
 },
 "nbformat": 4,
 "nbformat_minor": 1
}
