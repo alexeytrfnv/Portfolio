{
 "cells": [
  {
   "attachments": {},
   "cell_type": "markdown",
   "id": "06f9646d",
   "metadata": {
    "deletable": false,
    "editable": false,
    "id": "c81daeeb"
   },
   "source": [
    "# Исследование надежности заемщиков\n",
    "\n",
    "# Описание проекта\n",
    "\n",
    "\n",
    "Заказчик — кредитный отдел банка. Нужно разобраться, влияет ли семейное положение и количество детей клиента на факт погашения кредита в срок. Входные данные от банка — статистика о платёжеспособности клиентов.\n",
    "Результаты исследования будут учтены при построении модели кредитного скоринга — специальной системы, которая оценивает способность потенциального заёмщика вернуть кредит банку."
   ]
  },
  {
   "cell_type": "markdown",
   "id": "0e2b8c3a",
   "metadata": {
    "deletable": false,
    "editable": false,
    "id": "744d7639"
   },
   "source": [
    "## Откройте таблицу и изучите общую информацию о данных"
   ]
  },
  {
   "cell_type": "markdown",
   "id": "a89a562c",
   "metadata": {
    "deletable": false,
    "editable": false,
    "id": "e7a14c31"
   },
   "source": [
    "**Задание 1. Импортируйте библиотеку pandas. Считайте данные из csv-файла в датафрейм и сохраните в переменную `data`. Путь к файлу:**\n",
    "\n",
    "`/datasets/data.csv`"
   ]
  },
  {
   "cell_type": "code",
   "execution_count": null,
   "id": "426ce196",
   "metadata": {
    "deletable": false,
    "id": "7bcf75c9"
   },
   "outputs": [],
   "source": [
    "import pandas as pd\n",
    "\n",
    "try:\n",
    "    data = pd.read_csv('/datasets/data.csv')\n",
    "except:\n",
    "    data = pd.read_csv('https://code.s3.yandex.net/datasets/data.csv')"
   ]
  },
  {
   "cell_type": "markdown",
   "id": "291a0d0c",
   "metadata": {
    "deletable": false,
    "editable": false,
    "id": "b8038fe3"
   },
   "source": [
    "**Задание 2. Выведите первые 20 строчек датафрейма `data` на экран.**"
   ]
  },
  {
   "cell_type": "code",
   "execution_count": null,
   "id": "93185b61",
   "metadata": {
    "deletable": false,
    "id": "2a7cab99",
    "outputId": "1a8f3ef2-d323-4ec2-ddf7-89670b5944c4"
   },
   "outputs": [],
   "source": [
    "data.head(20)"
   ]
  },
  {
   "cell_type": "markdown",
   "id": "a4b0c213",
   "metadata": {
    "deletable": false,
    "editable": false,
    "id": "1c12e233"
   },
   "source": [
    "**Задание 3. Выведите основную информацию о датафрейме с помощью метода `info()`.**"
   ]
  },
  {
   "cell_type": "code",
   "execution_count": null,
   "id": "f2610aac",
   "metadata": {
    "deletable": false,
    "id": "2b757bca",
    "outputId": "15376089-8dad-46c9-b520-c05248d43158"
   },
   "outputs": [],
   "source": [
    "data.info()"
   ]
  },
  {
   "cell_type": "markdown",
   "id": "7af14a97",
   "metadata": {
    "deletable": false,
    "editable": false,
    "id": "333ec665"
   },
   "source": [
    "## Предобработка данных"
   ]
  },
  {
   "cell_type": "markdown",
   "id": "7c3b4b15",
   "metadata": {
    "deletable": false,
    "editable": false,
    "id": "02d92d53"
   },
   "source": [
    "### Удаление пропусков"
   ]
  },
  {
   "cell_type": "markdown",
   "id": "bdf0f5cb",
   "metadata": {
    "deletable": false,
    "editable": false,
    "id": "cd84967c"
   },
   "source": [
    "**Задание 4. Выведите количество пропущенных значений для каждого столбца. Используйте комбинацию двух методов.**"
   ]
  },
  {
   "cell_type": "code",
   "execution_count": null,
   "id": "41713ea9",
   "metadata": {
    "deletable": false,
    "id": "7f9b2309",
    "outputId": "81f4d817-781c-465c-ed15-91ce4446810d"
   },
   "outputs": [],
   "source": [
    "data.isna().sum()"
   ]
  },
  {
   "cell_type": "markdown",
   "id": "bd4b22bc",
   "metadata": {
    "deletable": false,
    "editable": false,
    "id": "db86e27b"
   },
   "source": [
    "**Задание 5. В двух столбцах есть пропущенные значения. Один из них — `days_employed`. Пропуски в этом столбце вы обработаете на следующем этапе. Другой столбец с пропущенными значениями — `total_income` — хранит данные о доходах. На сумму дохода сильнее всего влияет тип занятости, поэтому заполнить пропуски в этом столбце нужно медианным значением по каждому типу из столбца `income_type`. Например, у человека с типом занятости `сотрудник` пропуск в столбце `total_income` должен быть заполнен медианным доходом среди всех записей с тем же типом.**"
   ]
  },
  {
   "cell_type": "code",
   "execution_count": null,
   "id": "052be053",
   "metadata": {
    "deletable": false,
    "id": "42006a93"
   },
   "outputs": [],
   "source": [
    "for t in data['income_type'].unique():\n",
    "    data.loc[(data['income_type'] == t) & (data['total_income'].isna()), 'total_income'] = \\\n",
    "    data.loc[(data['income_type'] == t), 'total_income'].median()"
   ]
  },
  {
   "cell_type": "markdown",
   "id": "83f4433a",
   "metadata": {
    "deletable": false,
    "editable": false,
    "id": "89da5ece"
   },
   "source": [
    "### Обработка аномальных значений"
   ]
  },
  {
   "cell_type": "markdown",
   "id": "d5b1ff6a",
   "metadata": {
    "deletable": false,
    "editable": false,
    "id": "57964554"
   },
   "source": [
    "**Задание 6. В данных могут встречаться артефакты (аномалии) — значения, которые не отражают действительность и появились по какой-то ошибке. таким артефактом будет отрицательное количество дней трудового стажа в столбце `days_employed`. Для реальных данных это нормально. Обработайте значения в этом столбце: замените все отрицательные значения положительными с помощью метода `abs()`.**"
   ]
  },
  {
   "cell_type": "code",
   "execution_count": null,
   "id": "e91eab4d",
   "metadata": {
    "deletable": false,
    "id": "f6f055bf"
   },
   "outputs": [],
   "source": [
    "data['days_employed'] = data['days_employed'].abs()"
   ]
  },
  {
   "cell_type": "markdown",
   "id": "524305a1",
   "metadata": {
    "deletable": false,
    "editable": false,
    "id": "6107dd2f"
   },
   "source": [
    "**Задание 7. Для каждого типа занятости выведите медианное значение трудового стажа `days_employed` в днях.**"
   ]
  },
  {
   "cell_type": "code",
   "execution_count": null,
   "id": "6cde478d",
   "metadata": {
    "deletable": false,
    "id": "85a5faf6",
    "outputId": "801ef80e-522b-4668-f34e-565af7432bcf"
   },
   "outputs": [],
   "source": [
    "data.groupby('income_type')['days_employed'].agg('median')"
   ]
  },
  {
   "cell_type": "markdown",
   "id": "b19723ea",
   "metadata": {
    "deletable": false,
    "editable": false,
    "id": "38d1a030"
   },
   "source": [
    "У двух типов (безработные и пенсионеры) получатся аномально большие значения. Исправить такие значения сложно, поэтому оставьте их как есть. Тем более этот столбец не понадобится вам для исследования."
   ]
  },
  {
   "cell_type": "markdown",
   "id": "0a9f5337",
   "metadata": {
    "deletable": false,
    "editable": false,
    "id": "d8a9f147"
   },
   "source": [
    "**Задание 8. Выведите перечень уникальных значений столбца `children`.**"
   ]
  },
  {
   "cell_type": "code",
   "execution_count": null,
   "id": "09896853",
   "metadata": {
    "deletable": false,
    "id": "ef5056eb",
    "outputId": "6975b15c-7f95-4697-d16d-a0c79b657b03"
   },
   "outputs": [],
   "source": [
    "data['children'].unique()"
   ]
  },
  {
   "cell_type": "markdown",
   "id": "b1089841",
   "metadata": {
    "deletable": false,
    "editable": false,
    "id": "40b9ebf2"
   },
   "source": [
    "**Задание 9. В столбце `children` есть два аномальных значения. Удалите строки, в которых встречаются такие аномальные значения из датафрейма `data`.**"
   ]
  },
  {
   "cell_type": "code",
   "execution_count": null,
   "id": "9de7ae52",
   "metadata": {
    "deletable": false,
    "id": "3ff9801d"
   },
   "outputs": [],
   "source": [
    "data = data[(data['children'] != -1) & (data['children'] != 20)]"
   ]
  },
  {
   "cell_type": "markdown",
   "id": "9ff51d56",
   "metadata": {
    "deletable": false,
    "editable": false,
    "id": "bbc4d0ce"
   },
   "source": [
    "**Задание 10. Ещё раз выведите перечень уникальных значений столбца `children`, чтобы убедиться, что артефакты удалены.**"
   ]
  },
  {
   "cell_type": "code",
   "execution_count": null,
   "id": "f43920ba",
   "metadata": {
    "deletable": false,
    "id": "ad4fa8b7",
    "outputId": "b2097101-d49d-44d9-901b-32a65c9463d1"
   },
   "outputs": [],
   "source": [
    "data['children'].unique()"
   ]
  },
  {
   "cell_type": "markdown",
   "id": "b0b1325d",
   "metadata": {
    "deletable": false,
    "editable": false,
    "id": "75440b63"
   },
   "source": [
    "### Удаление пропусков (продолжение)"
   ]
  },
  {
   "cell_type": "markdown",
   "id": "e9b6e6a0",
   "metadata": {
    "deletable": false,
    "editable": false,
    "id": "f4ea573f"
   },
   "source": [
    "**Задание 11. Заполните пропуски в столбце `days_employed` медианными значениями по каждого типа занятости `income_type`.**"
   ]
  },
  {
   "cell_type": "code",
   "execution_count": null,
   "id": "67470e70",
   "metadata": {
    "deletable": false,
    "id": "af6b1a7e"
   },
   "outputs": [],
   "source": [
    "for t in data['income_type'].unique():\n",
    "    data.loc[(data['income_type'] == t) & (data['days_employed'].isna()), 'days_employed'] = \\\n",
    "    data.loc[(data['income_type'] == t), 'days_employed'].median()"
   ]
  },
  {
   "cell_type": "markdown",
   "id": "b5134b4e",
   "metadata": {
    "deletable": false,
    "editable": false,
    "id": "2753f40d"
   },
   "source": [
    "**Задание 12. Убедитесь, что все пропуски заполнены. Проверьте себя и ещё раз выведите количество пропущенных значений для каждого столбца с помощью двух методов.**"
   ]
  },
  {
   "cell_type": "code",
   "execution_count": null,
   "id": "af99271a",
   "metadata": {
    "deletable": false,
    "id": "55f78bc2",
    "outputId": "8da1e4e1-358e-4e87-98c9-f261bce0a7b2"
   },
   "outputs": [],
   "source": [
    "data.isna().sum()"
   ]
  },
  {
   "cell_type": "markdown",
   "id": "6f40c4eb",
   "metadata": {
    "deletable": false,
    "editable": false,
    "id": "ddc81e43"
   },
   "source": [
    "### Изменение типов данных"
   ]
  },
  {
   "cell_type": "markdown",
   "id": "55856169",
   "metadata": {
    "deletable": false,
    "editable": false,
    "id": "42d19d24"
   },
   "source": [
    "**Задание 13. Замените вещественный тип данных в столбце `total_income` на целочисленный с помощью метода `astype()`.**"
   ]
  },
  {
   "cell_type": "code",
   "execution_count": null,
   "id": "8287eaa0",
   "metadata": {
    "deletable": false,
    "id": "920b65ad"
   },
   "outputs": [],
   "source": [
    "data['total_income'] = data['total_income'].astype(int)"
   ]
  },
  {
   "cell_type": "markdown",
   "id": "bc02cd6d",
   "metadata": {
    "deletable": false,
    "editable": false,
    "id": "80c420ba"
   },
   "source": [
    "### Обработка дубликатов"
   ]
  },
  {
   "cell_type": "markdown",
   "id": "3792eaa3",
   "metadata": {
    "deletable": false,
    "editable": false
   },
   "source": [
    "**Задание 14. Обработайте неявные дубликаты в столбце `education`. В этом столбце есть одни и те же значения, но записанные по-разному: с использованием заглавных и строчных букв. Приведите их к нижнему регистру. Проверьте остальные столбцы.**"
   ]
  },
  {
   "cell_type": "code",
   "execution_count": null,
   "id": "2ddc3674",
   "metadata": {
    "deletable": false
   },
   "outputs": [],
   "source": [
    "data['education'] = data['education'].str.lower()"
   ]
  },
  {
   "cell_type": "markdown",
   "id": "75c5ae66",
   "metadata": {
    "deletable": false,
    "editable": false,
    "id": "dc587695"
   },
   "source": [
    "**Задание 15. Выведите на экран количество строк-дубликатов в данных. Если такие строки присутствуют, удалите их.**"
   ]
  },
  {
   "cell_type": "code",
   "execution_count": null,
   "id": "f770a852",
   "metadata": {
    "deletable": false,
    "id": "3ee445e4",
    "outputId": "9684deba-1934-42d1-99e1-cda61740f822"
   },
   "outputs": [],
   "source": [
    "data.duplicated().sum()"
   ]
  },
  {
   "cell_type": "code",
   "execution_count": null,
   "id": "ca41f3cd",
   "metadata": {
    "deletable": false,
    "id": "8575fe05"
   },
   "outputs": [],
   "source": [
    "data = data.drop_duplicates()"
   ]
  },
  {
   "cell_type": "markdown",
   "id": "f91e0fec",
   "metadata": {
    "deletable": false,
    "editable": false,
    "id": "9904cf55"
   },
   "source": [
    "### Категоризация данных"
   ]
  },
  {
   "cell_type": "markdown",
   "id": "a21a302f",
   "metadata": {
    "deletable": false,
    "editable": false,
    "id": "72fcc8a2"
   },
   "source": [
    "**Задание 16. На основании диапазонов, указанных ниже, создайте в датафрейме `data` столбец `total_income_category` с категориями:**\n",
    "\n",
    "- 0–30000 — `'E'`;\n",
    "- 30001–50000 — `'D'`;\n",
    "- 50001–200000 — `'C'`;\n",
    "- 200001–1000000 — `'B'`;\n",
    "- 1000001 и выше — `'A'`.\n",
    "\n",
    "\n",
    "**Например, кредитополучателю с доходом 25000 нужно назначить категорию `'E'`, а клиенту, получающему 235000, — `'B'`. Используйте собственную функцию с именем `categorize_income()` и метод `apply()`.**"
   ]
  },
  {
   "cell_type": "code",
   "execution_count": null,
   "id": "4ba5c0bc",
   "metadata": {
    "deletable": false,
    "id": "e1771346"
   },
   "outputs": [],
   "source": [
    "def categorize_income(income):\n",
    "    try:\n",
    "        if 0 <= income <= 30000:\n",
    "            return 'E'\n",
    "        elif 30001 <= income <= 50000:\n",
    "            return 'D'\n",
    "        elif 50001 <= income <= 200000:\n",
    "            return 'C'\n",
    "        elif 200001 <= income <= 1000000:\n",
    "            return 'B'\n",
    "        elif income >= 1000001:\n",
    "            return 'A'\n",
    "    except:\n",
    "        pass"
   ]
  },
  {
   "cell_type": "code",
   "execution_count": null,
   "id": "fa2350b1",
   "metadata": {
    "deletable": false,
    "id": "d5f3586d"
   },
   "outputs": [],
   "source": [
    "data['total_income_category'] = data['total_income'].apply(categorize_income)"
   ]
  },
  {
   "cell_type": "markdown",
   "id": "d98f3816",
   "metadata": {
    "deletable": false,
    "editable": false,
    "id": "dde49b5c"
   },
   "source": [
    "**Задание 17. Выведите на экран перечень уникальных целей взятия кредита из столбца `purpose`.**"
   ]
  },
  {
   "cell_type": "code",
   "execution_count": null,
   "id": "2e34841b",
   "metadata": {
    "deletable": false,
    "id": "f67ce9b3",
    "outputId": "673c12d9-7d7e-4ae0-9812-c622c89dd244"
   },
   "outputs": [],
   "source": [
    "data['purpose'].unique()"
   ]
  },
  {
   "cell_type": "markdown",
   "id": "5b293df7",
   "metadata": {
    "deletable": false,
    "editable": false,
    "id": "85d0aef0"
   },
   "source": [
    "**Задание 18. Создайте функцию, которая на основании данных из столбца `purpose` сформирует новый столбец `purpose_category`, в который войдут следующие категории:**\n",
    "\n",
    "- `'операции с автомобилем'`,\n",
    "- `'операции с недвижимостью'`,\n",
    "- `'проведение свадьбы'`,\n",
    "- `'получение образования'`.\n",
    "\n",
    "**Например, если в столбце `purpose` находится подстрока `'на покупку автомобиля'`, то в столбце `purpose_category` должна появиться строка `'операции с автомобилем'`.**\n",
    "\n",
    "**Используйте собственную функцию с именем `categorize_purpose()` и метод `apply()`. Изучите данные в столбце `purpose` и определите, какие подстроки помогут вам правильно определить категорию.**"
   ]
  },
  {
   "cell_type": "code",
   "execution_count": null,
   "id": "3b8f87a0",
   "metadata": {
    "deletable": false,
    "id": "e149fab4"
   },
   "outputs": [],
   "source": [
    "def categorize_purpose(row):\n",
    "    try:\n",
    "        if 'автом' in row:\n",
    "            return 'операции с автомобилем'\n",
    "        elif 'жил' in row or 'недвиж' in row:\n",
    "            return 'операции с недвижимостью'\n",
    "        elif 'свад' in row:\n",
    "            return 'проведение свадьбы'\n",
    "        elif 'образов' in row:\n",
    "            return 'получение образования'\n",
    "    except:\n",
    "        return 'нет категории'"
   ]
  },
  {
   "cell_type": "code",
   "execution_count": null,
   "id": "899569e9",
   "metadata": {
    "deletable": false,
    "id": "bf36e69b"
   },
   "outputs": [],
   "source": [
    "data['purpose_category'] = data['purpose'].apply(categorize_purpose)"
   ]
  },
  {
   "cell_type": "markdown",
   "id": "f598ec12",
   "metadata": {
    "deletable": false,
    "editable": false,
    "id": "09b242bf"
   },
   "source": [
    "### Шаг 3. Исследуйте данные и ответьте на вопросы"
   ]
  },
  {
   "cell_type": "markdown",
   "id": "f915d0ab",
   "metadata": {
    "deletable": false,
    "editable": false,
    "id": "c5d66278"
   },
   "source": [
    "#### 3.1 Есть ли зависимость между количеством детей и возвратом кредита в срок?"
   ]
  },
  {
   "cell_type": "code",
   "execution_count": null,
   "id": "0559cd4b",
   "metadata": {
    "deletable": false,
    "id": "2cacfc4a"
   },
   "outputs": [],
   "source": [
    "new_data = data.pivot_table(index='children', values='debt', aggfunc={'count', 'sum', 'mean'})\n",
    "new_data['mean'] = new_data['mean'].apply('{:.2%}'.format)\n",
    "new_data.columns=['Общее кол-во заемщиков', 'Процент задолженности по кредиту', 'Кол-во должников']\n",
    "new_data"
   ]
  },
  {
   "cell_type": "markdown",
   "id": "eebc901d",
   "metadata": {
    "deletable": false,
    "id": "3a6b99ec"
   },
   "source": [
    "**Вывод:** Зависимость есть. Между количеством детей и процентом задолженности существует прямая зависимость. Чем больше детей у заемщика, тем выше шанс получить задолженность по кредиту. \n",
    "\n",
    "Важно обозначить, что у заемщиков, у которых нет ни одного ребенка, в среднем задолженность по кредиту составляет 7.54%. Вторая по величине категория - клиент с 1 ребенком. Процент задолженности по кредиту у клиентов этой категории в среднем составляет 9.23%. \n",
    "\n",
    "Однако следует отметить, что в семьях с тремя детьми вероятность быть в долгу у банка меньше, чем в семьях с двумя детьми. \n",
    "\n",
    "Мы можем заметить, что лучшие показатели выплаты по кредиту - у клиентов с пятью детьми, однако данная выборка не подходит для анализа из-за малого количества клиентов, подходящих под эту категорию."
   ]
  },
  {
   "cell_type": "markdown",
   "id": "cd8e9bee",
   "metadata": {
    "deletable": false,
    "editable": false,
    "id": "97be82ca"
   },
   "source": [
    "#### 3.2 Есть ли зависимость между семейным положением и возвратом кредита в срок?"
   ]
  },
  {
   "cell_type": "code",
   "execution_count": null,
   "id": "b41d6aff",
   "metadata": {
    "deletable": false,
    "id": "dc3f7ee8"
   },
   "outputs": [],
   "source": [
    "family_data = data.pivot_table(index='family_status', values='debt', aggfunc={'count', 'sum', 'mean'})\n",
    "family_data['mean'] = family_data['mean'].apply('{:.2%}'.format)\n",
    "family_data.columns=['Общее кол-во заемщиков', 'Процент задолженности по кредиту', 'Кол-во должников']\n",
    "family_data"
   ]
  },
  {
   "attachments": {},
   "cell_type": "markdown",
   "id": "8d4d9c7a",
   "metadata": {
    "deletable": false,
    "id": "1cef7837"
   },
   "source": [
    "**Вывод:** Нельзя однозначно определить зависимость возврата кредита в срок от семейного положения заемщика.\n",
    "\n",
    "Для сравнения возьмем три самые крупные категории клиентов:\n",
    "    \n",
    "    1. Не женат/не замужем (процент задолженности - 9.76%)\n",
    "    2. Гражданский брак (процент задолженности - 9.31%)\n",
    "    3. Женат/Замужем (процент задолженности - 7.56%)\n",
    "    \n",
    "Рассматривая данные три категории, можно сделать вывод, что лучше всех выплачивают по кредиту клиенты, которые находятся в законном браке. Проценты должников двух других категорий близки к друг другу, однако всё же в гражданском браке заемщики выплачивают кредит осознаннее. \n",
    "\n",
    "В двух категориях клиентов (***В разводе*** (процент задолженности - 7.06%) и ***Вдовец/вдова*** (процент задолженности - 6.62%)) определение зависимости затрудняется, так как количество таких клиентов мало относительно всей выборки. Важно учитывать, какие накопления присутствуют у клиента после расторжения брака или утраты близкого. Эти факторы могут повлиять на процент выплаты по кредиту."
   ]
  },
  {
   "cell_type": "markdown",
   "id": "c775e807",
   "metadata": {
    "deletable": false,
    "editable": false,
    "id": "1e8b2fca"
   },
   "source": [
    "#### 3.3 Есть ли зависимость между уровнем дохода и возвратом кредита в срок?"
   ]
  },
  {
   "cell_type": "code",
   "execution_count": null,
   "id": "e9098861",
   "metadata": {
    "deletable": false,
    "id": "cd7e3720"
   },
   "outputs": [],
   "source": [
    "salary_data = data.pivot_table(index='total_income_category', values='debt', aggfunc={'count', 'sum', 'mean'})\n",
    "salary_data['mean'] = salary_data['mean'].apply('{:.2%}'.format)\n",
    "salary_data.columns=['Общее кол-во заемщиков', 'Процент задолженности по кредиту', 'Кол-во должников']\n",
    "salary_data"
   ]
  },
  {
   "cell_type": "markdown",
   "id": "9586b595",
   "metadata": {
    "deletable": false,
    "id": "e8593def"
   },
   "source": [
    "**Вывод:** \n",
    "Для определения зависимости стоит рассмотреть две самые многочисленные категории заемщиков:\n",
    "    \n",
    "    1. Клиенты категории B (процент задолженности - 7.06%)\n",
    "    2. Клиенты категории С (процент задолженности - 8.50%)\n",
    "    \n",
    "На основе этих данных можно отметить, что между уровнем дохода и возвратом кредита в срок присутствует прямая зависимость. У клиентов с меньшим доходом процент задолженности по кредиту больше, чем у заемщиков с большим уровнем дохода."
   ]
  },
  {
   "cell_type": "markdown",
   "id": "1ea36c31",
   "metadata": {
    "deletable": false,
    "editable": false,
    "id": "99ecbd1f"
   },
   "source": [
    "#### 3.4 Как разные цели кредита влияют на его возврат в срок?"
   ]
  },
  {
   "cell_type": "code",
   "execution_count": null,
   "id": "4d0f9d17",
   "metadata": {
    "deletable": false,
    "id": "2b687290"
   },
   "outputs": [],
   "source": [
    "point_data = data.pivot_table(index='purpose_category', values='debt', aggfunc={'count', 'sum', 'mean'})\n",
    "point_data['mean'] = point_data['mean'].apply('{:.2%}'.format)\n",
    "point_data.columns=['Общее кол-во заемщиков', 'Процент задолженности по кредиту', 'Кол-во должников']\n",
    "point_data"
   ]
  },
  {
   "cell_type": "markdown",
   "id": "a8305d9e",
   "metadata": {
    "deletable": false,
    "id": "b4bb2ce6"
   },
   "source": [
    "**Вывод:** Показатель задолженности по кредиту у заемщиков, осуществляющих операции с недвижимостью, лучше, чем у всех других заемщиков, у которых присутствуют иные цели для взятия кредита. \n",
    "\n",
    "Самая большая вероятность задолженности по кредиту - у заемщиков, которые используют кредитные деньги для операций с автомобилем.\n",
    "\n",
    "На основе данных можно предположить, что кредитные деньги, направленные на получение образования, дадут возможность повысить свой доход со временем, поэтому процент задолженности высокий относительно других жизненных целей.\n",
    "\n",
    "Процент задолженности по кредиту у заемщиков, которые используют кредитные деньги на проведение свадьбы, в среднем составляет 7.91%."
   ]
  },
  {
   "cell_type": "markdown",
   "id": "fa391aca",
   "metadata": {
    "deletable": false,
    "editable": false,
    "id": "09c3ac4c"
   },
   "source": [
    "#### 3.5 Приведите возможные причины появления пропусков в исходных данных."
   ]
  },
  {
   "cell_type": "markdown",
   "id": "9c736545",
   "metadata": {
    "deletable": false,
    "id": "9da2ceda"
   },
   "source": [
    "*Ответ:*\n",
    "Могу привести несколько причин появления пропусков в исходных данных:\n",
    "\n",
    "        1. Человеческий фактор\n",
    "        2. Сбой системы\n",
    "        3. Пользователь не указал данные по своему желанию (например: email, телефон)"
   ]
  },
  {
   "cell_type": "markdown",
   "id": "dece60d7",
   "metadata": {
    "deletable": false,
    "editable": false,
    "id": "7b0487d6"
   },
   "source": [
    "#### 3.6 Объясните, почему заполнить пропуски медианным значением — лучшее решение для количественных переменных."
   ]
  },
  {
   "cell_type": "markdown",
   "id": "bd556f44",
   "metadata": {
    "deletable": false,
    "id": "7ecf2b8e"
   },
   "source": [
    "*Ответ:* Если заполнить пропуски максимальными или минимальными значениями, то есть риск испортить исследование, поэтому правильнее заполнять медианным значением. На медиану не влияют случайные выбросы. При большом количестве данных медианное значение будет равняться среднему значению."
   ]
  },
  {
   "cell_type": "markdown",
   "id": "fa084114",
   "metadata": {
    "deletable": false,
    "editable": false,
    "id": "6db5255a"
   },
   "source": [
    "### Шаг 4: общий вывод."
   ]
  },
  {
   "cell_type": "markdown",
   "id": "953b8bb6",
   "metadata": {
    "deletable": false,
    "id": "bad65432"
   },
   "source": [
    "**1. Зависимость между количеством детей и возвратом кредита в срок имеется:** Количество детей клиента влияет на факт погашения кредита в срок. Чем больше детей у клиента, тем выше риск оказаться в долгу перед банком.\n",
    "\n",
    "***Статистика:***\n",
    "\n",
    "1. Процент задолженности по кредиту у клиентов, не имеющих детей - 7.54%\n",
    "2. Процент задолженности по кредиту у клиентов с одним ребенком - 9.23%\n",
    "3. Процент задолженности по кредиту у клиентов с двумя детьми - 9.45%\n",
    "\n",
    "**2. Зависимость между семейным положением и возвратом кредита в срок имеется:** Семейное положение влияет на факт погашения кредита тем, что у клиентов банка, находящиеся в законном или гражданском браке, показатели своевременной выплаты по кредиту лучше, чем у людей, которые никогда не были в браке.\n",
    "\n",
    "***Статистика:***\n",
    "\n",
    "1. Процент задолженности по кредиту у клиентов из категории \"Не женат/не замужем\" - 9.76%\n",
    "2. Процент задолженности по кредиту у клиентов, которые состоят в гражданском браке - 9.31%\n",
    "3. Процент задолженности по кредиту у клиентов, находящихся в законном браке - 7.56%\n",
    "\n",
    "**3. Зависимость между уровнем дохода и возвратом кредита в срок имеется:** Клиенты, обладающие более высоким доходом, имеют процент задолженности по кредиту меньше, чем клиенты с меньшим уровнем дохода.\n",
    "\n",
    "***Статистика***:\n",
    "\n",
    "1. Процент задолженности по кредиту у клиента с категорией B (доход от 200001 до 1 млн) - 7.06%\n",
    "2. Процент задолженности по кредиту у клиента с категорией С (доход от 50001 до 200 тысяч) - 8.50%\n",
    "\n",
    "**4. Влияние цели кредита на его возврат в срок**: Самые лучшие показатели выплаты по кредиту - у клиентов, которые нуждаются в кредитных деньгах, чтобы потратить их на операции с недвижимостью, самые худшие показатели - клиенты с целью потратить кредитные деньги на операции с автомобилем. \n",
    "\n",
    "Процент возврата кредита в срок для клиентов с целью потратить кредитные деньги на образование обусловлен тем, что заемщик берет кредит для приобретения необходимых знаний и навыков, которые смогут повысить его доход через некоторое время. \n",
    "\n",
    "Процент должников, которые берут кредит для проведения свадьбы, небольшой, однако не самый лучший среди категорий, предложенных для исследования.\n",
    "\n",
    "***Статистика***:\n",
    "\n",
    "1. Процент задолженности по кредиту у клиента с целью кредита \"операции с автомобилем\" - 9.35%\n",
    "2. Процент задолженности по кредиту у клиента с целью кредита \"операции с недвижимостью\" - 7.26%\n",
    "3. Процент задолженности по кредиту у клиента с целью кредита \"получение образования\" - 9.25%\n",
    "4. Процент задолженности по кредиту у клиента с целью кредита \"проведение свадьбы\" - 7.91%\n",
    "\n",
    "**5. Рекомендации по улучшению сбора данных и скоринга**: Для более точного анализа зависимости между количеством детей и возвратом кредита в срок было бы полезным знать, сколько человек в семье имеют доход, так как один работающий человек с детьми может иметь трудности для своевременной выплаты по кредиту, нежели двое работающих людей в этой же семье.\n",
    "\n",
    "Для более эффективного анализа зависимости между семейным положением и возвратом кредита в срок нужно уточнять у клиента, какую долю денежных средств для выплаты кредита составляют накопления у клиентов категорий \"В разводе\" и \"Вдовец/вдова\"."
   ]
  }
 ],
 "metadata": {
  "ExecuteTimeLog": [
   {
    "duration": 490,
    "start_time": "2022-12-26T18:54:52.481Z"
   },
   {
    "duration": 27,
    "start_time": "2022-12-26T18:54:52.974Z"
   },
   {
    "duration": 17,
    "start_time": "2022-12-26T18:54:53.002Z"
   },
   {
    "duration": 16,
    "start_time": "2022-12-26T18:54:53.021Z"
   },
   {
    "duration": 59,
    "start_time": "2022-12-26T18:54:53.039Z"
   },
   {
    "duration": 5,
    "start_time": "2022-12-26T18:54:53.100Z"
   },
   {
    "duration": 11,
    "start_time": "2022-12-26T18:54:53.107Z"
   },
   {
    "duration": 16,
    "start_time": "2022-12-26T18:54:53.120Z"
   },
   {
    "duration": 11,
    "start_time": "2022-12-26T18:54:53.137Z"
   },
   {
    "duration": 5,
    "start_time": "2022-12-26T18:54:53.152Z"
   },
   {
    "duration": 60,
    "start_time": "2022-12-26T18:54:53.159Z"
   },
   {
    "duration": 10,
    "start_time": "2022-12-26T18:54:53.220Z"
   },
   {
    "duration": 10,
    "start_time": "2022-12-26T18:54:53.232Z"
   },
   {
    "duration": 13,
    "start_time": "2022-12-26T18:54:53.244Z"
   },
   {
    "duration": 39,
    "start_time": "2022-12-26T18:54:53.259Z"
   },
   {
    "duration": 17,
    "start_time": "2022-12-26T18:54:53.300Z"
   },
   {
    "duration": 4,
    "start_time": "2022-12-26T18:54:53.319Z"
   },
   {
    "duration": 19,
    "start_time": "2022-12-26T18:54:53.324Z"
   },
   {
    "duration": 15,
    "start_time": "2022-12-26T18:54:53.344Z"
   },
   {
    "duration": 17,
    "start_time": "2022-12-26T18:54:53.361Z"
   },
   {
    "duration": 17,
    "start_time": "2022-12-26T18:54:53.380Z"
   },
   {
    "duration": 6,
    "start_time": "2022-12-26T18:54:53.399Z"
   },
   {
    "duration": 13,
    "start_time": "2022-12-26T18:54:53.407Z"
   },
   {
    "duration": 6,
    "start_time": "2022-12-26T18:54:53.422Z"
   },
   {
    "duration": 11,
    "start_time": "2022-12-26T18:54:53.430Z"
   },
   {
    "duration": 23,
    "start_time": "2022-12-26T18:59:01.083Z"
   },
   {
    "duration": 14,
    "start_time": "2022-12-26T19:00:20.509Z"
   },
   {
    "duration": 105,
    "start_time": "2022-12-26T19:02:52.852Z"
   },
   {
    "duration": 13,
    "start_time": "2022-12-26T19:04:06.352Z"
   },
   {
    "duration": 11,
    "start_time": "2022-12-26T19:04:09.660Z"
   },
   {
    "duration": 11,
    "start_time": "2022-12-26T19:04:21.295Z"
   },
   {
    "duration": 72,
    "start_time": "2022-12-26T19:06:38.981Z"
   },
   {
    "duration": 11,
    "start_time": "2022-12-26T19:08:20.750Z"
   },
   {
    "duration": 8,
    "start_time": "2022-12-26T19:08:39.528Z"
   },
   {
    "duration": 8,
    "start_time": "2022-12-26T19:08:48.236Z"
   },
   {
    "duration": 7,
    "start_time": "2022-12-26T19:09:01.573Z"
   },
   {
    "duration": 10,
    "start_time": "2022-12-26T19:10:37.296Z"
   },
   {
    "duration": 7,
    "start_time": "2022-12-26T19:10:50.277Z"
   },
   {
    "duration": 455,
    "start_time": "2022-12-26T19:11:01.600Z"
   },
   {
    "duration": 22,
    "start_time": "2022-12-26T19:11:02.057Z"
   },
   {
    "duration": 16,
    "start_time": "2022-12-26T19:11:02.080Z"
   },
   {
    "duration": 17,
    "start_time": "2022-12-26T19:11:02.099Z"
   },
   {
    "duration": 33,
    "start_time": "2022-12-26T19:11:02.118Z"
   },
   {
    "duration": 4,
    "start_time": "2022-12-26T19:11:02.153Z"
   },
   {
    "duration": 10,
    "start_time": "2022-12-26T19:11:02.177Z"
   },
   {
    "duration": 40,
    "start_time": "2022-12-26T19:11:02.188Z"
   },
   {
    "duration": 18,
    "start_time": "2022-12-26T19:11:02.230Z"
   },
   {
    "duration": 36,
    "start_time": "2022-12-26T19:11:02.250Z"
   },
   {
    "duration": 48,
    "start_time": "2022-12-26T19:11:02.288Z"
   },
   {
    "duration": 10,
    "start_time": "2022-12-26T19:11:02.338Z"
   },
   {
    "duration": 20,
    "start_time": "2022-12-26T19:11:02.349Z"
   },
   {
    "duration": 35,
    "start_time": "2022-12-26T19:11:02.371Z"
   },
   {
    "duration": 19,
    "start_time": "2022-12-26T19:11:02.408Z"
   },
   {
    "duration": 17,
    "start_time": "2022-12-26T19:11:02.429Z"
   },
   {
    "duration": 4,
    "start_time": "2022-12-26T19:11:02.449Z"
   },
   {
    "duration": 20,
    "start_time": "2022-12-26T19:11:02.455Z"
   },
   {
    "duration": 14,
    "start_time": "2022-12-26T19:11:02.477Z"
   },
   {
    "duration": 9,
    "start_time": "2022-12-26T19:11:02.493Z"
   },
   {
    "duration": 18,
    "start_time": "2022-12-26T19:11:02.503Z"
   },
   {
    "duration": 15,
    "start_time": "2022-12-26T19:11:02.522Z"
   },
   {
    "duration": 70,
    "start_time": "2022-12-26T19:11:02.539Z"
   },
   {
    "duration": 9,
    "start_time": "2022-12-26T19:11:10.186Z"
   },
   {
    "duration": 9,
    "start_time": "2022-12-26T19:11:22.369Z"
   },
   {
    "duration": 8,
    "start_time": "2022-12-26T19:11:28.977Z"
   },
   {
    "duration": 8,
    "start_time": "2022-12-26T19:11:36.796Z"
   },
   {
    "duration": 16,
    "start_time": "2022-12-26T19:14:35.333Z"
   },
   {
    "duration": 15,
    "start_time": "2022-12-26T19:14:39.946Z"
   },
   {
    "duration": 19,
    "start_time": "2022-12-26T19:14:52.667Z"
   },
   {
    "duration": 23,
    "start_time": "2022-12-26T19:15:09.333Z"
   },
   {
    "duration": 22,
    "start_time": "2022-12-26T19:15:20.260Z"
   },
   {
    "duration": 14,
    "start_time": "2022-12-26T19:15:23.263Z"
   },
   {
    "duration": 13,
    "start_time": "2022-12-26T19:16:12.981Z"
   },
   {
    "duration": 978,
    "start_time": "2022-12-26T19:17:33.775Z"
   },
   {
    "duration": 490,
    "start_time": "2022-12-26T19:17:43.193Z"
   },
   {
    "duration": 13,
    "start_time": "2022-12-26T19:18:09.499Z"
   },
   {
    "duration": 451,
    "start_time": "2022-12-26T19:18:16.490Z"
   },
   {
    "duration": 24,
    "start_time": "2022-12-26T19:18:16.943Z"
   },
   {
    "duration": 14,
    "start_time": "2022-12-26T19:18:16.969Z"
   },
   {
    "duration": 8,
    "start_time": "2022-12-26T19:18:16.985Z"
   },
   {
    "duration": 32,
    "start_time": "2022-12-26T19:18:16.995Z"
   },
   {
    "duration": 3,
    "start_time": "2022-12-26T19:18:17.029Z"
   },
   {
    "duration": 13,
    "start_time": "2022-12-26T19:18:17.034Z"
   },
   {
    "duration": 4,
    "start_time": "2022-12-26T19:18:17.048Z"
   },
   {
    "duration": 7,
    "start_time": "2022-12-26T19:18:17.078Z"
   },
   {
    "duration": 4,
    "start_time": "2022-12-26T19:18:17.088Z"
   },
   {
    "duration": 33,
    "start_time": "2022-12-26T19:18:17.093Z"
   },
   {
    "duration": 10,
    "start_time": "2022-12-26T19:18:17.127Z"
   },
   {
    "duration": 8,
    "start_time": "2022-12-26T19:18:17.139Z"
   },
   {
    "duration": 33,
    "start_time": "2022-12-26T19:18:17.148Z"
   },
   {
    "duration": 31,
    "start_time": "2022-12-26T19:18:17.183Z"
   },
   {
    "duration": 19,
    "start_time": "2022-12-26T19:18:17.216Z"
   },
   {
    "duration": 4,
    "start_time": "2022-12-26T19:18:17.237Z"
   },
   {
    "duration": 12,
    "start_time": "2022-12-26T19:18:17.242Z"
   },
   {
    "duration": 23,
    "start_time": "2022-12-26T19:18:17.256Z"
   },
   {
    "duration": 5,
    "start_time": "2022-12-26T19:18:17.280Z"
   },
   {
    "duration": 16,
    "start_time": "2022-12-26T19:18:17.286Z"
   },
   {
    "duration": 17,
    "start_time": "2022-12-26T19:18:17.303Z"
   },
   {
    "duration": 1010,
    "start_time": "2022-12-26T19:18:17.321Z"
   },
   {
    "duration": 12,
    "start_time": "2022-12-26T19:20:02.352Z"
   },
   {
    "duration": 14,
    "start_time": "2022-12-26T19:20:08.146Z"
   },
   {
    "duration": 14,
    "start_time": "2022-12-26T19:20:37.936Z"
   },
   {
    "duration": 14,
    "start_time": "2022-12-26T19:20:46.404Z"
   },
   {
    "duration": 15,
    "start_time": "2022-12-26T19:21:01.737Z"
   },
   {
    "duration": 15,
    "start_time": "2022-12-26T19:21:11.672Z"
   },
   {
    "duration": 13,
    "start_time": "2022-12-26T19:21:15.294Z"
   },
   {
    "duration": 14,
    "start_time": "2022-12-26T19:24:22.998Z"
   },
   {
    "duration": 121,
    "start_time": "2022-12-26T19:25:54.949Z"
   },
   {
    "duration": 456,
    "start_time": "2022-12-26T19:26:36.930Z"
   },
   {
    "duration": 21,
    "start_time": "2022-12-26T19:26:37.389Z"
   },
   {
    "duration": 15,
    "start_time": "2022-12-26T19:26:37.412Z"
   },
   {
    "duration": 8,
    "start_time": "2022-12-26T19:26:37.429Z"
   },
   {
    "duration": 50,
    "start_time": "2022-12-26T19:26:37.439Z"
   },
   {
    "duration": 4,
    "start_time": "2022-12-26T19:26:37.491Z"
   },
   {
    "duration": 15,
    "start_time": "2022-12-26T19:26:37.496Z"
   },
   {
    "duration": 5,
    "start_time": "2022-12-26T19:26:37.513Z"
   },
   {
    "duration": 14,
    "start_time": "2022-12-26T19:26:37.520Z"
   },
   {
    "duration": 6,
    "start_time": "2022-12-26T19:26:37.537Z"
   },
   {
    "duration": 57,
    "start_time": "2022-12-26T19:26:37.545Z"
   },
   {
    "duration": 9,
    "start_time": "2022-12-26T19:26:37.604Z"
   },
   {
    "duration": 8,
    "start_time": "2022-12-26T19:26:37.615Z"
   },
   {
    "duration": 18,
    "start_time": "2022-12-26T19:26:37.624Z"
   },
   {
    "duration": 22,
    "start_time": "2022-12-26T19:26:37.644Z"
   },
   {
    "duration": 29,
    "start_time": "2022-12-26T19:26:37.667Z"
   },
   {
    "duration": 4,
    "start_time": "2022-12-26T19:26:37.698Z"
   },
   {
    "duration": 24,
    "start_time": "2022-12-26T19:26:37.704Z"
   },
   {
    "duration": 11,
    "start_time": "2022-12-26T19:26:37.730Z"
   },
   {
    "duration": 7,
    "start_time": "2022-12-26T19:26:37.742Z"
   },
   {
    "duration": 13,
    "start_time": "2022-12-26T19:26:37.750Z"
   },
   {
    "duration": 27,
    "start_time": "2022-12-26T19:26:37.765Z"
   },
   {
    "duration": 799,
    "start_time": "2022-12-26T19:26:37.793Z"
   },
   {
    "duration": 12,
    "start_time": "2022-12-26T19:26:48.152Z"
   },
   {
    "duration": 111,
    "start_time": "2022-12-26T19:27:04.089Z"
   },
   {
    "duration": 13,
    "start_time": "2022-12-26T19:27:14.548Z"
   },
   {
    "duration": 9,
    "start_time": "2022-12-26T19:31:15.505Z"
   },
   {
    "duration": 5,
    "start_time": "2022-12-26T19:32:20.015Z"
   },
   {
    "duration": 2461,
    "start_time": "2022-12-26T19:32:27.228Z"
   },
   {
    "duration": 5,
    "start_time": "2022-12-26T19:32:32.954Z"
   },
   {
    "duration": 8,
    "start_time": "2022-12-26T19:32:43.338Z"
   },
   {
    "duration": 12,
    "start_time": "2022-12-26T19:33:53.661Z"
   },
   {
    "duration": 11,
    "start_time": "2022-12-26T19:33:59.481Z"
   },
   {
    "duration": 5,
    "start_time": "2022-12-26T19:34:01.705Z"
   },
   {
    "duration": 2512,
    "start_time": "2022-12-26T19:34:26.111Z"
   },
   {
    "duration": 75,
    "start_time": "2022-12-26T19:34:52.015Z"
   },
   {
    "duration": 3,
    "start_time": "2022-12-26T19:34:56.170Z"
   },
   {
    "duration": 12,
    "start_time": "2022-12-26T19:36:24.256Z"
   },
   {
    "duration": 71,
    "start_time": "2022-12-26T19:36:26.372Z"
   },
   {
    "duration": 70,
    "start_time": "2022-12-26T19:36:47.845Z"
   },
   {
    "duration": 514,
    "start_time": "2022-12-26T19:36:52.667Z"
   },
   {
    "duration": 24,
    "start_time": "2022-12-26T19:36:53.183Z"
   },
   {
    "duration": 25,
    "start_time": "2022-12-26T19:36:53.208Z"
   },
   {
    "duration": 24,
    "start_time": "2022-12-26T19:36:53.235Z"
   },
   {
    "duration": 40,
    "start_time": "2022-12-26T19:36:53.260Z"
   },
   {
    "duration": 4,
    "start_time": "2022-12-26T19:36:53.301Z"
   },
   {
    "duration": 16,
    "start_time": "2022-12-26T19:36:53.306Z"
   },
   {
    "duration": 5,
    "start_time": "2022-12-26T19:36:53.324Z"
   },
   {
    "duration": 14,
    "start_time": "2022-12-26T19:36:53.331Z"
   },
   {
    "duration": 16,
    "start_time": "2022-12-26T19:36:53.347Z"
   },
   {
    "duration": 40,
    "start_time": "2022-12-26T19:36:53.364Z"
   },
   {
    "duration": 10,
    "start_time": "2022-12-26T19:36:53.405Z"
   },
   {
    "duration": 7,
    "start_time": "2022-12-26T19:36:53.417Z"
   },
   {
    "duration": 16,
    "start_time": "2022-12-26T19:36:53.426Z"
   },
   {
    "duration": 54,
    "start_time": "2022-12-26T19:36:53.443Z"
   },
   {
    "duration": 19,
    "start_time": "2022-12-26T19:36:53.499Z"
   },
   {
    "duration": 4,
    "start_time": "2022-12-26T19:36:53.520Z"
   },
   {
    "duration": 15,
    "start_time": "2022-12-26T19:36:53.526Z"
   },
   {
    "duration": 7,
    "start_time": "2022-12-26T19:36:53.542Z"
   },
   {
    "duration": 35,
    "start_time": "2022-12-26T19:36:53.550Z"
   },
   {
    "duration": 15,
    "start_time": "2022-12-26T19:36:53.587Z"
   },
   {
    "duration": 72,
    "start_time": "2022-12-26T19:36:53.604Z"
   },
   {
    "duration": 0,
    "start_time": "2022-12-26T19:36:53.677Z"
   },
   {
    "duration": 9,
    "start_time": "2022-12-26T19:37:07.612Z"
   },
   {
    "duration": 5,
    "start_time": "2022-12-26T19:37:09.649Z"
   },
   {
    "duration": 6,
    "start_time": "2022-12-26T19:38:11.282Z"
   },
   {
    "duration": 7,
    "start_time": "2022-12-26T19:38:15.614Z"
   },
   {
    "duration": 7,
    "start_time": "2022-12-26T19:38:52.193Z"
   },
   {
    "duration": 9,
    "start_time": "2022-12-26T19:38:56.117Z"
   },
   {
    "duration": 9,
    "start_time": "2022-12-26T19:41:06.966Z"
   },
   {
    "duration": 73,
    "start_time": "2022-12-26T19:47:54.448Z"
   },
   {
    "duration": 15,
    "start_time": "2022-12-26T19:51:51.727Z"
   },
   {
    "duration": 14,
    "start_time": "2022-12-26T19:53:32.035Z"
   },
   {
    "duration": 21,
    "start_time": "2022-12-26T19:54:14.762Z"
   },
   {
    "duration": 21,
    "start_time": "2022-12-26T19:54:20.846Z"
   },
   {
    "duration": 32,
    "start_time": "2022-12-26T19:55:13.897Z"
   },
   {
    "duration": 25,
    "start_time": "2022-12-26T19:57:53.174Z"
   },
   {
    "duration": 23,
    "start_time": "2022-12-26T19:58:20.041Z"
   },
   {
    "duration": 22,
    "start_time": "2022-12-26T19:58:30.313Z"
   },
   {
    "duration": 39,
    "start_time": "2022-12-26T20:00:29.073Z"
   },
   {
    "duration": 25,
    "start_time": "2022-12-26T20:01:10.481Z"
   },
   {
    "duration": 19,
    "start_time": "2022-12-26T20:01:13.365Z"
   },
   {
    "duration": 486,
    "start_time": "2022-12-26T20:01:17.852Z"
   },
   {
    "duration": 22,
    "start_time": "2022-12-26T20:01:18.340Z"
   },
   {
    "duration": 17,
    "start_time": "2022-12-26T20:01:18.363Z"
   },
   {
    "duration": 9,
    "start_time": "2022-12-26T20:01:18.381Z"
   },
   {
    "duration": 34,
    "start_time": "2022-12-26T20:01:18.392Z"
   },
   {
    "duration": 3,
    "start_time": "2022-12-26T20:01:18.428Z"
   },
   {
    "duration": 12,
    "start_time": "2022-12-26T20:01:18.433Z"
   },
   {
    "duration": 4,
    "start_time": "2022-12-26T20:01:18.446Z"
   },
   {
    "duration": 15,
    "start_time": "2022-12-26T20:01:18.478Z"
   },
   {
    "duration": 9,
    "start_time": "2022-12-26T20:01:18.495Z"
   },
   {
    "duration": 34,
    "start_time": "2022-12-26T20:01:18.507Z"
   },
   {
    "duration": 8,
    "start_time": "2022-12-26T20:01:18.543Z"
   },
   {
    "duration": 9,
    "start_time": "2022-12-26T20:01:18.552Z"
   },
   {
    "duration": 22,
    "start_time": "2022-12-26T20:01:18.562Z"
   },
   {
    "duration": 20,
    "start_time": "2022-12-26T20:01:18.586Z"
   },
   {
    "duration": 16,
    "start_time": "2022-12-26T20:01:18.608Z"
   },
   {
    "duration": 4,
    "start_time": "2022-12-26T20:01:18.625Z"
   },
   {
    "duration": 16,
    "start_time": "2022-12-26T20:01:18.630Z"
   },
   {
    "duration": 11,
    "start_time": "2022-12-26T20:01:18.648Z"
   },
   {
    "duration": 18,
    "start_time": "2022-12-26T20:01:18.660Z"
   },
   {
    "duration": 16,
    "start_time": "2022-12-26T20:01:18.680Z"
   },
   {
    "duration": 72,
    "start_time": "2022-12-26T20:01:18.698Z"
   },
   {
    "duration": 412,
    "start_time": "2022-12-26T20:01:39.839Z"
   },
   {
    "duration": 23,
    "start_time": "2022-12-26T20:01:40.253Z"
   },
   {
    "duration": 14,
    "start_time": "2022-12-26T20:01:40.277Z"
   },
   {
    "duration": 8,
    "start_time": "2022-12-26T20:01:40.292Z"
   },
   {
    "duration": 33,
    "start_time": "2022-12-26T20:01:40.302Z"
   },
   {
    "duration": 3,
    "start_time": "2022-12-26T20:01:40.336Z"
   },
   {
    "duration": 14,
    "start_time": "2022-12-26T20:01:40.341Z"
   },
   {
    "duration": 22,
    "start_time": "2022-12-26T20:01:40.356Z"
   },
   {
    "duration": 8,
    "start_time": "2022-12-26T20:01:40.380Z"
   },
   {
    "duration": 4,
    "start_time": "2022-12-26T20:01:40.390Z"
   },
   {
    "duration": 32,
    "start_time": "2022-12-26T20:01:40.396Z"
   },
   {
    "duration": 8,
    "start_time": "2022-12-26T20:01:40.430Z"
   },
   {
    "duration": 6,
    "start_time": "2022-12-26T20:01:40.439Z"
   },
   {
    "duration": 35,
    "start_time": "2022-12-26T20:01:40.446Z"
   },
   {
    "duration": 22,
    "start_time": "2022-12-26T20:01:40.483Z"
   },
   {
    "duration": 18,
    "start_time": "2022-12-26T20:01:40.507Z"
   },
   {
    "duration": 3,
    "start_time": "2022-12-26T20:01:40.527Z"
   },
   {
    "duration": 14,
    "start_time": "2022-12-26T20:01:40.532Z"
   },
   {
    "duration": 6,
    "start_time": "2022-12-26T20:01:40.547Z"
   },
   {
    "duration": 28,
    "start_time": "2022-12-26T20:01:40.554Z"
   },
   {
    "duration": 14,
    "start_time": "2022-12-26T20:01:40.584Z"
   },
   {
    "duration": 64,
    "start_time": "2022-12-26T20:01:40.600Z"
   },
   {
    "duration": 23,
    "start_time": "2022-12-26T20:11:14.744Z"
   },
   {
    "duration": 21,
    "start_time": "2022-12-26T20:11:48.056Z"
   },
   {
    "duration": 19,
    "start_time": "2022-12-26T20:12:07.699Z"
   },
   {
    "duration": 22,
    "start_time": "2022-12-26T20:19:09.009Z"
   },
   {
    "duration": 25,
    "start_time": "2022-12-26T20:19:18.171Z"
   },
   {
    "duration": 24,
    "start_time": "2022-12-26T20:19:22.416Z"
   },
   {
    "duration": 20,
    "start_time": "2022-12-26T20:19:27.992Z"
   },
   {
    "duration": 21,
    "start_time": "2022-12-26T20:22:23.333Z"
   },
   {
    "duration": 71,
    "start_time": "2022-12-26T20:27:48.703Z"
   },
   {
    "duration": 842,
    "start_time": "2022-12-26T20:28:57.370Z"
   },
   {
    "duration": 822,
    "start_time": "2022-12-26T20:29:22.544Z"
   },
   {
    "duration": 9,
    "start_time": "2022-12-26T20:30:12.872Z"
   },
   {
    "duration": 307,
    "start_time": "2022-12-26T20:30:18.708Z"
   },
   {
    "duration": 355,
    "start_time": "2022-12-26T20:31:17.578Z"
   },
   {
    "duration": 14,
    "start_time": "2022-12-26T20:31:23.182Z"
   },
   {
    "duration": 20,
    "start_time": "2022-12-26T20:33:34.174Z"
   },
   {
    "duration": 20,
    "start_time": "2022-12-26T20:34:26.845Z"
   },
   {
    "duration": 471,
    "start_time": "2022-12-26T20:48:12.556Z"
   },
   {
    "duration": 24,
    "start_time": "2022-12-26T20:48:13.029Z"
   },
   {
    "duration": 27,
    "start_time": "2022-12-26T20:48:13.058Z"
   },
   {
    "duration": 10,
    "start_time": "2022-12-26T20:48:13.087Z"
   },
   {
    "duration": 30,
    "start_time": "2022-12-26T20:48:13.099Z"
   },
   {
    "duration": 3,
    "start_time": "2022-12-26T20:48:13.130Z"
   },
   {
    "duration": 9,
    "start_time": "2022-12-26T20:48:13.135Z"
   },
   {
    "duration": 4,
    "start_time": "2022-12-26T20:48:13.146Z"
   },
   {
    "duration": 7,
    "start_time": "2022-12-26T20:48:13.177Z"
   },
   {
    "duration": 4,
    "start_time": "2022-12-26T20:48:13.186Z"
   },
   {
    "duration": 31,
    "start_time": "2022-12-26T20:48:13.192Z"
   },
   {
    "duration": 8,
    "start_time": "2022-12-26T20:48:13.225Z"
   },
   {
    "duration": 5,
    "start_time": "2022-12-26T20:48:13.235Z"
   },
   {
    "duration": 39,
    "start_time": "2022-12-26T20:48:13.241Z"
   },
   {
    "duration": 19,
    "start_time": "2022-12-26T20:48:13.281Z"
   },
   {
    "duration": 16,
    "start_time": "2022-12-26T20:48:13.301Z"
   },
   {
    "duration": 3,
    "start_time": "2022-12-26T20:48:13.318Z"
   },
   {
    "duration": 12,
    "start_time": "2022-12-26T20:48:13.323Z"
   },
   {
    "duration": 7,
    "start_time": "2022-12-26T20:48:13.337Z"
   },
   {
    "duration": 4,
    "start_time": "2022-12-26T20:48:13.346Z"
   },
   {
    "duration": 10,
    "start_time": "2022-12-26T20:48:13.378Z"
   },
   {
    "duration": 28,
    "start_time": "2022-12-26T20:48:13.390Z"
   },
   {
    "duration": 84,
    "start_time": "2022-12-26T20:49:06.157Z"
   },
   {
    "duration": 23,
    "start_time": "2022-12-26T20:49:12.825Z"
   },
   {
    "duration": 472,
    "start_time": "2022-12-26T20:49:44.862Z"
   },
   {
    "duration": 22,
    "start_time": "2022-12-26T20:49:45.337Z"
   },
   {
    "duration": 14,
    "start_time": "2022-12-26T20:49:45.361Z"
   },
   {
    "duration": 9,
    "start_time": "2022-12-26T20:49:45.378Z"
   },
   {
    "duration": 32,
    "start_time": "2022-12-26T20:49:45.389Z"
   },
   {
    "duration": 3,
    "start_time": "2022-12-26T20:49:45.422Z"
   },
   {
    "duration": 14,
    "start_time": "2022-12-26T20:49:45.427Z"
   },
   {
    "duration": 5,
    "start_time": "2022-12-26T20:49:45.443Z"
   },
   {
    "duration": 31,
    "start_time": "2022-12-26T20:49:45.450Z"
   },
   {
    "duration": 5,
    "start_time": "2022-12-26T20:49:45.484Z"
   },
   {
    "duration": 36,
    "start_time": "2022-12-26T20:49:45.490Z"
   },
   {
    "duration": 9,
    "start_time": "2022-12-26T20:49:45.527Z"
   },
   {
    "duration": 4,
    "start_time": "2022-12-26T20:49:45.537Z"
   },
   {
    "duration": 35,
    "start_time": "2022-12-26T20:49:45.543Z"
   },
   {
    "duration": 23,
    "start_time": "2022-12-26T20:49:45.579Z"
   },
   {
    "duration": 17,
    "start_time": "2022-12-26T20:49:45.604Z"
   },
   {
    "duration": 3,
    "start_time": "2022-12-26T20:49:45.623Z"
   },
   {
    "duration": 11,
    "start_time": "2022-12-26T20:49:45.628Z"
   },
   {
    "duration": 5,
    "start_time": "2022-12-26T20:49:45.641Z"
   },
   {
    "duration": 30,
    "start_time": "2022-12-26T20:49:45.648Z"
   },
   {
    "duration": 14,
    "start_time": "2022-12-26T20:49:45.680Z"
   },
   {
    "duration": 32,
    "start_time": "2022-12-26T20:49:45.696Z"
   },
   {
    "duration": 68,
    "start_time": "2022-12-26T20:53:34.261Z"
   },
   {
    "duration": 16,
    "start_time": "2022-12-26T20:53:36.234Z"
   },
   {
    "duration": 424,
    "start_time": "2022-12-26T20:53:47.541Z"
   },
   {
    "duration": 21,
    "start_time": "2022-12-26T20:53:47.967Z"
   },
   {
    "duration": 19,
    "start_time": "2022-12-26T20:53:47.990Z"
   },
   {
    "duration": 37,
    "start_time": "2022-12-26T20:53:48.012Z"
   },
   {
    "duration": 58,
    "start_time": "2022-12-26T20:53:48.050Z"
   },
   {
    "duration": 3,
    "start_time": "2022-12-26T20:53:48.110Z"
   },
   {
    "duration": 15,
    "start_time": "2022-12-26T20:53:48.114Z"
   },
   {
    "duration": 4,
    "start_time": "2022-12-26T20:53:48.131Z"
   },
   {
    "duration": 13,
    "start_time": "2022-12-26T20:53:48.136Z"
   },
   {
    "duration": 6,
    "start_time": "2022-12-26T20:53:48.151Z"
   },
   {
    "duration": 45,
    "start_time": "2022-12-26T20:53:48.158Z"
   },
   {
    "duration": 9,
    "start_time": "2022-12-26T20:53:48.204Z"
   },
   {
    "duration": 9,
    "start_time": "2022-12-26T20:53:48.214Z"
   },
   {
    "duration": 13,
    "start_time": "2022-12-26T20:53:48.225Z"
   },
   {
    "duration": 18,
    "start_time": "2022-12-26T20:53:48.240Z"
   },
   {
    "duration": 33,
    "start_time": "2022-12-26T20:53:48.259Z"
   },
   {
    "duration": 3,
    "start_time": "2022-12-26T20:53:48.293Z"
   },
   {
    "duration": 13,
    "start_time": "2022-12-26T20:53:48.297Z"
   },
   {
    "duration": 10,
    "start_time": "2022-12-26T20:53:48.312Z"
   },
   {
    "duration": 9,
    "start_time": "2022-12-26T20:53:48.324Z"
   },
   {
    "duration": 15,
    "start_time": "2022-12-26T20:53:48.335Z"
   },
   {
    "duration": 41,
    "start_time": "2022-12-26T20:53:48.351Z"
   },
   {
    "duration": 65,
    "start_time": "2022-12-26T20:53:48.393Z"
   },
   {
    "duration": 1122,
    "start_time": "2022-12-26T20:53:55.482Z"
   },
   {
    "duration": 1110,
    "start_time": "2022-12-26T20:54:02.254Z"
   },
   {
    "duration": 403,
    "start_time": "2022-12-26T20:54:51.028Z"
   },
   {
    "duration": 21,
    "start_time": "2022-12-26T20:54:51.433Z"
   },
   {
    "duration": 13,
    "start_time": "2022-12-26T20:54:51.455Z"
   },
   {
    "duration": 8,
    "start_time": "2022-12-26T20:54:51.470Z"
   },
   {
    "duration": 33,
    "start_time": "2022-12-26T20:54:51.480Z"
   },
   {
    "duration": 3,
    "start_time": "2022-12-26T20:54:51.514Z"
   },
   {
    "duration": 26,
    "start_time": "2022-12-26T20:54:51.519Z"
   },
   {
    "duration": 6,
    "start_time": "2022-12-26T20:54:51.546Z"
   },
   {
    "duration": 14,
    "start_time": "2022-12-26T20:54:51.554Z"
   },
   {
    "duration": 9,
    "start_time": "2022-12-26T20:54:51.571Z"
   },
   {
    "duration": 62,
    "start_time": "2022-12-26T20:54:51.582Z"
   },
   {
    "duration": 9,
    "start_time": "2022-12-26T20:54:51.646Z"
   },
   {
    "duration": 11,
    "start_time": "2022-12-26T20:54:51.657Z"
   },
   {
    "duration": 15,
    "start_time": "2022-12-26T20:54:51.670Z"
   },
   {
    "duration": 26,
    "start_time": "2022-12-26T20:54:51.686Z"
   },
   {
    "duration": 18,
    "start_time": "2022-12-26T20:54:51.713Z"
   },
   {
    "duration": 3,
    "start_time": "2022-12-26T20:54:51.733Z"
   },
   {
    "duration": 25,
    "start_time": "2022-12-26T20:54:51.738Z"
   },
   {
    "duration": 14,
    "start_time": "2022-12-26T20:54:51.765Z"
   },
   {
    "duration": 16,
    "start_time": "2022-12-26T20:54:51.781Z"
   },
   {
    "duration": 13,
    "start_time": "2022-12-26T20:54:51.799Z"
   },
   {
    "duration": 32,
    "start_time": "2022-12-26T20:54:51.814Z"
   },
   {
    "duration": 28,
    "start_time": "2022-12-26T20:57:17.871Z"
   },
   {
    "duration": 6,
    "start_time": "2022-12-26T20:57:35.563Z"
   },
   {
    "duration": 19,
    "start_time": "2022-12-26T21:00:16.937Z"
   },
   {
    "duration": 26,
    "start_time": "2022-12-26T21:00:25.606Z"
   },
   {
    "duration": 26,
    "start_time": "2022-12-26T21:01:20.700Z"
   },
   {
    "duration": 25,
    "start_time": "2022-12-26T21:01:43.020Z"
   },
   {
    "duration": 32,
    "start_time": "2022-12-26T21:07:39.658Z"
   },
   {
    "duration": 26,
    "start_time": "2022-12-26T21:08:23.071Z"
   },
   {
    "duration": 34,
    "start_time": "2022-12-26T21:14:44.833Z"
   },
   {
    "duration": 24,
    "start_time": "2022-12-26T21:15:06.072Z"
   },
   {
    "duration": 19,
    "start_time": "2022-12-26T21:31:04.109Z"
   },
   {
    "duration": 16,
    "start_time": "2022-12-26T21:31:23.772Z"
   }
  ],
  "colab": {
   "name": "dpp_template_part2.ipynb",
   "provenance": []
  },
  "kernelspec": {
   "display_name": "Python 3 (ipykernel)",
   "language": "python",
   "name": "python3"
  },
  "language_info": {
   "codemirror_mode": {
    "name": "ipython",
    "version": 3
   },
   "file_extension": ".py",
   "mimetype": "text/x-python",
   "name": "python",
   "nbconvert_exporter": "python",
   "pygments_lexer": "ipython3",
   "version": "3.9.5"
  },
  "toc": {
   "base_numbering": 1,
   "nav_menu": {},
   "number_sections": true,
   "sideBar": true,
   "skip_h1_title": true,
   "title_cell": "Table of Contents",
   "title_sidebar": "Contents",
   "toc_cell": false,
   "toc_position": {},
   "toc_section_display": true,
   "toc_window_display": false
  }
 },
 "nbformat": 4,
 "nbformat_minor": 5
}
